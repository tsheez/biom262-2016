{
 "cells": [
  {
   "cell_type": "markdown",
   "metadata": {},
   "source": [
    "# Install the cogent maths package for python\n",
    "\n",
    "* Download the requirements file\n",
    "* Install cogent-1.5.3 (Knight lab)"
   ]
  },
  {
   "cell_type": "code",
   "execution_count": 16,
   "metadata": {
    "collapsed": false
   },
   "outputs": [
    {
     "name": "stdout",
     "output_type": "stream",
     "text": [
      "Requirement already satisfied (use --upgrade to upgrade): cogent in /Users/apple/anaconda/lib/python2.7/site-packages (from -r ./cogent-requirements.txt (line 1))\n",
      "Requirement already satisfied (use --upgrade to upgrade): numpy>=1.3.0 in /Users/apple/anaconda/lib/python2.7/site-packages (from -r ./cogent-requirements.txt (line 2))\n"
     ]
    },
    {
     "name": "stderr",
     "output_type": "stream",
     "text": [
      "--2016-02-03 09:32:52--  http://pycogent.org/_downloads/cogent-requirements.txt\n",
      "Resolving pycogent.org... 192.30.252.153, 192.30.252.154\n",
      "Connecting to pycogent.org|192.30.252.153|:80... connected.\n",
      "HTTP request sent, awaiting response... No data received.\n",
      "Retrying.\n",
      "\n",
      "--2016-02-03 09:32:58--  (try: 2)  http://pycogent.org/_downloads/cogent-requirements.txt\n",
      "Connecting to pycogent.org|192.30.252.153|:80... connected.\n",
      "HTTP request sent, awaiting response... 200 OK\n",
      "Length: 20 [text/plain]\n",
      "Saving to: ‘cogent-requirements.txt.1’\n",
      "\n",
      "     0K                                                       100%  781K=0s\n",
      "\n",
      "2016-02-03 09:32:58 (781 KB/s) - ‘cogent-requirements.txt.1’ saved [20/20]\n",
      "\n",
      "The directory '/Users/apple/Library/Caches/pip/http' or its parent directory is not owned by the current user and the cache has been disabled. Please check the permissions and owner of that directory. If executing pip with sudo, you may want sudo's -H flag.\n",
      "The directory '/Users/apple/Library/Caches/pip' or its parent directory is not owned by the current user and caching wheels has been disabled. check the permissions and owner of that directory. If executing pip with sudo, you may want sudo's -H flag.\n",
      "You are using pip version 7.1.2, however version 8.0.2 is available.\n",
      "You should consider upgrading via the 'pip install --upgrade pip' command.\n"
     ]
    }
   ],
   "source": [
    "%%bash\n",
    "wget \"http://pycogent.org/_downloads/cogent-requirements.txt\"\n",
    "sudo pip install -r ./cogent-requirements.txt"
   ]
  },
  {
   "cell_type": "markdown",
   "metadata": {
    "collapsed": true
   },
   "source": [
    "* * *\n",
    "\n",
    "# Run correlations:"
   ]
  },
  {
   "cell_type": "code",
   "execution_count": 17,
   "metadata": {
    "collapsed": false
   },
   "outputs": [],
   "source": [
    "from numpy import argsort, abs, take"
   ]
  },
  {
   "cell_type": "code",
   "execution_count": 18,
   "metadata": {
    "collapsed": false
   },
   "outputs": [],
   "source": [
    "from numpy.random import normal, permutation"
   ]
  },
  {
   "cell_type": "code",
   "execution_count": 30,
   "metadata": {
    "collapsed": false
   },
   "outputs": [],
   "source": [
    "from cogent.maths.stats.test import regress, correlation"
   ]
  },
  {
   "cell_type": "code",
   "execution_count": 31,
   "metadata": {
    "collapsed": false
   },
   "outputs": [],
   "source": [
    "import matplotlib.pyplot as plt"
   ]
  },
  {
   "cell_type": "code",
   "execution_count": 32,
   "metadata": {
    "collapsed": false
   },
   "outputs": [],
   "source": [
    "def correlations(num_points, num_dropped, num_iters):\n",
    "    #make up completely random x and y and calculate the correlation\n",
    "    x = normal(0,1,num_points)\n",
    "    y = normal(0,1,num_points)\n",
    "    corr = correlation(x,y)\n",
    "    print 'Original correlation:', corr\n",
    "    \n",
    "    #randomly choose some points to drop, and see if the correlation\n",
    "    #is better. stop after num_iters trials.\n",
    "    best_r2 = corr[0]**2\n",
    "    best_corr = corr\n",
    "    best_x = x\n",
    "    best_y = y\n",
    "    for i in range(num_iters):\n",
    "        p = permutation(num_points)\n",
    "        new_x = x[p[:-num_dropped]]\n",
    "        new_y = y[p[:-num_dropped]]\n",
    "        new_corr = correlation(new_x, new_y)\n",
    "        new_r2 = new_corr[0]**2\n",
    "        if new_r2 > best_r2:\n",
    "            best_r2 = new_r2\n",
    "            best_corr = new_corr\n",
    "            best_x = new_x\n",
    "            best_y = new_y\n",
    "\n",
    "    #figure out the slopes and intercepts with and without the dropped\n",
    "    #points, and plot both the points and the regression lines.\n",
    "    print 'New correlation:', best_corr\n",
    "\n",
    "    slope, intercept = regress(x,y)\n",
    "    pred_y = (x*slope)+intercept\n",
    "    plt.plot(x,pred_y, c='r')\n",
    "\n",
    "    best_slope, best_intercept = regress(best_x,best_y)\n",
    "    pred_best_y = (best_x*best_slope)+best_intercept\n",
    "    plt.plot(best_x,pred_best_y, c='b')\n",
    "\n",
    "    plt.scatter(x,y, c='r')\n",
    "    plt.scatter(best_x, best_y, c='b')\n",
    "    plt.show()"
   ]
  },
  {
   "cell_type": "code",
   "execution_count": 33,
   "metadata": {
    "collapsed": false
   },
   "outputs": [
    {
     "name": "stdout",
     "output_type": "stream",
     "text": [
      "Original correlation: (-0.17776135504331828, 0.62320322947488094)\n",
      "New correlation: (-0.66388379397840791, 0.072608878041443337)\n"
     ]
    }
   ],
   "source": [
    "correlations(10, 2, 1000)"
   ]
  },
  {
   "cell_type": "markdown",
   "metadata": {
    "collapsed": false
   },
   "source": [
    "**If the code above runs successfully, you should see a pop-up window with a 2-d plot.**\n",
    "\n",
    "_NOTE: The pop-up will only appear once per-execution.  Do not run the code block multiple times or you will see many new pop-ups when you close the first!_"
   ]
  }
 ],
 "metadata": {
  "kernelspec": {
   "display_name": "Python 2",
   "language": "python",
   "name": "python2"
  },
  "language_info": {
   "codemirror_mode": {
    "name": "ipython",
    "version": 2
   },
   "file_extension": ".py",
   "mimetype": "text/x-python",
   "name": "python",
   "nbconvert_exporter": "python",
   "pygments_lexer": "ipython2",
   "version": "2.7.11"
  }
 },
 "nbformat": 4,
 "nbformat_minor": 0
}
