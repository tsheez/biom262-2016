{
 "cells": [
  {
   "cell_type": "markdown",
   "metadata": {},
   "source": [
    "There are many ways to pick OTUs. Suppose we have a set of points in 2D space that we want to cluster:"
   ]
  },
  {
   "cell_type": "code",
   "execution_count": 57,
   "metadata": {
    "collapsed": false
   },
   "outputs": [
    {
     "name": "stdout",
     "output_type": "stream",
     "text": [
      "[ 0.34160512  0.44118494  0.51861044  0.55976624  0.86415441  0.33084946\n",
      "  0.39235421  0.15138565  0.8270032   0.75854301  0.52592178  0.17473344\n",
      "  0.4580753   0.61529958  0.93262678  0.43719305  0.82356786  0.16010703\n",
      "  0.5908176   0.48901398  0.00104935  0.59786627  0.37656261  0.70936035\n",
      "  0.3153811   0.63110899  0.23133774  0.54252549  0.06054173  0.32836117]\n",
      "[ 0.67420556  0.09553986  0.18661378  0.0639503   0.8447799   0.6041677\n",
      "  0.35218228  0.0681414   0.53802336  0.40899258  0.20808541  0.26051545\n",
      "  0.72127577  0.2747055   0.26795035  0.90434762  0.61756345  0.15583711\n",
      "  0.41901534  0.82604643  0.19785647  0.93524691  0.9483918   0.99700653\n",
      "  0.26128218  0.93470365  0.48045749  0.6035314   0.56409286  0.47546387]\n"
     ]
    },
    {
     "data": {
      "text/plain": [
       "(0, 1)"
      ]
     },
     "execution_count": 57,
     "metadata": {},
     "output_type": "execute_result"
    }
   ],
   "source": [
    "import numpy as np\n",
    "import matplotlib.pyplot as pp\n",
    "\n",
    "x = np.random.uniform(0,1,30)\n",
    "y = np.random.uniform(0,1,30)\n",
    "print x\n",
    "print y\n",
    "pp.scatter(x,y)\n",
    "pp.xlim([0,1])\n",
    "pp.ylim([0,1])\n",
    "# matplotlib.pyplot.figsize(5,5)"
   ]
  },
  {
   "cell_type": "markdown",
   "metadata": {},
   "source": [
    "Let's define our points: type in notes here"
   ]
  },
  {
   "cell_type": "code",
   "execution_count": 58,
   "metadata": {
    "collapsed": false
   },
   "outputs": [
    {
     "name": "stdout",
     "output_type": "stream",
     "text": [
      "[(0.34160511558093121, 0.6742055560235799), (0.44118494280275067, 0.095539862859748248), (0.51861043724171163, 0.18661377612416519), (0.55976624484033422, 0.063950297625758212), (0.86415440564095736, 0.84477990166563355), (0.33084946125186587, 0.60416770077875082), (0.39235421485999922, 0.35218228341395585), (0.15138565389623049, 0.06814140455168205), (0.82700320294867191, 0.53802336483534929), (0.75854301330365181, 0.4089925784295726), (0.52592178035383053, 0.2080854139389956), (0.17473344375896471, 0.26051545422316857), (0.45807529718470563, 0.72127576566379659), (0.61529958349291969, 0.27470549906605279), (0.9326267754985903, 0.26795035476702467), (0.43719305438086387, 0.90434762490222287), (0.82356786172080987, 0.61756344745597724), (0.16010703442305518, 0.1558371069905794), (0.59081759518870269, 0.41901533933406176), (0.48901397858924422, 0.82604642797138961), (0.0010493454901409072, 0.19785647352981872), (0.59786626803373344, 0.93524691401507098), (0.37656261390249601, 0.94839180493963127), (0.70936035432574329, 0.99700653040317155), (0.31538109524313063, 0.26128218488132116), (0.63110898751478406, 0.93470364529413208), (0.23133774040511379, 0.48045748818185852), (0.54252548518436661, 0.60353140031448937), (0.060541725838720972, 0.56409286132742398), (0.32836117373950224, 0.47546387109967303)]\n"
     ]
    }
   ],
   "source": [
    "points = zip(x,y)\n",
    "print points"
   ]
  },
  {
   "cell_type": "markdown",
   "metadata": {},
   "source": [
    "Now we need to define a distance between two points a and b:"
   ]
  },
  {
   "cell_type": "code",
   "execution_count": 61,
   "metadata": {
    "collapsed": false
   },
   "outputs": [],
   "source": [
    "from math import sqrt\n",
    "def distance(a,b): return sqrt((a[0]-b[0])**2 + (a[1]-b[1])**2)"
   ]
  },
  {
   "cell_type": "code",
   "execution_count": 62,
   "metadata": {
    "collapsed": false
   },
   "outputs": [
    {
     "data": {
      "text/plain": [
       "13.0"
      ]
     },
     "execution_count": 62,
     "metadata": {},
     "output_type": "execute_result"
    }
   ],
   "source": [
    "distance((0,0),(5,12))"
   ]
  },
  {
   "cell_type": "markdown",
   "metadata": {},
   "source": [
    "But is this this the right way to measure distance? Let's try a couple of others:"
   ]
  },
  {
   "cell_type": "code",
   "execution_count": 63,
   "metadata": {
    "collapsed": false
   },
   "outputs": [],
   "source": [
    "def distance_manhattan(a,b): return abs(a[0]-b[0]) + abs(a[1]-b[1])"
   ]
  },
  {
   "cell_type": "code",
   "execution_count": 64,
   "metadata": {
    "collapsed": false
   },
   "outputs": [
    {
     "data": {
      "text/plain": [
       "7"
      ]
     },
     "execution_count": 64,
     "metadata": {},
     "output_type": "execute_result"
    }
   ],
   "source": [
    "distance_manhattan((0,0),(3,4))"
   ]
  },
  {
   "cell_type": "code",
   "execution_count": 65,
   "metadata": {
    "collapsed": false
   },
   "outputs": [],
   "source": [
    "def distance_min(a,b): return min(abs(a[0]-b[0]), abs(a[1]-b[1]))"
   ]
  },
  {
   "cell_type": "code",
   "execution_count": 66,
   "metadata": {
    "collapsed": false
   },
   "outputs": [
    {
     "data": {
      "text/plain": [
       "3"
      ]
     },
     "execution_count": 66,
     "metadata": {},
     "output_type": "execute_result"
    }
   ],
   "source": [
    "distance_min((0,0),(3,4))"
   ]
  },
  {
   "cell_type": "markdown",
   "metadata": {},
   "source": [
    "Now we need to be able to figure out which of the points cluster together. For furthest-neighbor clustering, we pick a point arbitrarily, figure out which points are within range of it, then keep adding points until none are in range."
   ]
  },
  {
   "cell_type": "code",
   "execution_count": 67,
   "metadata": {
    "collapsed": false
   },
   "outputs": [],
   "source": [
    "def furthest_neighbor_cluster(seed, points, threshold, distance):\n",
    "    result = []\n",
    "    for p in points:\n",
    "        if distance(p, seed) <= threshold:\n",
    "            result.append(p)\n",
    "    return result"
   ]
  },
  {
   "cell_type": "markdown",
   "metadata": {},
   "source": [
    "Let's give it a try:"
   ]
  },
  {
   "cell_type": "code",
   "execution_count": 68,
   "metadata": {
    "collapsed": false
   },
   "outputs": [],
   "source": [
    "from random import choice"
   ]
  },
  {
   "cell_type": "code",
   "execution_count": 76,
   "metadata": {
    "collapsed": false
   },
   "outputs": [],
   "source": [
    "def visualize_choices(seed, choices, points):\n",
    "    points = array(points)\n",
    "    scatter(points[:,0], points[:,1])\n",
    "    choices = array(choices)\n",
    "    scatter(choices[:,0], choices[:,1], color='pink')\n",
    "    scatter([seed[0]],[seed[1]], color='red')\n",
    "    xlim(0,1)\n",
    "    ylim(0,1)\n",
    "    figsize(5,5)"
   ]
  },
  {
   "cell_type": "code",
   "execution_count": 77,
   "metadata": {
    "collapsed": false
   },
   "outputs": [
    {
     "name": "stdout",
     "output_type": "stream",
     "text": [
      "[(0.34160511558093121, 0.6742055560235799), (0.44118494280275067, 0.095539862859748248), (0.51861043724171163, 0.18661377612416519), (0.55976624484033422, 0.063950297625758212), (0.33084946125186587, 0.60416770077875082), (0.39235421485999922, 0.35218228341395585), (0.82700320294867191, 0.53802336483534929), (0.75854301330365181, 0.4089925784295726), (0.52592178035383053, 0.2080854139389956), (0.17473344375896471, 0.26051545422316857), (0.45807529718470563, 0.72127576566379659), (0.61529958349291969, 0.27470549906605279), (0.9326267754985903, 0.26795035476702467), (0.82356786172080987, 0.61756344745597724), (0.59081759518870269, 0.41901533933406176), (0.48901397858924422, 0.82604642797138961), (0.31538109524313063, 0.26128218488132116), (0.23133774040511379, 0.48045748818185852), (0.54252548518436661, 0.60353140031448937), (0.32836117373950224, 0.47546387109967303)]\n"
     ]
    }
   ],
   "source": [
    "seed = choice(points)\n",
    "c = furthest_neighbor_cluster(seed, points, 0.5, distance)\n",
    "print c"
   ]
  },
  {
   "cell_type": "code",
   "execution_count": 78,
   "metadata": {
    "collapsed": false
   },
   "outputs": [
    {
     "ename": "AttributeError",
     "evalue": "'function' object has no attribute 'array'",
     "output_type": "error",
     "traceback": [
      "\u001b[0;31m---------------------------------------------------------------------------\u001b[0m",
      "\u001b[0;31mAttributeError\u001b[0m                            Traceback (most recent call last)",
      "\u001b[0;32m<ipython-input-78-e07f3b4346d6>\u001b[0m in \u001b[0;36m<module>\u001b[0;34m()\u001b[0m\n\u001b[0;32m----> 1\u001b[0;31m \u001b[0mvisualize_choices\u001b[0m\u001b[0;34m(\u001b[0m\u001b[0mseed\u001b[0m\u001b[0;34m,\u001b[0m \u001b[0mc\u001b[0m\u001b[0;34m,\u001b[0m \u001b[0mpoints\u001b[0m\u001b[0;34m)\u001b[0m\u001b[0;34m\u001b[0m\u001b[0m\n\u001b[0m",
      "\u001b[0;32m<ipython-input-76-afde44984e4f>\u001b[0m in \u001b[0;36mvisualize_choices\u001b[0;34m(seed, choices, points)\u001b[0m\n\u001b[1;32m      1\u001b[0m \u001b[0;32mdef\u001b[0m \u001b[0mvisualize_choices\u001b[0m\u001b[0;34m(\u001b[0m\u001b[0mseed\u001b[0m\u001b[0;34m,\u001b[0m \u001b[0mchoices\u001b[0m\u001b[0;34m,\u001b[0m \u001b[0mpoints\u001b[0m\u001b[0;34m)\u001b[0m\u001b[0;34m:\u001b[0m\u001b[0;34m\u001b[0m\u001b[0m\n\u001b[0;32m----> 2\u001b[0;31m     \u001b[0mpoints\u001b[0m \u001b[0;34m=\u001b[0m \u001b[0mchoice\u001b[0m\u001b[0;34m.\u001b[0m\u001b[0marray\u001b[0m\u001b[0;34m(\u001b[0m\u001b[0mpoints\u001b[0m\u001b[0;34m)\u001b[0m\u001b[0;34m\u001b[0m\u001b[0m\n\u001b[0m\u001b[1;32m      3\u001b[0m     \u001b[0mscatter\u001b[0m\u001b[0;34m(\u001b[0m\u001b[0mpoints\u001b[0m\u001b[0;34m[\u001b[0m\u001b[0;34m:\u001b[0m\u001b[0;34m,\u001b[0m\u001b[0;36m0\u001b[0m\u001b[0;34m]\u001b[0m\u001b[0;34m,\u001b[0m \u001b[0mpoints\u001b[0m\u001b[0;34m[\u001b[0m\u001b[0;34m:\u001b[0m\u001b[0;34m,\u001b[0m\u001b[0;36m1\u001b[0m\u001b[0;34m]\u001b[0m\u001b[0;34m)\u001b[0m\u001b[0;34m\u001b[0m\u001b[0m\n\u001b[1;32m      4\u001b[0m     \u001b[0mchoices\u001b[0m \u001b[0;34m=\u001b[0m \u001b[0marray\u001b[0m\u001b[0;34m(\u001b[0m\u001b[0mchoices\u001b[0m\u001b[0;34m)\u001b[0m\u001b[0;34m\u001b[0m\u001b[0m\n\u001b[1;32m      5\u001b[0m     \u001b[0mscatter\u001b[0m\u001b[0;34m(\u001b[0m\u001b[0mchoices\u001b[0m\u001b[0;34m[\u001b[0m\u001b[0;34m:\u001b[0m\u001b[0;34m,\u001b[0m\u001b[0;36m0\u001b[0m\u001b[0;34m]\u001b[0m\u001b[0;34m,\u001b[0m \u001b[0mchoices\u001b[0m\u001b[0;34m[\u001b[0m\u001b[0;34m:\u001b[0m\u001b[0;34m,\u001b[0m\u001b[0;36m1\u001b[0m\u001b[0;34m]\u001b[0m\u001b[0;34m,\u001b[0m \u001b[0mcolor\u001b[0m\u001b[0;34m=\u001b[0m\u001b[0;34m'pink'\u001b[0m\u001b[0;34m)\u001b[0m\u001b[0;34m\u001b[0m\u001b[0m\n",
      "\u001b[0;31mAttributeError\u001b[0m: 'function' object has no attribute 'array'"
     ]
    }
   ],
   "source": [
    "visualize_choices(seed, c, points)"
   ]
  },
  {
   "cell_type": "raw",
   "metadata": {},
   "source": [
    "But this only picks one OTU. What if we want to pick all the OTUs?"
   ]
  },
  {
   "cell_type": "code",
   "execution_count": 81,
   "metadata": {
    "collapsed": false
   },
   "outputs": [],
   "source": [
    "def furthest_neighbor_clusters(seed, points, threshold, distance):\n",
    "    result = []\n",
    "    leftovers = points[:]\n",
    "    while leftovers:\n",
    "        seed = choice(leftovers)\n",
    "        leftovers.remove(seed)\n",
    "        curr = [seed]\n",
    "        new_leftovers = []\n",
    "        for p in leftovers:\n",
    "            if distance(p, seed) <= threshold:\n",
    "                curr.append(p)\n",
    "            else:\n",
    "                new_leftovers.append(p)\n",
    "        leftovers = new_leftovers\n",
    "        result.append(curr)\n",
    "    return result"
   ]
  },
  {
   "cell_type": "code",
   "execution_count": 82,
   "metadata": {
    "collapsed": false
   },
   "outputs": [
    {
     "name": "stdout",
     "output_type": "stream",
     "text": [
      "0 [(0.54252548518436661, 0.60353140031448937), (0.34160511558093121, 0.6742055560235799), (0.51861043724171163, 0.18661377612416519), (0.86415440564095736, 0.84477990166563355), (0.33084946125186587, 0.60416770077875082), (0.39235421485999922, 0.35218228341395585), (0.82700320294867191, 0.53802336483534929), (0.75854301330365181, 0.4089925784295726), (0.52592178035383053, 0.2080854139389956), (0.45807529718470563, 0.72127576566379659), (0.61529958349291969, 0.27470549906605279), (0.43719305438086387, 0.90434762490222287), (0.82356786172080987, 0.61756344745597724), (0.59081759518870269, 0.41901533933406176), (0.48901397858924422, 0.82604642797138961), (0.59786626803373344, 0.93524691401507098), (0.37656261390249601, 0.94839180493963127), (0.70936035432574329, 0.99700653040317155), (0.31538109524313063, 0.26128218488132116), (0.63110898751478406, 0.93470364529413208), (0.23133774040511379, 0.48045748818185852), (0.060541725838720972, 0.56409286132742398), (0.32836117373950224, 0.47546387109967303)] \n",
      "\n",
      "1 [(0.55976624484033422, 0.063950297625758212), (0.44118494280275067, 0.095539862859748248), (0.15138565389623049, 0.06814140455168205), (0.17473344375896471, 0.26051545422316857), (0.9326267754985903, 0.26795035476702467), (0.16010703442305518, 0.1558371069905794)] \n",
      "\n",
      "2 [(0.0010493454901409072, 0.19785647352981872)] \n",
      "\n"
     ]
    }
   ],
   "source": [
    "clusters = furthest_neighbor_clusters(seed, points, 0.5, distance)\n",
    "for i, c in enumerate(clusters):\n",
    "    print i, c, \"\\n\""
   ]
  },
  {
   "cell_type": "code",
   "execution_count": 83,
   "metadata": {
    "collapsed": false
   },
   "outputs": [],
   "source": [
    "def visualize_clusters(clusters):\n",
    "    for c in clusters:\n",
    "        points = array(c)\n",
    "        curr_color = (random.uniform(0,1), random.uniform(0,1), random.uniform(0,1))\n",
    "        scatter(points[:,0], points[:,1], color=curr_color)\n",
    "        scatter(points[0,0],points[0,1], color='red')\n",
    "        if len(points)>1:\n",
    "            for p in points:\n",
    "                plot([points[0,0],p[0]],[points[0,1],p[1]],color=curr_color)\n",
    "    xlim(0,1)\n",
    "    ylim(0,1)\n",
    "    figsize(5,5)"
   ]
  },
  {
   "cell_type": "code",
   "execution_count": 84,
   "metadata": {
    "collapsed": false
   },
   "outputs": [
    {
     "ename": "NameError",
     "evalue": "global name 'array' is not defined",
     "output_type": "error",
     "traceback": [
      "\u001b[0;31m---------------------------------------------------------------------------\u001b[0m",
      "\u001b[0;31mNameError\u001b[0m                                 Traceback (most recent call last)",
      "\u001b[0;32m<ipython-input-84-9949be9da762>\u001b[0m in \u001b[0;36m<module>\u001b[0;34m()\u001b[0m\n\u001b[0;32m----> 1\u001b[0;31m \u001b[0mvisualize_clusters\u001b[0m\u001b[0;34m(\u001b[0m\u001b[0mclusters\u001b[0m\u001b[0;34m)\u001b[0m\u001b[0;34m\u001b[0m\u001b[0m\n\u001b[0m",
      "\u001b[0;32m<ipython-input-83-aa72ad762066>\u001b[0m in \u001b[0;36mvisualize_clusters\u001b[0;34m(clusters)\u001b[0m\n\u001b[1;32m      1\u001b[0m \u001b[0;32mdef\u001b[0m \u001b[0mvisualize_clusters\u001b[0m\u001b[0;34m(\u001b[0m\u001b[0mclusters\u001b[0m\u001b[0;34m)\u001b[0m\u001b[0;34m:\u001b[0m\u001b[0;34m\u001b[0m\u001b[0m\n\u001b[1;32m      2\u001b[0m     \u001b[0;32mfor\u001b[0m \u001b[0mc\u001b[0m \u001b[0;32min\u001b[0m \u001b[0mclusters\u001b[0m\u001b[0;34m:\u001b[0m\u001b[0;34m\u001b[0m\u001b[0m\n\u001b[0;32m----> 3\u001b[0;31m         \u001b[0mpoints\u001b[0m \u001b[0;34m=\u001b[0m \u001b[0marray\u001b[0m\u001b[0;34m(\u001b[0m\u001b[0mc\u001b[0m\u001b[0;34m)\u001b[0m\u001b[0;34m\u001b[0m\u001b[0m\n\u001b[0m\u001b[1;32m      4\u001b[0m         \u001b[0mcurr_color\u001b[0m \u001b[0;34m=\u001b[0m \u001b[0;34m(\u001b[0m\u001b[0mrandom\u001b[0m\u001b[0;34m.\u001b[0m\u001b[0muniform\u001b[0m\u001b[0;34m(\u001b[0m\u001b[0;36m0\u001b[0m\u001b[0;34m,\u001b[0m\u001b[0;36m1\u001b[0m\u001b[0;34m)\u001b[0m\u001b[0;34m,\u001b[0m \u001b[0mrandom\u001b[0m\u001b[0;34m.\u001b[0m\u001b[0muniform\u001b[0m\u001b[0;34m(\u001b[0m\u001b[0;36m0\u001b[0m\u001b[0;34m,\u001b[0m\u001b[0;36m1\u001b[0m\u001b[0;34m)\u001b[0m\u001b[0;34m,\u001b[0m \u001b[0mrandom\u001b[0m\u001b[0;34m.\u001b[0m\u001b[0muniform\u001b[0m\u001b[0;34m(\u001b[0m\u001b[0;36m0\u001b[0m\u001b[0;34m,\u001b[0m\u001b[0;36m1\u001b[0m\u001b[0;34m)\u001b[0m\u001b[0;34m)\u001b[0m\u001b[0;34m\u001b[0m\u001b[0m\n\u001b[1;32m      5\u001b[0m         \u001b[0mscatter\u001b[0m\u001b[0;34m(\u001b[0m\u001b[0mpoints\u001b[0m\u001b[0;34m[\u001b[0m\u001b[0;34m:\u001b[0m\u001b[0;34m,\u001b[0m\u001b[0;36m0\u001b[0m\u001b[0;34m]\u001b[0m\u001b[0;34m,\u001b[0m \u001b[0mpoints\u001b[0m\u001b[0;34m[\u001b[0m\u001b[0;34m:\u001b[0m\u001b[0;34m,\u001b[0m\u001b[0;36m1\u001b[0m\u001b[0;34m]\u001b[0m\u001b[0;34m,\u001b[0m \u001b[0mcolor\u001b[0m\u001b[0;34m=\u001b[0m\u001b[0mcurr_color\u001b[0m\u001b[0;34m)\u001b[0m\u001b[0;34m\u001b[0m\u001b[0m\n",
      "\u001b[0;31mNameError\u001b[0m: global name 'array' is not defined"
     ]
    }
   ],
   "source": [
    "visualize_clusters(clusters)"
   ]
  },
  {
   "cell_type": "markdown",
   "metadata": {},
   "source": [
    "What if we pick a different random seed and redo the clustering?"
   ]
  },
  {
   "cell_type": "code",
   "execution_count": 85,
   "metadata": {
    "collapsed": false
   },
   "outputs": [
    {
     "ename": "NameError",
     "evalue": "global name 'array' is not defined",
     "output_type": "error",
     "traceback": [
      "\u001b[0;31m---------------------------------------------------------------------------\u001b[0m",
      "\u001b[0;31mNameError\u001b[0m                                 Traceback (most recent call last)",
      "\u001b[0;32m<ipython-input-85-bc6e10b78634>\u001b[0m in \u001b[0;36m<module>\u001b[0;34m()\u001b[0m\n\u001b[1;32m      1\u001b[0m \u001b[0mseed\u001b[0m \u001b[0;34m=\u001b[0m \u001b[0mchoice\u001b[0m\u001b[0;34m(\u001b[0m\u001b[0mpoints\u001b[0m\u001b[0;34m)\u001b[0m\u001b[0;34m\u001b[0m\u001b[0m\n\u001b[1;32m      2\u001b[0m \u001b[0mclusters\u001b[0m \u001b[0;34m=\u001b[0m \u001b[0mfurthest_neighbor_clusters\u001b[0m\u001b[0;34m(\u001b[0m\u001b[0mseed\u001b[0m\u001b[0;34m,\u001b[0m \u001b[0mpoints\u001b[0m\u001b[0;34m,\u001b[0m \u001b[0;36m0.5\u001b[0m\u001b[0;34m,\u001b[0m \u001b[0mdistance\u001b[0m\u001b[0;34m)\u001b[0m\u001b[0;34m\u001b[0m\u001b[0m\n\u001b[0;32m----> 3\u001b[0;31m \u001b[0mvisualize_clusters\u001b[0m\u001b[0;34m(\u001b[0m\u001b[0mclusters\u001b[0m\u001b[0;34m)\u001b[0m\u001b[0;34m\u001b[0m\u001b[0m\n\u001b[0m",
      "\u001b[0;32m<ipython-input-83-aa72ad762066>\u001b[0m in \u001b[0;36mvisualize_clusters\u001b[0;34m(clusters)\u001b[0m\n\u001b[1;32m      1\u001b[0m \u001b[0;32mdef\u001b[0m \u001b[0mvisualize_clusters\u001b[0m\u001b[0;34m(\u001b[0m\u001b[0mclusters\u001b[0m\u001b[0;34m)\u001b[0m\u001b[0;34m:\u001b[0m\u001b[0;34m\u001b[0m\u001b[0m\n\u001b[1;32m      2\u001b[0m     \u001b[0;32mfor\u001b[0m \u001b[0mc\u001b[0m \u001b[0;32min\u001b[0m \u001b[0mclusters\u001b[0m\u001b[0;34m:\u001b[0m\u001b[0;34m\u001b[0m\u001b[0m\n\u001b[0;32m----> 3\u001b[0;31m         \u001b[0mpoints\u001b[0m \u001b[0;34m=\u001b[0m \u001b[0marray\u001b[0m\u001b[0;34m(\u001b[0m\u001b[0mc\u001b[0m\u001b[0;34m)\u001b[0m\u001b[0;34m\u001b[0m\u001b[0m\n\u001b[0m\u001b[1;32m      4\u001b[0m         \u001b[0mcurr_color\u001b[0m \u001b[0;34m=\u001b[0m \u001b[0;34m(\u001b[0m\u001b[0mrandom\u001b[0m\u001b[0;34m.\u001b[0m\u001b[0muniform\u001b[0m\u001b[0;34m(\u001b[0m\u001b[0;36m0\u001b[0m\u001b[0;34m,\u001b[0m\u001b[0;36m1\u001b[0m\u001b[0;34m)\u001b[0m\u001b[0;34m,\u001b[0m \u001b[0mrandom\u001b[0m\u001b[0;34m.\u001b[0m\u001b[0muniform\u001b[0m\u001b[0;34m(\u001b[0m\u001b[0;36m0\u001b[0m\u001b[0;34m,\u001b[0m\u001b[0;36m1\u001b[0m\u001b[0;34m)\u001b[0m\u001b[0;34m,\u001b[0m \u001b[0mrandom\u001b[0m\u001b[0;34m.\u001b[0m\u001b[0muniform\u001b[0m\u001b[0;34m(\u001b[0m\u001b[0;36m0\u001b[0m\u001b[0;34m,\u001b[0m\u001b[0;36m1\u001b[0m\u001b[0;34m)\u001b[0m\u001b[0;34m)\u001b[0m\u001b[0;34m\u001b[0m\u001b[0m\n\u001b[1;32m      5\u001b[0m         \u001b[0mscatter\u001b[0m\u001b[0;34m(\u001b[0m\u001b[0mpoints\u001b[0m\u001b[0;34m[\u001b[0m\u001b[0;34m:\u001b[0m\u001b[0;34m,\u001b[0m\u001b[0;36m0\u001b[0m\u001b[0;34m]\u001b[0m\u001b[0;34m,\u001b[0m \u001b[0mpoints\u001b[0m\u001b[0;34m[\u001b[0m\u001b[0;34m:\u001b[0m\u001b[0;34m,\u001b[0m\u001b[0;36m1\u001b[0m\u001b[0;34m]\u001b[0m\u001b[0;34m,\u001b[0m \u001b[0mcolor\u001b[0m\u001b[0;34m=\u001b[0m\u001b[0mcurr_color\u001b[0m\u001b[0;34m)\u001b[0m\u001b[0;34m\u001b[0m\u001b[0m\n",
      "\u001b[0;31mNameError\u001b[0m: global name 'array' is not defined"
     ]
    }
   ],
   "source": [
    "seed = choice(points)\n",
    "clusters = furthest_neighbor_clusters(seed, points, 0.5, distance)\n",
    "visualize_clusters(clusters)"
   ]
  },
  {
   "cell_type": "markdown",
   "metadata": {},
   "source": [
    "OK, what about nearest neighbor? In this case, we need to check if any point in our growing list is within range of any other."
   ]
  },
  {
   "cell_type": "code",
   "execution_count": 86,
   "metadata": {
    "collapsed": false
   },
   "outputs": [],
   "source": [
    "def nearest_neighbor_cluster(seed, points, threshold, distance):\n",
    "    result = []\n",
    "    to_check = [seed]\n",
    "    leftovers = points[:]\n",
    "    while to_check:\n",
    "        curr = to_check[0]\n",
    "        to_check = to_check[1:]\n",
    "        if curr in leftovers:\n",
    "            leftovers.remove(curr)\n",
    "        result.append(curr)\n",
    "        new_leftovers = []\n",
    "        for p in leftovers:\n",
    "            if distance(p, curr) <= threshold:\n",
    "                to_check.append(p)\n",
    "            else:\n",
    "                new_leftovers.append(p)\n",
    "        leftovers = new_leftovers\n",
    "    return result"
   ]
  },
  {
   "cell_type": "code",
   "execution_count": 87,
   "metadata": {
    "collapsed": false
   },
   "outputs": [
    {
     "name": "stdout",
     "output_type": "stream",
     "text": [
      "[(0.16010703442305518, 0.1558371069905794), (0.44118494280275067, 0.095539862859748248), (0.51861043724171163, 0.18661377612416519), (0.55976624484033422, 0.063950297625758212), (0.33084946125186587, 0.60416770077875082), (0.39235421485999922, 0.35218228341395585), (0.15138565389623049, 0.06814140455168205), (0.52592178035383053, 0.2080854139389956), (0.17473344375896471, 0.26051545422316857), (0.61529958349291969, 0.27470549906605279), (0.0010493454901409072, 0.19785647352981872), (0.31538109524313063, 0.26128218488132116), (0.23133774040511379, 0.48045748818185852), (0.060541725838720972, 0.56409286132742398), (0.32836117373950224, 0.47546387109967303), (0.75854301330365181, 0.4089925784295726), (0.59081759518870269, 0.41901533933406176), (0.82700320294867191, 0.53802336483534929), (0.9326267754985903, 0.26795035476702467), (0.54252548518436661, 0.60353140031448937), (0.34160511558093121, 0.6742055560235799), (0.45807529718470563, 0.72127576566379659), (0.43719305438086387, 0.90434762490222287), (0.82356786172080987, 0.61756344745597724), (0.48901397858924422, 0.82604642797138961), (0.59786626803373344, 0.93524691401507098), (0.37656261390249601, 0.94839180493963127), (0.63110898751478406, 0.93470364529413208), (0.86415440564095736, 0.84477990166563355), (0.70936035432574329, 0.99700653040317155)]\n"
     ]
    }
   ],
   "source": [
    "c = nearest_neighbor_cluster(seed, points, 0.5, distance)\n",
    "print c"
   ]
  },
  {
   "cell_type": "code",
   "execution_count": 88,
   "metadata": {
    "collapsed": false
   },
   "outputs": [
    {
     "name": "stdout",
     "output_type": "stream",
     "text": [
      "[(0.16010703442305518, 0.1558371069905794), (0.15138565389623049, 0.06814140455168205), (0.17473344375896471, 0.26051545422316857), (0.0010493454901409072, 0.19785647352981872), (0.31538109524313063, 0.26128218488132116), (0.39235421485999922, 0.35218228341395585), (0.52592178035383053, 0.2080854139389956), (0.32836117373950224, 0.47546387109967303), (0.44118494280275067, 0.095539862859748248), (0.51861043724171163, 0.18661377612416519), (0.55976624484033422, 0.063950297625758212), (0.61529958349291969, 0.27470549906605279), (0.34160511558093121, 0.6742055560235799), (0.33084946125186587, 0.60416770077875082), (0.23133774040511379, 0.48045748818185852), (0.75854301330365181, 0.4089925784295726), (0.59081759518870269, 0.41901533933406176), (0.45807529718470563, 0.72127576566379659), (0.060541725838720972, 0.56409286132742398), (0.82700320294867191, 0.53802336483534929), (0.54252548518436661, 0.60353140031448937), (0.43719305438086387, 0.90434762490222287), (0.48901397858924422, 0.82604642797138961), (0.82356786172080987, 0.61756344745597724), (0.59786626803373344, 0.93524691401507098), (0.37656261390249601, 0.94839180493963127), (0.63110898751478406, 0.93470364529413208), (0.70936035432574329, 0.99700653040317155)]\n"
     ]
    }
   ],
   "source": [
    "c = nearest_neighbor_cluster(seed, points, 0.2, distance)\n",
    "print c"
   ]
  },
  {
   "cell_type": "code",
   "execution_count": 89,
   "metadata": {
    "collapsed": false
   },
   "outputs": [
    {
     "ename": "AttributeError",
     "evalue": "'function' object has no attribute 'array'",
     "output_type": "error",
     "traceback": [
      "\u001b[0;31m---------------------------------------------------------------------------\u001b[0m",
      "\u001b[0;31mAttributeError\u001b[0m                            Traceback (most recent call last)",
      "\u001b[0;32m<ipython-input-89-e07f3b4346d6>\u001b[0m in \u001b[0;36m<module>\u001b[0;34m()\u001b[0m\n\u001b[0;32m----> 1\u001b[0;31m \u001b[0mvisualize_choices\u001b[0m\u001b[0;34m(\u001b[0m\u001b[0mseed\u001b[0m\u001b[0;34m,\u001b[0m \u001b[0mc\u001b[0m\u001b[0;34m,\u001b[0m \u001b[0mpoints\u001b[0m\u001b[0;34m)\u001b[0m\u001b[0;34m\u001b[0m\u001b[0m\n\u001b[0m",
      "\u001b[0;32m<ipython-input-76-afde44984e4f>\u001b[0m in \u001b[0;36mvisualize_choices\u001b[0;34m(seed, choices, points)\u001b[0m\n\u001b[1;32m      1\u001b[0m \u001b[0;32mdef\u001b[0m \u001b[0mvisualize_choices\u001b[0m\u001b[0;34m(\u001b[0m\u001b[0mseed\u001b[0m\u001b[0;34m,\u001b[0m \u001b[0mchoices\u001b[0m\u001b[0;34m,\u001b[0m \u001b[0mpoints\u001b[0m\u001b[0;34m)\u001b[0m\u001b[0;34m:\u001b[0m\u001b[0;34m\u001b[0m\u001b[0m\n\u001b[0;32m----> 2\u001b[0;31m     \u001b[0mpoints\u001b[0m \u001b[0;34m=\u001b[0m \u001b[0mchoice\u001b[0m\u001b[0;34m.\u001b[0m\u001b[0marray\u001b[0m\u001b[0;34m(\u001b[0m\u001b[0mpoints\u001b[0m\u001b[0;34m)\u001b[0m\u001b[0;34m\u001b[0m\u001b[0m\n\u001b[0m\u001b[1;32m      3\u001b[0m     \u001b[0mscatter\u001b[0m\u001b[0;34m(\u001b[0m\u001b[0mpoints\u001b[0m\u001b[0;34m[\u001b[0m\u001b[0;34m:\u001b[0m\u001b[0;34m,\u001b[0m\u001b[0;36m0\u001b[0m\u001b[0;34m]\u001b[0m\u001b[0;34m,\u001b[0m \u001b[0mpoints\u001b[0m\u001b[0;34m[\u001b[0m\u001b[0;34m:\u001b[0m\u001b[0;34m,\u001b[0m\u001b[0;36m1\u001b[0m\u001b[0;34m]\u001b[0m\u001b[0;34m)\u001b[0m\u001b[0;34m\u001b[0m\u001b[0m\n\u001b[1;32m      4\u001b[0m     \u001b[0mchoices\u001b[0m \u001b[0;34m=\u001b[0m \u001b[0marray\u001b[0m\u001b[0;34m(\u001b[0m\u001b[0mchoices\u001b[0m\u001b[0;34m)\u001b[0m\u001b[0;34m\u001b[0m\u001b[0m\n\u001b[1;32m      5\u001b[0m     \u001b[0mscatter\u001b[0m\u001b[0;34m(\u001b[0m\u001b[0mchoices\u001b[0m\u001b[0;34m[\u001b[0m\u001b[0;34m:\u001b[0m\u001b[0;34m,\u001b[0m\u001b[0;36m0\u001b[0m\u001b[0;34m]\u001b[0m\u001b[0;34m,\u001b[0m \u001b[0mchoices\u001b[0m\u001b[0;34m[\u001b[0m\u001b[0;34m:\u001b[0m\u001b[0;34m,\u001b[0m\u001b[0;36m1\u001b[0m\u001b[0;34m]\u001b[0m\u001b[0;34m,\u001b[0m \u001b[0mcolor\u001b[0m\u001b[0;34m=\u001b[0m\u001b[0;34m'pink'\u001b[0m\u001b[0;34m)\u001b[0m\u001b[0;34m\u001b[0m\u001b[0m\n",
      "\u001b[0;31mAttributeError\u001b[0m: 'function' object has no attribute 'array'"
     ]
    }
   ],
   "source": [
    "visualize_choices(seed, c, points)"
   ]
  },
  {
   "cell_type": "markdown",
   "metadata": {},
   "source": [
    "...but we want to do nearest-neighbor for all the clusters:"
   ]
  },
  {
   "cell_type": "code",
   "execution_count": 90,
   "metadata": {
    "collapsed": false
   },
   "outputs": [],
   "source": [
    "def nearest_neighbor_clusters(seed, points, threshold, distance):\n",
    "    result = []\n",
    "    #get the first cluster\n",
    "    curr = nearest_neighbor_cluster(seed, points, threshold, distance)\n",
    "    result.append(curr)\n",
    "    leftovers = [p for p in points if p not in curr]\n",
    "    while leftovers:\n",
    "        seed = leftovers[0]\n",
    "        curr = nearest_neighbor_cluster(seed, leftovers, threshold, distance)\n",
    "        result.append(curr)\n",
    "        leftovers = [p for p in leftovers if p not in curr]\n",
    "    return result"
   ]
  },
  {
   "cell_type": "code",
   "execution_count": 91,
   "metadata": {
    "collapsed": false
   },
   "outputs": [
    {
     "name": "stdout",
     "output_type": "stream",
     "text": [
      "0 [(0.16010703442305518, 0.1558371069905794), (0.44118494280275067, 0.095539862859748248), (0.51861043724171163, 0.18661377612416519), (0.55976624484033422, 0.063950297625758212), (0.33084946125186587, 0.60416770077875082), (0.39235421485999922, 0.35218228341395585), (0.15138565389623049, 0.06814140455168205), (0.52592178035383053, 0.2080854139389956), (0.17473344375896471, 0.26051545422316857), (0.61529958349291969, 0.27470549906605279), (0.0010493454901409072, 0.19785647352981872), (0.31538109524313063, 0.26128218488132116), (0.23133774040511379, 0.48045748818185852), (0.060541725838720972, 0.56409286132742398), (0.32836117373950224, 0.47546387109967303), (0.75854301330365181, 0.4089925784295726), (0.59081759518870269, 0.41901533933406176), (0.82700320294867191, 0.53802336483534929), (0.9326267754985903, 0.26795035476702467), (0.54252548518436661, 0.60353140031448937), (0.34160511558093121, 0.6742055560235799), (0.45807529718470563, 0.72127576566379659), (0.43719305438086387, 0.90434762490222287), (0.82356786172080987, 0.61756344745597724), (0.48901397858924422, 0.82604642797138961), (0.59786626803373344, 0.93524691401507098), (0.37656261390249601, 0.94839180493963127), (0.63110898751478406, 0.93470364529413208), (0.86415440564095736, 0.84477990166563355), (0.70936035432574329, 0.99700653040317155)] \n",
      "\n"
     ]
    }
   ],
   "source": [
    "clusters = nearest_neighbor_clusters(seed, points, 0.5, distance)\n",
    "for i, c in enumerate(clusters):\n",
    "    print i, c, \"\\n\""
   ]
  },
  {
   "cell_type": "code",
   "execution_count": 92,
   "metadata": {
    "collapsed": false
   },
   "outputs": [
    {
     "ename": "NameError",
     "evalue": "global name 'array' is not defined",
     "output_type": "error",
     "traceback": [
      "\u001b[0;31m---------------------------------------------------------------------------\u001b[0m",
      "\u001b[0;31mNameError\u001b[0m                                 Traceback (most recent call last)",
      "\u001b[0;32m<ipython-input-92-9949be9da762>\u001b[0m in \u001b[0;36m<module>\u001b[0;34m()\u001b[0m\n\u001b[0;32m----> 1\u001b[0;31m \u001b[0mvisualize_clusters\u001b[0m\u001b[0;34m(\u001b[0m\u001b[0mclusters\u001b[0m\u001b[0;34m)\u001b[0m\u001b[0;34m\u001b[0m\u001b[0m\n\u001b[0m",
      "\u001b[0;32m<ipython-input-83-aa72ad762066>\u001b[0m in \u001b[0;36mvisualize_clusters\u001b[0;34m(clusters)\u001b[0m\n\u001b[1;32m      1\u001b[0m \u001b[0;32mdef\u001b[0m \u001b[0mvisualize_clusters\u001b[0m\u001b[0;34m(\u001b[0m\u001b[0mclusters\u001b[0m\u001b[0;34m)\u001b[0m\u001b[0;34m:\u001b[0m\u001b[0;34m\u001b[0m\u001b[0m\n\u001b[1;32m      2\u001b[0m     \u001b[0;32mfor\u001b[0m \u001b[0mc\u001b[0m \u001b[0;32min\u001b[0m \u001b[0mclusters\u001b[0m\u001b[0;34m:\u001b[0m\u001b[0;34m\u001b[0m\u001b[0m\n\u001b[0;32m----> 3\u001b[0;31m         \u001b[0mpoints\u001b[0m \u001b[0;34m=\u001b[0m \u001b[0marray\u001b[0m\u001b[0;34m(\u001b[0m\u001b[0mc\u001b[0m\u001b[0;34m)\u001b[0m\u001b[0;34m\u001b[0m\u001b[0m\n\u001b[0m\u001b[1;32m      4\u001b[0m         \u001b[0mcurr_color\u001b[0m \u001b[0;34m=\u001b[0m \u001b[0;34m(\u001b[0m\u001b[0mrandom\u001b[0m\u001b[0;34m.\u001b[0m\u001b[0muniform\u001b[0m\u001b[0;34m(\u001b[0m\u001b[0;36m0\u001b[0m\u001b[0;34m,\u001b[0m\u001b[0;36m1\u001b[0m\u001b[0;34m)\u001b[0m\u001b[0;34m,\u001b[0m \u001b[0mrandom\u001b[0m\u001b[0;34m.\u001b[0m\u001b[0muniform\u001b[0m\u001b[0;34m(\u001b[0m\u001b[0;36m0\u001b[0m\u001b[0;34m,\u001b[0m\u001b[0;36m1\u001b[0m\u001b[0;34m)\u001b[0m\u001b[0;34m,\u001b[0m \u001b[0mrandom\u001b[0m\u001b[0;34m.\u001b[0m\u001b[0muniform\u001b[0m\u001b[0;34m(\u001b[0m\u001b[0;36m0\u001b[0m\u001b[0;34m,\u001b[0m\u001b[0;36m1\u001b[0m\u001b[0;34m)\u001b[0m\u001b[0;34m)\u001b[0m\u001b[0;34m\u001b[0m\u001b[0m\n\u001b[1;32m      5\u001b[0m         \u001b[0mscatter\u001b[0m\u001b[0;34m(\u001b[0m\u001b[0mpoints\u001b[0m\u001b[0;34m[\u001b[0m\u001b[0;34m:\u001b[0m\u001b[0;34m,\u001b[0m\u001b[0;36m0\u001b[0m\u001b[0;34m]\u001b[0m\u001b[0;34m,\u001b[0m \u001b[0mpoints\u001b[0m\u001b[0;34m[\u001b[0m\u001b[0;34m:\u001b[0m\u001b[0;34m,\u001b[0m\u001b[0;36m1\u001b[0m\u001b[0;34m]\u001b[0m\u001b[0;34m,\u001b[0m \u001b[0mcolor\u001b[0m\u001b[0;34m=\u001b[0m\u001b[0mcurr_color\u001b[0m\u001b[0;34m)\u001b[0m\u001b[0;34m\u001b[0m\u001b[0m\n",
      "\u001b[0;31mNameError\u001b[0m: global name 'array' is not defined"
     ]
    }
   ],
   "source": [
    "visualize_clusters(clusters)"
   ]
  },
  {
   "cell_type": "markdown",
   "metadata": {},
   "source": [
    "OK, now let's try it with sequences. There are several ways to make trees in pycogent. We will use the Yule birth-death model, which has rates for branching and death of nodes."
   ]
  },
  {
   "cell_type": "code",
   "execution_count": 93,
   "metadata": {
    "collapsed": false
   },
   "outputs": [
    {
     "name": "stdout",
     "output_type": "stream",
     "text": [
      "((:0.045,:0.045):0.017,(((:0.009,(:0.004,(:0.001,:0.001):0.003):0.005):0.013,((:0.005,(:0.004,:0.004):0.001):0.003,(:0.006,(:0.001,:0.001):0.005):0.002):0.014):0.026,(((:0.001,:0.001):0.002,:0.003):0.024,((:0.007,:0.007):0.007,((:0.002,:0.002):0.003,:0.005):0.009):0.013):0.021):0.014)\n"
     ]
    }
   ],
   "source": [
    "from cogent.seqsim.birth_death import BirthDeathModel\n",
    "b = BirthDeathModel(0.05,0.01,0.001, MaxTaxa=20)\n",
    "t = b()\n",
    "print t"
   ]
  },
  {
   "cell_type": "markdown",
   "metadata": {},
   "source": [
    "Let's label the tree so we can see what node is what:"
   ]
  },
  {
   "cell_type": "code",
   "execution_count": 94,
   "metadata": {
    "collapsed": false
   },
   "outputs": [],
   "source": [
    "def name_tree(t):\n",
    "    for i, n in enumerate(t.tips()): n.Name = str(i)"
   ]
  },
  {
   "cell_type": "code",
   "execution_count": 95,
   "metadata": {
    "collapsed": false
   },
   "outputs": [
    {
     "name": "stdout",
     "output_type": "stream",
     "text": [
      "((0:0.045,1:0.045):0.017,(((2:0.009,(3:0.004,(4:0.001,5:0.001):0.003):0.005):0.013,((6:0.005,(7:0.004,8:0.004):0.001):0.003,(9:0.006,(10:0.001,11:0.001):0.005):0.002):0.014):0.026,(((12:0.001,13:0.001):0.002,14:0.003):0.024,((15:0.007,16:0.007):0.007,((17:0.002,18:0.002):0.003,19:0.005):0.009):0.013):0.021):0.014)\n"
     ]
    }
   ],
   "source": [
    "name_tree(t)\n",
    "print t"
   ]
  },
  {
   "cell_type": "markdown",
   "metadata": {},
   "source": [
    "...and let's draw it a bit more nicely:"
   ]
  },
  {
   "cell_type": "code",
   "execution_count": 99,
   "metadata": {
    "collapsed": false
   },
   "outputs": [],
   "source": [
    "from cogent.draw import dendrogram\n",
    "np\\ = dendrogram.ContemporaneousDendrogram(t)"
   ]
  },
  {
   "cell_type": "code",
   "execution_count": 100,
   "metadata": {
    "collapsed": false
   },
   "outputs": [],
   "source": [
    "np.drawFigure()"
   ]
  },
  {
   "cell_type": "markdown",
   "metadata": {},
   "source": [
    "OK, now let's color the nodes:"
   ]
  },
  {
   "cell_type": "code",
   "execution_count": 101,
   "metadata": {
    "collapsed": false
   },
   "outputs": [],
   "source": [
    "def color_nodes(n):\n",
    "    if n.Name is None:\n",
    "        return 'black'\n",
    "    if int(n.Name) % 2:\n",
    "       return 'red'\n",
    "    else:\n",
    "       return 'blue'"
   ]
  },
  {
   "cell_type": "code",
   "execution_count": 102,
   "metadata": {
    "collapsed": false
   },
   "outputs": [],
   "source": [
    "np.drawFigure(edge_color_callback=color_nodes)"
   ]
  },
  {
   "cell_type": "markdown",
   "metadata": {},
   "source": [
    "OK, so far so good. Now we need to actually evolve sequences, calculate the distances, pick OTUs, and color based on those."
   ]
  },
  {
   "cell_type": "code",
   "execution_count": 103,
   "metadata": {
    "collapsed": false
   },
   "outputs": [],
   "source": [
    "from cogent import DNA\n",
    "from cogent.seqsim.usage import DnaUsage, Counts, Probs, Rates, DnaPairs\n",
    "equal_freqs = DnaUsage.fromSeqData(DNA.ModelSeq('ATGC'))\n",
    "equal_probs = equal_freqs.probs()\n",
    "#Set sequence and rate matrix at root of tree\n",
    "random_seq = DNA.ModelSeq(data=equal_probs.randomIndices(100))\n",
    "q = Rates.random(Alphabet=DnaPairs).normalize()\n",
    "t.Q = q\n",
    "t.assignQ()\n",
    "t.assignP()\n",
    "t.Sequence = random_seq._data\n",
    "for n in t.traverse(self_before=True):\n",
    "    if n.Parent is not None:\n",
    "        n.evolve(n.Parent.Sequence)"
   ]
  },
  {
   "cell_type": "code",
   "execution_count": 104,
   "metadata": {
    "collapsed": false
   },
   "outputs": [
    {
     "name": "stdout",
     "output_type": "stream",
     "text": [
      "0 \tCTACTGGATCTACAACTCGTGGTGGTATTGAAACAATAGCCTGATGACTAACCTAGCCCACGTTATGAGCGTCGGCCTGGGGCAGTGCAACCGGCGGTCA\n",
      "1 \tCTGCTGGATTGACAACTCGTAGTGGTAGTGAAACATGATCCTGCTGCCTAGCCTAGCCCACGTTATGAGCATCGGCCTGGGGCAGTGCGACCGGCGGTTA\n",
      "2 \tCTCCGGGATCTACAACTCGTAGTGATATTGAATCAATAGCCTGCTGACTAGCCTAGCCCACGTTATGAGCGTCGGTCTAGGGCAGTGCGACCGGCGGTCA\n",
      "3 \tCTCCGGGATCTACAACTCGTAGTGATATTGAATCAATAGCCTGCTGACTAGCCTAGCCCACGTTATGAGCGTCGGTCTAGGGCAGTGCGACCGGCGGTCA\n",
      "4 \tCTCCGGGATCTACAACTCGTAGTGATATTGAATCAATAGCCTGCTGACTAGCCTAGCCCACGTTATGAGCGTCAGTCTAGGGCAGTGCGACCGGCGGTCA\n",
      "5 \tCTCCGGGATCTACAACTCGTAGTGATATTGAATCAAAAGCCTGCTGACTAGCCTAGCCCACGTTATGAGCGTCAGTCTAGGGCAGTGCGACCGGCGGTCA\n",
      "6 \tCTCCGGGATCTACAACTCGTAGTGGTATTGAAACAATAGCCTACTGACTAGCCTAGCCCACGTTCTGAGCGTCGACCTAGGGCAGTGCGACCGGCGGTCA\n",
      "7 \tCTTTGGGATCTACAACTCGTAGTGGTATTGAAACAATAGCCTACTGACTAGCCTAGCCCACGTTCTGAGCGTCGACCTAGGGCAGTGCGACCGGCGGTCA\n",
      "8 \tCTCCGGGATCTACAACTCGTAGTGGTATTGAAACAATAGCCTACTGACTAGCCTAGCCCACGTTCTGAGCGTCGACCTAGGGCAGTGCGACCGGCGGTCA\n",
      "9 \tCTCCGGGATCTACAACTCGTAGTGGTATTGAAACAATAGCCTACTGACTAGCCTAGCCCACGTTCTGAGCGTCGACCTAGGGCAGTGCGACCGGCGGTCA\n",
      "10 \tCTCCGGAATCTACAACTCGTAGTGGTATTGAAACAATAGCCTACTGACTAGCCTAGCCCACGTTCTGAGCGTCGACCTAGGGCAGTGCAACCGGCGGTCA\n",
      "11 \tCTCCGGAATCTACAACTCGTAGTGGTATTGAAACAATAGCCTACTGACTAGCCTAGCCCACGTTCTGAGCGTCGACCTAGGGCAGTGCAACCGGCGGTCA\n",
      "12 \tCTGCTGGATTTACATCTCGTAGTGGTATTGAAACAATAGCCTGATGACTAGCCTAGCTCACGTTATGAGCGTCGGCCTAGGGCAGTGCGACCGGCGGTCA\n",
      "13 \tCTGCTGGATTTACATCTCGTAGTGGTATTGAAACAATAGCCTGATGACTAGCCTAGCTCACGTTATGAGCGTCGGCCTAGGGCAGTGCGACCGGCGGTCA\n",
      "14 \tCTGCTGGATTTACATCTCGTAGTGGTATTGAAACAATAGCCTGATGACTAGCCTAGCTCACGTTATGAGCGTCGGCCTAGGGCAGTGCGACCGGCGGTCA\n",
      "15 \tCTGCTGGATCTACAACTCGTCGTGGTACTGCACCAATAGCCTGATGACTAGCCTAGCCCACGTTATGAGCGTCGGCCTAGGGCCGTGCGACCGCCGGTCA\n",
      "16 \tCCGCTGGATCTACAACTCGTCGTGGTATTGGACCAATAGCCTGATGACTTGCCTAGCCCACGTTATGAGCGTCGGCCTAGGGCCGTGCGACCGCCGGTCA\n",
      "17 \tCTGCTGGATCTACAACTCGTCGTGGTATTGAAACAATAGCCTGATGACTAGCCTAGCCCACGTTATGAGCGTCGGCCTAGGGCAGTGCGACCAGCGGTCA\n",
      "18 \tCTGCTGGATCTACAACTCGTCGTGGTATTGAAACAATAGCCTGATGACTAGCCTAGCCCACGTTATGAGCGTCGGCCTAGGGCAGTGCGACCGGCGGTCA\n",
      "19 \tCTGCTGGATCTACAACTCGTCGTGGTATTGAAACAATAGCCTGATGACTAGCCTAGCCCACGTTATGAGCGTCGGCCTAGGGCAGTGCGACCGGCGGTCA\n"
     ]
    }
   ],
   "source": [
    "for n in t.traverse(): print n.Name, \"\\t\", DNA.ModelSeq(n.Sequence)"
   ]
  },
  {
   "cell_type": "raw",
   "metadata": {},
   "source": [
    "Let's add the ability to mutate the branches a bit more:"
   ]
  },
  {
   "cell_type": "code",
   "execution_count": 105,
   "metadata": {
    "collapsed": false
   },
   "outputs": [],
   "source": [
    "def scale_branches(t, factor):\n",
    "    for n in t.traverse(self_before=True):\n",
    "        if n.Length:\n",
    "            n.Length *= factor"
   ]
  },
  {
   "cell_type": "code",
   "execution_count": 106,
   "metadata": {
    "collapsed": false
   },
   "outputs": [],
   "source": [
    "scale_branches(t,2)"
   ]
  },
  {
   "cell_type": "code",
   "execution_count": 107,
   "metadata": {
    "collapsed": false
   },
   "outputs": [],
   "source": [
    "t.assignP()\n",
    "for n in t.traverse(self_before=True):\n",
    "    if n.Parent is not None:\n",
    "        n.evolve(n.Parent.Sequence)"
   ]
  },
  {
   "cell_type": "code",
   "execution_count": 108,
   "metadata": {
    "collapsed": false
   },
   "outputs": [
    {
     "name": "stdout",
     "output_type": "stream",
     "text": [
      "0 \tCAGCTGGATCTACTACTCGTAGGGATATTAAAACAATAGCCTAATGACTAGTTTAGCCCACGTCATGAACATCGGCCTAGGGCAGTGCGACCGGCAGTCA\n",
      "1 \tCGGCTGGAACTACTACTCGTAGTGATATTAAAACAATAGCCTAATGGCTAGCCTAGCCCAAGTTCTGAGCGTCGGCCCAGTGCGGTGCTACCGGCGGTCA\n",
      "2 \tCTGCTGGATCTACAACTCATAGTGGTATTGAAACAATGACCTGATGACTAGTCCAGCCCACGGTATTAGCGTCTACTTCGGGCGGTGCAACCGGCGGTCA\n",
      "3 \tCTGCTGGATCTACAACTCGTAGTGGTATTGAAACAATGACCTGATGACTAGTCCAGCCCACGGTATTAGCGTCTACTTCGGGTGGTGCGACCGGCGGTCA\n",
      "4 \tCTGCTGGATCTACAACTAGTAGTGGTATTGAAACAATGACCTGATGACTAGTCCAGCCCACGGTATTAGCGTCTACTTCGGGTGGTGCGACCGGCGGTCA\n",
      "5 \tCTGCTGGATCTACAACTAGTAGTGGTATTGAAACAATGACCTGATGACTAGTCCAGCCCACGGTATTAGCGTCTACTTCGGGTGGTGCGACCGGCGGTCA\n",
      "6 \tCTGCTGGCTCTACAACTCGTAGTGGTCTTGAAACAATGGCCTGATGACTCGTCCAACCCACGGTATCAGCGTCGACCTCGGGCGGTGCGACCGGCGGTCA\n",
      "7 \tCTGCTGGATCTACAACTCGTAGTGGTATTGAAACAATGGCCTGATGACTCGTCCAGCCCACGGTATCAGCGTCGACCTCGGGCGGTGCGACCGGCGGTCA\n",
      "8 \tCTGCTGGATCTACAACTCGTAGTGGTATTGAAACAATGGCCTGATGACTCGTCCAGCCCACGGTGTCAGCGTCGACCTCGGGCGGTGCGACCGGCGGTCA\n",
      "9 \tCTGCCGGATCTACAACTCGTAGTGGTATTGAAACAATGGCCTGATGACTAATCCAGCCCACGGTATCAGCGTCGACCTCGGGCGGTGCGACCGGCAGTCA\n",
      "10 \tCTGCTGGATCTACAACTCGTAGTGGTATTGAAACAATGGCCTGATGACTAGTCCAGCCCACGGTATCAGCGTCGACCTCGGGCGGTGCGACCGGCGGTCA\n",
      "11 \tCTGCTGGATCTACAACTCGTAGTGGTATTGAAACAATGGCCTGATGACTAGTCCAGCCCACGGTATCAGCGTCGACCTCGGGCGGTGCGACCGGCGGTCA\n",
      "12 \tCTACTCGCTCGACACCTCGTAGTGGTATTGAAACAATAGCCTACTGACTAGCCTAGCCCCCGTTATGAGCGACGGCCTAGGGCTGTGCGACCGGCGGTCA\n",
      "13 \tCTACTCGCTCGACACCTCGTAGTGGTATTGAAACAATAGCCTACTGACTAGCCTAGCCCCCGTTATGAGCGACGGCCTAGGGCTGTGCGACCGGCGGTCA\n",
      "14 \tCTACTGGCTCGACACCTCGTAGTGGTATTGAAACAATAGCCTACTGACTAGCCTAGCCCCCGTTATGAGCGACGGCCTAGGGCTGTGCGACCGGCGGTCA\n",
      "15 \tCTGCTAGCTCGACAACTCGTAGTGGTATTGAAACAATAGCCTGCTGACTGGCCTAGCCTAAGTTATGAGCGTCGGCCTAGAGCGGAGCGAACGGCGGTCA\n",
      "16 \tCTGCTAGCTCGACAACTCGTAGTGGTAATGAAACAATAGCCTGCTGACTGGCCTAGCCTACGTTATGAGCGTCGGCCTAGAGCGGAGCGAACGGCGGTCA\n",
      "17 \tCTGCTAGCTCGACAACTCGTAGTGGTATTGAAACAATAGCCTGCTGACTGGCCTGGCCTACGTTATGAGCGTCGGCCTAGAGCGGAGCGAACTGCGGTCA\n",
      "18 \tCTGCTAGCTCGACAACTCGTAGTGGTATTGAAACAATAGCCTGCTGACTGGCCTGGCCTACGTTATGAGCGTCGGCCTAGAGCGGAGCGAACTGCGGTCA\n",
      "19 \tCTGCTAGCTCGACAACTCGTAGTGGTATTGAAACAATAGCCTGCTGACTGGCCTAGCCTACGTTATGAGCGTCGGCCTAGAGCGGAGCGAACTGCGGTCA\n"
     ]
    }
   ],
   "source": [
    "for n in t.traverse(): print n.Name, \"\\t\", DNA.ModelSeq(n.Sequence)"
   ]
  },
  {
   "cell_type": "markdown",
   "metadata": {},
   "source": [
    "Now they're a bit more different. Almost done: now we just need to group the sequences into OTUs."
   ]
  },
  {
   "cell_type": "code",
   "execution_count": 109,
   "metadata": {
    "collapsed": false
   },
   "outputs": [],
   "source": [
    "def seq_distance(n1, n2): \n",
    "    return ((n1.Sequence != n2.Sequence).sum())/float(len(n1.Sequence))"
   ]
  },
  {
   "cell_type": "code",
   "execution_count": 110,
   "metadata": {
    "collapsed": false
   },
   "outputs": [
    {
     "name": "stdout",
     "output_type": "stream",
     "text": [
      "0.0\n",
      "0.16\n",
      "0.23\n",
      "0.22\n",
      "0.23\n",
      "0.23\n",
      "0.22\n",
      "0.19\n",
      "0.2\n",
      "0.19\n",
      "0.18\n",
      "0.18\n",
      "0.2\n",
      "0.2\n",
      "0.19\n",
      "0.23\n",
      "0.23\n",
      "0.24\n",
      "0.24\n",
      "0.23\n"
     ]
    }
   ],
   "source": [
    "tips = t.tips()\n",
    "for t in tips: print seq_distance(t,tips[0])"
   ]
  },
  {
   "cell_type": "code",
   "execution_count": 111,
   "metadata": {
    "collapsed": false
   },
   "outputs": [],
   "source": [
    "rand_tip = choice(tips)\n",
    "clusters = furthest_neighbor_clusters(choice, tips, 0.03, seq_distance)"
   ]
  },
  {
   "cell_type": "code",
   "execution_count": 112,
   "metadata": {
    "collapsed": false
   },
   "outputs": [
    {
     "name": "stdout",
     "output_type": "stream",
     "text": [
      "1 \t[Tree(\"12;\"), Tree(\"13;\"), Tree(\"14;\")] \n",
      "\n",
      "1 \t[Tree(\"9;\"), Tree(\"10;\"), Tree(\"11;\")] \n",
      "\n",
      "1 \t[Tree(\"19;\"), Tree(\"15;\"), Tree(\"16;\"), Tree(\"17;\"), Tree(\"18;\")] \n",
      "\n",
      "1 \t[Tree(\"1;\")] \n",
      "\n",
      "1 \t[Tree(\"3;\"), Tree(\"2;\"), Tree(\"4;\"), Tree(\"5;\")] \n",
      "\n",
      "1 \t[Tree(\"8;\"), Tree(\"7;\")] \n",
      "\n",
      "1 \t[Tree(\"0;\")] \n",
      "\n",
      "1 \t[Tree(\"6;\")] \n",
      "\n"
     ]
    }
   ],
   "source": [
    "for i, c in enumerate(clusters):\n",
    "    print 1, \"\\t\", c, \"\\n\""
   ]
  },
  {
   "cell_type": "code",
   "execution_count": 113,
   "metadata": {
    "collapsed": false
   },
   "outputs": [],
   "source": [
    "def visualize_clusters_tree(clusters):\n",
    "    node_to_color = {}\n",
    "    for c in clusters:\n",
    "        curr_color = (random.uniform(0,1), random.uniform(0,1), random.uniform(0,1))\n",
    "        for n in c:\n",
    "            node_to_color[n.Name] = curr_color\n",
    "    print node_to_color\n",
    "    def color_nodes(n):\n",
    "        return node_to_color.get(n.Name, 'black')\n",
    "    np.drawFigure(edge_color_callback=color_nodes)"
   ]
  },
  {
   "cell_type": "code",
   "execution_count": 114,
   "metadata": {
    "collapsed": false
   },
   "outputs": [
    {
     "name": "stdout",
     "output_type": "stream",
     "text": [
      "{'11': (0.6964130998814713, 0.4719270782473306, 0.3884662919719394), '10': (0.6964130998814713, 0.4719270782473306, 0.3884662919719394), '13': (0.43084634868946825, 0.7236184954327985, 0.9888406104752389), '12': (0.43084634868946825, 0.7236184954327985, 0.9888406104752389), '15': (0.9615952344078549, 0.16745175547441427, 0.6016755584727981), '14': (0.43084634868946825, 0.7236184954327985, 0.9888406104752389), '17': (0.9615952344078549, 0.16745175547441427, 0.6016755584727981), '16': (0.9615952344078549, 0.16745175547441427, 0.6016755584727981), '19': (0.9615952344078549, 0.16745175547441427, 0.6016755584727981), '18': (0.9615952344078549, 0.16745175547441427, 0.6016755584727981), '1': (0.27162357150603733, 0.3876646664346901, 0.6146012026076987), '0': (0.9735882678168037, 0.08873931223951104, 0.9193223602444538), '3': (0.637607231685215, 0.6281269714427857, 0.6665362831662474), '2': (0.637607231685215, 0.6281269714427857, 0.6665362831662474), '5': (0.637607231685215, 0.6281269714427857, 0.6665362831662474), '4': (0.637607231685215, 0.6281269714427857, 0.6665362831662474), '7': (0.7645294542971552, 0.7828937531029186, 0.5254063034533324), '6': (0.51756962110424, 0.2926765744559735, 0.18948791271731602), '9': (0.6964130998814713, 0.4719270782473306, 0.3884662919719394), '8': (0.7645294542971552, 0.7828937531029186, 0.5254063034533324)}\n"
     ]
    }
   ],
   "source": [
    "visualize_clusters_tree(clusters)"
   ]
  }
 ],
 "metadata": {
  "kernelspec": {
   "display_name": "Python 2",
   "language": "python",
   "name": "python2"
  },
  "language_info": {
   "codemirror_mode": {
    "name": "ipython",
    "version": 2
   },
   "file_extension": ".py",
   "mimetype": "text/x-python",
   "name": "python",
   "nbconvert_exporter": "python",
   "pygments_lexer": "ipython2",
   "version": "2.7.11"
  }
 },
 "nbformat": 4,
 "nbformat_minor": 0
}
