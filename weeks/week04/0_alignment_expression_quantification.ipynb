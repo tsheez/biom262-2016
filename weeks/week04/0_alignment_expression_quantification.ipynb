{
 "cells": [
  {
   "cell_type": "markdown",
   "metadata": {
    "deletable": false,
    "nbgrader": {
     "checksum": "804cd9efd84b9243fae2f448ccece30d",
     "grade": false,
     "grade_id": "0_header",
     "locked": true,
     "solution": false
    }
   },
   "source": [
    "# Gene expression\n",
    "\n",
    "## 0. Pick a partner\n",
    "\n",
    "We'll be in partners for this for both practical and pedagogical reasons.\n",
    "\n",
    "1. So your compute jobs go through more quickly so you'll actually be able to finish the exercise\n",
    "2. [Studies](http://files.software-carpentry.org/training-course/2013/08/p34-porter.pdf) have shown that students are more engaged, learn faster, and retain the knowledge better when learning to program in pairs.\n",
    "\n",
    "We'll take a short poll to assign you to partners (this will be your partner for the HW too)"
   ]
  },
  {
   "cell_type": "markdown",
   "metadata": {
    "deletable": false,
    "nbgrader": {
     "checksum": "afcd10cf203a54f70c1614a51697f868",
     "grade": false,
     "grade_id": "1_logon",
     "locked": true,
     "solution": false
    }
   },
   "source": [
    "## 1. Log on to TSCC\n",
    "\n",
    "Mac/Linux:\n",
    "\n",
    "    ssh ucsd-train##tscc.sdsc.edu\n",
    "\n",
    "Windows: Use Putty"
   ]
  },
  {
   "cell_type": "markdown",
   "metadata": {
    "deletable": false,
    "nbgrader": {
     "checksum": "64420cd0be863746c1b0ff824b1dc489",
     "grade": false,
     "grade_id": "2_install",
     "locked": true,
     "solution": false
    }
   },
   "source": [
    "## 2. Install the programs we'll need\n",
    "\n",
    "Some very nice people have made [bioconda](https://bioconda.github.io/), so you can install bioinformatics programs using the Anaconda installer we already installed! The programs are:\n",
    "\n",
    "- `star` - Aligning\n",
    "- `samtools` - we'll need to use this to sort, binarize, and index the alignment file after aligning\n",
    "- `subread` - contains `featureCounts` which we'll use to quanitfy gene expression after sorting and binarizing\n",
    "- `kallisto` - alternative method to both map and quanitfy gene expression at once\n",
    "\n",
    "This won't take long. The `--yes` is so `conda` won't bother you by asking \"are you SURE you want to install this?\"\n",
    "\n",
    "```\n",
    "$ conda install --yes --channel bioconda star samtools subread kallisto \n",
    "```\n",
    "    "
   ]
  },
  {
   "cell_type": "markdown",
   "metadata": {
    "deletable": false,
    "nbgrader": {
     "checksum": "3d2bd1bdf8f653f195a9f8fd8f27dd4c",
     "grade": false,
     "grade_id": "3_scratch",
     "locked": true,
     "solution": false
    }
   },
   "source": [
    "## 3. Link to your scratch directory if you haven't already\n",
    "\n",
    "The \"scratch\" directory can be thought of [\"scratch paper\"](http://www.nytimes.com/2010/12/05/magazine/05FOB-onlanguage-t.html?_r=0) for data you want to store \"just for now.\" These folders have VERY fast read/write (10-100x faster) than the `/home` directory but things that are 60+ days old get purged (deleted) every so often.\n",
    "\n",
    "Your scratch directory is located in `/oasis/tscc/scratch/$USER/` but that's annoying to type out and inconvenient to remember. So, let's make a **soft link** from `$HOME/scratch` to this directory. Since we're using the dollar-sign variable notation, you can directly copy the command below.\n",
    "\n",
    "```\n",
    "ln -s /oasis/tscc/scratch/$USER $HOME/scratch\n",
    "```\n",
    "\n",
    "Now you should see something like this in your home directory:\n",
    "\n",
    "```\n",
    "[ucsd-train01@tscc-login2 ~]$ ls -lh\n",
    "total 271M\n",
    "drwxr-xr-x 16 ucsd-train01 biom262-group   17 Jan 24 21:17 anaconda3\n",
    "-rw-r--r--  1 ucsd-train01 biom262-group 271M Dec  8 11:24 Anaconda3-2.4.1-Linux-x86_64.sh\n",
    "-rw-r--r--  1 ucsd-train01 biom262-group   49 Jan 20 20:35 asdf\n",
    "drwxr-xr-x  2 ucsd-train01 biom262-group    3 Jan 10 22:14 bin\n",
    "drwxr-xr-x  3 ucsd-train01 biom262-group    3 Jan  7 07:39 code\n",
    "-rw-r--r--  1 ucsd-train01 biom262-group  155 Jan 20 20:28 ls1.txt\n",
    "-rw-r--r--  1 ucsd-train01 biom262-group   64 Jan 20 20:31 ls_nonexistent_folder.txt\n",
    "-rw-r--r--  1 ucsd-train01 biom262-group  121 Jan 20 20:12 ls.txt\n",
    "drwxr-xr-x  2 ucsd-train01 biom262-group    2 Jan  7 06:05 notebooks\n",
    "lrwxrwxrwx  1 ucsd-train01 biom262-group   32 Jan 24 23:09 scratch -> /oasis/tscc/scratch/ucsd-train01\n",
    "-rw-------  1 ucsd-train01 biom262-group   48 Jan 22 08:15 stderrtest.e4194600\n",
    "-rw-------  1 ucsd-train01 biom262-group   70 Jan 22 08:15 stderrtest.o4194600\n",
    "-rw-r--r--  1 ucsd-train01 biom262-group  112 Jan 20 22:07 stderrtest.sh\n",
    "-rw-r--r--  1 ucsd-train01 biom262-group   25 Jan  7 19:32 test_script.sh\n",
    "-rw-------  1 ucsd-train01 biom262-group    0 Jan  7 19:32 test_script.sh.e3962194\n",
    "-rw-------  1 ucsd-train01 biom262-group   42 Jan  7 19:32 test_script.sh.o3962194\n",
    "```"
   ]
  },
  {
   "cell_type": "markdown",
   "metadata": {
    "deletable": false,
    "nbgrader": {
     "checksum": "e40f916d991d7e8a18b1027e2fff6119",
     "grade": false,
     "grade_id": "4_update_repo",
     "locked": true,
     "solution": false
    }
   },
   "source": [
    "## 4. Update your local `biom262-2016` repository\n",
    "\n",
    "Go to your `biom262-2016` folder on TSCC.\n",
    "\n",
    "```\n",
    "$ cd ~/code/biom262-2016\n",
    "```\n",
    "\n",
    "Check what branch you are on:\n",
    "\n",
    "```\n",
    "[ucsd-train01@tscc-login2 biom262-2016]$ git branch -v\n",
    "  master cc0da4c [ahead 28] add nfkb tf file\n",
    "* week01 7c25c24 merged updates from upstream/master\n",
    "```\n",
    "\n",
    "The asterisk \"`*`\" indicates your current branch. Change to `master` with:\n",
    "\n",
    "```\n",
    "$ git checkout master\n",
    "Switched to branch 'master'\n",
    "Your branch is ahead of 'origin/master' by 28 commits.\n",
    "```\n",
    "If it says you're head by some number of commits, it's totally fine.\n",
    "\n",
    "Make sure the `biom262/biom262-2016` repository is set as \"upstream\":\n",
    "\n",
    "```\n",
    "[ucsd-train01@tscc-login2 biom262-2016]$ git remote -v\n",
    "origin  https://github.com/olgabot/biom262-2016.git (fetch)\n",
    "origin  https://github.com/olgabot/biom262-2016.git (push)\n",
    "upstream        https://github.com/biom262/biom262-2016.git (fetch)\n",
    "upstream        https://github.com/biom262/biom262-2016.git (push)\n",
    "```\n",
    "\n",
    "Now get the latest update with:\n",
    "\n",
    "```\n",
    "$ git pull upstream master\n",
    "```\n",
    "\n",
    "You may get prompted to write a `.MERGE_MSG`. What it says is fine - exit and save.\n",
    "\n",
    "If you get merge conflicts, use \"`git checkout upstream/master -- filename`\" (replacing \"`filename`\" with the actual name of the file but keeping the two dashes `--`) to accept the upstream version."
   ]
  },
  {
   "cell_type": "markdown",
   "metadata": {
    "deletable": false,
    "nbgrader": {
     "checksum": "d8917674f3f4238061cec76fe12c57ca",
     "grade": false,
     "grade_id": "5_start_jupyter",
     "locked": true,
     "solution": false
    }
   },
   "source": [
    "## 5. Start a Jupyter notebook in the background and navigate to this folder\n",
    "\n",
    "### Start a Jupyter notebook\n",
    "\n",
    "For your port, to avoid conflicts, try to not use common or easy port numbers like 4000 or 1234, but more of a mix.\n",
    "\n",
    "#### On TSCC\n",
    "\n",
    "    jupyter notebook --no-browser --port #### &\n",
    "\n",
    "#### On your laptop (Mac/Linux)\n",
    "\n",
    "    ssh -NL ####:localhost:#### ucsd-train##@tscc-login#.sdsc.edu\n",
    "\n",
    "### In the Jupyter notebook, navigate to ***this*** notebook\n",
    "\n",
    "It's probably in `~/code/biom262-2016/weeks/week04`\n"
   ]
  },
  {
   "cell_type": "markdown",
   "metadata": {
    "deletable": false,
    "nbgrader": {
     "checksum": "a4621d6d6e64be3af60a26cb25cea5d2",
     "grade": false,
     "grade_id": "6_fastq",
     "locked": true,
     "solution": false
    }
   },
   "source": [
    "## 6. FASTQ files\n",
    "\n",
    "The current standard of sequencing files is [`fastq`](https://en.wikipedia.org/wiki/FASTQ_format), which is derived from the `fasta` format from your homework. Check out an example `fastq` format below which shows 3 entries:\n",
    "\n",
    "```\n",
    "$ zcat 250662/SRR578548_1.fastq.gz | head -n 12\n",
    "@SRR578548.1 C0G7VACXX120322:8:2306:19628:74804 length=101\n",
    "TAAATTTTAAGTAAATGTTTAAGGGATTTTACACCGGTCTATGGAGGTTTGCATGTGTAATTTTACCTCTAATTAATTATAAGGCCAGGACCAAACCTTTC\n",
    "+SRR578548.1 C0G7VACXX120322:8:2306:19628:74804 length=101\n",
    "@88DD?DDFAA<C4:C>C@IE<C@F3+CF9CHHB9CDF@F<DF<*0)?(0?<4BC=FCEFIIIC=A)=CEE>?CA7?EE@?;?B@BBC;;5=9=?5?BA>A\n",
    "@SRR578548.2 C0G7VACXX120322:8:2203:18331:38524 length=101\n",
    "CCTTAAATTTTAAGTAAATGTTTAAAGGATTTTACACCGGTCTATGGAGGTTTGCATGTGTAATTTTACCTCTAATTAATTATAAGGCCAGGACCAAACCT\n",
    "+SRR578548.2 C0G7VACXX120322:8:2203:18331:38524 length=101\n",
    "CCCFFFFFHHHHHJHIJJJJIJJIJJJJHJJJJJJJJJJJFHGIJJJJJIGIJJJJJJIIHIIIIJJJJJJJJHHHHHHHFFFFFFFEDDDDDDDDDDDDD\n",
    "@SRR578548.3 C0G7VACXX120322:8:2206:17405:142266 length=101\n",
    "CCTTAAATTTTAAGTAAATGTTTAAGGGATTTTACACCGGTCTATGGAGGTTTGCATGTGTAATTTTACCTCTAATTAATTATAAGGCCAGGACCAAACCT\n",
    "+SRR578548.3 C0G7VACXX120322:8:2206:17405:142266 length=101\n",
    "CCCDFFFFGHHFFIHHIGJGJIIJIJJJGIHIJJFJJJIGHHIIGGGHJJ?BHHIJJJHH=FGIIIJJIJJGHHHHHHGFFFFFDDEEDD?BDDBDDDDDC\n",
    "```\n",
    "\n",
    "Notice that each read takes up 4 lines, where\n",
    "\n",
    "```\n",
    "@unique_identifier length=101\n",
    "[genomic sequence]\n",
    "+unique_identifier length=101\n",
    "[ASCII-encoded PHRED quality score]\n",
    "```\n",
    "\n",
    "### Exercise 1\n",
    "\n",
    "Read about the FASTQ format and PHRED quality scores in the link above. \n",
    "\n",
    "**Q: What probability of incorrect mapping does \"A\" correspond to for Illumina 1.8+?**\n",
    "\n",
    "Hint 0: Remember logging numbers and using exponentiation?\n",
    "\n",
    "Hint 1: you can use two asterisks \"`**`\" to exponentiate numbers in Python:"
   ]
  },
  {
   "cell_type": "code",
   "execution_count": null,
   "metadata": {
    "collapsed": false,
    "deletable": false,
    "nbgrader": {
     "checksum": "788f4d0f417421326e554c735129339c",
     "grade": false,
     "grade_id": "5_hint1_power_demo",
     "locked": true,
     "solution": false
    }
   },
   "outputs": [],
   "source": [
    "5**2"
   ]
  },
  {
   "cell_type": "markdown",
   "metadata": {
    "deletable": false,
    "nbgrader": {
     "checksum": "72d4daccb754d86e0606800ed09611cf",
     "grade": false,
     "grade_id": "5_hint2",
     "locked": true,
     "solution": false
    }
   },
   "source": [
    "Hint 2: You can get the \"ordinal number\" of a character using the \"`ord`\" function in Python. Notice how the character \"I\" has the number 73 - that's the literal number that the character \"I\" is stored under in the computer. Notice how it matches with \"41\" in the Illumina 1.8+ scoring."
   ]
  },
  {
   "cell_type": "code",
   "execution_count": null,
   "metadata": {
    "collapsed": false,
    "deletable": false,
    "nbgrader": {
     "checksum": "96832c6d37752b2c486a3175329cb43b",
     "grade": false,
     "grade_id": "5_hint2_ord1",
     "locked": true,
     "solution": false
    }
   },
   "outputs": [],
   "source": [
    "ord('I')"
   ]
  },
  {
   "cell_type": "code",
   "execution_count": null,
   "metadata": {
    "collapsed": false,
    "deletable": false,
    "nbgrader": {
     "checksum": "55d904839c3b061b26f79c052bfffcbe",
     "grade": false,
     "grade_id": "5_hint2_ord2",
     "locked": true,
     "solution": false
    }
   },
   "outputs": [],
   "source": [
    "ord('!')"
   ]
  },
  {
   "cell_type": "markdown",
   "metadata": {
    "deletable": false,
    "nbgrader": {
     "checksum": "183cdf9945782aa4a2d7e5df200d358b",
     "grade": false,
     "grade_id": "5_fastq_question",
     "locked": true,
     "solution": false
    }
   },
   "source": [
    "Use Python to write code to find the probability of incorrect mapping corresponding to the letter \"A\""
   ]
  },
  {
   "cell_type": "code",
   "execution_count": 3,
   "metadata": {
    "collapsed": false,
    "deletable": false,
    "nbgrader": {
     "checksum": "6e4c9c489f587278ce30a1e0bd00af5c",
     "grade": false,
     "grade_id": "5_fastq_their_answer",
     "locked": false,
     "solution": true
    }
   },
   "outputs": [
    {
     "data": {
      "text/plain": [
       "0.000630957344480193"
      ]
     },
     "execution_count": 3,
     "metadata": {},
     "output_type": "execute_result"
    }
   ],
   "source": [
    "10**(-(ord(\"A\") - ord(\"!\"))/10)"
   ]
  },
  {
   "cell_type": "code",
   "execution_count": 4,
   "metadata": {
    "collapsed": true,
    "deletable": false,
    "nbgrader": {
     "checksum": "897dd4b038a302492821d9932eda240e",
     "grade": true,
     "grade_id": "5_fastq_solution",
     "locked": true,
     "points": 2,
     "solution": false
    }
   },
   "outputs": [],
   "source": [
    "# checks that the last created output is equal to the following number\n",
    "assert _ == 0.000630957344480193"
   ]
  },
  {
   "cell_type": "markdown",
   "metadata": {
    "deletable": false,
    "nbgrader": {
     "checksum": "2a1b797e49ea443ddd67ad3ac09740fa",
     "grade": false,
     "grade_id": "6_aligner",
     "locked": true,
     "solution": false
    }
   },
   "source": [
    "## 7. STAR aligner program\n",
    "\n",
    "Double-check that you can use the STAR aligner by typing `STAR -h`. This has a HUGE output so we'll just look at the top with `head`.\n",
    "\n",
    "```\n",
    "[ucsd-train01@tscc-0-5 ~]$ STAR -h | head\n",
    "Usage: STAR  [options]... --genomeDir REFERENCE   --readFilesIn R1.fq R2.fq\n",
    "Spliced Transcripts Alignment to a Reference (c) Alexander Dobin, 2009-2015\n",
    "\n",
    "### versions\n",
    "versionSTAR             020201\n",
    "    int>0: STAR release numeric ID. Please do not change this value!\n",
    "versionGenome           020101 020200\n",
    "    int>0: oldest value of the Genome version compatible with this STAR release. Please do not change this value!\n",
    "\n",
    "### Parameter Files\n",
    "```\n",
    "\n",
    "### Exercise 2: Read through the STAR parameters\n",
    "\n",
    "Use `less -S` to scan through the STAR parameters. Remember the keyboard shortcuts:\n",
    "\n",
    "* [Space] - advances to next page\n",
    "* b - previous page\n",
    "* q - exit\n",
    "* h - help\n",
    "* Arrow keys - advance up/down one row or left/right one column\n",
    "\n",
    "**Q: What flag would you use to output the unmapped reads as a separate FASTQ file?** (1 sentence)"
   ]
  },
  {
   "cell_type": "markdown",
   "metadata": {
    "deletable": false,
    "nbgrader": {
     "checksum": "f53ab087e0f041b3574db12883caa585",
     "grade": true,
     "grade_id": "6_aligner_flags",
     "locked": false,
     "points": 2,
     "solution": true
    }
   },
   "source": [
    "--outReadsUnmapped Fastx"
   ]
  },
  {
   "cell_type": "markdown",
   "metadata": {
    "deletable": false,
    "nbgrader": {
     "checksum": "a988b67bd8b227818cfa2c27ea30e5fa",
     "grade": false,
     "grade_id": "7_gencode_annotation",
     "locked": true,
     "solution": false
    }
   },
   "source": [
    "## 8. GENCODE Gene annotations\n",
    "\n",
    "### Exercise 3: Understanding annotations\n",
    "\n",
    "We'll be using the [GENCODE M8](http://www.gencodegenes.org/mouse_releases/8.html) mouse annotation for this exercise. Read about the [GENCODE GTF Format](http://www.gencodegenes.org/data_format.html). Specifically, we'll be using the \"basic\" gene annotation and not the \"comprehensive\" one. Read about [tags](http://www.gencodegenes.org/gencode_tags.html).\n",
    "\n",
    "**Q: When you would want to use the \"comprehensive\" annotation, and when you would want to use the \"basic\" annotation?** (2-3 sentences)"
   ]
  },
  {
   "cell_type": "markdown",
   "metadata": {
    "deletable": false,
    "nbgrader": {
     "checksum": "9d6b2a1e39db020c81735c01d4258079",
     "grade": true,
     "grade_id": "7_gencode_annotation_answer",
     "locked": false,
     "points": 2,
     "solution": true
    }
   },
   "source": [
    "YOUR ANSWER HERE"
   ]
  },
  {
   "cell_type": "markdown",
   "metadata": {
    "deletable": false,
    "nbgrader": {
     "checksum": "9fd19aa927b06766e2b3f0a3572b5f02",
     "grade": false,
     "grade_id": "8_setup_project",
     "locked": true,
     "solution": false
    }
   },
   "source": [
    "## 9. Set up a project\n",
    "\n",
    "For this project, which we will call `shalek2013`, create the following directories for the projects:\n",
    "\n",
    "```\n",
    "mkdir $HOME/projects\n",
    "mkdir $HOME/projects/shalek2013\n",
    "mkdir $HOME/projects/shalek2013/processing_scripts\n",
    "```\n",
    "\n",
    "Make directories in scratch:\n",
    "\n",
    "```\n",
    "mkdir $HOME/scratch/shalek2013\n",
    "mkdir $HOME/scratch/shalek2013/processed_data\n",
    "```\n",
    "\n",
    "### Exercise 4: Create soft links\n",
    "\n",
    "Now use `ln -s filename newplace` to create **soft links** (aka \"shortcuts\" or \"pointers\") of the folders in your `~/scratch/shalek2013/` directory to your `~/projects/shalek2013` directory so when you `ls -lha` in your `~/projects/shalek2013` directory, it looks like this:\n",
    "\n",
    "```\n",
    "ln -s /projects/ps-yeolab/biom262-2016/seqdata/shalek2013 $HOME/projects/shalek2013/raw_data\n",
    "ln -s $HOME/scratch/shalek2013/processed_data $HOME/projects/shalek2013/processed data\n",
    "```\n",
    "\n",
    "Fix bottom one to:\n",
    "```\n",
    "ln -s $HOME/scratch/shalek2013/processed_data $HOME/projects/shalek2013/processed_data\n",
    "```\n",
    "\n",
    "If you're seeing black and red links you've done something wrong... remove the `~/projects/shalek2013` directory and start over.\n",
    "\n",
    "```\n",
    "rm -f ~/projects/shalek2013\n",
    "```\n",
    "\n",
    "Then make sure your:\n",
    "\n",
    "```\n",
    "[ucsd-train01@tscc-0-62 ~]$ cd ~/projects/shalek2013\n",
    "[ucsd-train01@tscc-0-62 shalek2013]$ ls -lha\n",
    "total 10K\n",
    "drwxr-xr-x 3 ucsd-train01 biom262-group  5 Jan 25 16:05 .\n",
    "drwxr-xr-x 3 ucsd-train01 biom262-group  3 Jan 25 16:05 ..\n",
    "lrwxrwxrwx 1 ucsd-train01 biom262-group 53 Jan 25 16:05 processed_data -> /home/ucsd-train01/scratch/shalek2013/processed_data/\n",
    "drwxr-xr-x 2 ucsd-train01 biom262-group  2 Jan 25 16:05 processing_scripts\n",
    "lrwxrwxrwx 1 ucsd-train01 biom262-group 47 Jan 25 16:05 raw_data -> /projects/ps-yeolab/biom262-2016/seqdata/shalek2013\n",
    "```\n",
    "\n"
   ]
  },
  {
   "cell_type": "markdown",
   "metadata": {
    "deletable": false,
    "nbgrader": {
     "checksum": "170c00eba2fe14438b7b1d1a8197c108",
     "grade": false,
     "grade_id": "11_align_reads",
     "locked": true,
     "solution": false
    }
   },
   "source": [
    "## 10. Align reads with `STAR`\n",
    "\n",
    "\n",
    "Importantly, the help output of \"`STAR -h`\" points you to the manual at the end:\n",
    "\n",
    "```\n",
    "[ucsd-train01@tscc-0-5 ~]$ STAR -h | tail\n",
    "    string: 2-pass mapping mode.\n",
    "                            None        ... 1-pass mapping\n",
    "                            Basic       ... basic 2-pass mapping, with all 1st pass junctions inserted into the genome indices on the fly\n",
    "\n",
    "twopass1readsN              -1\n",
    "    int: number of reads to process for the 1st step. Use very large number (or default -1) to map all reads in the first step.\n",
    "\n",
    "For more details see:\n",
    "<https://github.com/alexdobin/STAR>\n",
    "<https://github.com/alexdobin/STAR/blob/master/doc/STARmanual.pdf>\n",
    "```\n",
    "\n",
    "We've prepared a subset of the data from Shalek 2013 which contains only the data from chromosome 11 (both *Irgm1* and *Irf7* from the paper are on chromsome 11). We'll use the default parameters for mapping except for:\n",
    "\n",
    "* `--runThreadN` parameter which we'll set to 4, as we requested 4 processors.\n",
    "* `--genomeDir /projects/ps-yeolab/biom262-2016/genomes/mm10/gencode/m8/star/` - How to specify the genome we are using \n",
    "* `--outSAMType BAM SortedByCoordinate` - We'll output a BAM binary file instead of a SAM file (so we don't have to do 3 extra steps later - makes our life easier)\n",
    "* `--readFilesIN $HOME/scratch/shalek2013/raw_data/S10_R1.fastq.gz $HOME/scratch/shalek2013/raw_data/S10_R2.fastq.gz` - the sequencing read files we'll use, referencing our soft links of the files.\n",
    "* `--outFileNamePrefix $HOME/projects/shalek2013/processed_data/S10.` - Specify output directory and beginning of the filename (the dot is important - this way the output will be `$HOME/projects/shalek2013/processed_data/S10.Aligned.out.bam` rather than `$HOME/projects/shalek2013/processed_data/S10Aligned.out.sam` and I like the separation you get with the \".\")\n",
    "* `--readFilesCommand zcat` - because our FASTQ files are compressed using `gzip` and the `zcat` command decompresses them to standard out (could also say `--readFilesCommand gunzip -c`)\n",
    "\n",
    "### Excercise 5: Submit a script to run STAR on \"S10\"\n",
    "\n",
    "[Write a PBS script](http://www.sdsc.edu/support/user_guides/tscc-quick-start.html), put it in \"`~/projects/shalek2013/processing_scripts`\" and call it \"`s10_align.sh`\" to run the STAR aligner. Request one node and 16 processors with \"`-l nodes=1:ppn=16`\" and request the time to be 30 minutes. Below is the alignment command to put in your script:\n",
    "\n",
    "```\n",
    "STAR --runThreadN 16 \\\n",
    "    --genomeDir \\\n",
    "    /projects/ps-yeolab/biom262-2016/genomes/mm10/gencode/m8/star/ \\\n",
    "    --readFilesIn \\\n",
    "    $HOME/projects/shalek2013/raw_data/S10_R1.fastq.gz \\\n",
    "    $HOME/projects/shalek2013/raw_data/S10_R2.fastq.gz \\\n",
    "    --outFileNamePrefix $HOME/projects/shalek2013/processed_data/S10. \\\n",
    "    --readFilesCommand zcat\n",
    "```\n",
    "\n",
    "\n",
    "Remember you can use `qdel` to kill jobs you want to stop:\n",
    "\n",
    "```\n",
    "[ucsd-train01@tscc-login2 processing_scripts]$ qdel 4251332\n",
    "```\n"
   ]
  },
  {
   "cell_type": "markdown",
   "metadata": {
    "deletable": false,
    "nbgrader": {
     "checksum": "3f2ba248daca9e2533d1ee2de8f1fd67",
     "grade": false,
     "grade_id": "13_read_kallisto_help",
     "locked": true,
     "solution": false
    }
   },
   "source": [
    "## 11. Directly quasi-map and count features with `kallisto`\n",
    "\n",
    "Now we'll use `kallisto` to directly quantify gene expression. We've already created an `index` for you, so use that. The parameters we'll be using are:\n",
    "\n",
    "* `--index /home/ucsd-train01/genomes/mm10/gencode/m8/gencode.vM8.pc_transcripts.kallisto` - kallisto index created from **protein-coding** transcripts from GENCODE\n",
    "* `--output-dir ~/projects/shalek2013/processed_data/S10_kallisto` - The specific folder where we'll be outputting the kallisto results\n",
    "\n",
    "### Exercise 6: read `kallisto` help\n",
    "\n",
    "`kallisto`, like `git`, is the name of the main program and you have to specify the sub-program to run. When you say `kallisto -h`, it tells you about these sub-programs:\n",
    "\n",
    "```\n",
    "[ucsd-train01@tscc-login2 ~]$ kallisto -h\n",
    "Error: invalid command -h\n",
    "kallisto 0.42.4\n",
    "\n",
    "Usage: kallisto <CMD> [arguments] ..\n",
    "\n",
    "Where <CMD> can be one of:\n",
    "\n",
    "    index         Builds a kallisto index \n",
    "    quant         Runs the quantification algorithm \n",
    "    h5dump        Converts HDF5-formatted results to plaintext\n",
    "    version       Prints version information\n",
    "\n",
    "Running kallisto <CMD> without arguments prints usage information for <CMD>\n",
    "\n",
    "```\n",
    "\n",
    "\n",
    "Today, we'll be using `kallisto quant` on paired end reads, but for this question: **Q: How would you use `kallisto quant` for single-end reads?** You'll need to check the [manual](https://pachterlab.github.io/kallisto/manual.html) as well as the help documentation"
   ]
  },
  {
   "cell_type": "markdown",
   "metadata": {
    "deletable": false,
    "nbgrader": {
     "checksum": "745d2382cda5cb2ca73e9ff47e866960",
     "grade": true,
     "grade_id": "13_read_kallisto_help_ans",
     "locked": false,
     "points": 3,
     "solution": true
    }
   },
   "source": [
    "--single --fragment-length=200.1"
   ]
  },
  {
   "cell_type": "markdown",
   "metadata": {
    "deletable": false,
    "nbgrader": {
     "checksum": "cb12d358e126291a6da1394755c57f08",
     "grade": false,
     "grade_id": "13_run_kallisto",
     "locked": true,
     "solution": false
    }
   },
   "source": [
    "### Exercise 7: Submit a kallisto script\n",
    "\n",
    "We're running `kallisto quant` on paired-end data. **Write a submitter script in your `~/projects/shalek2013/processing_scripts` directory called `s10_kallisto.sh` with the following command**. Request for 8 processors (threads) with `-l nodes=1:ppn=8` and 30 minutes.\n",
    "\n",
    "```\n",
    "kallisto quant \\\n",
    "    --index \\\n",
    "    /projects/ps-yeolab/biom262-2016/genomes/mm10/gencode/m8/gencode.vM8.pc_transcripts.kallisto \\\n",
    "    --threads 8 --output-dir \\\n",
    "    ~/projects/shalek2013/processed_data/S10_kallisto \\\n",
    "    [S10 R1 fastq file] [S10 R2 fastq file]\n",
    "```\n",
    "\n",
    "\n"
   ]
  },
  {
   "cell_type": "markdown",
   "metadata": {
    "deletable": false,
    "nbgrader": {
     "checksum": "dfedc658160a7b9e9b7dd22b986b95e1",
     "grade": false,
     "grade_id": "12_look_at_star_output",
     "locked": true,
     "solution": false
    }
   },
   "source": [
    "## 12. Look at the output of `STAR`\n",
    "\n",
    "At this point, the `STAR` job should be done and we can take a look at the output. Your script should have created something like this in your `~/projects/shalek2013/processed_data` directory:\n",
    "\n",
    "```\n",
    "[ucsd-train01@tscc-login2 ~]$ cd ~/projects/shalek2013/processed_data\n",
    "[ucsd-train01@tscc-login2 processed_data]$ ll\n",
    "total 32\n",
    "-rw-r--r-- 1 ucsd-train01 biom262-group 31881871283 Jan 26 07:15 S10.Aligned.out.sam\n",
    "-rw-r--r-- 1 ucsd-train01 biom262-group        1870 Jan 26 07:16 S10.Log.final.out\n",
    "-rw-r--r-- 1 ucsd-train01 biom262-group       19784 Jan 26 07:16 S10.Log.out\n",
    "-rw-r--r-- 1 ucsd-train01 biom262-group        1426 Jan 26 07:16 S10.Log.progress.out\n",
    "-rw-r--r-- 1 ucsd-train01 biom262-group     1008726 Jan 26 07:16 S10.SJ.out.tab\n",
    "```\n",
    "\n",
    "### Exercise 8: Look at the outputs of STAR\n",
    "\n",
    "Read about the [SAM](https://samtools.github.io/hts-specs/SAMv1.pdf) format and check out [this](https://broadinstitute.github.io/picard/explain-flags.html) helpful website for explaining SAM flags.\n",
    "\n",
    "1. Which file would you use to get the percentage of mapped reads from your data?\n",
    "2. Which file would you send to someone when the alignment didn't go as expected and thye asked for the parameters you used?\n",
    "\n",
    "To view the SAM file, you'll want to use `samtools`. Viewing directly with `head` gives you the \"header\" of the SAM file which has a bunch of parameters about the genome and the program that was used to align:\n",
    "\n",
    "```\n",
    "[ucsd-train01@tscc-login2 processed_data]$ head S10.Aligned.out.sam\n",
    "@HD     VN:1.4\n",
    "@SQ     SN:chr1 LN:195471971\n",
    "@SQ     SN:chr2 LN:182113224\n",
    "@SQ     SN:chr3 LN:160039680\n",
    "@SQ     SN:chr4 LN:156508116\n",
    "@SQ     SN:chr5 LN:151834684\n",
    "@SQ     SN:chr6 LN:149736546\n",
    "@SQ     SN:chr7 LN:145441459\n",
    "@SQ     SN:chr8 LN:129401213\n",
    "@SQ     SN:chr9 LN:124595110\n",
    "```\n",
    "\n",
    "Instead, use `samtools view` and pipe that output to `head`:\n",
    "\n",
    "```\n",
    "[ucsd-train01@tscc-login2 processed_data]$ samtools view S10.Aligned.out.sam | head\n",
    "SRR578577.310219        163     chr1    24613435        3       101M    =       24613625        291     TGAAGCTTGGAGGATGGTGAAGTAAAGTCCTAGTATAATGGTAATTAGTAGGGCTTGATTTATGTGGTTTCGTTTACCTTCTATAAGGCTATGATGAGCTC     @@@DFFFFHHDHHGGHI:FHGIGI<HHIHIIIJHGIGGIIJ?DEHHGIGABDGHIIHDHHIGJJHIICFH@DGIHCHHHFDFFFFFEEDEEEDDEDEDDDD   NH:i:2  HI:i:1  AS:i:200        nM:i:0\n",
    "SRR578577.310219        83      chr1    24613625        3       101M    =       24613435        -291    CAGCAGCCTCCTAGATCATGTGTTGGTACGAGGCTAGAATGATAGAACGCTCAGAAGAATCCTGCAAAGAAAAATACTTCCGAGACGATGAATAGAATTAT     DDDDBDDDCCDDEDDDCEDDDFFCB?;HFGIIHIHGCIGHFJIIGGFGHHFBIGJJIIGDIIHFFIJIGJJIIHFBIIFJJJJJJJIJHHFHHFFFFF@C@   NH:i:2  HI:i:1  AS:i:200        nM:i:0\n",
    "SRR578577.310219        355     chrM    8853    3       101M    =       9043    291     ATAATTCTATTCATCGTCTCGGAAGTATTTTTCTTTGCAGGATTCTTCTGAGCGTTCTATCATTCTAGCCTCGTACCAACACATGATCTAGGAGGCTGCTG     @C@FFFFFHHFHHJIJJJJJJJFIIBFHIIJJGIJIFFHIIDGIIJJGIBFHHGFGGIIJFHGICGHIHIIGFH;?BCFFDDDECDDDEDDCCDDDBDDDD   NH:i:2  HI:i:2  AS:i:200        nM:i:0\n",
    "SRR578577.310219        403     chrM    9043    3       101M    =       8853    -291    GAGCTCATCATAGCCTTATAGAAGGTAAACGAAACCACATAAATCAAGCCCTACTAATTACCATTATACTAGGACTTTACTTCACCATCCTCCAAGCTTCA     DDDDEDEDDEEEDEEFFFFFDFHHHCHIGD@HFCIIHJJGIHHDHIIHGDBAGIGHHED?JIIGGIGHJIIIHIHH<IGIGHF:IHGGHHDHHFFFFD@@@   NH:i:2  HI:i:2  AS:i:200        nM:i:0\n",
    "SRR578577.310220        99      chr1    24613513        3       101M    =       24613625        213     TTCTATAAGGCTATGATGAGCTCATGTAATTGAAACACCTGATGCTAGAAGTACTGAAGTATTAAGTAGTGGGACTTCTAGAGGGTTAAGTGGTGAAATTC     CCCFFFFFHHHHHJJJJJJJJIJJIIJIIJJJJJJJIJJJJJJJJJJJJJJGHIJJJGHGGHIJJJGIIIIJJIJEHIJIIHHHHDDFFFDEECCEDDCDD   NH:i:2  HI:i:1  AS:i:198        nM:i:1\n",
    "SRR578577.310220        147     chr1    24613625        3       101M    =       24613513        -213    CAGCAGCCTCCTAGATCATGTGTTGGTACGAGGCTAGAATGATAGAACGTTCAGAAGAATCCTGCAAAGAAAAATACTTCCGAGACGATGAATAGAATTAT     DCDDDDDCDDDDEEEECEDFFFFHHHFGJJIHGGIIIIJJJJJJIHHIIHJIJJJIJJIIJIJIJJIIIJJIIEC<IHBJJJIGHJJJHHHHHFFFFFCCC   NH:i:2  HI:i:1  AS:i:198        nM:i:1\n",
    "SRR578577.310220        419     chrM    8853    3       101M    =       8965    213     ATAATTCTATTCATCGTCTCGGAAGTATTTTTCTTTGCAGGATTCTTCTGAACGTTCTATCATTCTAGCCTCGTACCAACACATGATCTAGGAGGCTGCTG     CCCFFFFFHHHHHJJJHGIJJJBHI<CEIIJJIIIJJIJIJIIJJIJJJIJHIIHHIJJJJJJIIIIGGHIJJGFHHHFFFFDECEEEEDDDDCDDDDDCD   NH:i:2  HI:i:2  AS:i:198        nM:i:1\n",
    "SRR578577.310220        339     chrM    8965    3       101M    =       8853    -213    GAATTTCACCACTTAACCCTCTAGAAGTCCCACTACTTAATACTTCAGTACTTCTAGCATCAGGTGTTTCAATTACATGAGCTCATCATAGCCTTATAGAA     DDCDDECCEEDFFFDDHHHHIIJIHEJIJJIIIIGJJJIHGGHGJJJIHGJJJJJJJJJJJJJJIJJJJJJJIIJIIJJIJJJJJJJJHHHHHFFFFFCCC   NH:i:2  HI:i:2  AS:i:198        nM:i:1\n",
    "SRR578577.310221        99      chr1    24613349        3       101M    =       24613625        377     ACATGGAGTCCATGGAATCCAGTATCCATGAAGAATGTAGAACCATAGATACCATCTGAAATGGAGAATGACGTTTCAAAGTATTCTGAAGCTTGGAGGAT     @@@D7DDDHHADHB9?FBF<C?C:FHAHEEHGGGGIGEHFEHFGGBFGGFHIHIIEGIAH:B==DGIGAD=@D@;==A=AE7?B>A;@@BACCCCB3;55;   NH:i:2  HI:i:1  AS:i:194        nM:i:3\n",
    "SRR578577.310221        147     chr1    24613625        3       101M    =       24613349        -377    CAGCAGCCGCCTAGATCATGTGTTGGTACGAGGCTAGAATGATAGAACGCTCAGAAGAATCCTGCAAAGAAAAATACTTCCGAGACGATGAATAGAATTAT     ##########CA@55;;@9A=;73;.(E6GGHEDG@@F:FAHCIGB@@<?9*?0?>DDDDAC9B9IGG@IGCA+2<@F:GBC;A23F@?DFD?BABB17?@   NH:i:2  HI:i:1  AS:i:194        nM:i:3\n",
    "```"
   ]
  },
  {
   "cell_type": "markdown",
   "metadata": {
    "deletable": false,
    "nbgrader": {
     "checksum": "565a19436096fffbaca99cc836dacf4e",
     "grade": true,
     "grade_id": "12_star_output_answer",
     "locked": false,
     "points": 4,
     "solution": true
    }
   },
   "source": [
    "1. S10.Log.final.out\n",
    "2. S10.Log.out"
   ]
  },
  {
   "cell_type": "markdown",
   "metadata": {
    "deletable": false,
    "nbgrader": {
     "checksum": "ba5d34952879190f8e8e63a2f2197792",
     "grade": false,
     "grade_id": "13_samtools",
     "locked": true,
     "solution": false
    }
   },
   "source": [
    "## 13. Read help for sort, index, make BAM using `samtools`\n",
    "\n",
    "For most programs downstream of alignment, they prefer to use the input format of `bam` over `sam` because it's more compressed, and because a `bam` file can be indexed so you can quickly jump a particular region instead of having to read the entire file to get to the few lines that you need.\n",
    "\n",
    "To  do this, we'll use `samtools` that we installed (Note that we also could have used `module load biotools` but the goal of this was to show you how these tools could be installed as well as used).\n",
    "\n",
    "### Exercise 9: Read help functions of `samtools view` and `sort`\n",
    "\n",
    "Read through the documentation of `samtools view` and `samtools sort`. Despite the name, most `samtools` functions operate with BAM files - the name is a historical artefact of the fact that SAM was invented virst\n",
    "\n",
    "1. Which flags do you use with `samtools view` that the input is SAM, not BAM?\n",
    "2. Which flags do you use with `samtools view` to output BAM, not SAM?\n",
    "3. Which flags do you use with `samtools sort` to indicate how many threads/processors to use?"
   ]
  },
  {
   "cell_type": "markdown",
   "metadata": {
    "deletable": false,
    "nbgrader": {
     "checksum": "85b06e93e8dc2f66ecadffdebf37c9df",
     "grade": true,
     "grade_id": "13_samtools_flags_answer",
     "locked": false,
     "points": 2,
     "solution": true
    }
   },
   "source": [
    "1. -S\n",
    "2. -b\n",
    "3. -@ 4"
   ]
  },
  {
   "cell_type": "markdown",
   "metadata": {
    "deletable": false,
    "nbgrader": {
     "checksum": "56fa227d244e1ae27b0f0f3f57e460e9",
     "grade": false,
     "grade_id": "14_sort_index",
     "locked": true,
     "solution": false
    }
   },
   "source": [
    "### Exercise 10:  Write a script to sort and index bam file\n",
    "\n",
    "Write a TSCC submitter script that views, sorts, and indexes the SAM file so that at the end you have a sorted, indexed bam file. **Request 1 hour of time.**\n",
    "\n",
    "The backslash \"`\\`\" indicates that the command will continue on the next line. It doesn't matter to the computer, but it's for human readability.\n",
    "\n",
    "**Use at most 8 threads/processors for `samtools sort`** so your job gets scheduled quickly.\n",
    "\n",
    "#### Note: `samtools sort` must output to a file otherwise your `.out` file will have the bam in it\n",
    "\n",
    "```\n",
    "samtools view [flags from exercise 9.1, 9.2] $HOME/projects/shalek2013/processed_data/S10.Aligned.out.sam \\\n",
    "    > $HOME/projects/shalek2013/processed_data/S10.Aligned.out.bam\n",
    "samtools sort [flags from exercise 9.3] $HOME/projects/shalek2013/processed_data/S10.Aligned.out.bam \\\n",
    "    > $HOME/projects/shalek2013/processed_data/S10.Aligned.out.sorted.bam\n",
    "samtools index $HOME/projects/shalek2013/processed_data/S10.Aligned.out.sorted.bam\n",
    "```"
   ]
  },
  {
   "cell_type": "markdown",
   "metadata": {
    "deletable": false,
    "nbgrader": {
     "checksum": "82ebf29998f484188d6915225cfa6ef9",
     "grade": false,
     "grade_id": "13_kallisto_output",
     "locked": true,
     "solution": false
    }
   },
   "source": [
    "## 14. Look at the output of `kallisto`\n",
    "The `kallisto` quantification should be done now.\n",
    "\n",
    "Your script created a stderr file and a stdout file, which should look like this:\n",
    "\n",
    "```\n",
    "[ucsd-train01@tscc-login2 ~]$ cd ~/projects/shalek2013/processing_scripts\n",
    "[ucsd-train01@tscc-login2 processing_scripts]$ cat S10_kallisto.sh.out \n",
    "Nodes:        tscc-0-25\n",
    "[ucsd-train01@tscc-login2 processing_scripts]$ cat S10_kallisto.sh.err \n",
    "\n",
    "[quant] fragment length distribution will be estimated from the data\n",
    "[index] k-mer length: 31\n",
    "[index] number of targets: 56,504\n",
    "[index] number of k-mers: 67,545,152\n",
    "[index] number of equivalence classes: 163,664\n",
    "[quant] running in paired-end mode\n",
    "[quant] will process pair 1: /home/ucsd-train01/scratch/shalek2013/raw_data/S10_R1.fastq.gz\n",
    "                             /home/ucsd-train01/scratch/shalek2013/raw_data/S10_R2.fastq.gz\n",
    "[quant] finding pseudoalignments for the reads ... done\n",
    "[quant] processed 58,872,578 reads, 33,014,674 reads pseudoaligned\n",
    "[quant] estimated average fragment length: 242.629\n",
    "[   em] quantifying the abundances ... done\n",
    "[   em] the Expectation-Maximization algorithm ran for 1,136 rounds\n",
    "```\n",
    "\n",
    "Now let's look at the actual output folder. There's three files here.\n",
    "\n",
    "```\n",
    "[ucsd-train01@tscc-login2 ~]$ cd ~/projects/shalek2013/processed_data\n",
    "[ucsd-train01@tscc-login2 processed_data]$ ll S10_kallisto/\n",
    "total 10792\n",
    "-rw-r--r-- 1 ucsd-train01 biom262-group 2331756 Jan 26 03:16 abundance.h5\n",
    "-rw-r--r-- 1 ucsd-train01 biom262-group 8710545 Jan 26 03:16 abundance.tsv\n",
    "-rw-r--r-- 1 ucsd-train01 biom262-group     500 Jan 26 03:16 run_info.json\n",
    "```\n",
    "\n",
    "* `abundance.h5` - binary file stored in [hdf5](https://en.wikipedia.org/wiki/Hierarchical_Data_Format) format which is a compressed way to store data (notice it's 1/4 the size of `abundance.tsv`)\n",
    "* `abundance.txt` - basic text file of the quantifications\n",
    "* `run_info.json` - [javascript object notation](https://en.wikipedia.org/wiki/JSON) (JSON) format file describing the parameters of the `kallisto` run\n",
    "\n",
    "\n",
    "### Exercise 11: Reading `kallisto` output\n",
    "\n",
    "Use `head` and `tail` to look at the tops and bottoms of each of the output files. Which files would you use for reading the quantification in to R or other programs? What would you use the `json` file vs the `tsv` vs the `h5` file? (Hint: The `h5` file is for use with their own analysis software, [`sleuth`](http://pachterlab.github.io/sleuth/))"
   ]
  },
  {
   "cell_type": "markdown",
   "metadata": {
    "deletable": false,
    "nbgrader": {
     "checksum": "98ed2c7cf724f03cbf63a10b221f7222",
     "grade": true,
     "grade_id": "13_read_kallisto_output",
     "locked": false,
     "points": 3,
     "solution": true
    }
   },
   "source": [
    "YOUR ANSWER HERE"
   ]
  },
  {
   "cell_type": "markdown",
   "metadata": {
    "collapsed": true,
    "deletable": false,
    "nbgrader": {
     "checksum": "385161b56484229658969e068bb22cf9",
     "grade": false,
     "grade_id": "12_quantify_featurecounts",
     "locked": true,
     "solution": false
    }
   },
   "source": [
    "\n",
    "## 15. Quantify gene expression with `featureCounts`\n",
    "\n",
    "### Exercise 12: Read `featureCounts` help\n",
    "\n",
    "Read the output of `featureCounts -h`. **Q: Which flags do you need to use to do (1) strand-specific counting, (2) only when both read pairs were successfully mapped, and (3) using only the primary alignment of a multi-mapped read?**"
   ]
  },
  {
   "cell_type": "markdown",
   "metadata": {
    "deletable": false,
    "nbgrader": {
     "checksum": "09d31c33cdd8d61f34f619dd80c84db6",
     "grade": true,
     "grade_id": "12_featurecounts_answer",
     "locked": false,
     "points": 3,
     "solution": true
    }
   },
   "source": [
    "1. -s\n",
    "2. -B\n",
    "3. --primary"
   ]
  },
  {
   "cell_type": "markdown",
   "metadata": {
    "deletable": false,
    "nbgrader": {
     "checksum": "1e44f8823f60a6f48f838d82b303f0e2",
     "grade": false,
     "grade_id": "12_run_featurecounts",
     "locked": true,
     "solution": false
    }
   },
   "source": [
    "### Exercise 13: Run `featureCounts`\n",
    "\n",
    "To speed things up, we've created a subset of the Gencode annotation that's only chr11. Make sure to use that one. Now run the following command, replacing the flags and filename from the exercises as indicated. We'll use the annotation stored in `/projects/ps-yeolab/biom262-2016/genomes/mm10/gencode/m8/gencode.vM8.basic.annotation.gtf`.\n",
    "\n",
    "Write a submitter script called `s10_featurecounts.sh` and put it in `~/projects/shalek2013/processing_scripts`. Besides the flags you found, we'll also use:\n",
    "\n",
    "* `-T 8` - specifies to use 8 threads. (in the [Subread](http://bioinf.wehi.edu.au/subread-package/SubreadUsersGuide.pdf) documentation)\n",
    "* `-a /projects/ps-yeolab/biom262-2016/genomes/mm10/gencode/m8/gencode.vM8.basic.annotation.gtf`-  Genome annotation from GENCODE.\n",
    "* `-o ~/projects/shalek2013/processed_data/s10_featureCounts.txt` - Output file\n",
    "\n",
    "Here's the actual running code below. Specify to ask for 10 minutes and 8 processors.\n",
    "\n",
    "```\n",
    "featureCounts -T 8 \\\n",
    "    -s -B --primary \\\n",
    "    -a /projects/ps-yeolab/biom262-2016/genomes/mm10/gencode/m8/gencode.vM8.basic.annotation.gtf \\\n",
    "    -o ~/projects/shalek2013/processed_data/s10_featureCounts.txt \\\n",
    "    [sorted, indexed bam file from exercise 10]\n",
    "```\n",
    "\n",
    "#### Psssst... compare your `bam` and `sam` file sizes:\n",
    "\n",
    "```\n",
    "[ucsd-train01@tscc-login2 processing_scripts]$ cd ~/projects/shalek2013/processed_data\n",
    "[ucsd-train01@tscc-login2 processed_data]$ ls -lha S10*\n",
    "-rw-r--r-- 1 ucsd-train01 biom262-group 6.9G Feb  2 11:37 S10.Aligned.out.bam\n",
    "-rw-r--r-- 1 ucsd-train01 biom262-group  30G Jan 28 10:20 S10.Aligned.out.sam\n",
    "-rw-r--r-- 1 ucsd-train01 biom262-group 4.0G Feb  2 12:02 S10.Aligned.out.sorted.bam\n",
    "-rw-r--r-- 1 ucsd-train01 biom262-group 2.6M Feb  2 12:04 S10.Aligned.out.sorted.bam.bai\n",
    "-rw-r--r-- 1 ucsd-train01 biom262-group 1.9K Jan 28 10:20 S10.Log.final.out\n",
    "-rw-r--r-- 1 ucsd-train01 biom262-group  20K Jan 28 10:20 S10.Log.out\n",
    "-rw-r--r-- 1 ucsd-train01 biom262-group 1.3K Jan 28 10:20 S10.Log.progress.out\n",
    "-rw-r--r-- 1 ucsd-train01 biom262-group 986K Jan 28 10:20 S10.SJ.out.tab\n",
    "\n",
    "S10_kallisto:\n",
    "total 11M\n",
    "drwxr-xr-x 2 ucsd-train01 biom262-group 4.0K Jan 28 10:43 .\n",
    "drwxr-xr-x 4 ucsd-train01 biom262-group 4.0K Feb  2 12:07 ..\n",
    "-rw-r--r-- 1 ucsd-train01 biom262-group 2.3M Jan 28 10:43 abundance.h5\n",
    "-rw-r--r-- 1 ucsd-train01 biom262-group 8.4M Jan 28 10:43 abundance.tsv\n",
    "-rw-r--r-- 1 ucsd-train01 biom262-group  514 Jan 28 10:43 run_info.json\n",
    "```\n",
    "\n",
    "30G (sam) vs 6.9G (bam) vs 4.0G (sorted.bam) is a huge space savings!! The sorted one is even smaller because there's similar sequences next to each other and it compresses better."
   ]
  },
  {
   "cell_type": "markdown",
   "metadata": {
    "collapsed": true,
    "deletable": false,
    "nbgrader": {
     "checksum": "5959d6572d438dd2510c74e9ac5d1bec",
     "grade": false,
     "grade_id": "15_read_featurecounts_output",
     "locked": true,
     "solution": false
    }
   },
   "source": [
    "## 16. Read `featureCounts` output\n",
    "\n",
    "There should be two files created from the run of `featureCounts`:\n",
    "\n",
    "```\n",
    "[ucsd-train01@tscc-login2 ~]$ ls -lha ~/projects/shalek2013/processed_data/s10_featureCounts.txt*\n",
    "-rw-r--r-- 1 ucsd-train01 biom262-group 7.7M Feb  2 12:07 /home/ucsd-train01/projects/shalek2013/processed_data/s10_featureCounts.txt\n",
    "-rw-r--r-- 1 ucsd-train01 biom262-group  369 Feb  2 12:07 /home/ucsd-train01/projects/shalek2013/processed_data/s10_featureCounts.txt.summary\n",
    "```\n",
    "\n",
    "### Exercise 14: Compare `featureCounts` and `kallisto` output\n",
    "\n",
    "**Q: How does `s10_featureCounts.txt` differ from `s10_kallisto/abundance.tsv` in the information it shows?**"
   ]
  },
  {
   "cell_type": "markdown",
   "metadata": {
    "deletable": false,
    "nbgrader": {
     "checksum": "9b30a1ea9c6463b1b702e7280606deb6",
     "grade": true,
     "grade_id": "15_compare_featurecounts_kallisto",
     "locked": false,
     "points": 5,
     "solution": true
    }
   },
   "source": [
    "YOUR ANSWER HERE"
   ]
  },
  {
   "cell_type": "markdown",
   "metadata": {
    "deletable": false,
    "nbgrader": {
     "checksum": "acae01f762cf451226a9c174471bfe3d",
     "grade": false,
     "grade_id": "17_additioanl_reading",
     "locked": true,
     "solution": false
    }
   },
   "source": [
    "## 17. Additional reading\n",
    "\n",
    "* [SAM Format specification](https://samtools.github.io/hts-specs/SAMv1.pdf)"
   ]
  }
 ],
 "metadata": {
  "kernelspec": {
   "display_name": "Python 3",
   "language": "python",
   "name": "python3"
  },
  "language_info": {
   "codemirror_mode": {
    "name": "ipython",
    "version": 3
   },
   "file_extension": ".py",
   "mimetype": "text/x-python",
   "name": "python",
   "nbconvert_exporter": "python",
   "pygments_lexer": "ipython3",
   "version": "3.5.1"
  }
 },
 "nbformat": 4,
 "nbformat_minor": 0
}
