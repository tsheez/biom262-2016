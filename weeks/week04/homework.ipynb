{
 "cells": [
  {
   "cell_type": "markdown",
   "metadata": {},
   "source": [
    "## Homework\n",
    "\n",
    "1. Run (1) Alignment/mapping with STAR (2) Samtools view/sort/index (3) featurecounts (4) kallisto on the S13 sample\n",
    "2. Turn in this notebook: [compare the kallisto and featurecounts algorithms](1_compare_alignment_vs_quasialignment.ipynb#) as a pull request on the biom262-2016 repo for the branch \"week04.\"\n",
    "    1. Note: You don't need S13 until Exercise 11 in the notebook, so you can start doing this analysis while you're waiting for the S13 stuff to finish running.\n",
    "    "
   ]
  }
 ],
 "metadata": {
  "kernelspec": {
   "display_name": "Python 3",
   "language": "python",
   "name": "python3"
  },
  "language_info": {
   "codemirror_mode": {
    "name": "ipython",
    "version": 3
   },
   "file_extension": ".py",
   "mimetype": "text/x-python",
   "name": "python",
   "nbconvert_exporter": "python",
   "pygments_lexer": "ipython3",
   "version": "3.5.1"
  }
 },
 "nbformat": 4,
 "nbformat_minor": 0
}
