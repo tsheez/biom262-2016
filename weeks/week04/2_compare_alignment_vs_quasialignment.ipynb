{
 "cells": [
  {
   "cell_type": "markdown",
   "metadata": {
    "deletable": false,
    "nbgrader": {
     "checksum": "6e55efa018f50c660ca6e71069a9cf8f",
     "grade": false,
     "grade_id": "intro",
     "locked": true,
     "solution": false
    }
   },
   "source": [
    "# Comparing gene expression quantification strategies\n",
    "\n",
    "## Introduction\n",
    "\n",
    "You've run STAR to align and create a Sequence Alignment Map (SAM) file, `samtools` to sort and index the SAM file and turn it into a binary SAM file (BAM), `featureCounts` to count the number of reads of features, and `kallisto` to perform all of the above using quasi-alignment and quantification.\n",
    "\n",
    "The purpose of this homework is to compare the gene expression quantification strategies (we'll call them *\"Align-Count\"* and *\"Quasialign-Count\"*)\n",
    "\n",
    "## Reading list\n",
    "\n",
    "- [What the FPKM](https://haroldpimentel.wordpress.com/2014/05/08/what-the-fpkm-a-review-rna-seq-expression-units/) - Explain difference between TPM/FPKM/FPKM units\n",
    "- [Pearson correlation](https://en.wikipedia.org/wiki/Pearson_product-moment_correlation_coefficient) - linear correlation unit\n",
    "- [Spearman correlation](https://en.wikipedia.org/wiki/Spearman%27s_rank_correlation_coefficient) - rank-based non-linear correlation unit\n",
    "\n",
    "\n",
    "### Description of libraries in Python\n",
    "\n",
    "We'll be using five additional libraries in Python:\n",
    "\n",
    "1. [`numpy`](http://www.numpy.org/) - (pronounced \"num-pie\") which is basis for most scientific packages. It's basically a nice-looking Python interface to C code. It's very fast.\n",
    "2. [`pandas`](http://pandas.pydata.org) - This is the \"DataFrames in Python.\" (like R's nice dataframes) They're a super convenient form that's based on `numpy` so they're fast. And you can do convenient things like calculate mea n and variance very easily.\n",
    "3. [`matplotlib`](http://matplotlib.org/) - This is the base plotting library in Python.\n",
    "4. [`scipy`](http://www.scipy.org/) - (pronounced \"sigh-pie\") Contains \n",
    "5. [`seaborn`](http://web.stanford.edu/~mwaskom/software/seaborn/index.html) - Statistical plotting library. To be completely honest, R's plotting and graphics capabilities are much better than Python's. However, Python is a really nice langauge to learn and use, it's very memory efficient, can be parallized well, and has a very robust machine learning library, `scikit-learn`, which has a very nice and consistent interface. So this is Python's answer to `ggplot2` (very popular R library for plotting) to try and make plotting in Python nicer looking and to make statistical plots easier to do."
   ]
  },
  {
   "cell_type": "code",
   "execution_count": null,
   "metadata": {
    "collapsed": false,
    "deletable": false,
    "nbgrader": {
     "checksum": "252efae14572343e7dc3a72abb9ed5ae",
     "grade": false,
     "grade_id": "imports",
     "locked": true,
     "solution": false
    }
   },
   "outputs": [],
   "source": [
    "# We're doing \"import superlongname as abbrev\" for our laziness - this way we don't have to type out the whole thing each time.\n",
    "\n",
    "# Numerical python library (pronounced \"num-pie\")\n",
    "import numpy as np\n",
    "\n",
    "# Dataframes in Python\n",
    "import pandas as pd\n",
    "\n",
    "# Python plotting library\n",
    "import matplotlib.pyplot as plt\n",
    "\n",
    "# Statistical plotting library we'll use\n",
    "import seaborn as sns\n",
    "\n",
    "sns.set(style='ticks', context='notebook')\n",
    "\n",
    "# This is necessary to show the plotted figures inside the notebook -- \"inline\" with the notebook cells\n",
    "%matplotlib inline"
   ]
  },
  {
   "cell_type": "markdown",
   "metadata": {
    "deletable": false,
    "nbgrader": {
     "checksum": "3f376d263d2e510c18c8807a558ac3cd",
     "grade": false,
     "grade_id": "chdir_explain",
     "locked": true,
     "solution": false
    }
   },
   "source": [
    "Change directories to where we have our processed data"
   ]
  },
  {
   "cell_type": "code",
   "execution_count": null,
   "metadata": {
    "collapsed": false,
    "deletable": false,
    "nbgrader": {
     "checksum": "9425e5bb51fc398050624abf1e7cf7da",
     "grade": false,
     "grade_id": "chdir",
     "locked": true,
     "solution": false
    }
   },
   "outputs": [],
   "source": [
    "cd ~/projects/shalek2013/processed_data"
   ]
  },
  {
   "cell_type": "markdown",
   "metadata": {
    "deletable": false,
    "nbgrader": {
     "checksum": "5e8f5cf0d53392e037a468cd99c62176",
     "grade": false,
     "grade_id": "explain_read_kallisto",
     "locked": true,
     "solution": false
    }
   },
   "source": [
    "Read the S10 sample kallisto file. The `index_col=\"target_id\"` tells us that column named \"target_id\" should be used as the \"index\" aka the row names. The `head()` command helps us look at the top of the dataframe and shows the first 5 rows by default."
   ]
  },
  {
   "cell_type": "code",
   "execution_count": null,
   "metadata": {
    "collapsed": false,
    "deletable": false,
    "nbgrader": {
     "checksum": "d13e2e48ffb3bd9f89fbf26ca4e9dff4",
     "grade": false,
     "grade_id": "read_kallisto",
     "locked": true,
     "solution": false
    }
   },
   "outputs": [],
   "source": [
    "s10_kallisto = pd.read_table('S10_kallisto/abundance.tsv', index_col='target_id')\n",
    "s10_kallisto.head()"
   ]
  },
  {
   "cell_type": "markdown",
   "metadata": {
    "deletable": false,
    "nbgrader": {
     "checksum": "8189f6a545a6c7db99a84f28153fcf8f",
     "grade": false,
     "grade_id": "explain_tail",
     "locked": true,
     "solution": false
    }
   },
   "source": [
    "You can also use \"`tail`\" to show the last few rows: (also 5 by default)"
   ]
  },
  {
   "cell_type": "code",
   "execution_count": null,
   "metadata": {
    "collapsed": false,
    "deletable": false,
    "nbgrader": {
     "checksum": "3b7b83660af1934ba8171b893bc78b03",
     "grade": false,
     "grade_id": "show_tail",
     "locked": true,
     "solution": false
    }
   },
   "outputs": [],
   "source": [
    "s10_kallisto.tail()"
   ]
  },
  {
   "cell_type": "markdown",
   "metadata": {
    "deletable": false,
    "nbgrader": {
     "checksum": "a41bf1d89eca1d568cb2dba8856761c9",
     "grade": false,
     "grade_id": "ex1_question",
     "locked": true,
     "solution": false
    }
   },
   "source": [
    "### Exercise 1: using `.head()`\n",
    "\n",
    "Show the first 17 rows of `s10_kallisto`."
   ]
  },
  {
   "cell_type": "code",
   "execution_count": null,
   "metadata": {
    "collapsed": false,
    "deletable": false,
    "nbgrader": {
     "checksum": "3179664bec5d488ad1ff367f73c8abe7",
     "grade": false,
     "grade_id": "ex1_answer",
     "locked": false,
     "solution": true
    }
   },
   "outputs": [],
   "source": [
    "# YOUR CODE HERE"
   ]
  },
  {
   "cell_type": "code",
   "execution_count": null,
   "metadata": {
    "collapsed": false,
    "deletable": false,
    "nbgrader": {
     "checksum": "f70985f8faba7e9ad75806db37552983",
     "grade": true,
     "grade_id": "ex1_test",
     "locked": true,
     "points": 2,
     "solution": false
    }
   },
   "outputs": [],
   "source": [
    "# \"_\" is the previous output\n",
    "\n",
    "assert _.index.shape == (17,)"
   ]
  },
  {
   "cell_type": "markdown",
   "metadata": {
    "deletable": false,
    "nbgrader": {
     "checksum": "3317fe8293c6a4d89b7f875621fc66a2",
     "grade": false,
     "grade_id": "explain_shape",
     "locked": true,
     "solution": false
    }
   },
   "source": [
    "We can see the number of rows and columns using `.shape`, which shows (nrows, ncols):"
   ]
  },
  {
   "cell_type": "code",
   "execution_count": null,
   "metadata": {
    "collapsed": false,
    "deletable": false,
    "nbgrader": {
     "checksum": "cab80f1fdbfb8698cd4cbb983c0c969f",
     "grade": false,
     "grade_id": "show_shape",
     "locked": true,
     "solution": false
    }
   },
   "outputs": [],
   "source": [
    "s13_kallisto.shape"
   ]
  },
  {
   "cell_type": "markdown",
   "metadata": {
    "deletable": false,
    "nbgrader": {
     "checksum": "a7b4e78a60c4da08b752fe374dc3afb0",
     "grade": false,
     "grade_id": "read_s13_explain",
     "locked": true,
     "solution": false
    }
   },
   "source": [
    "This seems like a ton of genes, but don't worry, we'll filter on this.\n",
    "\n",
    "Read the S13 sample kallisto file."
   ]
  },
  {
   "cell_type": "code",
   "execution_count": null,
   "metadata": {
    "collapsed": false,
    "deletable": false,
    "nbgrader": {
     "checksum": "1ef78b0e5646381607ef04b8821369eb",
     "grade": false,
     "grade_id": "read_s13",
     "locked": true,
     "solution": false
    }
   },
   "outputs": [],
   "source": [
    "s13_kallisto = pd.read_table('S13_kallisto/abundance.tsv', index_col='target_id')\n",
    "s13_kallisto.head()"
   ]
  },
  {
   "cell_type": "markdown",
   "metadata": {
    "deletable": false,
    "nbgrader": {
     "checksum": "7f1907eda8f51b4324d283c3c424729c",
     "grade": false,
     "grade_id": "ex2_question",
     "locked": true,
     "solution": false
    }
   },
   "source": [
    "### Exercise 2: How many rows and columns are in s13_kallisto?\n",
    "\n",
    "Use `shape` to show how many rows and columns are in `s13_kallisto`"
   ]
  },
  {
   "cell_type": "code",
   "execution_count": null,
   "metadata": {
    "collapsed": false,
    "deletable": false,
    "nbgrader": {
     "checksum": "fb84f1b6a670dd3fac5438d804f299b1",
     "grade": false,
     "grade_id": "ex2_answer",
     "locked": false,
     "solution": true
    }
   },
   "outputs": [],
   "source": [
    "# YOUR CODE HERE"
   ]
  },
  {
   "cell_type": "code",
   "execution_count": null,
   "metadata": {
    "collapsed": false,
    "deletable": false,
    "nbgrader": {
     "checksum": "4aeca8165db8658cc43b4065551c5df4",
     "grade": true,
     "grade_id": "ex2_tests",
     "locked": true,
     "points": 2,
     "solution": false
    }
   },
   "outputs": [],
   "source": [
    "# \"_\" is the previous output\n",
    "\n",
    "assert _ == (56504, 4)"
   ]
  },
  {
   "cell_type": "markdown",
   "metadata": {
    "deletable": false,
    "nbgrader": {
     "checksum": "febfb77df3964ec00db1aa7c7a451b27",
     "grade": false,
     "grade_id": "explain_jointplot",
     "locked": true,
     "solution": false
    }
   },
   "source": [
    "Let's plot their correlation to each other using `jointplot` in seaborn:"
   ]
  },
  {
   "cell_type": "code",
   "execution_count": null,
   "metadata": {
    "collapsed": false,
    "deletable": false,
    "nbgrader": {
     "checksum": "56b7228dd541a72bdcfb87df2f65aa8f",
     "grade": false,
     "grade_id": "show_jointplot_s10_s13_kallisto",
     "locked": true,
     "solution": false
    },
    "scrolled": false
   },
   "outputs": [],
   "source": [
    "sns.jointplot(s10_kallisto['tpm'], s13_kallisto['tpm'])"
   ]
  },
  {
   "cell_type": "markdown",
   "metadata": {
    "deletable": false,
    "nbgrader": {
     "checksum": "168f9cdd3fbf039073ff4a1126047b04",
     "grade": false,
     "grade_id": "whoa_huge_scale",
     "locked": true,
     "solution": false
    }
   },
   "source": [
    "Oh right -- we have expression data and the scales are enormous... Notice the 200,000 maximum on the y-scale.  \n",
    "  \n",
    "Let's add 1 to all values and take the log2 of the data. We add one because log(0) is undefined and then all our logged values start from zero too. This  \n",
    "\"$\\log_2(TPM + 1)$\"  \n",
    "is a very common transformation of expression data so it's easier to analyze.  \n",
    "  \n",
    "To do that, we'll create a new column in each of the `s10_kallisto` and `s13_kallisto` dataframes using the existing data. Here's an example of doing something similar but adding 1000."
   ]
  },
  {
   "cell_type": "code",
   "execution_count": null,
   "metadata": {
    "collapsed": false,
    "deletable": false,
    "nbgrader": {
     "checksum": "a4d27bb674ec2702f71b6e661d6d0faa",
     "grade": false,
     "grade_id": "show_make_log2tpm",
     "locked": true,
     "solution": false
    }
   },
   "outputs": [],
   "source": [
    "s10_kallisto['log2_tpm1000'] = np.log2(s10_kallisto['tpm']+10000)\n",
    "s10_kallisto.head()"
   ]
  },
  {
   "cell_type": "markdown",
   "metadata": {
    "deletable": false,
    "nbgrader": {
     "checksum": "8e4eefc9635d820e63f551a222775e3a",
     "grade": false,
     "grade_id": "ex3_question",
     "locked": true,
     "solution": false
    }
   },
   "source": [
    "### Exercise 3: Add a log2_tpm column to `s13_kallisto`"
   ]
  },
  {
   "cell_type": "code",
   "execution_count": null,
   "metadata": {
    "collapsed": false,
    "deletable": false,
    "nbgrader": {
     "checksum": "2ba878a03dfca9ee9ae4c2c6e419bfc6",
     "grade": false,
     "grade_id": "ex3_answer",
     "locked": false,
     "solution": true
    },
    "scrolled": true
   },
   "outputs": [],
   "source": [
    "# YOUR CODE HERE\n",
    "\n",
    "s13_kallisto.head()"
   ]
  },
  {
   "cell_type": "code",
   "execution_count": null,
   "metadata": {
    "collapsed": false,
    "deletable": false,
    "nbgrader": {
     "checksum": "3b205978782f5784b083174daeade045",
     "grade": false,
     "grade_id": "ex3_test",
     "locked": true,
     "solution": false
    }
   },
   "outputs": [],
   "source": [
    "gene_id = 'ENSMUST00000070533.4|ENSMUSG00000051951.5|OTTMUSG00000026353.2|OTTMUST00000065166.1|Xkr4-001|Xkr4|3634|UTR5:1-150|CDS:151-2094|UTR3:2095-3634|'\n",
    "\n",
    "assert s13_kallisto.loc[gene_id, 'log2_tpm'] == 0.056126371311968043"
   ]
  },
  {
   "cell_type": "markdown",
   "metadata": {
    "deletable": false,
    "nbgrader": {
     "checksum": "4b390a1ceb9dd4ee08d198d2bd64d627",
     "grade": false,
     "grade_id": "ex4_question",
     "locked": true,
     "solution": false
    }
   },
   "source": [
    "### Exercise 4: Plot the logged TPM correlation\n",
    "\n",
    "Use `sns.jointplot` to plot the correlation between the logged TPMs we just made."
   ]
  },
  {
   "cell_type": "code",
   "execution_count": null,
   "metadata": {
    "collapsed": false,
    "deletable": false,
    "nbgrader": {
     "checksum": "e1173a45b86219e3b87e782537fbe0ef",
     "grade": false,
     "grade_id": "ex4_answer",
     "locked": false,
     "solution": true
    }
   },
   "outputs": [],
   "source": [
    "# YOUR CODE HERE"
   ]
  },
  {
   "cell_type": "code",
   "execution_count": null,
   "metadata": {
    "collapsed": true,
    "deletable": false,
    "nbgrader": {
     "checksum": "5e96f2e5cb4899f7fef9d47e5b1b0e27",
     "grade": true,
     "grade_id": "ex4_test",
     "locked": true,
     "points": 2,
     "solution": false
    }
   },
   "outputs": [],
   "source": [
    "assert isinstance(_, sns.axisgrid.JointGrid)"
   ]
  },
  {
   "cell_type": "markdown",
   "metadata": {
    "deletable": false,
    "nbgrader": {
     "checksum": "8f5fd911dc63c795d038eb937a80a6cf",
     "grade": false,
     "grade_id": "what_if_spearman",
     "locked": true,
     "solution": false
    }
   },
   "source": [
    "Interesting, we have quite a bit of correlation! What if we used rank-based, non-linear correlation such as spearman? We can specify a different statistical function with `stat_func=` and specifying `spearmanr` from `scipy.stats`."
   ]
  },
  {
   "cell_type": "code",
   "execution_count": null,
   "metadata": {
    "collapsed": false,
    "deletable": false,
    "nbgrader": {
     "checksum": "05a73e4e148e00efb9f2bec36a058d68",
     "grade": false,
     "grade_id": "plot_spearman",
     "locked": true,
     "solution": false
    }
   },
   "outputs": [],
   "source": [
    "from scipy.stats import spearmanr\n",
    "\n",
    "sns.jointplot(s10_kallisto['log2_tpm'], s13_kallisto['log2_tpm'], stat_func=spearmanr)"
   ]
  },
  {
   "cell_type": "markdown",
   "metadata": {
    "deletable": false,
    "nbgrader": {
     "checksum": "c327acfcd89dcfe78200447c0826b028",
     "grade": false,
     "grade_id": "explain_pd_concat",
     "locked": true,
     "solution": false
    }
   },
   "source": [
    "We'll now create a dataframe containing the two columns (\"Series\") of the separate `s10_kallisto` and `s13_kallisto` columns, using `pd.concat` to concatenate the two series, and rename them so the names are `s13` and `s10`, using the `keys=['s10', 's13']`. The `axis=1` means to glue along the columns (axis=0 is rows, axis=1 is columns), so that we stack horizontally, versus vertically. Otherwise we'd get a really tall series that can't tell the difference between s10 and s13."
   ]
  },
  {
   "cell_type": "code",
   "execution_count": null,
   "metadata": {
    "collapsed": false,
    "deletable": false,
    "nbgrader": {
     "checksum": "4f347dccd8272afd9e6b585345551b97",
     "grade": false,
     "grade_id": "show_pd_concat",
     "locked": true,
     "solution": false
    }
   },
   "outputs": [],
   "source": [
    "kallisto_log2_tpm = pd.concat([s10_kallisto['log2_tpm'], s13_kallisto['log2_tpm']], axis=1, keys=['s10', 's13'])\n",
    "kallisto_log2_tpm.head()"
   ]
  },
  {
   "cell_type": "markdown",
   "metadata": {
    "deletable": false,
    "nbgrader": {
     "checksum": "f6378cdda455576d0157655bb28b962e",
     "grade": false,
     "grade_id": "explain_boolean",
     "locked": true,
     "solution": false
    }
   },
   "source": [
    "So we have a ton of genes where the expression is near zero. This is not that helpful so let's only use genes with expression greater than one in at least one sample. We'll do this using the [boolean](https://en.wikipedia.org/wiki/Boolean) (True/False) matrix we get from asking \"`kallisto_log2_tpm > 1`\":"
   ]
  },
  {
   "cell_type": "code",
   "execution_count": null,
   "metadata": {
    "collapsed": false,
    "deletable": false,
    "nbgrader": {
     "checksum": "bd570ae64cd5fe5f67a8efc152837407",
     "grade": false,
     "grade_id": "show_boolean",
     "locked": true,
     "solution": false
    }
   },
   "outputs": [],
   "source": [
    "kallisto_log2_tpm > 1"
   ]
  },
  {
   "cell_type": "markdown",
   "metadata": {
    "deletable": false,
    "nbgrader": {
     "checksum": "f0aad5fe715f27b099ce4af462dab5ad",
     "grade": false,
     "grade_id": "explain_sum",
     "locked": true,
     "solution": false
    }
   },
   "source": [
    "If we use the convenient `.sum()` function on the dataframe, we'll get the number of \"expressed genes\" (defining \"Expressed genes\" as genes with log2(TPM+1) greater than 1) per sample:"
   ]
  },
  {
   "cell_type": "code",
   "execution_count": null,
   "metadata": {
    "collapsed": false,
    "deletable": false,
    "nbgrader": {
     "checksum": "1f7cc9b7617f3834266d00e9315680a2",
     "grade": false,
     "grade_id": "show_sum",
     "locked": true,
     "solution": false
    }
   },
   "outputs": [],
   "source": [
    "(kallisto_log2_tpm > 1).sum()"
   ]
  },
  {
   "cell_type": "markdown",
   "metadata": {
    "deletable": false,
    "nbgrader": {
     "checksum": "518ddd7a46c795a647716d5c771aadaa",
     "grade": false,
     "grade_id": "explain_sum_axis1",
     "locked": true,
     "solution": false
    }
   },
   "source": [
    "If we sum with `axis=1`, then we get the number of samples with expression greater than one for each gene."
   ]
  },
  {
   "cell_type": "code",
   "execution_count": null,
   "metadata": {
    "collapsed": false,
    "deletable": false,
    "nbgrader": {
     "checksum": "f4a413b012c424d162769bbd0c0aa1c4",
     "grade": false,
     "grade_id": "show_sum_axis1",
     "locked": true,
     "solution": false
    }
   },
   "outputs": [],
   "source": [
    "(kallisto_log2_tpm > 1).sum(axis=1)"
   ]
  },
  {
   "cell_type": "markdown",
   "metadata": {
    "deletable": false,
    "nbgrader": {
     "checksum": "9b696673ae5d56fc8637501559389992",
     "grade": false,
     "grade_id": "explain_at_least_one_sample",
     "locked": true,
     "solution": false
    }
   },
   "source": [
    "We can now use this to get all genes expressed in *at least one* sample with \"`>= 1`\""
   ]
  },
  {
   "cell_type": "code",
   "execution_count": null,
   "metadata": {
    "collapsed": false,
    "deletable": false,
    "nbgrader": {
     "checksum": "8cc6115aab6f5fc22a35d4bec7e936e2",
     "grade": false,
     "grade_id": "show_at_least_one_sample",
     "locked": true,
     "solution": false
    }
   },
   "outputs": [],
   "source": [
    "(kallisto_log2_tpm > 1).sum(axis=1) >= 1"
   ]
  },
  {
   "cell_type": "markdown",
   "metadata": {
    "deletable": false,
    "nbgrader": {
     "checksum": "85c9d3372fd35c83ac354fc07d24f83d",
     "grade": false,
     "grade_id": "explain_subset",
     "locked": true,
     "solution": false
    }
   },
   "source": [
    "Now we can use  the `.loc[]` notation to get the rows we want as a subset. Notice that this outputs the dataframe itself - we haven't assigned it to anything. This is equivalent to extracting your RNA and throwing it on the ground. You can look at it but you didn't put it anywhere useful so you can't do anything with it."
   ]
  },
  {
   "cell_type": "code",
   "execution_count": null,
   "metadata": {
    "collapsed": false,
    "deletable": false,
    "nbgrader": {
     "checksum": "5261dbe28025d9a54d73ae5bb21af371",
     "grade": false,
     "grade_id": "show_Subset",
     "locked": true,
     "solution": false
    },
    "scrolled": false
   },
   "outputs": [],
   "source": [
    "expressed_genes = (kallisto_log2_tpm > 1).sum(axis=1) >= 1\n",
    "kallisto_log2_tpm.loc[expressed_genes]"
   ]
  },
  {
   "cell_type": "markdown",
   "metadata": {
    "deletable": false,
    "nbgrader": {
     "checksum": "c44c34346aa33ce0e33946866f605944",
     "grade": false,
     "grade_id": "explain_make_other_df",
     "locked": true,
     "solution": false
    }
   },
   "source": [
    "Now let's actually make another dataframe with only the expressed genes."
   ]
  },
  {
   "cell_type": "code",
   "execution_count": null,
   "metadata": {
    "collapsed": false,
    "deletable": false,
    "nbgrader": {
     "checksum": "e68b4ca12d5c216320e2d9c971b06f27",
     "grade": false,
     "grade_id": "show_make_other_df",
     "locked": true,
     "solution": false
    }
   },
   "outputs": [],
   "source": [
    "kallisto_log2_tpm_expressed = kallisto_log2_tpm.loc[expressed_genes]\n",
    "print(kallisto_log2_tpm_expressed.shape)\n",
    "kallisto_log2_tpm_expressed.head()"
   ]
  },
  {
   "cell_type": "markdown",
   "metadata": {
    "deletable": false,
    "nbgrader": {
     "checksum": "d4ba29b9587fa0055f4b67e498648d14",
     "grade": false,
     "grade_id": "explain_plot_jointplot_different_syntax",
     "locked": true,
     "solution": false
    }
   },
   "source": [
    "We'll plot the `jointplot` again, using a little different syntax. Since the data we want are two columns in the same dataframe, we can specify the names of the columns as \"x\" (first position) and \"y\" (second position) and then the dataframe in the third position."
   ]
  },
  {
   "cell_type": "code",
   "execution_count": null,
   "metadata": {
    "collapsed": false,
    "deletable": false,
    "nbgrader": {
     "checksum": "ba89150f34eac2ea1a2e48d7a82097f1",
     "grade": false,
     "grade_id": "show_plot_jointplot_different_syntax",
     "locked": true,
     "solution": false
    }
   },
   "outputs": [],
   "source": [
    "sns.jointplot('s10', 's13', kallisto_log2_tpm_expressed)"
   ]
  },
  {
   "cell_type": "markdown",
   "metadata": {
    "deletable": false,
    "nbgrader": {
     "checksum": "45f625bec0ad71b01b128e038fd7dfc0",
     "grade": false,
     "grade_id": "ex5_question",
     "locked": true,
     "solution": false
    }
   },
   "source": [
    "### Exercise 5: Plot logged TPM of expressed genes using `spearmanr` as the statistical function"
   ]
  },
  {
   "cell_type": "code",
   "execution_count": null,
   "metadata": {
    "collapsed": false,
    "deletable": false,
    "nbgrader": {
     "checksum": "4899e23cbd0e42441984eb2d68a51087",
     "grade": false,
     "grade_id": "ex5_answer",
     "locked": false,
     "solution": true
    }
   },
   "outputs": [],
   "source": [
    "# YOUR CODE HERE"
   ]
  },
  {
   "cell_type": "code",
   "execution_count": null,
   "metadata": {
    "collapsed": false,
    "deletable": false,
    "nbgrader": {
     "checksum": "22c84c39b190e81dd15c4a2f84e34dbe",
     "grade": true,
     "grade_id": "ex5_test",
     "locked": true,
     "points": 2,
     "solution": false
    }
   },
   "outputs": [],
   "source": [
    "assert _.ax_joint.legend_.texts[0].get_text() == 'spearmanr = -0.23; p = 7e-113'"
   ]
  },
  {
   "cell_type": "markdown",
   "metadata": {
    "deletable": false,
    "nbgrader": {
     "checksum": "7a4e061f6c6a47d90487c249f15b9e9b",
     "grade": false,
     "grade_id": "read_featurecounts",
     "locked": true,
     "solution": false
    }
   },
   "source": [
    "## Reading `featureCounts`"
   ]
  },
  {
   "cell_type": "code",
   "execution_count": null,
   "metadata": {
    "collapsed": false,
    "deletable": false,
    "nbgrader": {
     "checksum": "53547d73d01e37c65038b30365ec6135",
     "grade": false,
     "grade_id": "show_read_featurecounts",
     "locked": true,
     "solution": false
    }
   },
   "outputs": [],
   "source": [
    "s10_featurecounts = pd.read_table('s10_featureCounts.txt')\n",
    "print(s10_featurecounts.shape)\n",
    "s10_featurecounts.head()"
   ]
  },
  {
   "cell_type": "markdown",
   "metadata": {
    "deletable": false,
    "nbgrader": {
     "checksum": "093c1b2e7afa44fb9141fa2e104b1982",
     "grade": false,
     "grade_id": "ex6_question",
     "locked": true,
     "solution": false
    }
   },
   "source": [
    "### Exercise 6: Read `s10_featurecounts` table\n",
    "\n",
    "1. Skip the first row\n",
    "2. Set the first column (0th column) as the index"
   ]
  },
  {
   "cell_type": "code",
   "execution_count": null,
   "metadata": {
    "collapsed": false,
    "deletable": false,
    "nbgrader": {
     "checksum": "c352e68345e297fdfa43294faf719f45",
     "grade": false,
     "grade_id": "ex6_answer",
     "locked": false,
     "solution": true
    }
   },
   "outputs": [],
   "source": [
    "# YOUR CODE HERE\n",
    "print(s10_featurecounts.shape)\n",
    "s10_featurecounts.head()"
   ]
  },
  {
   "cell_type": "code",
   "execution_count": null,
   "metadata": {
    "collapsed": false,
    "deletable": false,
    "nbgrader": {
     "checksum": "4e811b4c448163a0fa2f1cbec48b46cd",
     "grade": true,
     "grade_id": "ex6_test",
     "locked": true,
     "points": 2,
     "solution": false
    }
   },
   "outputs": [],
   "source": [
    "assert s10_featurecounts.shape == (46983, 6)\n",
    "assert (s10_featurecounts.columns[:-1] == pd.Index(['Chr', 'Start', 'End', 'Strand', 'Length'],\n",
    "      dtype='object')).all()"
   ]
  },
  {
   "cell_type": "markdown",
   "metadata": {
    "deletable": false,
    "nbgrader": {
     "checksum": "ed8cc06acb3f20b808fc95204d5ee9cb",
     "grade": false,
     "grade_id": "explain_why_tpm",
     "locked": true,
     "solution": false
    }
   },
   "source": [
    "### Calculate TPM from the reads counted by `featureCounts`\n",
    "\n",
    "Now, `featureCounts` outputs the actual number of reads mapped to each gene. You can tell because the datatype is integer, which would only be true if it was raw read counts, and not a transformed value like TPM, which has decimals (i.e. is a \"floating-point\" type)\n",
    "\n",
    "\n",
    "To get the transcripts per kilobase mapped (TPM) so we can compare to the `kallisto` output, we'll have to do some extra steps."
   ]
  },
  {
   "cell_type": "code",
   "execution_count": null,
   "metadata": {
    "collapsed": false,
    "deletable": false,
    "nbgrader": {
     "checksum": "89990f736d1c40d545394ab658671264",
     "grade": false,
     "grade_id": "show_datatypes",
     "locked": true,
     "solution": false
    }
   },
   "outputs": [],
   "source": [
    "s10_featurecounts.dtypes"
   ]
  },
  {
   "cell_type": "markdown",
   "metadata": {
    "deletable": false,
    "nbgrader": {
     "checksum": "8cd7725847f506cac9c63d42cf3e082b",
     "grade": false,
     "grade_id": "explain_distribution",
     "locked": true,
     "solution": false
    }
   },
   "source": [
    "Let's look at the distribution of the number of reads per feature using `sns.distplot`."
   ]
  },
  {
   "cell_type": "code",
   "execution_count": null,
   "metadata": {
    "collapsed": false,
    "deletable": false,
    "nbgrader": {
     "checksum": "5a2618dbce096bd2d5d363b91cadf3f9",
     "grade": false,
     "grade_id": "show_distplot_featurecounts",
     "locked": true,
     "solution": false
    },
    "scrolled": true
   },
   "outputs": [],
   "source": [
    "sns.distplot(s10_featurecounts['/home/ucsd-train01/projects/shalek2013/processed_data/S10.Aligned.out.sorted.bam'])"
   ]
  },
  {
   "cell_type": "markdown",
   "metadata": {
    "deletable": false,
    "nbgrader": {
     "checksum": "c095081c6a913b4aa6bca434e15ebef3",
     "grade": false,
     "grade_id": "remind_sum_columns",
     "locked": true,
     "solution": false
    }
   },
   "source": [
    "For the next exercise ... remember that you can use convenient methods of \".sum()\" to get the sum of a column. This sums all the gene lengths in the data."
   ]
  },
  {
   "cell_type": "code",
   "execution_count": null,
   "metadata": {
    "collapsed": false,
    "deletable": false,
    "nbgrader": {
     "checksum": "5a01190909fec2a6032ed4adff089baa",
     "grade": false,
     "grade_id": "show_remind_sum_columns",
     "locked": true,
     "solution": false
    }
   },
   "outputs": [],
   "source": [
    "s10_featurecounts['Length'].sum()"
   ]
  },
  {
   "cell_type": "markdown",
   "metadata": {
    "deletable": false,
    "nbgrader": {
     "checksum": "2092241a2dec672c5c1f035f00600471",
     "grade": false,
     "grade_id": "explain_make_other_columns",
     "locked": true,
     "solution": false
    }
   },
   "source": [
    "Like with the log2 TPM, we'll create a new column based on the existing columns. This example assigns the big ole column name to a single variable so it's easier to work with, and creates a new column that's the sum of all lengths times the number of reads, divided by 2000 (2e3 = $2\\times 10^3$).\n",
    "\n",
    "Notice that you can use regular multiplication with \"`*`\" and division with \"`/`\" (addition with \"`+`\" and \"`-`\" also work)"
   ]
  },
  {
   "cell_type": "code",
   "execution_count": null,
   "metadata": {
    "collapsed": false,
    "deletable": false,
    "nbgrader": {
     "checksum": "8cc92b69d823c8b75c1bfb400025d6d6",
     "grade": false,
     "grade_id": "show_make_other_columns",
     "locked": true,
     "solution": false
    }
   },
   "outputs": [],
   "source": [
    "reads = s10_featurecounts['/home/ucsd-train01/projects/shalek2013/processed_data/S10.Aligned.out.sorted.bam']\n",
    "\n",
    "s10_featurecounts['new_column'] = (s10_featurecounts['Length'].sum() * reads)/2e3\n",
    "s10_featurecounts.head()"
   ]
  },
  {
   "cell_type": "markdown",
   "metadata": {
    "deletable": false,
    "nbgrader": {
     "checksum": "b2839e934d53f41243f0852fc59a08de",
     "grade": false,
     "grade_id": "ex7_question",
     "locked": true,
     "solution": false
    }
   },
   "source": [
    "### Exercise 7: Calculate FPKM\n",
    "\n",
    "Using your knowledge about [FPKM](https://haroldpimentel.wordpress.com/2014/05/08/what-the-fpkm-a-review-rna-seq-expression-units/), add a column called `'fpkm'` to `s10_featurecounts` that's the fragments per kilobase mapped. We're doing FPKM first because you can calculate the TPM from the FPKM easily.\n",
    "\n",
    "(Use the \"Length\" column provided rather than the \"effective length\" which is the length minus the read lengths. otherwise we'll get negative FPKMs!)"
   ]
  },
  {
   "cell_type": "code",
   "execution_count": null,
   "metadata": {
    "collapsed": false,
    "deletable": false,
    "nbgrader": {
     "checksum": "004cf512d3851824114e41d6200b1ede",
     "grade": false,
     "grade_id": "ex7_answer",
     "locked": false,
     "solution": true
    }
   },
   "outputs": [],
   "source": [
    "reads = s10_featurecounts['/home/ucsd-train01/projects/shalek2013/processed_data/S10.Aligned.out.sorted.bam']\n",
    "\n",
    "# YOUR CODE HERE\n",
    "\n",
    "s10_featurecounts.head()"
   ]
  },
  {
   "cell_type": "code",
   "execution_count": null,
   "metadata": {
    "collapsed": false,
    "deletable": false,
    "nbgrader": {
     "checksum": "15faf074d2e5d3e976737cace66aa8e8",
     "grade": true,
     "grade_id": "ex7_test",
     "locked": true,
     "points": 5,
     "solution": false
    }
   },
   "outputs": [],
   "source": [
    "assert s10_featurecounts.loc['ENSMUSG00000064842.1', 'fpkm'] == 151.9538381109796"
   ]
  },
  {
   "cell_type": "markdown",
   "metadata": {
    "deletable": false,
    "nbgrader": {
     "checksum": "cf6df8bb05938a2236e1cb847baf849d",
     "grade": false,
     "grade_id": "explain_fpkm_distribution",
     "locked": true,
     "solution": false
    }
   },
   "source": [
    "Let's look at the new distribution of the FPKMs. Notice that the range is much smaller than the reads."
   ]
  },
  {
   "cell_type": "code",
   "execution_count": null,
   "metadata": {
    "collapsed": false,
    "deletable": false,
    "nbgrader": {
     "checksum": "fc77d6872c8ba400e0d2214acbfd14d3",
     "grade": false,
     "grade_id": "show_fpkm_distribution",
     "locked": true,
     "solution": false
    }
   },
   "outputs": [],
   "source": [
    "sns.distplot(s10_featurecounts['fpkm'])"
   ]
  },
  {
   "cell_type": "markdown",
   "metadata": {
    "deletable": false,
    "nbgrader": {
     "checksum": "0e5413de3d48d22b54162df6e1e755df",
     "grade": false,
     "grade_id": "ex8_question",
     "locked": true,
     "solution": false
    }
   },
   "source": [
    "### Exercise 8: Calculate TPM\n",
    "\n",
    "Now add a column called `'tpm'` which uses FPKM to calculate the transcripts per million. You'll need to read the [\"What the FPKM\"](https://haroldpimentel.wordpress.com/2014/05/08/what-the-fpkm-a-review-rna-seq-expression-units/) blog post in detail to get the equation for TPM.\n",
    "\n",
    "Hint: How would you sum all the FPKMs in the data?"
   ]
  },
  {
   "cell_type": "code",
   "execution_count": null,
   "metadata": {
    "collapsed": false,
    "deletable": false,
    "nbgrader": {
     "checksum": "957b5f68c98fd412ed6d27fa6ae92fd3",
     "grade": false,
     "grade_id": "ex8_answer",
     "locked": false,
     "solution": true
    }
   },
   "outputs": [],
   "source": [
    "# YOUR CODE HERE\n",
    "s10_featurecounts.head()"
   ]
  },
  {
   "cell_type": "code",
   "execution_count": null,
   "metadata": {
    "collapsed": false,
    "deletable": false,
    "nbgrader": {
     "checksum": "9d221959855e6ba65a4d98eda8935ebb",
     "grade": true,
     "grade_id": "ex8_tests",
     "locked": true,
     "points": 5,
     "solution": false
    }
   },
   "outputs": [],
   "source": [
    "assert s10_featurecounts.loc['ENSMUSG00000064842.1', 'tpm'] == 260.82736102245372"
   ]
  },
  {
   "cell_type": "markdown",
   "metadata": {
    "deletable": false,
    "nbgrader": {
     "checksum": "e221d4eeeda24da82af29427759424ca",
     "grade": false,
     "grade_id": "explain_Tpm_distribution",
     "locked": true,
     "solution": false
    }
   },
   "source": [
    "Let's look at this new distribution of TPM. Notice its range is also smaller than the FPKMs."
   ]
  },
  {
   "cell_type": "code",
   "execution_count": null,
   "metadata": {
    "collapsed": false,
    "deletable": false,
    "nbgrader": {
     "checksum": "d566cf6833aa80815f74b4cea5c8034f",
     "grade": false,
     "grade_id": "show_tpm_distrubtion",
     "locked": true,
     "solution": false
    }
   },
   "outputs": [],
   "source": [
    "sns.distplot(s10_featurecounts['tpm'])"
   ]
  },
  {
   "cell_type": "markdown",
   "metadata": {
    "deletable": false,
    "nbgrader": {
     "checksum": "00a1d4289bd5e0f5a202c30087380ed8",
     "grade": false,
     "grade_id": "explain_fpkm_vs_tpm",
     "locked": true,
     "solution": false
    }
   },
   "source": [
    "If you plot FPKM vs TPM, you'll see that they're linearly related, just like the equation told us :)"
   ]
  },
  {
   "cell_type": "code",
   "execution_count": null,
   "metadata": {
    "collapsed": false,
    "deletable": false,
    "nbgrader": {
     "checksum": "9d669d1c374ad62e0965ddb50af2aafd",
     "grade": false,
     "grade_id": "plot_fpkm_vs_tpm",
     "locked": true,
     "solution": false
    }
   },
   "outputs": [],
   "source": [
    "sns.jointplot('fpkm', 'tpm', s10_featurecounts)"
   ]
  },
  {
   "cell_type": "markdown",
   "metadata": {
    "deletable": false,
    "nbgrader": {
     "checksum": "951d385887ceb465e1807b40ca2b55d5",
     "grade": false,
     "grade_id": "ex9_question",
     "locked": true,
     "solution": false
    }
   },
   "source": [
    "### Exercise 9: Add a log2_tpm column\n",
    "\n",
    "Add a column called `'log2_tpm'` where you do the log2(TPM+1) transformation that we did before."
   ]
  },
  {
   "cell_type": "code",
   "execution_count": null,
   "metadata": {
    "collapsed": false,
    "deletable": false,
    "nbgrader": {
     "checksum": "fc88aea48562abca16c4bad8b1500765",
     "grade": false,
     "grade_id": "ex9_answer",
     "locked": false,
     "solution": true
    }
   },
   "outputs": [],
   "source": [
    "# YOUR CODE HERE\n",
    "s10_featurecounts.head()"
   ]
  },
  {
   "cell_type": "code",
   "execution_count": null,
   "metadata": {
    "collapsed": false,
    "deletable": false,
    "nbgrader": {
     "checksum": "d9f982916ccf3ac02f933e7778f02a35",
     "grade": true,
     "grade_id": "ex9_test",
     "locked": true,
     "points": 2,
     "solution": false
    }
   },
   "outputs": [],
   "source": [
    "assert s10_featurecounts.loc['ENSMUSG00000064842.1', 'log2_tpm'] == 8.0324720569159176"
   ]
  },
  {
   "cell_type": "markdown",
   "metadata": {
    "deletable": false,
    "nbgrader": {
     "checksum": "d632b564c5c983c06f82de58450128c7",
     "grade": false,
     "grade_id": "compare_kalliso_featurecounts",
     "locked": true,
     "solution": false
    }
   },
   "source": [
    "## Compare kallisto and featureCounts\n",
    "\n",
    "Remember this kallisto dataframe we made? Let's take a look at it again."
   ]
  },
  {
   "cell_type": "code",
   "execution_count": null,
   "metadata": {
    "collapsed": false,
    "deletable": false,
    "nbgrader": {
     "checksum": "54b0c6a5976b2b10be79a97928862551",
     "grade": false,
     "grade_id": "show_kallisto_df_agin",
     "locked": true,
     "solution": false
    }
   },
   "outputs": [],
   "source": [
    "kallisto_log2_tpm_expressed.head()"
   ]
  },
  {
   "cell_type": "markdown",
   "metadata": {
    "deletable": false,
    "nbgrader": {
     "checksum": "173e97825667e4daa6a349c2bf77017e",
     "grade": false,
     "grade_id": "explain_str_split",
     "locked": true,
     "solution": false
    }
   },
   "source": [
    "Notice that its row names (\"`index`\") have all this stuff in them. We really only need the gene ids - everything else is an annotation of the transcript (the length, where the UTR is in the sequence, where the coding region is in the sequence, etc). \n",
    "\n",
    "Here's an example of using `split()` on this string which is one of the IDs."
   ]
  },
  {
   "cell_type": "code",
   "execution_count": null,
   "metadata": {
    "collapsed": false,
    "deletable": false,
    "nbgrader": {
     "checksum": "a0daea5d9383904c5559e50fefb0f4f7",
     "grade": false,
     "grade_id": "str_split_example",
     "locked": true,
     "solution": false
    }
   },
   "outputs": [],
   "source": [
    "s = 'ENSMUST00000146665.2|ENSMUSG00000033845.13|OTTMUSG00000029329.3|OTTMUST00000072662.2|Mrpl15-004|Mrpl15|1569|UTR5:1-62|CDS:63-569|UTR3:570-1569|'\n",
    "s.split('|')"
   ]
  },
  {
   "cell_type": "markdown",
   "metadata": {
    "deletable": false,
    "nbgrader": {
     "checksum": "546de8673255bdd1f304c37cf460b234",
     "grade": false,
     "grade_id": "str_split_show_dataframe",
     "locked": true,
     "solution": false
    }
   },
   "source": [
    "Now since we're using DataFrames we can use this really convenient function `map` which applies the same function to each element of the vector. We'll only get the gene names by \"mapping\" a small function (\"lambda\") that splits each item in the row name on the pipe (\"|\") and takes the 1th item (remember we start counting from 0)."
   ]
  },
  {
   "cell_type": "code",
   "execution_count": null,
   "metadata": {
    "collapsed": false,
    "deletable": false,
    "nbgrader": {
     "checksum": "ccacaf422966afa26e938e38cc283583",
     "grade": false,
     "grade_id": "show_str_split_index",
     "locked": true,
     "solution": false
    }
   },
   "outputs": [],
   "source": [
    "kallisto_log2_tpm_expressed.index.map(lambda x: x.split('|')[1])"
   ]
  },
  {
   "cell_type": "markdown",
   "metadata": {
    "deletable": false,
    "nbgrader": {
     "checksum": "565749dfe5f1b3a51f8c1c876e3252e6",
     "grade": false,
     "grade_id": "explan_set_index",
     "locked": true,
     "solution": false
    }
   },
   "source": [
    "We'll now copy the original dataframe and replace the \"`index`\" with this new one, so we can compare to `featureCounts`."
   ]
  },
  {
   "cell_type": "code",
   "execution_count": null,
   "metadata": {
    "collapsed": false,
    "deletable": false,
    "nbgrader": {
     "checksum": "f5aced27e0535fa747e9b775515edb61",
     "grade": false,
     "grade_id": "show_set_index_str_split",
     "locked": true,
     "solution": false
    }
   },
   "outputs": [],
   "source": [
    "kallisto_log2_tpm_expressed_genes = kallisto_log2_tpm_expressed.copy()\n",
    "kallisto_log2_tpm_expressed_genes.index = kallisto_log2_tpm_expressed.index.map(lambda x: x.split('|')[1])\n",
    "print(kallisto_log2_tpm_expressed_genes.shape)\n",
    "kallisto_log2_tpm_expressed_genes.head()"
   ]
  },
  {
   "cell_type": "markdown",
   "metadata": {
    "deletable": false,
    "nbgrader": {
     "checksum": "d49389b5818f065d4b562f1e66f2bc68",
     "grade": false,
     "grade_id": "explain_whyy_groupby",
     "locked": true,
     "solution": false
    }
   },
   "source": [
    "Notice that we have some duplicate gene ids. This is because there were multiple transcripts per gene id.\n",
    "\n",
    "This next bit of code takes each gene ID, and for the ones that match, it'll sum the TPMs. This is legal to do because the total number of transcripts has not changed, we're merely summing per gene.\n",
    "\n",
    "The [`.groupby`](http://pandas.pydata.org/pandas-docs/stable/groupby.html) function is ***very*** useful every time you have one or more tables that have some common key (in this case gene ids) that you want to use. We won't go into it here but it may come in handy to you later."
   ]
  },
  {
   "cell_type": "code",
   "execution_count": null,
   "metadata": {
    "collapsed": false,
    "deletable": false,
    "nbgrader": {
     "checksum": "82b49e30d3f913706b47dc5ade4adf62",
     "grade": false,
     "grade_id": "sum_gene_expression_groupby",
     "locked": true,
     "solution": false
    }
   },
   "outputs": [],
   "source": [
    "kallisto_log2_tpm_expressed_genes_summed = kallisto_log2_tpm_expressed_genes.groupby(level=0, axis=0).sum()\n",
    "print(kallisto_log2_tpm_expressed_genes_summed.shape)\n",
    "kallisto_log2_tpm_expressed_genes_summed.head()"
   ]
  },
  {
   "cell_type": "markdown",
   "metadata": {
    "deletable": false,
    "nbgrader": {
     "checksum": "c0fc01ea418b023c2234de495c777759",
     "grade": false,
     "grade_id": "explain_align",
     "locked": true,
     "solution": false
    }
   },
   "source": [
    "Now we'll use a convenient function called `align` which will unify the row names of the two columns (Series) we have: the kallisto log2 TPMs and the featurecounts log2 TPMs. We'll assign them to \"`x`\" and \"`y`\" for short (for now)"
   ]
  },
  {
   "cell_type": "code",
   "execution_count": null,
   "metadata": {
    "collapsed": false,
    "deletable": false,
    "nbgrader": {
     "checksum": "f8278d20edd49c7c8e2c0b33aea64c71",
     "grade": false,
     "grade_id": "show_align",
     "locked": true,
     "solution": false
    }
   },
   "outputs": [],
   "source": [
    "x = kallisto_log2_tpm_expressed_genes_summed['s10']\n",
    "y = s10_featurecounts['log2_tpm']\n",
    "print('before aligning:', x.shape, y.shape)\n",
    "\n",
    "x, y = x.align(y)\n",
    "print('after aligning:', x.shape, y.shape)\n",
    "x.head()"
   ]
  },
  {
   "cell_type": "markdown",
   "metadata": {
    "deletable": false,
    "nbgrader": {
     "checksum": "cf9cf29dcfac19900b89b9c0ae85dcfe",
     "grade": false,
     "grade_id": "explain_change_name_series",
     "locked": true,
     "solution": false
    }
   },
   "source": [
    "So that the plot shows the name of the sample and the algorithm, we'll change the `.name` attribute of the series."
   ]
  },
  {
   "cell_type": "code",
   "execution_count": null,
   "metadata": {
    "collapsed": true,
    "deletable": false,
    "nbgrader": {
     "checksum": "f135fabdecf7cb206cbd6800ef13efdc",
     "grade": false,
     "grade_id": "show change_name_series",
     "locked": true,
     "solution": false
    }
   },
   "outputs": [],
   "source": [
    "x.name = 'S10 kallisto'\n",
    "y.name = 'S10 featureCounts'"
   ]
  },
  {
   "cell_type": "code",
   "execution_count": null,
   "metadata": {
    "collapsed": false,
    "deletable": false,
    "nbgrader": {
     "checksum": "b5481f46008ad084bd786895ec0a0323",
     "grade": false,
     "grade_id": "show_kallisto_featurecounts_jointplot",
     "locked": true,
     "solution": false
    }
   },
   "outputs": [],
   "source": [
    "sns.jointplot(x, y)"
   ]
  },
  {
   "cell_type": "markdown",
   "metadata": {
    "deletable": false,
    "nbgrader": {
     "checksum": "f390e53b412c323b38c90839cc870587",
     "grade": false,
     "grade_id": "explain_spearman_correlation_jointplot",
     "locked": true,
     "solution": false
    }
   },
   "source": [
    "What about using spearman correlation?"
   ]
  },
  {
   "cell_type": "code",
   "execution_count": null,
   "metadata": {
    "collapsed": false,
    "deletable": false,
    "nbgrader": {
     "checksum": "f4978e2271b295b9d1b5ff2ca86fbf6a",
     "grade": false,
     "grade_id": "show_spearman_correlation_jointplot",
     "locked": true,
     "solution": false
    }
   },
   "outputs": [],
   "source": [
    "sns.jointplot(x, y, stat_func=spearmanr)"
   ]
  },
  {
   "cell_type": "markdown",
   "metadata": {
    "deletable": false,
    "nbgrader": {
     "checksum": "4668fc68d8fda7d015bac592a6ff8449",
     "grade": false,
     "grade_id": "ex10_question",
     "locked": true,
     "solution": false
    }
   },
   "source": [
    "### Exercise 10: Why did kallisto and featureCounts give different results?\n",
    "\n",
    "Write 3-5 sentences describing why you think kallisto and FeatureCounts have similar, but different results, based on the algorithms used for mapping and (quasi-)alignment. Recall that with kallisto we mapped to protein-coding transcripts, and for FeatureCounts we first had to map with STAR (which has its own biases - like what?) and only after that we used the basic annotation, both from [GENCODE Mouse V8](http://www.gencodegenes.org/mouse_releases/8.html)."
   ]
  },
  {
   "cell_type": "code",
   "execution_count": null,
   "metadata": {
    "collapsed": true,
    "deletable": false,
    "nbgrader": {
     "checksum": "503d8c45e06a467b226e593c26d4e775",
     "grade": true,
     "grade_id": "ex10_answer",
     "locked": false,
     "points": 5,
     "solution": true
    }
   },
   "outputs": [],
   "source": [
    "# YOUR CODE HERE"
   ]
  },
  {
   "cell_type": "markdown",
   "metadata": {
    "deletable": false,
    "nbgrader": {
     "checksum": "a8a76c64158855347edcee14284390fe",
     "grade": false,
     "grade_id": "simple_differential_expression",
     "locked": true,
     "solution": false
    }
   },
   "source": [
    "## Differential expression\n",
    "\n",
    "We'll now do some differential expression analyses to get a sense of how these different algorithms affect the results."
   ]
  },
  {
   "cell_type": "code",
   "execution_count": null,
   "metadata": {
    "collapsed": false,
    "deletable": false,
    "nbgrader": {
     "checksum": "f9a607898f711a515f94bfad39c04864",
     "grade": false,
     "grade_id": "show_diff_kallisto",
     "locked": true,
     "solution": false
    }
   },
   "outputs": [],
   "source": [
    "kallisto_diff = kallisto_log2_tpm_expressed_genes_summed['s10'] - kallisto_log2_tpm_expressed_genes_summed['s13']\n",
    "kallisto_diff.head()"
   ]
  },
  {
   "cell_type": "code",
   "execution_count": null,
   "metadata": {
    "collapsed": false,
    "deletable": false,
    "nbgrader": {
     "checksum": "c6e2e5e1383e35c0a097e1fda6789acd",
     "grade": false,
     "grade_id": "kallisto_diff_distplot",
     "locked": true,
     "solution": false
    }
   },
   "outputs": [],
   "source": [
    "sns.distplot(kallisto_diff)"
   ]
  },
  {
   "cell_type": "markdown",
   "metadata": {
    "deletable": false,
    "nbgrader": {
     "checksum": "253dc940392effcc8cebc7f30907ef39",
     "grade": false,
     "grade_id": "explain_getting_s10_specific_genes",
     "locked": true,
     "solution": false
    }
   },
   "source": [
    "Since the differences between genes is approximately normal, we can find the genes that are overexpressed in S10 (i.e. speceific to S10) by getting the ones that are 2 standard deviations greater than the mean.\n",
    "\n",
    "We need this line:\n",
    "\n",
    "    kallisto_s10_specific_genes = pd.Series(kallisto_s10_specific.index[kallisto_s10_specific])\n",
    "    \n",
    "Becaus we want to create a new series where the values are the gene ids, rather than the index is the gene ids. This makes writing to a file easier."
   ]
  },
  {
   "cell_type": "code",
   "execution_count": null,
   "metadata": {
    "collapsed": false,
    "deletable": false,
    "nbgrader": {
     "checksum": "f73a29377829def0584f79035836b512",
     "grade": false,
     "grade_id": "explain_getting_s13_specific_genes",
     "locked": true,
     "solution": false
    }
   },
   "outputs": [],
   "source": [
    "kallisto_s10_specific = kallisto_diff > (kallisto_diff.mean() + 2*kallisto_diff.std())\n",
    "kallisto_s10_specific_genes = pd.Series(kallisto_s10_specific.index[kallisto_s10_specific])\n",
    "print(kallisto_s10_specific_genes.shape)\n",
    "kallisto_s10_specific_genes.head()"
   ]
  },
  {
   "cell_type": "markdown",
   "metadata": {
    "deletable": false,
    "nbgrader": {
     "checksum": "92516e8360585b9c3e106daffd2f155d",
     "grade": false,
     "grade_id": "ex11_question",
     "locked": true,
     "solution": false
    }
   },
   "source": [
    "### Exercise 11: Get S13-specific genes in kallisto\n",
    "\n",
    "Make a series called `kallisto_s13_specific_genes` which contains the genes that are specifically expressed in the sample S13.\n",
    "\n",
    "(Hint: specific to S13 means underexpressed in S10 - so similar to above, but 2 standard deviations *less than* the mean)"
   ]
  },
  {
   "cell_type": "code",
   "execution_count": null,
   "metadata": {
    "collapsed": false,
    "deletable": false,
    "nbgrader": {
     "checksum": "baaebdbc539087cc30ca82c98b35403f",
     "grade": false,
     "grade_id": "ex11_answer",
     "locked": false,
     "solution": true
    }
   },
   "outputs": [],
   "source": [
    "# YOUR CODE HERE\n",
    "\n",
    "print(kallisto_s13_specific_genes.shape)\n",
    "kallisto_s13_specific_genes.head()\n"
   ]
  },
  {
   "cell_type": "code",
   "execution_count": null,
   "metadata": {
    "collapsed": true,
    "deletable": false,
    "nbgrader": {
     "checksum": "23353ecb34dd90a2c06220ae14bb9f66",
     "grade": true,
     "grade_id": "ex11_test",
     "locked": true,
     "points": 3,
     "solution": false
    }
   },
   "outputs": [],
   "source": [
    "assert kallisto_s13_specific_genes.shape == (162,)"
   ]
  },
  {
   "cell_type": "markdown",
   "metadata": {
    "deletable": false,
    "nbgrader": {
     "checksum": "d710427e9043ec5f9d22a06aca52d702",
     "grade": false,
     "grade_id": "section_save_data",
     "locked": true,
     "solution": false
    }
   },
   "source": [
    "## Save the data and perform an enrichment analysis\n",
    "\n",
    "We'll do a quick Gene Ontology to get a sense of the kind of genes which are over- or under-enriched. To do this, we'll need to save our genes to a file and then copy that to our computer.\n",
    "\n",
    "The gene ids we have are the GENCODE ids which are the ENSEMBL ids + '.version', e.g. \"ENSMUSG00000000386.14\" is ensembl ID ENSMUSG00000000386, version 14. Most of the gene ontology programs recognize the ENSEMBL ids but not GENCODE ids, so we'll remove the stuff after the period using `.split('.')[0]`, which splits the string up every time it sees a period, and then takes the first (0th - counting from zero) item."
   ]
  },
  {
   "cell_type": "code",
   "execution_count": null,
   "metadata": {
    "collapsed": false,
    "deletable": false,
    "nbgrader": {
     "checksum": "aad2186a34a7fac9d33a2291aa93428b",
     "grade": false,
     "grade_id": "split_strings_to_get_ensembl_id",
     "locked": true,
     "solution": false
    }
   },
   "outputs": [],
   "source": [
    "kallisto_s10_specific_genes_ensembl = kallisto_s10_specific_genes.map(lambda x: x.split('.')[0])\n",
    "kallisto_s13_specific_genes_ensembl = kallisto_s13_specific_genes.map(lambda x: x.split('.')[0])\n",
    "kallisto_s13_specific_genes_ensembl.head()"
   ]
  },
  {
   "cell_type": "markdown",
   "metadata": {
    "deletable": false,
    "nbgrader": {
     "checksum": "5c5aad53918f0be521b5286bbc77b61e",
     "grade": false,
     "grade_id": "explain_save_data",
     "locked": true,
     "solution": false
    }
   },
   "source": [
    "We'll save the gene ids, but not the index/row names (which are integers starting from 0 and are boring)"
   ]
  },
  {
   "cell_type": "code",
   "execution_count": null,
   "metadata": {
    "collapsed": true,
    "deletable": false,
    "nbgrader": {
     "checksum": "88da6f79033741f9a570165130a6c65a",
     "grade": false,
     "grade_id": "show_save_data",
     "locked": true,
     "solution": false
    }
   },
   "outputs": [],
   "source": [
    "kallisto_s10_specific_genes_ensembl.to_csv('kallisto_s10_specific_genes.csv', index=False)\n",
    "kallisto_s13_specific_genes_ensembl.to_csv('kallisto_s13_specific_genes.csv', index=False)"
   ]
  },
  {
   "cell_type": "markdown",
   "metadata": {
    "deletable": false,
    "nbgrader": {
     "checksum": "b5a6b4a85acbb1d8c7e15909e96c357a",
     "grade": false,
     "grade_id": "explain_head_saved_data",
     "locked": true,
     "solution": false
    }
   },
   "source": [
    "We can look at the data we created with `head`:"
   ]
  },
  {
   "cell_type": "code",
   "execution_count": null,
   "metadata": {
    "collapsed": false,
    "deletable": false,
    "nbgrader": {
     "checksum": "0068ff9eefa511f3d000ff507ec2e953",
     "grade": false,
     "grade_id": "show_head_saved_data",
     "locked": true,
     "solution": false
    }
   },
   "outputs": [],
   "source": [
    "! head kallisto*specific_genes.csv"
   ]
  },
  {
   "cell_type": "markdown",
   "metadata": {
    "deletable": false,
    "nbgrader": {
     "checksum": "82023a3118a90b62979d63e887bb4923",
     "grade": false,
     "grade_id": "ex12_question",
     "locked": true,
     "solution": false
    }
   },
   "source": [
    "### Exercise 12: Perform Gene Ontology (GO) enrichment\n",
    "\n",
    "Use `scp`(Mac/Linus)/`pscp` (Windows) to secure copy these files to your computer.\n",
    "\n",
    "Go to the [gene ontology website](http://geneontology.org/page/go-enrichment-analysis) (or your other favorite gene ontology enrichment resource) and get the ontology enrichment of the s10-specific and s13-specific genes. What are the two samples enriched for?\n",
    "\n",
    "Hint: Which organism are we using?"
   ]
  },
  {
   "cell_type": "code",
   "execution_count": null,
   "metadata": {
    "collapsed": true,
    "deletable": false,
    "nbgrader": {
     "checksum": "2bbd7ae0192d0c5b4e83790b66e4a732",
     "grade": true,
     "grade_id": "ex12_answer",
     "locked": false,
     "points": 4,
     "solution": true
    }
   },
   "outputs": [],
   "source": [
    "# YOUR CODE HERE"
   ]
  },
  {
   "cell_type": "markdown",
   "metadata": {
    "deletable": false,
    "nbgrader": {
     "checksum": "4431436c2fe638908b1c855865c874b3",
     "grade": false,
     "grade_id": "ex13_question",
     "locked": true,
     "solution": false
    }
   },
   "source": [
    "### Exercise 13: Read S13 featureCounts and do all the transformations we've done\n",
    "\n",
    "\n",
    "1. Read in the `s13_featureCounts.txt` file\n",
    "2. Calculate ... (\"columnname\")\n",
    "    1. FPKM (\"fpkm\")\n",
    "    2. TPM (\"tpm\")\n",
    "    3. log2(TPM+1) (\"log2_tpm\")\n"
   ]
  },
  {
   "cell_type": "code",
   "execution_count": null,
   "metadata": {
    "collapsed": false,
    "deletable": false,
    "nbgrader": {
     "checksum": "10446f340fbae90946e3f6460515f896",
     "grade": false,
     "grade_id": "ex13_answer",
     "locked": false,
     "solution": true
    }
   },
   "outputs": [],
   "source": [
    "# YOUR CODE HERE\n",
    "print(s13_featurecounts.shape)\n",
    "s13_featurecounts.head()"
   ]
  },
  {
   "cell_type": "code",
   "execution_count": null,
   "metadata": {
    "collapsed": false,
    "deletable": false,
    "nbgrader": {
     "checksum": "bce232152e407cc70618862dcafb6501",
     "grade": true,
     "grade_id": "ex13_test",
     "locked": true,
     "points": 5,
     "solution": false
    }
   },
   "outputs": [],
   "source": [
    "assert len(s13_featurecounts.columns.intersection(['fpkm', 'tpm', 'log2_tpm'])) == 3\n",
    "assert s13_featurecounts.loc['ENSMUSG00000064370.1', 'log2_tpm'] == 13.15202328657807"
   ]
  },
  {
   "cell_type": "markdown",
   "metadata": {
    "deletable": false,
    "nbgrader": {
     "checksum": "bcdaf41347e35ac9331b0c5af68f9e5c",
     "grade": false,
     "grade_id": "explain_compare_two_samples",
     "locked": true,
     "solution": false
    }
   },
   "source": [
    "Let's compare these two samples now."
   ]
  },
  {
   "cell_type": "code",
   "execution_count": null,
   "metadata": {
    "collapsed": false,
    "deletable": false,
    "nbgrader": {
     "checksum": "825501849955f06d5631a4ee0712cbcf",
     "grade": false,
     "grade_id": "show_compare_two_samples",
     "locked": true,
     "solution": false
    }
   },
   "outputs": [],
   "source": [
    "sns.jointplot(s10_featurecounts['log2_tpm'], s13_featurecounts['log2_tpm'])"
   ]
  },
  {
   "cell_type": "markdown",
   "metadata": {
    "deletable": false,
    "nbgrader": {
     "checksum": "d0b4cc3814eb8271523bf69ff79933af",
     "grade": false,
     "grade_id": "ex14_question",
     "locked": true,
     "solution": false
    }
   },
   "source": [
    "### Exercise 14: Get the difference in gene expression\n",
    "\n",
    "Create a series called `featurecounts_diff` that is the difference between S10 and S13 log2 TPM in featurecounts (relative to S10)."
   ]
  },
  {
   "cell_type": "code",
   "execution_count": null,
   "metadata": {
    "collapsed": false,
    "deletable": false,
    "nbgrader": {
     "checksum": "eb81373420b2b5db066c5dd8e7974cb3",
     "grade": false,
     "grade_id": "ex14_answer",
     "locked": false,
     "solution": true
    }
   },
   "outputs": [],
   "source": [
    "# YOUR CODE HERE\n",
    "print(featurecounts_diff.shape)\n",
    "featurecounts_diff.head()"
   ]
  },
  {
   "cell_type": "code",
   "execution_count": null,
   "metadata": {
    "collapsed": false,
    "deletable": false,
    "nbgrader": {
     "checksum": "e5d6d612d221da89961af730772f6707",
     "grade": true,
     "grade_id": "ex14_test",
     "locked": true,
     "points": 2,
     "solution": false
    }
   },
   "outputs": [],
   "source": [
    "assert featurecounts_diff['ENSMUSG00000064842.1'] == 8.0324720569159282"
   ]
  },
  {
   "cell_type": "markdown",
   "metadata": {
    "deletable": false,
    "nbgrader": {
     "checksum": "60f6953017213e6f9621a07911e9c3de",
     "grade": false,
     "grade_id": "explaiN_distribution_diffs_featurecounts",
     "locked": true,
     "solution": false
    }
   },
   "source": [
    "Let's look at the distribution of the differences."
   ]
  },
  {
   "cell_type": "code",
   "execution_count": null,
   "metadata": {
    "collapsed": false,
    "deletable": false,
    "nbgrader": {
     "checksum": "38c37995d6ab9d5a2df4838398a44abd",
     "grade": false,
     "grade_id": "show_distribution_diffs_featurecounts",
     "locked": true,
     "solution": false
    }
   },
   "outputs": [],
   "source": [
    "sns.distplot(featurecounts_diff)"
   ]
  },
  {
   "cell_type": "markdown",
   "metadata": {
    "deletable": false,
    "nbgrader": {
     "checksum": "87e512c9bf60c1bea5e5063a9b70adde",
     "grade": false,
     "grade_id": "explaiN_get_rid_of_zero_diffs",
     "locked": true,
     "solution": false
    }
   },
   "source": [
    "Yikes, there's a TON of things at zero. Let's get rid of them."
   ]
  },
  {
   "cell_type": "code",
   "execution_count": null,
   "metadata": {
    "collapsed": false,
    "deletable": false,
    "nbgrader": {
     "checksum": "4f5cdbb9a02c7c76e8f32e28d9bbf1d4",
     "grade": false,
     "grade_id": "show_get_rid_of_zero_diffs",
     "locked": true,
     "solution": false
    }
   },
   "outputs": [],
   "source": [
    "featurecounts_diff_nonzero = featurecounts_diff[featurecounts_diff != 0]\n",
    "print(featurecounts_diff_nonzero.shape)\n",
    "sns.distplot(featurecounts_diff_nonzero)"
   ]
  },
  {
   "cell_type": "markdown",
   "metadata": {
    "deletable": false,
    "nbgrader": {
     "checksum": "8255d2f69a5189a1b8949c1fb9fcbee4",
     "grade": false,
     "grade_id": "ex15_question",
     "locked": true,
     "solution": false
    }
   },
   "source": [
    "### Exercise 15: get the S10- and S13-specific genes from the nonzero differences\n",
    "\n",
    "Use the \"2 standard deviations greater than the mean\" and \"2 standard deviations less than the mean\" concepts from before to get the genes.\n",
    "\n",
    "Remember you'll need a line like this:\n",
    "\n",
    "```\n",
    "kallisto_s10_specific_genes = pd.Series(kallisto_s10_specific.index[kallisto_s10_specific])\n",
    "```\n",
    "\n",
    "To save the gene ids as a series with the gene ids as the values and integers as the index, which makes writing the gene ids to a file easier."
   ]
  },
  {
   "cell_type": "code",
   "execution_count": null,
   "metadata": {
    "collapsed": false,
    "deletable": false,
    "nbgrader": {
     "checksum": "82f05d425af34d3852e6b5243accadc1",
     "grade": false,
     "grade_id": "ex15_answer",
     "locked": false,
     "solution": true
    }
   },
   "outputs": [],
   "source": [
    "# YOUR CODE HERE\n",
    "print('featurecounts_s10_specific_genes.shape', featurecounts_s10_specific_genes.shape)\n",
    "print('featurecounts_s13_specific_genes.shape', featurecounts_s13_specific_genes.shape)\n",
    "\n",
    "featurecounts_s13_specific_genes.head()"
   ]
  },
  {
   "cell_type": "code",
   "execution_count": null,
   "metadata": {
    "collapsed": false,
    "deletable": false,
    "nbgrader": {
     "checksum": "2f70b5582b1c71f6ec24abf297d2cc33",
     "grade": true,
     "grade_id": "ex15_test",
     "locked": true,
     "points": 4,
     "solution": false
    }
   },
   "outputs": [],
   "source": [
    "## Check S10-specific\n",
    "assert featurecounts_s10_specific_genes.shape == (303,)\n",
    "assert featurecounts_s10_specific_genes[0] == 'ENSMUSG00000064842.1'\n",
    "\n",
    "## Check S13-specific\n",
    "assert featurecounts_s13_specific_genes.shape == (369,)\n",
    "assert featurecounts_s13_specific_genes[0] == 'ENSMUSG00000081441.3'"
   ]
  },
  {
   "cell_type": "markdown",
   "metadata": {
    "deletable": false,
    "nbgrader": {
     "checksum": "9e1463292e9096f911c0a2e2dfb7467a",
     "grade": false,
     "grade_id": "remove_gencode",
     "locked": true,
     "solution": false
    }
   },
   "source": [
    "We'll need to remove the gene ID version number again so we have the ENSEMBL version of the ID, not the gencode."
   ]
  },
  {
   "cell_type": "markdown",
   "metadata": {
    "deletable": false,
    "nbgrader": {
     "checksum": "3cd5a3ad70eba81117b4378bcb9d4b75",
     "grade": false,
     "grade_id": "ex16_question",
     "locked": true,
     "solution": false
    }
   },
   "source": [
    "### Exercise 16: Convert gencode IDs to ENSEMBL ids\n",
    "\n",
    "Use the previous code to split the GENCODE ids so you get the period- and version-less ENSEMBL ids."
   ]
  },
  {
   "cell_type": "code",
   "execution_count": null,
   "metadata": {
    "collapsed": false,
    "deletable": false,
    "nbgrader": {
     "checksum": "27293c73ecec66febb0870d3d976041e",
     "grade": false,
     "grade_id": "ex16_answer",
     "locked": false,
     "solution": true
    }
   },
   "outputs": [],
   "source": [
    "# YOUR CODE HERE\n",
    "featurecounts_s13_specific_genes_ensembl.head()"
   ]
  },
  {
   "cell_type": "code",
   "execution_count": null,
   "metadata": {
    "collapsed": true,
    "deletable": false,
    "nbgrader": {
     "checksum": "64f7a9e9c259188b18c95a8ee95cf468",
     "grade": true,
     "grade_id": "ex16_test",
     "locked": true,
     "points": 2,
     "solution": false
    }
   },
   "outputs": [],
   "source": [
    "assert featurecounts_s13_specific_genes_ensembl[0] == 'ENSMUSG00000081441'\n",
    "assert featurecounts_s10_specific_genes_ensembl[0] == 'ENSMUSG00000064842'"
   ]
  },
  {
   "cell_type": "markdown",
   "metadata": {
    "deletable": false,
    "nbgrader": {
     "checksum": "f36401048f2e0bfd64aa0452cbdc8f4b",
     "grade": false,
     "grade_id": "ex17_question",
     "locked": true,
     "solution": false
    }
   },
   "source": [
    "### Exercise 17: Save the genes to a file, copy to your laptop, and do GO analyses\n",
    "\n",
    "1. Save the two series we created above, \"`featurecounts_s13_specific_genes_ensembl`\" and \"`featurecounts_s10_specific_genes_ensembl`\" to files\n",
    "2. Secure copy the files to your computer\n",
    "3. [Perform GO enrichment](http://geneontology.org/page/go-enrichment-analysis) of the S10- and S13-specific genes.\n",
    "4. How is the GO enrichment of the S10- and S13-specific genes the same or different between `kallisto` and `featureCounts`? (3-5 sentences - answer below)\n",
    "5. One of S10 or S13 is a mature immune cell and one is immature. Can you tell which one is, from the GO analysis?"
   ]
  },
  {
   "cell_type": "code",
   "execution_count": null,
   "metadata": {
    "collapsed": true,
    "deletable": false,
    "nbgrader": {
     "checksum": "34552147be94122405f5a3586344b95a",
     "grade": false,
     "grade_id": "ex17_answer1",
     "locked": false,
     "solution": true
    }
   },
   "outputs": [],
   "source": [
    "# Code to write series to file.\n",
    "# YOUR CODE HERE"
   ]
  },
  {
   "cell_type": "code",
   "execution_count": null,
   "metadata": {
    "collapsed": true,
    "deletable": false,
    "nbgrader": {
     "checksum": "e660a8a5d31c9b0b75ee9a4ff93621f2",
     "grade": true,
     "grade_id": "ex17_answer2",
     "locked": false,
     "points": 5,
     "solution": true
    }
   },
   "outputs": [],
   "source": [
    "# YOUR CODE HERE"
   ]
  }
 ],
 "metadata": {
  "kernelspec": {
   "display_name": "Python 3",
   "language": "python",
   "name": "python3"
  },
  "language_info": {
   "codemirror_mode": {
    "name": "ipython",
    "version": 3
   },
   "file_extension": ".py",
   "mimetype": "text/x-python",
   "name": "python",
   "nbconvert_exporter": "python",
   "pygments_lexer": "ipython3",
   "version": "3.5.1"
  }
 },
 "nbformat": 4,
 "nbformat_minor": 0
}