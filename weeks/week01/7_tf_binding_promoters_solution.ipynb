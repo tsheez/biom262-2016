{
 "cells": [
  {
   "cell_type": "markdown",
   "metadata": {
    "nbgrader": {
     "grade": false,
     "grade_id": "01_setup",
     "locked": true,
     "solution": false
    }
   },
   "source": [
    "# Homework 1: File formats and TF binding sites\n",
    "\n",
    "By the end of this homework you will...\n",
    "\n",
    "* Know what common genome annotation formats are (BED, GTF)\n",
    "* Used knowledge of UNIX commands to ask biological questions\n",
    "* Know how to use the UCSC genome browser to download BED files\n",
    "* Loaded `biotools` on TSCC to get access to the `bedtools` program\n",
    "* Used `bedtools` to get promoters of genes, overlap them with transcription factor binding sites \n",
    "* Copied data from TSCC to your laptop\n",
    "* Become more comfortable with reading and navigating documentation and man pages\n",
    "\n",
    "## Setup\n",
    "\n",
    "This assumes you have already set up [TSCC](2_tscc_setup.ipynb), [Jupyter notebooks on TSCC](4_juypter_setup.ipynb), and [Cloned the `biom262-2016` github repo to your `~/code` directory.\n",
    "\n",
    "1. Log in to TSCC\n",
    "2. Start a Jupyter notebook server (`jupyter notebook --port #### --no-browser &`)\n",
    "3. Navigate to `~/code/biom262-2016`\n",
    "4. Create a branch\n",
    "3. Tunnel the server back to your laptop (`ssh -NL ####:localhost:#### username@tscc-login2.sdsc.edu &`)\n",
    "4. Go to `http://localhost:####` in your browser\n",
    "5. Navigate to `~/code/biom262-2016/weeks/week01` in the Jupyter Notebook browser.\n",
    "\n",
    "### If this notebook on the website looks different than what you have\n",
    "\n",
    "You'll need to get the most updated one from `biom262/biom262-2016`, which we set up as the \"`upstream`\" repo [previously](http://nbviewer.ipython.org/github/biom262/biom262-2016/blob/master/weeks/week01/5_fork_clone_biom262-2016_repo.ipynb). To do that, do:\n",
    "\n",
    "```\n",
    "git pull upstream master\n",
    "```\n",
    "\n",
    "* * *\n",
    "\n",
    "Now that you're running this notebook, **run the cell below using Shift+Enter** to change directories to `~/code/biom262-2016/weeks/week01/data` to be in the same directory as the data.\n"
   ]
  },
  {
   "cell_type": "code",
   "execution_count": 13,
   "metadata": {
    "collapsed": false,
    "nbgrader": {
     "grade": false,
     "grade_id": "01_cd_to_data",
     "locked": false,
     "solution": false
    }
   },
   "outputs": [
    {
     "name": "stdout",
     "output_type": "stream",
     "text": [
      "[Errno 2] No such file or directory: '/Users/olga/code/biom262-2016/weeks/week01/data'\n",
      "/Users/olga/workspace-git/biom262-2016-homework/source/week01\n"
     ]
    }
   ],
   "source": [
    "cd ~/code/biom262-2016/weeks/week01/data"
   ]
  },
  {
   "cell_type": "markdown",
   "metadata": {
    "nbgrader": {
     "grade": false,
     "grade_id": "02_annotation_bed",
     "locked": true,
     "solution": false
    }
   },
   "source": [
    "## What is an annotation?\n",
    "An annotation is a flag denoting a special characteristic to a particular base pair or string of base pairs in a DNA sequence.  The most common type of annotation assigns particular chromosomal coordinates to a gene ID (and its associated metadata.)  Genetic sequence is most commonly stored in strings of 'A', 'C', 'G', and 'T' (fasta format).  Annotations are sometimes bundled with sequence (gbk, genbank file) or downloaded separately in memory efficient formats like GTF and BED.\n",
    "\n",
    "### BED Format: stuff in the genome\n",
    "\n",
    "BED stands for \"Browser Extensible Data\" (informative I know .....) and is a standard format in bioinformatics for describing locations of stuff in the genome the basic format is described [here](https://genome.ucsc.edu/FAQ/FAQformat.html#format1), and here's a minimal example (from [`pybedtools`](https://github.com/daler/pybedtools/blob/master/pybedtools/test/data/a.bed) tests):\n",
    "\n",
    "```\n",
    "chr1\t0\t100\tfeature1\t0\t+\n",
    "chr1\t100\t200\tfeature2\t0\t+\n",
    "chr1\t150\t500\tfeature3\t0\t-\n",
    "chr1\t900\t950\tfeature4\t0\t+\n",
    "```\n",
    "\n",
    "As you can see, the format is:\n",
    "\n",
    "1. Chromosome name\n",
    "2. Start of the feature (0-based, so the first base of the genome is \"0\")\n",
    "3. Stop of the feature (0-based, so not inclusive). This is for computer science reasons, most programming langauges are written such that the \"0th\" item is the first thing. So then the \"100th\" item would then actually be the 101th element. To avoid the \"off by one error\" (a common problem in bioinformatics) then we use 0-based indexing, where `feature1` above starts at base 0 and ends at base 100, and thus is of length 100.\n",
    "4. Name of the feature\n",
    "5. Score of the feature, which is some integer from 0 to 1000. Some bed files come with a dot/period \"`.`\" here instead if it doesn't make sense for them to have a score, but there's programs that will complain that your `bed` file is improperly formatted so I end up using `awk` or something to fill that column with 1000 for every row.\n",
    "6. Strand of the feature. If a strand doesn't make sense (e.g. for DNA methylation) then a dot/period \"`.`\"  is here.\n",
    "\n",
    "### Get Transcription Factor (TF) Binding Site BED files from the UCSC Table Browser\n",
    "\n",
    "Go to the [UCSC Genome Browser](http://genome.ucsc.edu/) and click \"Tools > Table Browser\", as shown below.\n",
    "\n",
    "![](images/table_browser.png \"UCSC Table Browser\")\n",
    "\n",
    "1. Go to the [Table Browser](http://genome.ucsc.edu/cgi-bin/hgTables) \n",
    "2. Choose \"clade: Mammal,\" \"genome: Human,\" and \"assembly: Feb. 2009 (GRCh37/hg19)\"\n",
    "3. Choose \"group: Regulation\", \"track: Txn Fac ChIP V2\"\n",
    "3. Use the default table (there are no others anyway)\n",
    "4. Put \"chr22\" for the Region\n",
    "5. Choose \"output format: BED - browser extensible data\". \n",
    "4. Save as \"`tf.bed`\"\n",
    "4. Click \"get output\".\n",
    "4. Do one bed record per gene (They really mean per \"item\", not a whole gene)\n",
    "5. Click \"get BED\"\n",
    "\n",
    "What does this file look like? Is it similar to what we had before? Let's use `head` to look at the first few lines, which by default is 10 lines.\n",
    "\n",
    "\n",
    "Hint: Remember that the dollar sign (\"`$`\") indicates the shell command prompt that you're in, and shouldn't be included when you're copying commands.\n",
    "\n",
    "```\n",
    "$ head ~/Downloads/tf.bed     \n",
    "chr22\t16166497\t16166741\tCTCF\t186\t.\t16166497\t16166741\t0\t1\t244,\t0,\n",
    "chr22\t16201947\t16202317\tCTCF\t603\t.\t16201947\t16202317\t0\t1\t370,\t0,\n",
    "chr22\t16201988\t16202252\tYY1_(C-20)\t63\t.\t16201988\t16202252\t0\t1\t264,\t0,\n",
    "chr22\t16202021\t16202231\tRad21\t92\t.\t16202021\t16202231\t0\t1\t210,\t0,\n",
    "chr22\t16202128\t16202242\tE2F6_(H-50)\t269\t.\t16202128\t16202242\t0\t1\t114,\t0,\n",
    "chr22\t16205233\t16205683\tSETDB1\t356\t.\t16205233\t16205683\t0\t1\t450,\t0,\n",
    "chr22\t16325696\t16325900\tNRSF\t36\t.\t16325696\t16325900\t0\t1\t204,\t0,\n",
    "chr22\t16560670\t16560910\tMafK_(ab50322)\t102\t.\t16560670\t16560910\t0\t1\t240,\t0,\n",
    "chr22\t16872258\t16872628\tCTCF\t279\t.\t16872258\t16872628\t0\t1\t370,\t0,\n",
    "chr22\t16872319\t16872563\tSMC3_(ab9263)\t309\t.\t16872319\t16872563\t0\t1\t244,\t0\n",
    "```\n",
    "\n",
    "### Copy `tf.bed` to TSCC\n",
    "\n",
    "#### Mac/Linux\n",
    "\n",
    "To copy data between computers, you can use \"secure copy\" or \"`scp`\". Just like with `cp` you do `cp filename newplace` you can do the same thing, but you have to specify the server name, and where on the server you want to put it. \n",
    "\n",
    "*Note: you are running this command from your **laptop**, because you need to be able to specify a unique address/URL for one of the file locations. Unless you have command line login and a static IP for your laptop (which takes a lot of work and is therefore unlikely), then you cannot run `scp` from TSCC to copy files to/from your laptop. You must always run `scp` from your laptop if you want to move files to/from a server.*\n",
    "\n",
    "```\n",
    "$ scp tf.bed username@tscc.sdsc.edu:~/code/biom262-2016/weeks/week01/data\n",
    "```\n",
    "\n",
    "Written another more generically, the `scp` command looks like\n",
    "\n",
    "```\n",
    "$ scp localfile username@server:/path/to/new/place/on/server\n",
    "```\n",
    "\n",
    "#### Windows\n",
    "\n",
    "(Instructions compiled from [Cornell IT](http://www.it.cornell.edu/services/managed_servers/howto/file_transfer/fileputty.cfm) and [Analyzing Next-Gen Seq (ANGUS) data workshop](http://ged.msu.edu/angus/tutorials/using-putty-on-windows.html))\n",
    "\n",
    "Install [PuTTY](http://www.chiark.greenend.org.uk/~sgtatham/putty/download.html). It doesn't need to be installed so you can put the file on your desktop or wherever you like to put your programs. You'll need both the `putty.exe` and `pscp.exe` files.\n",
    "\n",
    "Open the windows command line \n",
    "\n",
    "![](http://www.it.cornell.edu/catc/cms/services/managed_servers/howto/file_transfer/images/filewindowsstart_1.jpg)\n",
    "![](http://www.it.cornell.edu/catc/cms/services/managed_servers/howto/file_transfer/images/filewindowscmd_1.jpg)\n",
    "\n",
    "At the command prompt, you can now enter same command as for Mac/Linux, but using `pscp` instead of `scp`.\n",
    "\n",
    "```\n",
    "c:\\>pscp tf.bed username@tscc.sdsc.edu:~/code/biom262-2016/weeks/week01/data\n",
    "```\n",
    "\n",
    "Written another more generically, the `pscp` command looks like\n",
    "\n",
    "```\n",
    "c:\\>pscp localfile username@server:/path/to/new/place/on/server\n",
    "```"
   ]
  },
  {
   "cell_type": "markdown",
   "metadata": {
    "nbgrader": {
     "grade": false,
     "grade_id": "03_ex1_tf_nfkb_question",
     "locked": true,
     "solution": false
    }
   },
   "source": [
    "### Exercise 1: Get NFKB binding sites only\n",
    "\n",
    "Use your UNIX skillz to filter the `tf.bed` file for only the NFKB ([Nuclear factor kappa B](http://en.wikipedia.org/wiki/NF-%CE%BAB)) TFs. Save this file as `tf.nfkb.bed`. This file should have 702 lines."
   ]
  },
  {
   "cell_type": "code",
   "execution_count": 14,
   "metadata": {
    "collapsed": false,
    "nbgrader": {
     "grade": false,
     "grade_id": "03_ex1_tf_nfkb_answer",
     "locked": false,
     "points": 1,
     "solution": true
    }
   },
   "outputs": [],
   "source": [
    "%%bash --out exercise1\n",
    "### BEGIN SOLUTION\n",
    "cat tf.bed | grep NFKB  > tf.nfkb.bed\n",
    "### END SOLUTION\n",
    "\n",
    "wc -l tf.nfkb.bed\n",
    "echo '--- First 10 lines ---'\n",
    "head tf.nfkb.bed\n",
    "echo '--- Random 10 lines ---'\n",
    "awk -v seed=907 'BEGIN{srand(seed);}{ if (rand() < 0.5 ) {print $0}}'  tf.nfkb.bed | head\n",
    "echo '--- Last 10 lines ---'\n",
    "tail tf.nfkb.bed"
   ]
  },
  {
   "cell_type": "markdown",
   "metadata": {
    "nbgrader": {
     "grade": false,
     "grade_id": "03_ex1_tf_nfkb_output_explanation",
     "locked": true,
     "solution": false
    }
   },
   "source": [
    "The following cell is for your debugging purposes. Due to the way we have to set up the notebook to grade it, we add `--out exercise1` next to the `%%bash` magic to save the output of the previous cell to the variable `exercise1`, so here we're printing the output. This is what *would* be shown below the cell if we weren't doing this workaround. This is what is graded."
   ]
  },
  {
   "cell_type": "code",
   "execution_count": 15,
   "metadata": {
    "collapsed": false
   },
   "outputs": [
    {
     "name": "stdout",
     "output_type": "stream",
     "text": [
      "     702 tf.nfkb.bed\n",
      "--- First 10 lines ---\n",
      "chr22\t17565763\t17566145\tNFKB\t406\t.\t17565763\t17566145\t0\t1\t382,\t0,\n",
      "chr22\t17568509\t17568945\tNFKB\t354\t.\t17568509\t17568945\t0\t1\t436,\t0,\n",
      "chr22\t17700141\t17700502\tNFKB\t525\t.\t17700141\t17700502\t0\t1\t361,\t0,\n",
      "chr22\t17701962\t17702278\tNFKB\t295\t.\t17701962\t17702278\t0\t1\t316,\t0,\n",
      "chr22\t17709521\t17709797\tNFKB\t300\t.\t17709521\t17709797\t0\t1\t276,\t0,\n",
      "chr22\t17724391\t17724724\tNFKB\t413\t.\t17724391\t17724724\t0\t1\t333,\t0,\n",
      "chr22\t17738401\t17738677\tNFKB\t462\t.\t17738401\t17738677\t0\t1\t276,\t0,\n",
      "chr22\t17738857\t17739282\tNFKB\t573\t.\t17738857\t17739282\t0\t1\t425,\t0,\n",
      "chr22\t17761088\t17761435\tNFKB\t244\t.\t17761088\t17761435\t0\t1\t347,\t0,\n",
      "chr22\t17784788\t17785118\tNFKB\t1000\t.\t17784788\t17785118\t0\t1\t330,\t0,\n",
      "--- Random 10 lines ---\n",
      "chr22\t17700141\t17700502\tNFKB\t525\t.\t17700141\t17700502\t0\t1\t361,\t0,\n",
      "chr22\t17701962\t17702278\tNFKB\t295\t.\t17701962\t17702278\t0\t1\t316,\t0,\n",
      "chr22\t17709521\t17709797\tNFKB\t300\t.\t17709521\t17709797\t0\t1\t276,\t0,\n",
      "chr22\t17738401\t17738677\tNFKB\t462\t.\t17738401\t17738677\t0\t1\t276,\t0,\n",
      "chr22\t17738857\t17739282\tNFKB\t573\t.\t17738857\t17739282\t0\t1\t425,\t0,\n",
      "chr22\t17761088\t17761435\tNFKB\t244\t.\t17761088\t17761435\t0\t1\t347,\t0,\n",
      "chr22\t17784788\t17785118\tNFKB\t1000\t.\t17784788\t17785118\t0\t1\t330,\t0,\n",
      "chr22\t18111762\t18112038\tNFKB\t453\t.\t18111762\t18112038\t0\t1\t276,\t0,\n",
      "chr22\t18225198\t18225524\tNFKB\t428\t.\t18225198\t18225524\t0\t1\t326,\t0,\n",
      "chr22\t18278491\t18278848\tNFKB\t1000\t.\t18278491\t18278848\t0\t1\t357,\t0,\n",
      "--- Last 10 lines ---\n",
      "chr22\t50969418\t50969694\tNFKB\t415\t.\t50969418\t50969694\t0\t1\t276,\t0,\n",
      "chr22\t50970799\t50971099\tNFKB\t298\t.\t50970799\t50971099\t0\t1\t300,\t0,\n",
      "chr22\t50978032\t50978392\tNFKB\t1000\t.\t50978032\t50978392\t0\t1\t360,\t0,\n",
      "chr22\t50979332\t50979632\tNFKB\t307\t.\t50979332\t50979632\t0\t1\t300,\t0,\n",
      "chr22\t50980831\t50981158\tNFKB\t365\t.\t50980831\t50981158\t0\t1\t327,\t0,\n",
      "chr22\t51001317\t51001593\tNFKB\t380\t.\t51001317\t51001593\t0\t1\t276,\t0,\n",
      "chr22\t51021040\t51021316\tNFKB\t484\t.\t51021040\t51021316\t0\t1\t276,\t0,\n",
      "chr22\t51021478\t51021754\tNFKB\t363\t.\t51021478\t51021754\t0\t1\t276,\t0,\n",
      "chr22\t51058900\t51059230\tNFKB\t498\t.\t51058900\t51059230\t0\t1\t330,\t0,\n",
      "chr22\t51060107\t51060383\tNFKB\t354\t.\t51060107\t51060383\t0\t1\t276,\t0,\n",
      "\n"
     ]
    }
   ],
   "source": [
    "print(exercise1)"
   ]
  },
  {
   "cell_type": "code",
   "execution_count": 16,
   "metadata": {
    "collapsed": false,
    "nbgrader": {
     "grade": true,
     "grade_id": "03_ex1_tf_nfkb_tests",
     "locked": true,
     "points": 5,
     "solution": false
    }
   },
   "outputs": [],
   "source": [
    "answer1 = '''702 tf.nfkb.bed\n",
    "--- First 10 lines ---\n",
    "chr22\t17565763\t17566145\tNFKB\t406\t.\t17565763\t17566145\t0\t1\t382,\t0,\n",
    "chr22\t17568509\t17568945\tNFKB\t354\t.\t17568509\t17568945\t0\t1\t436,\t0,\n",
    "chr22\t17700141\t17700502\tNFKB\t525\t.\t17700141\t17700502\t0\t1\t361,\t0,\n",
    "chr22\t17701962\t17702278\tNFKB\t295\t.\t17701962\t17702278\t0\t1\t316,\t0,\n",
    "chr22\t17709521\t17709797\tNFKB\t300\t.\t17709521\t17709797\t0\t1\t276,\t0,\n",
    "chr22\t17724391\t17724724\tNFKB\t413\t.\t17724391\t17724724\t0\t1\t333,\t0,\n",
    "chr22\t17738401\t17738677\tNFKB\t462\t.\t17738401\t17738677\t0\t1\t276,\t0,\n",
    "chr22\t17738857\t17739282\tNFKB\t573\t.\t17738857\t17739282\t0\t1\t425,\t0,\n",
    "chr22\t17761088\t17761435\tNFKB\t244\t.\t17761088\t17761435\t0\t1\t347,\t0,\n",
    "chr22\t17784788\t17785118\tNFKB\t1000\t.\t17784788\t17785118\t0\t1\t330,\t0,\n",
    "--- Random 10 lines ---\n",
    "chr22\t17700141\t17700502\tNFKB\t525\t.\t17700141\t17700502\t0\t1\t361,\t0,\n",
    "chr22\t17701962\t17702278\tNFKB\t295\t.\t17701962\t17702278\t0\t1\t316,\t0,\n",
    "chr22\t17709521\t17709797\tNFKB\t300\t.\t17709521\t17709797\t0\t1\t276,\t0,\n",
    "chr22\t17738401\t17738677\tNFKB\t462\t.\t17738401\t17738677\t0\t1\t276,\t0,\n",
    "chr22\t17738857\t17739282\tNFKB\t573\t.\t17738857\t17739282\t0\t1\t425,\t0,\n",
    "chr22\t17761088\t17761435\tNFKB\t244\t.\t17761088\t17761435\t0\t1\t347,\t0,\n",
    "chr22\t17784788\t17785118\tNFKB\t1000\t.\t17784788\t17785118\t0\t1\t330,\t0,\n",
    "chr22\t18111762\t18112038\tNFKB\t453\t.\t18111762\t18112038\t0\t1\t276,\t0,\n",
    "chr22\t18225198\t18225524\tNFKB\t428\t.\t18225198\t18225524\t0\t1\t326,\t0,\n",
    "chr22\t18278491\t18278848\tNFKB\t1000\t.\t18278491\t18278848\t0\t1\t357,\t0,\n",
    "--- Last 10 lines ---\n",
    "chr22\t50969418\t50969694\tNFKB\t415\t.\t50969418\t50969694\t0\t1\t276,\t0,\n",
    "chr22\t50970799\t50971099\tNFKB\t298\t.\t50970799\t50971099\t0\t1\t300,\t0,\n",
    "chr22\t50978032\t50978392\tNFKB\t1000\t.\t50978032\t50978392\t0\t1\t360,\t0,\n",
    "chr22\t50979332\t50979632\tNFKB\t307\t.\t50979332\t50979632\t0\t1\t300,\t0,\n",
    "chr22\t50980831\t50981158\tNFKB\t365\t.\t50980831\t50981158\t0\t1\t327,\t0,\n",
    "chr22\t51001317\t51001593\tNFKB\t380\t.\t51001317\t51001593\t0\t1\t276,\t0,\n",
    "chr22\t51021040\t51021316\tNFKB\t484\t.\t51021040\t51021316\t0\t1\t276,\t0,\n",
    "chr22\t51021478\t51021754\tNFKB\t363\t.\t51021478\t51021754\t0\t1\t276,\t0,\n",
    "chr22\t51058900\t51059230\tNFKB\t498\t.\t51058900\t51059230\t0\t1\t330,\t0,\n",
    "chr22\t51060107\t51060383\tNFKB\t354\t.\t51060107\t51060383\t0\t1\t276,\t0,'''\n",
    "\n",
    "# Remove whitespace at the beginning and end of the exercise 1 result\n",
    "exercise1 = exercise1.strip()\n",
    "assert exercise1 == answer1"
   ]
  },
  {
   "cell_type": "markdown",
   "metadata": {
    "nbgrader": {
     "grade": false,
     "grade_id": "04_gencode_annotations",
     "locked": true,
     "solution": false
    }
   },
   "source": [
    "### Gencode gene annotations\n",
    "\n",
    "We are interested in which gene's promoters these transcription factors bind to. We will use the [GENCODE](http://www.gencodegenes.org/) gene annotation, which is an aggregate of several gene annotation groups (ENSEMBL, HAVANA) to create a comprehensive set of human, and recently, mouse, gene annotations. We downloaded the annotations using [GENCODE v19](http://www.gencodegenes.org/releases/19.html), the last release using hg19, which as of writing in January 2016 has all the ENCODE transcription factor binding sites.\n",
    "\n",
    "If you're interested in the difference between the GENCODE gene annotations and RefSeq genes, check out [this](http://www.biomedcentral.com/1471-2164/16/S8/S2) paper.\n",
    "\n",
    "For this assignment, we have provided the gene annotations and sequence for human chromosome 22 (one of the smallest chromosomes), which are located in `biom262-2016/weeks/week01/data`\n",
    "\n",
    "#### In case you are curious ...\n",
    "This information is just so you know how grabbing just chromosome 22 for the different file formats was accomplished, here it is. It is not graded material. \n",
    "\n",
    "To get the `chr22` data from the gtf file, we can `grep` for lines that start with `chr22`, where the up-carat/power symbol \"`^`\" indicates the start of the line.\n",
    "\n",
    "```\n",
    "$ gunzip gencode.v24.basic.annotation.gtf.gz\n",
    "$ grep '^chr22' gencode.v19.annotation.gtf > gencode.v19.annotation.chr22.gtf\n",
    "```\n",
    "\n",
    "To get the fasta file, we first had to index it using `samtools faidx`, and then we could use the same program to grab chromosome 22.\n",
    "\n",
    "```\n",
    "$ gunzip GRCh37.p13.genome.fa.gz \n",
    "$ samtools faidx GRCh37.p13.genome.fa.gz \n",
    "$ samtools faidx GRCh37.p13.genome.fa.gz chr22 > GRCh37.p13.chr22.fa \n",
    "```"
   ]
  },
  {
   "cell_type": "markdown",
   "metadata": {
    "nbgrader": {
     "grade": false,
     "grade_id": "05_fasta_format",
     "locked": true,
     "solution": false
    }
   },
   "source": [
    "#### Fasta and GTF formats\n",
    "\n",
    "##### Fasta\n",
    "\n",
    "The FASTA format is one of the oldest in bioinformatics and the simplest. The concept is this:\n",
    "\n",
    "```\n",
    ">sequence1_name \n",
    "GGGGGGGGGGGGGGGGGGGGGGGGGGGGGGGGGGGGGGGGCCCCCCCCCC\n",
    "CCCCCCCCCCCCCCCCCCCCCCCCCCCCCCCCCCCCCCCCGGGGGGGGGG\n",
    "GGGGGGGGGG\n",
    ">sequence2_name\n",
    "CCCCCCCCCCCCCCCCCCCCCCCCCCCCCCCCCCCCCCCCGGGGGGGGGG\n",
    "GGGGGGGGGGGGGGGGGGGGGGGGGGGGGGGGGGGGGGGGCCCCCCCCCC\n",
    "CCCCCCCCCC\n",
    "```\n",
    "\n",
    "Where a sequence entry starts with a greater than sign \"`>`\" and any number of sequence lines can follow. The end of the sequence is indicated by the start of the next one (or the end of the file!). The example above shows two 110-base long sequences, with the first two rows of the sequence are exactly the same length (50bp), with a final hanging sequence (10bp). Some programs require that the lines be the same length, so if you're creating FASTA files by hand, it's recommended to use [BioPython's SeqIO](http://biopython.org/wiki/SeqIO) to generate them so they're correctly formatted.\n",
    "\n",
    "\n",
    "We can use `head` to look at the first few lines (10 by default) of each of the files. The fasta file is kind of boring for the first few lines:\n",
    "\n",
    "\n",
    "```\n",
    "$ head GRCh37.p13.chr22.fa\n",
    ">chr22\n",
    "NNNNNNNNNNNNNNNNNNNNNNNNNNNNNNNNNNNNNNNNNNNNNNNNNNNNNNNNNNNN\n",
    "NNNNNNNNNNNNNNNNNNNNNNNNNNNNNNNNNNNNNNNNNNNNNNNNNNNNNNNNNNNN\n",
    "NNNNNNNNNNNNNNNNNNNNNNNNNNNNNNNNNNNNNNNNNNNNNNNNNNNNNNNNNNNN\n",
    "NNNNNNNNNNNNNNNNNNNNNNNNNNNNNNNNNNNNNNNNNNNNNNNNNNNNNNNNNNNN\n",
    "NNNNNNNNNNNNNNNNNNNNNNNNNNNNNNNNNNNNNNNNNNNNNNNNNNNNNNNNNNNN\n",
    "NNNNNNNNNNNNNNNNNNNNNNNNNNNNNNNNNNNNNNNNNNNNNNNNNNNNNNNNNNNN\n",
    "NNNNNNNNNNNNNNNNNNNNNNNNNNNNNNNNNNNNNNNNNNNNNNNNNNNNNNNNNNNN\n",
    "NNNNNNNNNNNNNNNNNNNNNNNNNNNNNNNNNNNNNNNNNNNNNNNNNNNNNNNNNNNN\n",
    "NNNNNNNNNNNNNNNNNNNNNNNNNNNNNNNNNNNNNNNNNNNNNNNNNNNNNNNNNNNN\n",
    "```\n",
    "\n",
    "One question is, how many bases are in this file? Well, we'll need to ignore all rows of the file that start with \"`>`\", which we can do using `grep -v`, where \"`-v`\" *in**v**erts* the match and returns the non-matching lines. Here's the excerpt from `man grep`:\n",
    "\n",
    "     -v, --invert-match\n",
    "             Selected lines are those not matching any of the specified pat-\n",
    "             terns.\n",
    "\n",
    "To do this, we'll use `grep` to search for all lines that start with (startwith=\"`^`\") the character \"`>`\". Remember that the greater than sign is a special character in unix that indicates to save the output to a file with that name, so we need to put quotes around the \"regular expression\" (aka search term) we are searching with to protect it from getting evaluated by the UNIX command line.\n",
    "\n",
    "```\n",
    "$ grep -v '^>' GRCh37.p13.chr22.fa | head\n",
    "NNNNNNNNNNNNNNNNNNNNNNNNNNNNNNNNNNNNNNNNNNNNNNNNNNNNNNNNNNNN\n",
    "NNNNNNNNNNNNNNNNNNNNNNNNNNNNNNNNNNNNNNNNNNNNNNNNNNNNNNNNNNNN\n",
    "NNNNNNNNNNNNNNNNNNNNNNNNNNNNNNNNNNNNNNNNNNNNNNNNNNNNNNNNNNNN\n",
    "NNNNNNNNNNNNNNNNNNNNNNNNNNNNNNNNNNNNNNNNNNNNNNNNNNNNNNNNNNNN\n",
    "NNNNNNNNNNNNNNNNNNNNNNNNNNNNNNNNNNNNNNNNNNNNNNNNNNNNNNNNNNNN\n",
    "NNNNNNNNNNNNNNNNNNNNNNNNNNNNNNNNNNNNNNNNNNNNNNNNNNNNNNNNNNNN\n",
    "NNNNNNNNNNNNNNNNNNNNNNNNNNNNNNNNNNNNNNNNNNNNNNNNNNNNNNNNNNNN\n",
    "NNNNNNNNNNNNNNNNNNNNNNNNNNNNNNNNNNNNNNNNNNNNNNNNNNNNNNNNNNNN\n",
    "NNNNNNNNNNNNNNNNNNNNNNNNNNNNNNNNNNNNNNNNNNNNNNNNNNNNNNNNNNNN\n",
    "NNNNNNNNNNNNNNNNNNNNNNNNNNNNNNNNNNNNNNNNNNNNNNNNNNNNNNNNNNNN\n",
    "```\n",
    "\n",
    "Let's make sure we've only removed the first line by looking at the line count.\n",
    "\n",
    "```\n",
    "wc -l \n",
    " 855078 GRCh37.p13.chr22.fa\n",
    "\n",
    "```\n",
    "\n",
    "And this command:\n",
    "\n",
    "```\n",
    "$ grep -v '^>' GRCh37.p13.chr22.fa | wc -l\n",
    "  855077\n",
    "```\n",
    "\n",
    "So yes, we've removed exactly one line. Now we're ready to count the number of bases. Remember that the \"`-l`\" flag on \"`wc`\" indicated to count only the number of lines\n",
    "\n",
    "```\n",
    "$ grep -v '^>' GRCh37.p13.chr22.fa | wc   \n",
    "  855077  855077 52159643\n",
    "```\n",
    "\n",
    "So that means there are 52,159,643 bases in chromosome 22. Cool!"
   ]
  },
  {
   "cell_type": "markdown",
   "metadata": {
    "nbgrader": {
     "grade": false,
     "grade_id": "06_gtf_format",
     "locked": true,
     "solution": false
    }
   },
   "source": [
    "##### GTF\n",
    "\n",
    "Like the BED format, GTF encodes \"stuff in the genome,\" but allows for hierarchy in the relationships between items and for additional annotations of the items. For example, GTFs can encode genes, which have transcripts as children, which have exons as children, which have coding sequences (CDS), untranslated regions (UTRs), stop codons, and more as children. This is not possible in BED files.\n",
    "\n",
    "Read the GENCODE description of their [GTF](http://www.gencodegenes.org/data_format.html) format, which describes their columns and convenient anntations like whether the gene is protein-coding, the reading frame of coding sequences (CDS), and at which \"level\" a gene is annotated - verified, manually, or computationally.\n",
    "\n",
    "Here is a screenshot of the GTF file from the GENCODE website.\n",
    "\n",
    "![](images/gtf_example.png \"GTF Example\")\n",
    "\n",
    "As you can see, it is *similar* but *different* than the bed file. Besides the columns, a key difference is that GTF files are 1-based but BED files are 0-based. Thus, if we have a feature which in BED-land:\n",
    "\n",
    "```\n",
    "chr1\t0\t100\tfeature1\t0\t+\n",
    "```\n",
    "\n",
    "Then in the GTF, we have:\n",
    "\n",
    "```\n",
    "chr1\tsource\tgene\t1\t100\tfeature1\t0\t+\t.\n",
    "```\n",
    "\n",
    "The GTF file is slightly easier to understand because the feature starts at 1 (and is 1-based so \"1\" is truly the first nucleotide) truly ends on base 99, and there is no more feature on base 100. How is this different for the negative strand?\n",
    "\n",
    "For a bed file with the following 0-based coordinates, what would be the coordinates in the 1-based gtf file?\n",
    "\n",
    "```\n",
    "chr1\t150\t500\tfeature3\t0\t-\n",
    "```\n",
    "\n",
    "It'd be the same - the start is only changed. Why is that?\n",
    "\n",
    "```\n",
    "chr1\tsource\tgene\t151\t500\tfeature3\t0\t-\n",
    "```\n",
    "\n",
    "\n",
    "Now let's look at GTF files on the command line. What if we do `head` on just the first two lines?\n",
    "\n",
    "```\n",
    "head -n 2 gencode.v19.annotation.chr22.gtf\n",
    "chr22\tHAVANA\tgene\t16062157\t16063236\t.\t+\t.\tgene_id \"ENSG00000233866.1\"; transcript_id \"ENSG00000233866.1\"; gene_type \"lincRNA\"; gene_status \"KNOWN\"; gene_name \"LA16c-4G1.3\"; transcript_type \"lincRNA\"; transcript_status \"KNOWN\"; transcript_name \"LA16c-4G1.3\"; level 2; havana_gene \"OTTHUMG00000140195.1\";\n",
    "chr22\tHAVANA\ttranscript\t16062157\t16063236\t.\t+\t.\tgene_id \"ENSG00000233866.1\"; transcript_id \"ENST00000424770.1\"; gene_type \"lincRNA\"; gene_status \"KNOWN\"; gene_name \"LA16c-4G1.3\"; transcript_type \"lincRNA\"; transcript_status \"KNOWN\"; transcript_name \"LA16c-4G1.3-001\"; level 2; tag \"basic\"; havana_gene \"OTTHUMG00000140195.1\"; havana_transcript \"OTTHUMT00000276574.1\";\n",
    "```\n",
    "\n",
    "\n",
    "Oh that's annoying - GTF files are very wwwwwwwwwwwwwwiiiiiiiiiiiiiidddddddddddddddddddddeeeeeeeeeeeeeeeeeeeeeeeee and so the line wraps around and makes it are difficult to view in the terminal and line up columns. So we don't want to use `head`. Instead we'll use `less` with the `-S` flag. Check out `man less` to see **all** the options (there's a ton). Here's an excerpt from `man less` to show the function of `-S`:\n",
    "\n",
    "       -S or --chop-long-lines\n",
    "              Causes  lines  longer than the screen width to be chopped rather\n",
    "              than folded.  That is, the portion of a long line that does  not\n",
    "              fit  in  the  screen width is not shown.  The default is to fold\n",
    "              long lines; that is, display the remainder on the next line.\n",
    "\n",
    "\n",
    "```\n",
    "$ less -S gencode.v19.annotation.chr22.gtf\n",
    "```\n",
    "\n",
    "It's nice because you can use the left and right arrow keys to navigate to different columns.\n",
    "\n",
    "Here's a screenshot of the output:\n",
    "\n",
    "![](images/gencode_v19_chr22_less-S.png \"Example with 'less -S' to chop instead of wrap lines\")"
   ]
  },
  {
   "cell_type": "markdown",
   "metadata": {
    "nbgrader": {
     "grade": false,
     "grade_id": "07_ex2_genes_gtf_question",
     "locked": true,
     "solution": false
    }
   },
   "source": [
    "### Exercise 2: Extract only the genes from the GTF file\n",
    "\n",
    "Use what you've learned about UNIX so far to get only the rows of `gencode.v19.annotation.chr22.gtf` that contain features of type \"`transcript`\", saving to a file called `gencode.v19.annotation.chr22.transcript.gtf`. Your file should contain `4459` lines."
   ]
  },
  {
   "cell_type": "code",
   "execution_count": 17,
   "metadata": {
    "collapsed": false,
    "nbgrader": {
     "grade": false,
     "grade_id": "07_ex2_genes_gtf_answer",
     "locked": false,
     "solution": true
    }
   },
   "outputs": [],
   "source": [
    "%%bash --out exercise2\n",
    "### BEGIN SOLUTION\n",
    "awk -F '\\t' '{ if ($3 == \"transcript\") print $0; }' gencode.v19.annotation.chr22.gtf > gencode.v19.annotation.chr22.transcript.gtf\n",
    "### END SOLUTION\n",
    "\n",
    "wc -l gencode.v19.annotation.chr22.transcript.gtf\n",
    "echo '--- First 10 lines ---'\n",
    "head gencode.v19.annotation.chr22.transcript.gtf\n",
    "echo '--- Random 10 lines ---'\n",
    "awk -v seed=907 'BEGIN{srand(seed);}{ if (rand() < 0.5 ) {print $0}}'  gencode.v19.annotation.chr22.transcript.gtf | head\n",
    "echo '--- Last 10 lines ---'\n",
    "tail gencode.v19.annotation.chr22.transcript.gtf"
   ]
  },
  {
   "cell_type": "markdown",
   "metadata": {
    "nbgrader": {
     "grade": false,
     "grade_id": "07_ex2_genes_gtf_output_explain",
     "locked": true,
     "solution": false
    }
   },
   "source": [
    "The following cell is for your debugging purposes. Due to the way we have to set up the notebook to grade it, we add `--out exercise2` next to the `%%bash` magic to save the output of the previous cell to the variable `exercise2`, so here we're printing the output. This is what *would* be shown below the cell if we weren't doing this workaround. This is what is graded."
   ]
  },
  {
   "cell_type": "code",
   "execution_count": 18,
   "metadata": {
    "collapsed": false,
    "scrolled": false
   },
   "outputs": [
    {
     "name": "stdout",
     "output_type": "stream",
     "text": [
      "    4459 gencode.v19.annotation.chr22.transcript.gtf\n",
      "--- First 10 lines ---\n",
      "chr22\tHAVANA\ttranscript\t16062157\t16063236\t.\t+\t.\tgene_id \"ENSG00000233866.1\"; transcript_id \"ENST00000424770.1\"; gene_type \"lincRNA\"; gene_status \"KNOWN\"; gene_name \"LA16c-4G1.3\"; transcript_type \"lincRNA\"; transcript_status \"KNOWN\"; transcript_name \"LA16c-4G1.3-001\"; level 2; tag \"basic\"; havana_gene \"OTTHUMG00000140195.1\"; havana_transcript \"OTTHUMT00000276574.1\";\n",
      "chr22\tHAVANA\ttranscript\t16076052\t16076172\t.\t-\t.\tgene_id \"ENSG00000229286.1\"; transcript_id \"ENST00000448070.1\"; gene_type \"pseudogene\"; gene_status \"KNOWN\"; gene_name \"LA16c-4G1.4\"; transcript_type \"unprocessed_pseudogene\"; transcript_status \"KNOWN\"; transcript_name \"LA16c-4G1.4-001\"; level 2; ont \"PGO:0000005\"; havana_gene \"OTTHUMG00000140193.1\"; havana_transcript \"OTTHUMT00000276571.1\";\n",
      "chr22\tHAVANA\ttranscript\t16084249\t16084826\t.\t-\t.\tgene_id \"ENSG00000235265.1\"; transcript_id \"ENST00000413156.1\"; gene_type \"pseudogene\"; gene_status \"KNOWN\"; gene_name \"LA16c-4G1.5\"; transcript_type \"unprocessed_pseudogene\"; transcript_status \"KNOWN\"; transcript_name \"LA16c-4G1.5-001\"; level 2; ont \"PGO:0000005\"; havana_gene \"OTTHUMG00000140197.1\"; havana_transcript \"OTTHUMT00000276576.1\";\n",
      "chr22\tHAVANA\ttranscript\t16100517\t16124973\t.\t-\t.\tgene_id \"ENSG00000223875.1\"; transcript_id \"ENST00000420638.1\"; gene_type \"pseudogene\"; gene_status \"KNOWN\"; gene_name \"NBEAP3\"; transcript_type \"unprocessed_pseudogene\"; transcript_status \"KNOWN\"; transcript_name \"NBEAP3-001\"; level 2; ont \"PGO:0000005\"; havana_gene \"OTTHUMG00000140196.1\"; havana_transcript \"OTTHUMT00000276575.1\";\n",
      "chr22\tHAVANA\ttranscript\t16122720\t16123768\t.\t+\t.\tgene_id \"ENSG00000215270.3\"; transcript_id \"ENST00000398242.2\"; gene_type \"pseudogene\"; gene_status \"KNOWN\"; gene_name \"LA16c-60H5.7\"; transcript_type \"processed_pseudogene\"; transcript_status \"KNOWN\"; transcript_name \"LA16c-60H5.7-001\"; level 1; ont \"PGO:0000004\"; tag \"pseudo_consens\"; havana_gene \"OTTHUMG00000140200.1\"; havana_transcript \"OTTHUMT00000276581.1\";\n",
      "chr22\tHAVANA\ttranscript\t16147979\t16192971\t.\t-\t.\tgene_id \"ENSG00000206195.6\"; transcript_id \"ENST00000447898.1\"; gene_type \"processed_transcript\"; gene_status \"NOVEL\"; gene_name \"AP000525.9\"; transcript_type \"lincRNA\"; transcript_status \"KNOWN\"; transcript_name \"AP000525.9-002\"; level 2; tag \"basic\"; havana_gene \"OTTHUMG00000185288.2\"; havana_transcript \"OTTHUMT00000276780.1\";\n",
      "chr22\tHAVANA\ttranscript\t16150255\t16193000\t.\t-\t.\tgene_id \"ENSG00000206195.6\"; transcript_id \"ENST00000437781.1\"; gene_type \"processed_transcript\"; gene_status \"NOVEL\"; gene_name \"AP000525.9\"; transcript_type \"lincRNA\"; transcript_status \"KNOWN\"; transcript_name \"AP000525.9-003\"; level 2; havana_gene \"OTTHUMG00000185288.2\"; havana_transcript \"OTTHUMT00000276579.1\";\n",
      "chr22\tHAVANA\ttranscript\t16150529\t16193004\t.\t-\t.\tgene_id \"ENSG00000206195.6\"; transcript_id \"ENST00000413768.1\"; gene_type \"processed_transcript\"; gene_status \"NOVEL\"; gene_name \"AP000525.9\"; transcript_type \"lincRNA\"; transcript_status \"KNOWN\"; transcript_name \"AP000525.9-001\"; level 2; tag \"non_canonical_polymorphism\"; havana_gene \"OTTHUMG00000185288.2\"; havana_transcript \"OTTHUMT00000276578.1\";\n",
      "chr22\tHAVANA\ttranscript\t16158798\t16192995\t.\t-\t.\tgene_id \"ENSG00000206195.6\"; transcript_id \"ENST00000383038.3\"; gene_type \"processed_transcript\"; gene_status \"NOVEL\"; gene_name \"AP000525.9\"; transcript_type \"processed_transcript\"; transcript_status \"KNOWN\"; transcript_name \"AP000525.9-004\"; level 2; havana_gene \"OTTHUMG00000185288.2\"; havana_transcript \"OTTHUMT00000276577.1\";\n",
      "chr22\tHAVANA\ttranscript\t16158829\t16159470\t.\t-\t.\tgene_id \"ENSG00000206195.6\"; transcript_id \"ENST00000607933.1\"; gene_type \"processed_transcript\"; gene_status \"NOVEL\"; gene_name \"AP000525.9\"; transcript_type \"processed_transcript\"; transcript_status \"KNOWN\"; transcript_name \"AP000525.9-006\"; level 2; havana_gene \"OTTHUMG00000185288.2\"; havana_transcript \"OTTHUMT00000472240.1\";\n",
      "--- Random 10 lines ---\n",
      "chr22\tHAVANA\ttranscript\t16084249\t16084826\t.\t-\t.\tgene_id \"ENSG00000235265.1\"; transcript_id \"ENST00000413156.1\"; gene_type \"pseudogene\"; gene_status \"KNOWN\"; gene_name \"LA16c-4G1.5\"; transcript_type \"unprocessed_pseudogene\"; transcript_status \"KNOWN\"; transcript_name \"LA16c-4G1.5-001\"; level 2; ont \"PGO:0000005\"; havana_gene \"OTTHUMG00000140197.1\"; havana_transcript \"OTTHUMT00000276576.1\";\n",
      "chr22\tHAVANA\ttranscript\t16100517\t16124973\t.\t-\t.\tgene_id \"ENSG00000223875.1\"; transcript_id \"ENST00000420638.1\"; gene_type \"pseudogene\"; gene_status \"KNOWN\"; gene_name \"NBEAP3\"; transcript_type \"unprocessed_pseudogene\"; transcript_status \"KNOWN\"; transcript_name \"NBEAP3-001\"; level 2; ont \"PGO:0000005\"; havana_gene \"OTTHUMG00000140196.1\"; havana_transcript \"OTTHUMT00000276575.1\";\n",
      "chr22\tHAVANA\ttranscript\t16122720\t16123768\t.\t+\t.\tgene_id \"ENSG00000215270.3\"; transcript_id \"ENST00000398242.2\"; gene_type \"pseudogene\"; gene_status \"KNOWN\"; gene_name \"LA16c-60H5.7\"; transcript_type \"processed_pseudogene\"; transcript_status \"KNOWN\"; transcript_name \"LA16c-60H5.7-001\"; level 1; ont \"PGO:0000004\"; tag \"pseudo_consens\"; havana_gene \"OTTHUMG00000140200.1\"; havana_transcript \"OTTHUMT00000276581.1\";\n",
      "chr22\tHAVANA\ttranscript\t16150255\t16193000\t.\t-\t.\tgene_id \"ENSG00000206195.6\"; transcript_id \"ENST00000437781.1\"; gene_type \"processed_transcript\"; gene_status \"NOVEL\"; gene_name \"AP000525.9\"; transcript_type \"lincRNA\"; transcript_status \"KNOWN\"; transcript_name \"AP000525.9-003\"; level 2; havana_gene \"OTTHUMG00000185288.2\"; havana_transcript \"OTTHUMT00000276579.1\";\n",
      "chr22\tHAVANA\ttranscript\t16150529\t16193004\t.\t-\t.\tgene_id \"ENSG00000206195.6\"; transcript_id \"ENST00000413768.1\"; gene_type \"processed_transcript\"; gene_status \"NOVEL\"; gene_name \"AP000525.9\"; transcript_type \"lincRNA\"; transcript_status \"KNOWN\"; transcript_name \"AP000525.9-001\"; level 2; tag \"non_canonical_polymorphism\"; havana_gene \"OTTHUMG00000185288.2\"; havana_transcript \"OTTHUMT00000276578.1\";\n",
      "chr22\tHAVANA\ttranscript\t16158798\t16192995\t.\t-\t.\tgene_id \"ENSG00000206195.6\"; transcript_id \"ENST00000383038.3\"; gene_type \"processed_transcript\"; gene_status \"NOVEL\"; gene_name \"AP000525.9\"; transcript_type \"processed_transcript\"; transcript_status \"KNOWN\"; transcript_name \"AP000525.9-004\"; level 2; havana_gene \"OTTHUMG00000185288.2\"; havana_transcript \"OTTHUMT00000276577.1\";\n",
      "chr22\tHAVANA\ttranscript\t16158829\t16159470\t.\t-\t.\tgene_id \"ENSG00000206195.6\"; transcript_id \"ENST00000607933.1\"; gene_type \"processed_transcript\"; gene_status \"NOVEL\"; gene_name \"AP000525.9\"; transcript_type \"processed_transcript\"; transcript_status \"KNOWN\"; transcript_name \"AP000525.9-006\"; level 2; havana_gene \"OTTHUMG00000185288.2\"; havana_transcript \"OTTHUMT00000472240.1\";\n",
      "chr22\tHAVANA\ttranscript\t16150776\t16151397\t.\t-\t.\tgene_id \"ENSG00000271672.1\"; transcript_id \"ENST00000456786.2\"; gene_type \"pseudogene\"; gene_status \"KNOWN\"; gene_name \"DUXAP8\"; transcript_type \"transcribed_processed_pseudogene\"; transcript_status \"KNOWN\"; transcript_name \"DUXAP8-001\"; level 1; ont \"PGO:0000004\"; ont \"PGO:0000019\"; tag \"pseudo_consens\"; havana_gene \"OTTHUMG00000140194.3\"; havana_transcript \"OTTHUMT00000276572.3\";\n",
      "chr22\tHAVANA\ttranscript\t16162066\t16172700\t.\t+\t.\tgene_id \"ENSG00000232775.2\"; transcript_id \"ENST00000440946.1\"; gene_type \"pseudogene\"; gene_status \"KNOWN\"; gene_name \"AP000525.10\"; transcript_type \"processed_transcript\"; transcript_status \"KNOWN\"; transcript_name \"AP000525.10-002\"; level 2; tag \"basic\"; havana_gene \"OTTHUMG00000140198.3\"; havana_transcript \"OTTHUMT00000276785.1\";\n",
      "chr22\tHAVANA\ttranscript\t16255355\t16256477\t.\t-\t.\tgene_id \"ENSG00000241838.2\"; transcript_id \"ENST00000417657.1\"; gene_type \"pseudogene\"; gene_status \"KNOWN\"; gene_name \"LA16c-3G11.7\"; transcript_type \"processed_pseudogene\"; transcript_status \"KNOWN\"; transcript_name \"LA16c-3G11.7-001\"; level 1; ont \"PGO:0000004\"; tag \"pseudo_consens\"; havana_gene \"OTTHUMG00000140315.1\"; havana_transcript \"OTTHUMT00000276919.1\";\n",
      "--- Last 10 lines ---\n",
      "chr22\tHAVANA\ttranscript\t51205934\t51222090\t.\t-\t.\tgene_id \"ENSG00000079974.13\"; transcript_id \"ENST00000395591.1\"; gene_type \"protein_coding\"; gene_status \"KNOWN\"; gene_name \"RABL2B\"; transcript_type \"protein_coding\"; transcript_status \"NOVEL\"; transcript_name \"RABL2B-003\"; level 2; tag \"basic\"; havana_gene \"OTTHUMG00000150156.3\"; havana_transcript \"OTTHUMT00000316608.1\";\n",
      "chr22\tHAVANA\ttranscript\t51205934\t51222091\t.\t-\t.\tgene_id \"ENSG00000079974.13\"; transcript_id \"ENST00000395595.3\"; gene_type \"protein_coding\"; gene_status \"KNOWN\"; gene_name \"RABL2B\"; transcript_type \"protein_coding\"; transcript_status \"KNOWN\"; transcript_name \"RABL2B-006\"; level 2; tag \"basic\"; tag \"appris_candidate_longest\"; tag \"CCDS\"; ccdsid \"CCDS33683.1\"; havana_gene \"OTTHUMG00000150156.3\"; havana_transcript \"OTTHUMT00000316611.1\";\n",
      "chr22\tHAVANA\ttranscript\t51205937\t51208930\t.\t-\t.\tgene_id \"ENSG00000079974.13\"; transcript_id \"ENST00000465063.1\"; gene_type \"protein_coding\"; gene_status \"KNOWN\"; gene_name \"RABL2B\"; transcript_type \"processed_transcript\"; transcript_status \"KNOWN\"; transcript_name \"RABL2B-010\"; level 2; tag \"basic\"; havana_gene \"OTTHUMG00000150156.3\"; havana_transcript \"OTTHUMT00000316615.1\";\n",
      "chr22\tHAVANA\ttranscript\t51205958\t51222066\t.\t-\t.\tgene_id \"ENSG00000079974.13\"; transcript_id \"ENST00000436958.1\"; gene_type \"protein_coding\"; gene_status \"KNOWN\"; gene_name \"RABL2B\"; transcript_type \"nonsense_mediated_decay\"; transcript_status \"KNOWN\"; transcript_name \"RABL2B-002\"; level 2; havana_gene \"OTTHUMG00000150156.3\"; havana_transcript \"OTTHUMT00000316607.1\";\n",
      "chr22\tHAVANA\ttranscript\t51207955\t51214261\t.\t-\t.\tgene_id \"ENSG00000079974.13\"; transcript_id \"ENST00000482308.1\"; gene_type \"protein_coding\"; gene_status \"KNOWN\"; gene_name \"RABL2B\"; transcript_type \"retained_intron\"; transcript_status \"KNOWN\"; transcript_name \"RABL2B-013\"; level 2; havana_gene \"OTTHUMG00000150156.3\"; havana_transcript \"OTTHUMT00000349056.1\";\n",
      "chr22\tHAVANA\ttranscript\t51208210\t51221714\t.\t-\t.\tgene_id \"ENSG00000079974.13\"; transcript_id \"ENST00000464678.1\"; gene_type \"protein_coding\"; gene_status \"KNOWN\"; gene_name \"RABL2B\"; transcript_type \"retained_intron\"; transcript_status \"KNOWN\"; transcript_name \"RABL2B-012\"; level 2; havana_gene \"OTTHUMG00000150156.3\"; havana_transcript \"OTTHUMT00000349055.1\";\n",
      "chr22\tHAVANA\ttranscript\t51209638\t51222058\t.\t-\t.\tgene_id \"ENSG00000079974.13\"; transcript_id \"ENST00000395590.1\"; gene_type \"protein_coding\"; gene_status \"KNOWN\"; gene_name \"RABL2B\"; transcript_type \"protein_coding\"; transcript_status \"PUTATIVE\"; transcript_name \"RABL2B-004\"; level 2; tag \"basic\"; havana_gene \"OTTHUMG00000150156.3\"; havana_transcript \"OTTHUMT00000316609.1\";\n",
      "chr22\tHAVANA\ttranscript\t51214199\t51222028\t.\t-\t.\tgene_id \"ENSG00000079974.13\"; transcript_id \"ENST00000468451.1\"; gene_type \"protein_coding\"; gene_status \"KNOWN\"; gene_name \"RABL2B\"; transcript_type \"nonsense_mediated_decay\"; transcript_status \"KNOWN\"; transcript_name \"RABL2B-014\"; level 2; havana_gene \"OTTHUMG00000150156.3\"; havana_transcript \"OTTHUMT00000349057.1\";\n",
      "chr22\tHAVANA\ttranscript\t51216088\t51222058\t.\t-\t.\tgene_id \"ENSG00000079974.13\"; transcript_id \"ENST00000464740.1\"; gene_type \"protein_coding\"; gene_status \"KNOWN\"; gene_name \"RABL2B\"; transcript_type \"retained_intron\"; transcript_status \"KNOWN\"; transcript_name \"RABL2B-015\"; level 2; havana_gene \"OTTHUMG00000150156.3\"; havana_transcript \"OTTHUMT00000349058.1\";\n",
      "chr22\tHAVANA\ttranscript\t51220662\t51221473\t.\t-\t.\tgene_id \"ENSG00000079974.13\"; transcript_id \"ENST00000413505.1\"; gene_type \"protein_coding\"; gene_status \"KNOWN\"; gene_name \"RABL2B\"; transcript_type \"protein_coding\"; transcript_status \"KNOWN\"; transcript_name \"RABL2B-011\"; level 2; tag \"alternative_5_UTR\"; tag \"mRNA_end_NF\"; tag \"cds_end_NF\"; havana_gene \"OTTHUMG00000150156.3\"; havana_transcript \"OTTHUMT00000316616.2\";\n",
      "\n"
     ]
    }
   ],
   "source": [
    "print(exercise2)"
   ]
  },
  {
   "cell_type": "code",
   "execution_count": 19,
   "metadata": {
    "collapsed": true,
    "nbgrader": {
     "grade": true,
     "grade_id": "07_ex2_genes_gtf_tests",
     "locked": true,
     "points": 5,
     "solution": false
    }
   },
   "outputs": [],
   "source": [
    "answer2 = '''4459 gencode.v19.annotation.chr22.transcript.gtf\n",
    "--- First 10 lines ---\n",
    "chr22\tHAVANA\ttranscript\t16062157\t16063236\t.\t+\t.\tgene_id \"ENSG00000233866.1\"; transcript_id \"ENST00000424770.1\"; gene_type \"lincRNA\"; gene_status \"KNOWN\"; gene_name \"LA16c-4G1.3\"; transcript_type \"lincRNA\"; transcript_status \"KNOWN\"; transcript_name \"LA16c-4G1.3-001\"; level 2; tag \"basic\"; havana_gene \"OTTHUMG00000140195.1\"; havana_transcript \"OTTHUMT00000276574.1\";\n",
    "chr22\tHAVANA\ttranscript\t16076052\t16076172\t.\t-\t.\tgene_id \"ENSG00000229286.1\"; transcript_id \"ENST00000448070.1\"; gene_type \"pseudogene\"; gene_status \"KNOWN\"; gene_name \"LA16c-4G1.4\"; transcript_type \"unprocessed_pseudogene\"; transcript_status \"KNOWN\"; transcript_name \"LA16c-4G1.4-001\"; level 2; ont \"PGO:0000005\"; havana_gene \"OTTHUMG00000140193.1\"; havana_transcript \"OTTHUMT00000276571.1\";\n",
    "chr22\tHAVANA\ttranscript\t16084249\t16084826\t.\t-\t.\tgene_id \"ENSG00000235265.1\"; transcript_id \"ENST00000413156.1\"; gene_type \"pseudogene\"; gene_status \"KNOWN\"; gene_name \"LA16c-4G1.5\"; transcript_type \"unprocessed_pseudogene\"; transcript_status \"KNOWN\"; transcript_name \"LA16c-4G1.5-001\"; level 2; ont \"PGO:0000005\"; havana_gene \"OTTHUMG00000140197.1\"; havana_transcript \"OTTHUMT00000276576.1\";\n",
    "chr22\tHAVANA\ttranscript\t16100517\t16124973\t.\t-\t.\tgene_id \"ENSG00000223875.1\"; transcript_id \"ENST00000420638.1\"; gene_type \"pseudogene\"; gene_status \"KNOWN\"; gene_name \"NBEAP3\"; transcript_type \"unprocessed_pseudogene\"; transcript_status \"KNOWN\"; transcript_name \"NBEAP3-001\"; level 2; ont \"PGO:0000005\"; havana_gene \"OTTHUMG00000140196.1\"; havana_transcript \"OTTHUMT00000276575.1\";\n",
    "chr22\tHAVANA\ttranscript\t16122720\t16123768\t.\t+\t.\tgene_id \"ENSG00000215270.3\"; transcript_id \"ENST00000398242.2\"; gene_type \"pseudogene\"; gene_status \"KNOWN\"; gene_name \"LA16c-60H5.7\"; transcript_type \"processed_pseudogene\"; transcript_status \"KNOWN\"; transcript_name \"LA16c-60H5.7-001\"; level 1; ont \"PGO:0000004\"; tag \"pseudo_consens\"; havana_gene \"OTTHUMG00000140200.1\"; havana_transcript \"OTTHUMT00000276581.1\";\n",
    "chr22\tHAVANA\ttranscript\t16147979\t16192971\t.\t-\t.\tgene_id \"ENSG00000206195.6\"; transcript_id \"ENST00000447898.1\"; gene_type \"processed_transcript\"; gene_status \"NOVEL\"; gene_name \"AP000525.9\"; transcript_type \"lincRNA\"; transcript_status \"KNOWN\"; transcript_name \"AP000525.9-002\"; level 2; tag \"basic\"; havana_gene \"OTTHUMG00000185288.2\"; havana_transcript \"OTTHUMT00000276780.1\";\n",
    "chr22\tHAVANA\ttranscript\t16150255\t16193000\t.\t-\t.\tgene_id \"ENSG00000206195.6\"; transcript_id \"ENST00000437781.1\"; gene_type \"processed_transcript\"; gene_status \"NOVEL\"; gene_name \"AP000525.9\"; transcript_type \"lincRNA\"; transcript_status \"KNOWN\"; transcript_name \"AP000525.9-003\"; level 2; havana_gene \"OTTHUMG00000185288.2\"; havana_transcript \"OTTHUMT00000276579.1\";\n",
    "chr22\tHAVANA\ttranscript\t16150529\t16193004\t.\t-\t.\tgene_id \"ENSG00000206195.6\"; transcript_id \"ENST00000413768.1\"; gene_type \"processed_transcript\"; gene_status \"NOVEL\"; gene_name \"AP000525.9\"; transcript_type \"lincRNA\"; transcript_status \"KNOWN\"; transcript_name \"AP000525.9-001\"; level 2; tag \"non_canonical_polymorphism\"; havana_gene \"OTTHUMG00000185288.2\"; havana_transcript \"OTTHUMT00000276578.1\";\n",
    "chr22\tHAVANA\ttranscript\t16158798\t16192995\t.\t-\t.\tgene_id \"ENSG00000206195.6\"; transcript_id \"ENST00000383038.3\"; gene_type \"processed_transcript\"; gene_status \"NOVEL\"; gene_name \"AP000525.9\"; transcript_type \"processed_transcript\"; transcript_status \"KNOWN\"; transcript_name \"AP000525.9-004\"; level 2; havana_gene \"OTTHUMG00000185288.2\"; havana_transcript \"OTTHUMT00000276577.1\";\n",
    "chr22\tHAVANA\ttranscript\t16158829\t16159470\t.\t-\t.\tgene_id \"ENSG00000206195.6\"; transcript_id \"ENST00000607933.1\"; gene_type \"processed_transcript\"; gene_status \"NOVEL\"; gene_name \"AP000525.9\"; transcript_type \"processed_transcript\"; transcript_status \"KNOWN\"; transcript_name \"AP000525.9-006\"; level 2; havana_gene \"OTTHUMG00000185288.2\"; havana_transcript \"OTTHUMT00000472240.1\";\n",
    "--- Random 10 lines ---\n",
    "chr22\tHAVANA\ttranscript\t16084249\t16084826\t.\t-\t.\tgene_id \"ENSG00000235265.1\"; transcript_id \"ENST00000413156.1\"; gene_type \"pseudogene\"; gene_status \"KNOWN\"; gene_name \"LA16c-4G1.5\"; transcript_type \"unprocessed_pseudogene\"; transcript_status \"KNOWN\"; transcript_name \"LA16c-4G1.5-001\"; level 2; ont \"PGO:0000005\"; havana_gene \"OTTHUMG00000140197.1\"; havana_transcript \"OTTHUMT00000276576.1\";\n",
    "chr22\tHAVANA\ttranscript\t16100517\t16124973\t.\t-\t.\tgene_id \"ENSG00000223875.1\"; transcript_id \"ENST00000420638.1\"; gene_type \"pseudogene\"; gene_status \"KNOWN\"; gene_name \"NBEAP3\"; transcript_type \"unprocessed_pseudogene\"; transcript_status \"KNOWN\"; transcript_name \"NBEAP3-001\"; level 2; ont \"PGO:0000005\"; havana_gene \"OTTHUMG00000140196.1\"; havana_transcript \"OTTHUMT00000276575.1\";\n",
    "chr22\tHAVANA\ttranscript\t16122720\t16123768\t.\t+\t.\tgene_id \"ENSG00000215270.3\"; transcript_id \"ENST00000398242.2\"; gene_type \"pseudogene\"; gene_status \"KNOWN\"; gene_name \"LA16c-60H5.7\"; transcript_type \"processed_pseudogene\"; transcript_status \"KNOWN\"; transcript_name \"LA16c-60H5.7-001\"; level 1; ont \"PGO:0000004\"; tag \"pseudo_consens\"; havana_gene \"OTTHUMG00000140200.1\"; havana_transcript \"OTTHUMT00000276581.1\";\n",
    "chr22\tHAVANA\ttranscript\t16150255\t16193000\t.\t-\t.\tgene_id \"ENSG00000206195.6\"; transcript_id \"ENST00000437781.1\"; gene_type \"processed_transcript\"; gene_status \"NOVEL\"; gene_name \"AP000525.9\"; transcript_type \"lincRNA\"; transcript_status \"KNOWN\"; transcript_name \"AP000525.9-003\"; level 2; havana_gene \"OTTHUMG00000185288.2\"; havana_transcript \"OTTHUMT00000276579.1\";\n",
    "chr22\tHAVANA\ttranscript\t16150529\t16193004\t.\t-\t.\tgene_id \"ENSG00000206195.6\"; transcript_id \"ENST00000413768.1\"; gene_type \"processed_transcript\"; gene_status \"NOVEL\"; gene_name \"AP000525.9\"; transcript_type \"lincRNA\"; transcript_status \"KNOWN\"; transcript_name \"AP000525.9-001\"; level 2; tag \"non_canonical_polymorphism\"; havana_gene \"OTTHUMG00000185288.2\"; havana_transcript \"OTTHUMT00000276578.1\";\n",
    "chr22\tHAVANA\ttranscript\t16158798\t16192995\t.\t-\t.\tgene_id \"ENSG00000206195.6\"; transcript_id \"ENST00000383038.3\"; gene_type \"processed_transcript\"; gene_status \"NOVEL\"; gene_name \"AP000525.9\"; transcript_type \"processed_transcript\"; transcript_status \"KNOWN\"; transcript_name \"AP000525.9-004\"; level 2; havana_gene \"OTTHUMG00000185288.2\"; havana_transcript \"OTTHUMT00000276577.1\";\n",
    "chr22\tHAVANA\ttranscript\t16158829\t16159470\t.\t-\t.\tgene_id \"ENSG00000206195.6\"; transcript_id \"ENST00000607933.1\"; gene_type \"processed_transcript\"; gene_status \"NOVEL\"; gene_name \"AP000525.9\"; transcript_type \"processed_transcript\"; transcript_status \"KNOWN\"; transcript_name \"AP000525.9-006\"; level 2; havana_gene \"OTTHUMG00000185288.2\"; havana_transcript \"OTTHUMT00000472240.1\";\n",
    "chr22\tHAVANA\ttranscript\t16150776\t16151397\t.\t-\t.\tgene_id \"ENSG00000271672.1\"; transcript_id \"ENST00000456786.2\"; gene_type \"pseudogene\"; gene_status \"KNOWN\"; gene_name \"DUXAP8\"; transcript_type \"transcribed_processed_pseudogene\"; transcript_status \"KNOWN\"; transcript_name \"DUXAP8-001\"; level 1; ont \"PGO:0000004\"; ont \"PGO:0000019\"; tag \"pseudo_consens\"; havana_gene \"OTTHUMG00000140194.3\"; havana_transcript \"OTTHUMT00000276572.3\";\n",
    "chr22\tHAVANA\ttranscript\t16162066\t16172700\t.\t+\t.\tgene_id \"ENSG00000232775.2\"; transcript_id \"ENST00000440946.1\"; gene_type \"pseudogene\"; gene_status \"KNOWN\"; gene_name \"AP000525.10\"; transcript_type \"processed_transcript\"; transcript_status \"KNOWN\"; transcript_name \"AP000525.10-002\"; level 2; tag \"basic\"; havana_gene \"OTTHUMG00000140198.3\"; havana_transcript \"OTTHUMT00000276785.1\";\n",
    "chr22\tHAVANA\ttranscript\t16255355\t16256477\t.\t-\t.\tgene_id \"ENSG00000241838.2\"; transcript_id \"ENST00000417657.1\"; gene_type \"pseudogene\"; gene_status \"KNOWN\"; gene_name \"LA16c-3G11.7\"; transcript_type \"processed_pseudogene\"; transcript_status \"KNOWN\"; transcript_name \"LA16c-3G11.7-001\"; level 1; ont \"PGO:0000004\"; tag \"pseudo_consens\"; havana_gene \"OTTHUMG00000140315.1\"; havana_transcript \"OTTHUMT00000276919.1\";\n",
    "--- Last 10 lines ---\n",
    "chr22\tHAVANA\ttranscript\t51205934\t51222090\t.\t-\t.\tgene_id \"ENSG00000079974.13\"; transcript_id \"ENST00000395591.1\"; gene_type \"protein_coding\"; gene_status \"KNOWN\"; gene_name \"RABL2B\"; transcript_type \"protein_coding\"; transcript_status \"NOVEL\"; transcript_name \"RABL2B-003\"; level 2; tag \"basic\"; havana_gene \"OTTHUMG00000150156.3\"; havana_transcript \"OTTHUMT00000316608.1\";\n",
    "chr22\tHAVANA\ttranscript\t51205934\t51222091\t.\t-\t.\tgene_id \"ENSG00000079974.13\"; transcript_id \"ENST00000395595.3\"; gene_type \"protein_coding\"; gene_status \"KNOWN\"; gene_name \"RABL2B\"; transcript_type \"protein_coding\"; transcript_status \"KNOWN\"; transcript_name \"RABL2B-006\"; level 2; tag \"basic\"; tag \"appris_candidate_longest\"; tag \"CCDS\"; ccdsid \"CCDS33683.1\"; havana_gene \"OTTHUMG00000150156.3\"; havana_transcript \"OTTHUMT00000316611.1\";\n",
    "chr22\tHAVANA\ttranscript\t51205937\t51208930\t.\t-\t.\tgene_id \"ENSG00000079974.13\"; transcript_id \"ENST00000465063.1\"; gene_type \"protein_coding\"; gene_status \"KNOWN\"; gene_name \"RABL2B\"; transcript_type \"processed_transcript\"; transcript_status \"KNOWN\"; transcript_name \"RABL2B-010\"; level 2; tag \"basic\"; havana_gene \"OTTHUMG00000150156.3\"; havana_transcript \"OTTHUMT00000316615.1\";\n",
    "chr22\tHAVANA\ttranscript\t51205958\t51222066\t.\t-\t.\tgene_id \"ENSG00000079974.13\"; transcript_id \"ENST00000436958.1\"; gene_type \"protein_coding\"; gene_status \"KNOWN\"; gene_name \"RABL2B\"; transcript_type \"nonsense_mediated_decay\"; transcript_status \"KNOWN\"; transcript_name \"RABL2B-002\"; level 2; havana_gene \"OTTHUMG00000150156.3\"; havana_transcript \"OTTHUMT00000316607.1\";\n",
    "chr22\tHAVANA\ttranscript\t51207955\t51214261\t.\t-\t.\tgene_id \"ENSG00000079974.13\"; transcript_id \"ENST00000482308.1\"; gene_type \"protein_coding\"; gene_status \"KNOWN\"; gene_name \"RABL2B\"; transcript_type \"retained_intron\"; transcript_status \"KNOWN\"; transcript_name \"RABL2B-013\"; level 2; havana_gene \"OTTHUMG00000150156.3\"; havana_transcript \"OTTHUMT00000349056.1\";\n",
    "chr22\tHAVANA\ttranscript\t51208210\t51221714\t.\t-\t.\tgene_id \"ENSG00000079974.13\"; transcript_id \"ENST00000464678.1\"; gene_type \"protein_coding\"; gene_status \"KNOWN\"; gene_name \"RABL2B\"; transcript_type \"retained_intron\"; transcript_status \"KNOWN\"; transcript_name \"RABL2B-012\"; level 2; havana_gene \"OTTHUMG00000150156.3\"; havana_transcript \"OTTHUMT00000349055.1\";\n",
    "chr22\tHAVANA\ttranscript\t51209638\t51222058\t.\t-\t.\tgene_id \"ENSG00000079974.13\"; transcript_id \"ENST00000395590.1\"; gene_type \"protein_coding\"; gene_status \"KNOWN\"; gene_name \"RABL2B\"; transcript_type \"protein_coding\"; transcript_status \"PUTATIVE\"; transcript_name \"RABL2B-004\"; level 2; tag \"basic\"; havana_gene \"OTTHUMG00000150156.3\"; havana_transcript \"OTTHUMT00000316609.1\";\n",
    "chr22\tHAVANA\ttranscript\t51214199\t51222028\t.\t-\t.\tgene_id \"ENSG00000079974.13\"; transcript_id \"ENST00000468451.1\"; gene_type \"protein_coding\"; gene_status \"KNOWN\"; gene_name \"RABL2B\"; transcript_type \"nonsense_mediated_decay\"; transcript_status \"KNOWN\"; transcript_name \"RABL2B-014\"; level 2; havana_gene \"OTTHUMG00000150156.3\"; havana_transcript \"OTTHUMT00000349057.1\";\n",
    "chr22\tHAVANA\ttranscript\t51216088\t51222058\t.\t-\t.\tgene_id \"ENSG00000079974.13\"; transcript_id \"ENST00000464740.1\"; gene_type \"protein_coding\"; gene_status \"KNOWN\"; gene_name \"RABL2B\"; transcript_type \"retained_intron\"; transcript_status \"KNOWN\"; transcript_name \"RABL2B-015\"; level 2; havana_gene \"OTTHUMG00000150156.3\"; havana_transcript \"OTTHUMT00000349058.1\";\n",
    "chr22\tHAVANA\ttranscript\t51220662\t51221473\t.\t-\t.\tgene_id \"ENSG00000079974.13\"; transcript_id \"ENST00000413505.1\"; gene_type \"protein_coding\"; gene_status \"KNOWN\"; gene_name \"RABL2B\"; transcript_type \"protein_coding\"; transcript_status \"KNOWN\"; transcript_name \"RABL2B-011\"; level 2; tag \"alternative_5_UTR\"; tag \"mRNA_end_NF\"; tag \"cds_end_NF\"; havana_gene \"OTTHUMG00000150156.3\"; havana_transcript \"OTTHUMT00000316616.2\";'''\n",
    "\n",
    "# Remove whitespace at the beginning and end of the exercise 2 result\n",
    "exercise2 = exercise2.strip()\n",
    "assert exercise2 == answer2"
   ]
  },
  {
   "cell_type": "markdown",
   "metadata": {
    "nbgrader": {
     "grade": false,
     "grade_id": "08_bedtools",
     "locked": true,
     "solution": false
    }
   },
   "source": [
    "## Use Bedtools to get promoters and overlap with TF binding sites\n",
    "\n",
    "[Bedtools](http://bedtools.readthedocs.org/en/latest/) is a \"swiss-army knife of tools for a wide-range of genomics analysis tasks\". In particular, `bedtools` ***excels*** at \"genome algebra\", the adding and subtracting of genomic regions together. It is used ***EXTENSIVELY*** in bioinformatics and there are few projects that can live without it (or creating their own personal version but who wants to do that?)"
   ]
  },
  {
   "cell_type": "markdown",
   "metadata": {
    "nbgrader": {
     "grade": false,
     "grade_id": "08_module_load_biotools",
     "locked": true,
     "solution": false
    }
   },
   "source": [
    "### Load `biotools` on TSCC which includes Bedtools\n",
    "\n",
    "First, try running `bedtools`. You should see this:\n",
    "\n",
    "```\n",
    "$ bedtools\n",
    "bash: bedtools: command not found\n",
    "```\n",
    "\n",
    "This is because your shell doesn't know anything about the command `bedtools`. To load `bedtools` and other bioinformatics tools to your TSCC account, do\n",
    "\n",
    "```\n",
    "module load biotools\n",
    "```\n",
    "\n",
    "This command has no output. To make sure we have `bedtools` available, use `which` to see the full path to `bedtools`:\n",
    "\n",
    "```\n",
    "$ which bedtools\n",
    "/opt/biotools/bedtools/bin/bedtools\n",
    "```\n",
    "\n",
    "(This is a TSCC-specific thing that the nice system administrators have set up for us but is not a general thing you can do on all servers. Maybe other nice sysadmins on other clusters do this but it is not guaranteed)\n",
    "\n",
    "To see all available modules to load, do `module avail`:\n",
    "\n",
    "```\n",
    "[obotvinnik@tscc-login2 ~]$ module avail\n",
    "\n",
    "-------------------------- /opt/modulefiles/applications/.gnu ---------------------------\n",
    "atlas/3.10.2(default)     hdf5/1.8.14(default)      scalapack/2.0.2(default)\n",
    "boost/1.55.0(default)     lapack/3.5.0(default)     slepc/3.5.3(default)\n",
    "fftw/2.1.5                netcdf/3.6.2              sprng/2.0b(default)\n",
    "fftw/3.3.4(default)       netcdf/4.3.2(default)     sundials/2.5.0(default)\n",
    "gsl/1.16(default)         parmetis/4.0.3(default)   superlu/3.3(default)\n",
    "hdf4/2.10(default)        petsc/3.5.2(default)      trilinos/11.12.1(default)\n",
    "\n",
    "------------------------------- /opt/modulefiles/mpi/.gnu -------------------------------\n",
    "mvapich2_ib/2.1rc2(default) openmpi_ib/1.8.4(default)\n",
    "\n",
    "------------------------- /opt/modulefiles/applications/.intel --------------------------\n",
    "atlas/3.10.2(default)     lapack/3.5.0(default)     scalapack/2.0.2(default)\n",
    "boost/1.55.0(default)     mxml/2.9(default)         slepc/3.5.3(default)\n",
    "fftw/2.1.5                netcdf/3.6.2              sprng/2.0b(default)\n",
    "fftw/3.3.4(default)       netcdf/4.3.2(default)     sundials/2.5.0(default)\n",
    "gsl/1.16(default)         papi/5.4.1(default)       superlu/3.3(default)\n",
    "hdf4/2.10(default)        parmetis/4.0.3(default)   tau/2.23(default)\n",
    "hdf5/1.8.14(default)      pdt/3.20(default)         trilinos/11.12.1(default)\n",
    "ipm/2.0.3(default)        petsc/3.5.2(default)\n",
    "\n",
    "------------------------------ /opt/modulefiles/mpi/.intel ------------------------------\n",
    "mvapich2_ib/2.1rc2(default) openmpi_ib/1.8.4(default)\n",
    "\n",
    "---------------------------- /usr/share/Modules/modulefiles -----------------------------\n",
    "dot              module-info      null             rocks-openmpi_ib\n",
    "module-git       modules          rocks-openmpi    use.own\n",
    "\n",
    "----------------------------------- /etc/modulefiles ------------------------------------\n",
    "openmpi-x86_64\n",
    "\n",
    "------------------------------ /opt/modulefiles/compilers -------------------------------\n",
    "cilk/5.4.6(default)           intel/2015.2.164\n",
    "cmake/3.2.1(default)          mono/3.12.0(default)\n",
    "gnu/4.9.2(default)            pgi/14.9(default)\n",
    "guile/2.0.11(default)         python/1(default)\n",
    "intel/2013_sp1.2.144(default) upc/2.20.0(default)\n",
    "\n",
    "----------------------------- /opt/modulefiles/applications -----------------------------\n",
    "abyss/1.5.2(default)        fsa/1.15.9(default)         mpi4py/1.3.1(default)\n",
    "amber/14(default)           gamess/2014.12(default)     namd/2.10(default)\n",
    "apbs/1.3(default)           gaussian/09.D.01(default)   namd/2.9\n",
    "bbcp/14.09.02.00.0(default) globus/5.2.5                nwchem/6.5(default)\n",
    "bbftp/3.2.1(default)        gmp/6.0.0a(default)         octave/3.8.2(default)\n",
    "beagle/2.1(default)         gnutools/2.69(default)      polymake/2.13.1(default)\n",
    "beast/1.8.0                 gromacs/5.0.4(default)      R/3.2.1(default)\n",
    "beast/1.8.1(default)        idl/8.4(default)            rapidminer/6.1.0(default)\n",
    "beast2/2.1.3(default)       jags/3.4.0(default)         scipy/2.7(default)\n",
    "bioroll/6.2(default)        lammps/20141209(default)    siesta/3.2.5(default)\n",
    "biotools/1(default)         matlab/2013a                stata/13.1(default)\n",
    "blcr/0.8.5(default)         matlab/2013b                vasp/4.6\n",
    "cp2k/2.5.1(default)         matlab/2014a                vasp/5.2.12\n",
    "cpmd/3.17.1(default)        matlab/2014b(default)       vasp/5.2.12.gamma\n",
    "cuda/6.5.19(default)        mkl/11.1.2.144(default)     vasp/5.3.5(default)\n",
    "ddt/4.2.2(default)          mpc/1.0.3(default)          vtk/6.1.0(default)\n",
    "eigen/3.2.3(default)        mpfr/3.1.2(default)         weka/3.7.12(default)\n",
    "```\n",
    "\n",
    "To see everything that's loaded, look in `/opt/biotools/`:\n",
    "\n",
    "```\n",
    "$ ls /opt/biotools/\n",
    "bamtools   blat       cufflinks  GenomeAnalysisTK  miRDeep2  randfold    spades       trinity\n",
    "bedtools   bowtie     dendropy   gmap_gsnap        miso      rseqc       squid        velvet\n",
    "biopython  bowtie2    edena      htseq             picard    samtools    stacks       ViennaRNA\n",
    "bismark    bwa        fastqc     idba-ud           plink     soapdenovo  tophat\n",
    "blast      bx-python  fastx      matt              pysam     SOAPsnp     trimmomatic\n",
    "```"
   ]
  },
  {
   "cell_type": "markdown",
   "metadata": {
    "nbgrader": {
     "grade": false,
     "grade_id": "09_ex3_bedtools_flank_question",
     "locked": true,
     "solution": false
    }
   },
   "source": [
    "### Exercise 3: Use `bedtools flank` to get the promoters\n",
    "\n",
    "Get 2000bp upstream from each gene. The genome we are using is \"`hg19.genome`\", provided in the data directory. Save this file as `gencode.v19.annotation.chr22.transcript.promoter.gtf`\n",
    "\n",
    "Go to the documentation for [bedtools](http://bedtools.readthedocs.org/en/latest/) and find the entry for \"`bedtools flank`\".\n",
    "`bedtools flank -h` is also informative (below)\n",
    "\n",
    "``` \n",
    "$ bedtools flank -h\n",
    "\n",
    "Tool:    bedtools flank (aka flankBed)\n",
    "Version: v2.22.1\n",
    "Summary: Creates flanking interval(s) for each BED/GFF/VCF feature.\n",
    "\n",
    "Usage:   bedtools flank [OPTIONS] -i <bed/gff/vcf> -g <genome> [-b <int> or (-l and -r)]\n",
    "\n",
    "Options: \n",
    "        -b      Create flanking interval(s) using -b base pairs in each direction.\n",
    "                - (Integer) or (Float, e.g. 0.1) if used with -pct.\n",
    "\n",
    "        -l      The number of base pairs that a flank should start from\n",
    "                orig. start coordinate.\n",
    "                - (Integer) or (Float, e.g. 0.1) if used with -pct.\n",
    "\n",
    "        -r      The number of base pairs that a flank should end from\n",
    "                orig. end coordinate.\n",
    "                - (Integer) or (Float, e.g. 0.1) if used with -pct.\n",
    "\n",
    "        -s      Define -l and -r based on strand.\n",
    "                E.g. if used, -l 500 for a negative-stranded feature, \n",
    "                it will start the flank 500 bp downstream.  Default = false.\n",
    "\n",
    "        -pct    Define -l and -r as a fraction of the feature's length.\n",
    "                E.g. if used on a 1000bp feature, -l 0.50, \n",
    "                will add 500 bp \"upstream\".  Default = false.\n",
    "\n",
    "        -header Print the header from the input file prior to results.\n",
    "\n",
    "Notes: \n",
    "        (1)  Starts will be set to 0 if options would force it below 0.\n",
    "        (2)  Ends will be set to the chromosome length if requested flank would\n",
    "        force it above the max chrom length.\n",
    "        (3)  In contrast to slop, which _extends_ intervals, bedtools flank\n",
    "        creates new intervals from the regions just up- and down-stream\n",
    "        of your existing intervals.\n",
    "        (4)  The genome file should tab delimited and structured as follows:\n",
    "\n",
    "        <chromName><TAB><chromSize>\n",
    "\n",
    "        For example, Human (hg19):\n",
    "        chr1    249250621\n",
    "        chr2    243199373\n",
    "        ...\n",
    "        chr18_gl000207_random   4262\n",
    "\n",
    "Tips: \n",
    "        One can use the UCSC Genome Browser's MySQL database to extract\n",
    "        chromosome sizes. For example, H. sapiens:\n",
    "\n",
    "        mysql --user=genome --host=genome-mysql.cse.ucsc.edu -A -e \\\n",
    "        \"select chrom, size from hg19.chromInfo\"  > hg19.genome\n",
    "````\n"
   ]
  },
  {
   "cell_type": "code",
   "execution_count": 20,
   "metadata": {
    "collapsed": false,
    "nbgrader": {
     "grade": false,
     "grade_id": "09_ex3_bedtools_flank_answer",
     "locked": false,
     "solution": true
    }
   },
   "outputs": [],
   "source": [
    "%%bash --out exercise3\n",
    "### BEGIN SOLUTION\n",
    "bedtools flank -l 2000 -r 0 -s -i gencode.v19.annotation.chr22.transcript.gtf -g hg19.genome \\\n",
    "    > gencode.v19.annotation.chr22.transcript.promoter.gtf\n",
    "### END SOLUTION\n",
    "\n",
    "wc -l gencode.v19.annotation.chr22.transcript.promoter.gtf\n",
    "echo '--- First 10 lines ---'\n",
    "head gencode.v19.annotation.chr22.transcript.promoter.gtf\n",
    "echo '--- Random 10 lines ---'\n",
    "awk -v seed=907 'BEGIN{srand(seed);}{ if (rand() < 0.5 ) {print $0}}' gencode.v19.annotation.chr22.transcript.promoter.gtf | head\n",
    "echo '--- Last 10 lines ---'\n",
    "tail gencode.v19.annotation.chr22.transcript.promoter.gtf"
   ]
  },
  {
   "cell_type": "markdown",
   "metadata": {},
   "source": [
    "The following cell is for your debugging purposes. Due to the way we have to set up the notebook to grade it, we add `--out exercise3` next to the `%%bash` magic to save the output of the previous cell to the variable `exercise3`, so here we're printing the output. This is what *would* be shown below the cell if we weren't doing this workaround. This is what is graded."
   ]
  },
  {
   "cell_type": "code",
   "execution_count": 21,
   "metadata": {
    "collapsed": false
   },
   "outputs": [
    {
     "name": "stdout",
     "output_type": "stream",
     "text": [
      "    4459 gencode.v19.annotation.chr22.transcript.promoter.gtf\n",
      "--- First 10 lines ---\n",
      "chr22\tHAVANA\ttranscript\t16060157\t16062156\t.\t+\t.\tgene_id \"ENSG00000233866.1\"; transcript_id \"ENST00000424770.1\"; gene_type \"lincRNA\"; gene_status \"KNOWN\"; gene_name \"LA16c-4G1.3\"; transcript_type \"lincRNA\"; transcript_status \"KNOWN\"; transcript_name \"LA16c-4G1.3-001\"; level 2; tag \"basic\"; havana_gene \"OTTHUMG00000140195.1\"; havana_transcript \"OTTHUMT00000276574.1\";\n",
      "chr22\tHAVANA\ttranscript\t16076173\t16078172\t.\t-\t.\tgene_id \"ENSG00000229286.1\"; transcript_id \"ENST00000448070.1\"; gene_type \"pseudogene\"; gene_status \"KNOWN\"; gene_name \"LA16c-4G1.4\"; transcript_type \"unprocessed_pseudogene\"; transcript_status \"KNOWN\"; transcript_name \"LA16c-4G1.4-001\"; level 2; ont \"PGO:0000005\"; havana_gene \"OTTHUMG00000140193.1\"; havana_transcript \"OTTHUMT00000276571.1\";\n",
      "chr22\tHAVANA\ttranscript\t16084827\t16086826\t.\t-\t.\tgene_id \"ENSG00000235265.1\"; transcript_id \"ENST00000413156.1\"; gene_type \"pseudogene\"; gene_status \"KNOWN\"; gene_name \"LA16c-4G1.5\"; transcript_type \"unprocessed_pseudogene\"; transcript_status \"KNOWN\"; transcript_name \"LA16c-4G1.5-001\"; level 2; ont \"PGO:0000005\"; havana_gene \"OTTHUMG00000140197.1\"; havana_transcript \"OTTHUMT00000276576.1\";\n",
      "chr22\tHAVANA\ttranscript\t16124974\t16126973\t.\t-\t.\tgene_id \"ENSG00000223875.1\"; transcript_id \"ENST00000420638.1\"; gene_type \"pseudogene\"; gene_status \"KNOWN\"; gene_name \"NBEAP3\"; transcript_type \"unprocessed_pseudogene\"; transcript_status \"KNOWN\"; transcript_name \"NBEAP3-001\"; level 2; ont \"PGO:0000005\"; havana_gene \"OTTHUMG00000140196.1\"; havana_transcript \"OTTHUMT00000276575.1\";\n",
      "chr22\tHAVANA\ttranscript\t16120720\t16122719\t.\t+\t.\tgene_id \"ENSG00000215270.3\"; transcript_id \"ENST00000398242.2\"; gene_type \"pseudogene\"; gene_status \"KNOWN\"; gene_name \"LA16c-60H5.7\"; transcript_type \"processed_pseudogene\"; transcript_status \"KNOWN\"; transcript_name \"LA16c-60H5.7-001\"; level 1; ont \"PGO:0000004\"; tag \"pseudo_consens\"; havana_gene \"OTTHUMG00000140200.1\"; havana_transcript \"OTTHUMT00000276581.1\";\n",
      "chr22\tHAVANA\ttranscript\t16192972\t16194971\t.\t-\t.\tgene_id \"ENSG00000206195.6\"; transcript_id \"ENST00000447898.1\"; gene_type \"processed_transcript\"; gene_status \"NOVEL\"; gene_name \"AP000525.9\"; transcript_type \"lincRNA\"; transcript_status \"KNOWN\"; transcript_name \"AP000525.9-002\"; level 2; tag \"basic\"; havana_gene \"OTTHUMG00000185288.2\"; havana_transcript \"OTTHUMT00000276780.1\";\n",
      "chr22\tHAVANA\ttranscript\t16193001\t16195000\t.\t-\t.\tgene_id \"ENSG00000206195.6\"; transcript_id \"ENST00000437781.1\"; gene_type \"processed_transcript\"; gene_status \"NOVEL\"; gene_name \"AP000525.9\"; transcript_type \"lincRNA\"; transcript_status \"KNOWN\"; transcript_name \"AP000525.9-003\"; level 2; havana_gene \"OTTHUMG00000185288.2\"; havana_transcript \"OTTHUMT00000276579.1\";\n",
      "chr22\tHAVANA\ttranscript\t16193005\t16195004\t.\t-\t.\tgene_id \"ENSG00000206195.6\"; transcript_id \"ENST00000413768.1\"; gene_type \"processed_transcript\"; gene_status \"NOVEL\"; gene_name \"AP000525.9\"; transcript_type \"lincRNA\"; transcript_status \"KNOWN\"; transcript_name \"AP000525.9-001\"; level 2; tag \"non_canonical_polymorphism\"; havana_gene \"OTTHUMG00000185288.2\"; havana_transcript \"OTTHUMT00000276578.1\";\n",
      "chr22\tHAVANA\ttranscript\t16192996\t16194995\t.\t-\t.\tgene_id \"ENSG00000206195.6\"; transcript_id \"ENST00000383038.3\"; gene_type \"processed_transcript\"; gene_status \"NOVEL\"; gene_name \"AP000525.9\"; transcript_type \"processed_transcript\"; transcript_status \"KNOWN\"; transcript_name \"AP000525.9-004\"; level 2; havana_gene \"OTTHUMG00000185288.2\"; havana_transcript \"OTTHUMT00000276577.1\";\n",
      "chr22\tHAVANA\ttranscript\t16159471\t16161470\t.\t-\t.\tgene_id \"ENSG00000206195.6\"; transcript_id \"ENST00000607933.1\"; gene_type \"processed_transcript\"; gene_status \"NOVEL\"; gene_name \"AP000525.9\"; transcript_type \"processed_transcript\"; transcript_status \"KNOWN\"; transcript_name \"AP000525.9-006\"; level 2; havana_gene \"OTTHUMG00000185288.2\"; havana_transcript \"OTTHUMT00000472240.1\";\n",
      "--- Random 10 lines ---\n",
      "chr22\tHAVANA\ttranscript\t16084827\t16086826\t.\t-\t.\tgene_id \"ENSG00000235265.1\"; transcript_id \"ENST00000413156.1\"; gene_type \"pseudogene\"; gene_status \"KNOWN\"; gene_name \"LA16c-4G1.5\"; transcript_type \"unprocessed_pseudogene\"; transcript_status \"KNOWN\"; transcript_name \"LA16c-4G1.5-001\"; level 2; ont \"PGO:0000005\"; havana_gene \"OTTHUMG00000140197.1\"; havana_transcript \"OTTHUMT00000276576.1\";\n",
      "chr22\tHAVANA\ttranscript\t16124974\t16126973\t.\t-\t.\tgene_id \"ENSG00000223875.1\"; transcript_id \"ENST00000420638.1\"; gene_type \"pseudogene\"; gene_status \"KNOWN\"; gene_name \"NBEAP3\"; transcript_type \"unprocessed_pseudogene\"; transcript_status \"KNOWN\"; transcript_name \"NBEAP3-001\"; level 2; ont \"PGO:0000005\"; havana_gene \"OTTHUMG00000140196.1\"; havana_transcript \"OTTHUMT00000276575.1\";\n",
      "chr22\tHAVANA\ttranscript\t16120720\t16122719\t.\t+\t.\tgene_id \"ENSG00000215270.3\"; transcript_id \"ENST00000398242.2\"; gene_type \"pseudogene\"; gene_status \"KNOWN\"; gene_name \"LA16c-60H5.7\"; transcript_type \"processed_pseudogene\"; transcript_status \"KNOWN\"; transcript_name \"LA16c-60H5.7-001\"; level 1; ont \"PGO:0000004\"; tag \"pseudo_consens\"; havana_gene \"OTTHUMG00000140200.1\"; havana_transcript \"OTTHUMT00000276581.1\";\n",
      "chr22\tHAVANA\ttranscript\t16193001\t16195000\t.\t-\t.\tgene_id \"ENSG00000206195.6\"; transcript_id \"ENST00000437781.1\"; gene_type \"processed_transcript\"; gene_status \"NOVEL\"; gene_name \"AP000525.9\"; transcript_type \"lincRNA\"; transcript_status \"KNOWN\"; transcript_name \"AP000525.9-003\"; level 2; havana_gene \"OTTHUMG00000185288.2\"; havana_transcript \"OTTHUMT00000276579.1\";\n",
      "chr22\tHAVANA\ttranscript\t16193005\t16195004\t.\t-\t.\tgene_id \"ENSG00000206195.6\"; transcript_id \"ENST00000413768.1\"; gene_type \"processed_transcript\"; gene_status \"NOVEL\"; gene_name \"AP000525.9\"; transcript_type \"lincRNA\"; transcript_status \"KNOWN\"; transcript_name \"AP000525.9-001\"; level 2; tag \"non_canonical_polymorphism\"; havana_gene \"OTTHUMG00000185288.2\"; havana_transcript \"OTTHUMT00000276578.1\";\n",
      "chr22\tHAVANA\ttranscript\t16192996\t16194995\t.\t-\t.\tgene_id \"ENSG00000206195.6\"; transcript_id \"ENST00000383038.3\"; gene_type \"processed_transcript\"; gene_status \"NOVEL\"; gene_name \"AP000525.9\"; transcript_type \"processed_transcript\"; transcript_status \"KNOWN\"; transcript_name \"AP000525.9-004\"; level 2; havana_gene \"OTTHUMG00000185288.2\"; havana_transcript \"OTTHUMT00000276577.1\";\n",
      "chr22\tHAVANA\ttranscript\t16159471\t16161470\t.\t-\t.\tgene_id \"ENSG00000206195.6\"; transcript_id \"ENST00000607933.1\"; gene_type \"processed_transcript\"; gene_status \"NOVEL\"; gene_name \"AP000525.9\"; transcript_type \"processed_transcript\"; transcript_status \"KNOWN\"; transcript_name \"AP000525.9-006\"; level 2; havana_gene \"OTTHUMG00000185288.2\"; havana_transcript \"OTTHUMT00000472240.1\";\n",
      "chr22\tHAVANA\ttranscript\t16151398\t16153397\t.\t-\t.\tgene_id \"ENSG00000271672.1\"; transcript_id \"ENST00000456786.2\"; gene_type \"pseudogene\"; gene_status \"KNOWN\"; gene_name \"DUXAP8\"; transcript_type \"transcribed_processed_pseudogene\"; transcript_status \"KNOWN\"; transcript_name \"DUXAP8-001\"; level 1; ont \"PGO:0000004\"; ont \"PGO:0000019\"; tag \"pseudo_consens\"; havana_gene \"OTTHUMG00000140194.3\"; havana_transcript \"OTTHUMT00000276572.3\";\n",
      "chr22\tHAVANA\ttranscript\t16160066\t16162065\t.\t+\t.\tgene_id \"ENSG00000232775.2\"; transcript_id \"ENST00000440946.1\"; gene_type \"pseudogene\"; gene_status \"KNOWN\"; gene_name \"AP000525.10\"; transcript_type \"processed_transcript\"; transcript_status \"KNOWN\"; transcript_name \"AP000525.10-002\"; level 2; tag \"basic\"; havana_gene \"OTTHUMG00000140198.3\"; havana_transcript \"OTTHUMT00000276785.1\";\n",
      "chr22\tHAVANA\ttranscript\t16256478\t16258477\t.\t-\t.\tgene_id \"ENSG00000241838.2\"; transcript_id \"ENST00000417657.1\"; gene_type \"pseudogene\"; gene_status \"KNOWN\"; gene_name \"LA16c-3G11.7\"; transcript_type \"processed_pseudogene\"; transcript_status \"KNOWN\"; transcript_name \"LA16c-3G11.7-001\"; level 1; ont \"PGO:0000004\"; tag \"pseudo_consens\"; havana_gene \"OTTHUMG00000140315.1\"; havana_transcript \"OTTHUMT00000276919.1\";\n",
      "--- Last 10 lines ---\n",
      "chr22\tHAVANA\ttranscript\t51222091\t51224090\t.\t-\t.\tgene_id \"ENSG00000079974.13\"; transcript_id \"ENST00000395591.1\"; gene_type \"protein_coding\"; gene_status \"KNOWN\"; gene_name \"RABL2B\"; transcript_type \"protein_coding\"; transcript_status \"NOVEL\"; transcript_name \"RABL2B-003\"; level 2; tag \"basic\"; havana_gene \"OTTHUMG00000150156.3\"; havana_transcript \"OTTHUMT00000316608.1\";\n",
      "chr22\tHAVANA\ttranscript\t51222092\t51224091\t.\t-\t.\tgene_id \"ENSG00000079974.13\"; transcript_id \"ENST00000395595.3\"; gene_type \"protein_coding\"; gene_status \"KNOWN\"; gene_name \"RABL2B\"; transcript_type \"protein_coding\"; transcript_status \"KNOWN\"; transcript_name \"RABL2B-006\"; level 2; tag \"basic\"; tag \"appris_candidate_longest\"; tag \"CCDS\"; ccdsid \"CCDS33683.1\"; havana_gene \"OTTHUMG00000150156.3\"; havana_transcript \"OTTHUMT00000316611.1\";\n",
      "chr22\tHAVANA\ttranscript\t51208931\t51210930\t.\t-\t.\tgene_id \"ENSG00000079974.13\"; transcript_id \"ENST00000465063.1\"; gene_type \"protein_coding\"; gene_status \"KNOWN\"; gene_name \"RABL2B\"; transcript_type \"processed_transcript\"; transcript_status \"KNOWN\"; transcript_name \"RABL2B-010\"; level 2; tag \"basic\"; havana_gene \"OTTHUMG00000150156.3\"; havana_transcript \"OTTHUMT00000316615.1\";\n",
      "chr22\tHAVANA\ttranscript\t51222067\t51224066\t.\t-\t.\tgene_id \"ENSG00000079974.13\"; transcript_id \"ENST00000436958.1\"; gene_type \"protein_coding\"; gene_status \"KNOWN\"; gene_name \"RABL2B\"; transcript_type \"nonsense_mediated_decay\"; transcript_status \"KNOWN\"; transcript_name \"RABL2B-002\"; level 2; havana_gene \"OTTHUMG00000150156.3\"; havana_transcript \"OTTHUMT00000316607.1\";\n",
      "chr22\tHAVANA\ttranscript\t51214262\t51216261\t.\t-\t.\tgene_id \"ENSG00000079974.13\"; transcript_id \"ENST00000482308.1\"; gene_type \"protein_coding\"; gene_status \"KNOWN\"; gene_name \"RABL2B\"; transcript_type \"retained_intron\"; transcript_status \"KNOWN\"; transcript_name \"RABL2B-013\"; level 2; havana_gene \"OTTHUMG00000150156.3\"; havana_transcript \"OTTHUMT00000349056.1\";\n",
      "chr22\tHAVANA\ttranscript\t51221715\t51223714\t.\t-\t.\tgene_id \"ENSG00000079974.13\"; transcript_id \"ENST00000464678.1\"; gene_type \"protein_coding\"; gene_status \"KNOWN\"; gene_name \"RABL2B\"; transcript_type \"retained_intron\"; transcript_status \"KNOWN\"; transcript_name \"RABL2B-012\"; level 2; havana_gene \"OTTHUMG00000150156.3\"; havana_transcript \"OTTHUMT00000349055.1\";\n",
      "chr22\tHAVANA\ttranscript\t51222059\t51224058\t.\t-\t.\tgene_id \"ENSG00000079974.13\"; transcript_id \"ENST00000395590.1\"; gene_type \"protein_coding\"; gene_status \"KNOWN\"; gene_name \"RABL2B\"; transcript_type \"protein_coding\"; transcript_status \"PUTATIVE\"; transcript_name \"RABL2B-004\"; level 2; tag \"basic\"; havana_gene \"OTTHUMG00000150156.3\"; havana_transcript \"OTTHUMT00000316609.1\";\n",
      "chr22\tHAVANA\ttranscript\t51222029\t51224028\t.\t-\t.\tgene_id \"ENSG00000079974.13\"; transcript_id \"ENST00000468451.1\"; gene_type \"protein_coding\"; gene_status \"KNOWN\"; gene_name \"RABL2B\"; transcript_type \"nonsense_mediated_decay\"; transcript_status \"KNOWN\"; transcript_name \"RABL2B-014\"; level 2; havana_gene \"OTTHUMG00000150156.3\"; havana_transcript \"OTTHUMT00000349057.1\";\n",
      "chr22\tHAVANA\ttranscript\t51222059\t51224058\t.\t-\t.\tgene_id \"ENSG00000079974.13\"; transcript_id \"ENST00000464740.1\"; gene_type \"protein_coding\"; gene_status \"KNOWN\"; gene_name \"RABL2B\"; transcript_type \"retained_intron\"; transcript_status \"KNOWN\"; transcript_name \"RABL2B-015\"; level 2; havana_gene \"OTTHUMG00000150156.3\"; havana_transcript \"OTTHUMT00000349058.1\";\n",
      "chr22\tHAVANA\ttranscript\t51221474\t51223473\t.\t-\t.\tgene_id \"ENSG00000079974.13\"; transcript_id \"ENST00000413505.1\"; gene_type \"protein_coding\"; gene_status \"KNOWN\"; gene_name \"RABL2B\"; transcript_type \"protein_coding\"; transcript_status \"KNOWN\"; transcript_name \"RABL2B-011\"; level 2; tag \"alternative_5_UTR\"; tag \"mRNA_end_NF\"; tag \"cds_end_NF\"; havana_gene \"OTTHUMG00000150156.3\"; havana_transcript \"OTTHUMT00000316616.2\";\n",
      "\n"
     ]
    }
   ],
   "source": [
    "print(exercise3)"
   ]
  },
  {
   "cell_type": "code",
   "execution_count": 22,
   "metadata": {
    "collapsed": false,
    "nbgrader": {
     "grade": true,
     "grade_id": "09_ex3_bedtools_flank_tests",
     "locked": true,
     "points": 5,
     "solution": false
    }
   },
   "outputs": [],
   "source": [
    "answer3 = '''4459 gencode.v19.annotation.chr22.transcript.promoter.gtf\n",
    "--- First 10 lines ---\n",
    "chr22\tHAVANA\ttranscript\t16060157\t16062156\t.\t+\t.\tgene_id \"ENSG00000233866.1\"; transcript_id \"ENST00000424770.1\"; gene_type \"lincRNA\"; gene_status \"KNOWN\"; gene_name \"LA16c-4G1.3\"; transcript_type \"lincRNA\"; transcript_status \"KNOWN\"; transcript_name \"LA16c-4G1.3-001\"; level 2; tag \"basic\"; havana_gene \"OTTHUMG00000140195.1\"; havana_transcript \"OTTHUMT00000276574.1\";\n",
    "chr22\tHAVANA\ttranscript\t16076173\t16078172\t.\t-\t.\tgene_id \"ENSG00000229286.1\"; transcript_id \"ENST00000448070.1\"; gene_type \"pseudogene\"; gene_status \"KNOWN\"; gene_name \"LA16c-4G1.4\"; transcript_type \"unprocessed_pseudogene\"; transcript_status \"KNOWN\"; transcript_name \"LA16c-4G1.4-001\"; level 2; ont \"PGO:0000005\"; havana_gene \"OTTHUMG00000140193.1\"; havana_transcript \"OTTHUMT00000276571.1\";\n",
    "chr22\tHAVANA\ttranscript\t16084827\t16086826\t.\t-\t.\tgene_id \"ENSG00000235265.1\"; transcript_id \"ENST00000413156.1\"; gene_type \"pseudogene\"; gene_status \"KNOWN\"; gene_name \"LA16c-4G1.5\"; transcript_type \"unprocessed_pseudogene\"; transcript_status \"KNOWN\"; transcript_name \"LA16c-4G1.5-001\"; level 2; ont \"PGO:0000005\"; havana_gene \"OTTHUMG00000140197.1\"; havana_transcript \"OTTHUMT00000276576.1\";\n",
    "chr22\tHAVANA\ttranscript\t16124974\t16126973\t.\t-\t.\tgene_id \"ENSG00000223875.1\"; transcript_id \"ENST00000420638.1\"; gene_type \"pseudogene\"; gene_status \"KNOWN\"; gene_name \"NBEAP3\"; transcript_type \"unprocessed_pseudogene\"; transcript_status \"KNOWN\"; transcript_name \"NBEAP3-001\"; level 2; ont \"PGO:0000005\"; havana_gene \"OTTHUMG00000140196.1\"; havana_transcript \"OTTHUMT00000276575.1\";\n",
    "chr22\tHAVANA\ttranscript\t16120720\t16122719\t.\t+\t.\tgene_id \"ENSG00000215270.3\"; transcript_id \"ENST00000398242.2\"; gene_type \"pseudogene\"; gene_status \"KNOWN\"; gene_name \"LA16c-60H5.7\"; transcript_type \"processed_pseudogene\"; transcript_status \"KNOWN\"; transcript_name \"LA16c-60H5.7-001\"; level 1; ont \"PGO:0000004\"; tag \"pseudo_consens\"; havana_gene \"OTTHUMG00000140200.1\"; havana_transcript \"OTTHUMT00000276581.1\";\n",
    "chr22\tHAVANA\ttranscript\t16192972\t16194971\t.\t-\t.\tgene_id \"ENSG00000206195.6\"; transcript_id \"ENST00000447898.1\"; gene_type \"processed_transcript\"; gene_status \"NOVEL\"; gene_name \"AP000525.9\"; transcript_type \"lincRNA\"; transcript_status \"KNOWN\"; transcript_name \"AP000525.9-002\"; level 2; tag \"basic\"; havana_gene \"OTTHUMG00000185288.2\"; havana_transcript \"OTTHUMT00000276780.1\";\n",
    "chr22\tHAVANA\ttranscript\t16193001\t16195000\t.\t-\t.\tgene_id \"ENSG00000206195.6\"; transcript_id \"ENST00000437781.1\"; gene_type \"processed_transcript\"; gene_status \"NOVEL\"; gene_name \"AP000525.9\"; transcript_type \"lincRNA\"; transcript_status \"KNOWN\"; transcript_name \"AP000525.9-003\"; level 2; havana_gene \"OTTHUMG00000185288.2\"; havana_transcript \"OTTHUMT00000276579.1\";\n",
    "chr22\tHAVANA\ttranscript\t16193005\t16195004\t.\t-\t.\tgene_id \"ENSG00000206195.6\"; transcript_id \"ENST00000413768.1\"; gene_type \"processed_transcript\"; gene_status \"NOVEL\"; gene_name \"AP000525.9\"; transcript_type \"lincRNA\"; transcript_status \"KNOWN\"; transcript_name \"AP000525.9-001\"; level 2; tag \"non_canonical_polymorphism\"; havana_gene \"OTTHUMG00000185288.2\"; havana_transcript \"OTTHUMT00000276578.1\";\n",
    "chr22\tHAVANA\ttranscript\t16192996\t16194995\t.\t-\t.\tgene_id \"ENSG00000206195.6\"; transcript_id \"ENST00000383038.3\"; gene_type \"processed_transcript\"; gene_status \"NOVEL\"; gene_name \"AP000525.9\"; transcript_type \"processed_transcript\"; transcript_status \"KNOWN\"; transcript_name \"AP000525.9-004\"; level 2; havana_gene \"OTTHUMG00000185288.2\"; havana_transcript \"OTTHUMT00000276577.1\";\n",
    "chr22\tHAVANA\ttranscript\t16159471\t16161470\t.\t-\t.\tgene_id \"ENSG00000206195.6\"; transcript_id \"ENST00000607933.1\"; gene_type \"processed_transcript\"; gene_status \"NOVEL\"; gene_name \"AP000525.9\"; transcript_type \"processed_transcript\"; transcript_status \"KNOWN\"; transcript_name \"AP000525.9-006\"; level 2; havana_gene \"OTTHUMG00000185288.2\"; havana_transcript \"OTTHUMT00000472240.1\";\n",
    "--- Random 10 lines ---\n",
    "chr22\tHAVANA\ttranscript\t16084827\t16086826\t.\t-\t.\tgene_id \"ENSG00000235265.1\"; transcript_id \"ENST00000413156.1\"; gene_type \"pseudogene\"; gene_status \"KNOWN\"; gene_name \"LA16c-4G1.5\"; transcript_type \"unprocessed_pseudogene\"; transcript_status \"KNOWN\"; transcript_name \"LA16c-4G1.5-001\"; level 2; ont \"PGO:0000005\"; havana_gene \"OTTHUMG00000140197.1\"; havana_transcript \"OTTHUMT00000276576.1\";\n",
    "chr22\tHAVANA\ttranscript\t16124974\t16126973\t.\t-\t.\tgene_id \"ENSG00000223875.1\"; transcript_id \"ENST00000420638.1\"; gene_type \"pseudogene\"; gene_status \"KNOWN\"; gene_name \"NBEAP3\"; transcript_type \"unprocessed_pseudogene\"; transcript_status \"KNOWN\"; transcript_name \"NBEAP3-001\"; level 2; ont \"PGO:0000005\"; havana_gene \"OTTHUMG00000140196.1\"; havana_transcript \"OTTHUMT00000276575.1\";\n",
    "chr22\tHAVANA\ttranscript\t16120720\t16122719\t.\t+\t.\tgene_id \"ENSG00000215270.3\"; transcript_id \"ENST00000398242.2\"; gene_type \"pseudogene\"; gene_status \"KNOWN\"; gene_name \"LA16c-60H5.7\"; transcript_type \"processed_pseudogene\"; transcript_status \"KNOWN\"; transcript_name \"LA16c-60H5.7-001\"; level 1; ont \"PGO:0000004\"; tag \"pseudo_consens\"; havana_gene \"OTTHUMG00000140200.1\"; havana_transcript \"OTTHUMT00000276581.1\";\n",
    "chr22\tHAVANA\ttranscript\t16193001\t16195000\t.\t-\t.\tgene_id \"ENSG00000206195.6\"; transcript_id \"ENST00000437781.1\"; gene_type \"processed_transcript\"; gene_status \"NOVEL\"; gene_name \"AP000525.9\"; transcript_type \"lincRNA\"; transcript_status \"KNOWN\"; transcript_name \"AP000525.9-003\"; level 2; havana_gene \"OTTHUMG00000185288.2\"; havana_transcript \"OTTHUMT00000276579.1\";\n",
    "chr22\tHAVANA\ttranscript\t16193005\t16195004\t.\t-\t.\tgene_id \"ENSG00000206195.6\"; transcript_id \"ENST00000413768.1\"; gene_type \"processed_transcript\"; gene_status \"NOVEL\"; gene_name \"AP000525.9\"; transcript_type \"lincRNA\"; transcript_status \"KNOWN\"; transcript_name \"AP000525.9-001\"; level 2; tag \"non_canonical_polymorphism\"; havana_gene \"OTTHUMG00000185288.2\"; havana_transcript \"OTTHUMT00000276578.1\";\n",
    "chr22\tHAVANA\ttranscript\t16192996\t16194995\t.\t-\t.\tgene_id \"ENSG00000206195.6\"; transcript_id \"ENST00000383038.3\"; gene_type \"processed_transcript\"; gene_status \"NOVEL\"; gene_name \"AP000525.9\"; transcript_type \"processed_transcript\"; transcript_status \"KNOWN\"; transcript_name \"AP000525.9-004\"; level 2; havana_gene \"OTTHUMG00000185288.2\"; havana_transcript \"OTTHUMT00000276577.1\";\n",
    "chr22\tHAVANA\ttranscript\t16159471\t16161470\t.\t-\t.\tgene_id \"ENSG00000206195.6\"; transcript_id \"ENST00000607933.1\"; gene_type \"processed_transcript\"; gene_status \"NOVEL\"; gene_name \"AP000525.9\"; transcript_type \"processed_transcript\"; transcript_status \"KNOWN\"; transcript_name \"AP000525.9-006\"; level 2; havana_gene \"OTTHUMG00000185288.2\"; havana_transcript \"OTTHUMT00000472240.1\";\n",
    "chr22\tHAVANA\ttranscript\t16151398\t16153397\t.\t-\t.\tgene_id \"ENSG00000271672.1\"; transcript_id \"ENST00000456786.2\"; gene_type \"pseudogene\"; gene_status \"KNOWN\"; gene_name \"DUXAP8\"; transcript_type \"transcribed_processed_pseudogene\"; transcript_status \"KNOWN\"; transcript_name \"DUXAP8-001\"; level 1; ont \"PGO:0000004\"; ont \"PGO:0000019\"; tag \"pseudo_consens\"; havana_gene \"OTTHUMG00000140194.3\"; havana_transcript \"OTTHUMT00000276572.3\";\n",
    "chr22\tHAVANA\ttranscript\t16160066\t16162065\t.\t+\t.\tgene_id \"ENSG00000232775.2\"; transcript_id \"ENST00000440946.1\"; gene_type \"pseudogene\"; gene_status \"KNOWN\"; gene_name \"AP000525.10\"; transcript_type \"processed_transcript\"; transcript_status \"KNOWN\"; transcript_name \"AP000525.10-002\"; level 2; tag \"basic\"; havana_gene \"OTTHUMG00000140198.3\"; havana_transcript \"OTTHUMT00000276785.1\";\n",
    "chr22\tHAVANA\ttranscript\t16256478\t16258477\t.\t-\t.\tgene_id \"ENSG00000241838.2\"; transcript_id \"ENST00000417657.1\"; gene_type \"pseudogene\"; gene_status \"KNOWN\"; gene_name \"LA16c-3G11.7\"; transcript_type \"processed_pseudogene\"; transcript_status \"KNOWN\"; transcript_name \"LA16c-3G11.7-001\"; level 1; ont \"PGO:0000004\"; tag \"pseudo_consens\"; havana_gene \"OTTHUMG00000140315.1\"; havana_transcript \"OTTHUMT00000276919.1\";\n",
    "--- Last 10 lines ---\n",
    "chr22\tHAVANA\ttranscript\t51222091\t51224090\t.\t-\t.\tgene_id \"ENSG00000079974.13\"; transcript_id \"ENST00000395591.1\"; gene_type \"protein_coding\"; gene_status \"KNOWN\"; gene_name \"RABL2B\"; transcript_type \"protein_coding\"; transcript_status \"NOVEL\"; transcript_name \"RABL2B-003\"; level 2; tag \"basic\"; havana_gene \"OTTHUMG00000150156.3\"; havana_transcript \"OTTHUMT00000316608.1\";\n",
    "chr22\tHAVANA\ttranscript\t51222092\t51224091\t.\t-\t.\tgene_id \"ENSG00000079974.13\"; transcript_id \"ENST00000395595.3\"; gene_type \"protein_coding\"; gene_status \"KNOWN\"; gene_name \"RABL2B\"; transcript_type \"protein_coding\"; transcript_status \"KNOWN\"; transcript_name \"RABL2B-006\"; level 2; tag \"basic\"; tag \"appris_candidate_longest\"; tag \"CCDS\"; ccdsid \"CCDS33683.1\"; havana_gene \"OTTHUMG00000150156.3\"; havana_transcript \"OTTHUMT00000316611.1\";\n",
    "chr22\tHAVANA\ttranscript\t51208931\t51210930\t.\t-\t.\tgene_id \"ENSG00000079974.13\"; transcript_id \"ENST00000465063.1\"; gene_type \"protein_coding\"; gene_status \"KNOWN\"; gene_name \"RABL2B\"; transcript_type \"processed_transcript\"; transcript_status \"KNOWN\"; transcript_name \"RABL2B-010\"; level 2; tag \"basic\"; havana_gene \"OTTHUMG00000150156.3\"; havana_transcript \"OTTHUMT00000316615.1\";\n",
    "chr22\tHAVANA\ttranscript\t51222067\t51224066\t.\t-\t.\tgene_id \"ENSG00000079974.13\"; transcript_id \"ENST00000436958.1\"; gene_type \"protein_coding\"; gene_status \"KNOWN\"; gene_name \"RABL2B\"; transcript_type \"nonsense_mediated_decay\"; transcript_status \"KNOWN\"; transcript_name \"RABL2B-002\"; level 2; havana_gene \"OTTHUMG00000150156.3\"; havana_transcript \"OTTHUMT00000316607.1\";\n",
    "chr22\tHAVANA\ttranscript\t51214262\t51216261\t.\t-\t.\tgene_id \"ENSG00000079974.13\"; transcript_id \"ENST00000482308.1\"; gene_type \"protein_coding\"; gene_status \"KNOWN\"; gene_name \"RABL2B\"; transcript_type \"retained_intron\"; transcript_status \"KNOWN\"; transcript_name \"RABL2B-013\"; level 2; havana_gene \"OTTHUMG00000150156.3\"; havana_transcript \"OTTHUMT00000349056.1\";\n",
    "chr22\tHAVANA\ttranscript\t51221715\t51223714\t.\t-\t.\tgene_id \"ENSG00000079974.13\"; transcript_id \"ENST00000464678.1\"; gene_type \"protein_coding\"; gene_status \"KNOWN\"; gene_name \"RABL2B\"; transcript_type \"retained_intron\"; transcript_status \"KNOWN\"; transcript_name \"RABL2B-012\"; level 2; havana_gene \"OTTHUMG00000150156.3\"; havana_transcript \"OTTHUMT00000349055.1\";\n",
    "chr22\tHAVANA\ttranscript\t51222059\t51224058\t.\t-\t.\tgene_id \"ENSG00000079974.13\"; transcript_id \"ENST00000395590.1\"; gene_type \"protein_coding\"; gene_status \"KNOWN\"; gene_name \"RABL2B\"; transcript_type \"protein_coding\"; transcript_status \"PUTATIVE\"; transcript_name \"RABL2B-004\"; level 2; tag \"basic\"; havana_gene \"OTTHUMG00000150156.3\"; havana_transcript \"OTTHUMT00000316609.1\";\n",
    "chr22\tHAVANA\ttranscript\t51222029\t51224028\t.\t-\t.\tgene_id \"ENSG00000079974.13\"; transcript_id \"ENST00000468451.1\"; gene_type \"protein_coding\"; gene_status \"KNOWN\"; gene_name \"RABL2B\"; transcript_type \"nonsense_mediated_decay\"; transcript_status \"KNOWN\"; transcript_name \"RABL2B-014\"; level 2; havana_gene \"OTTHUMG00000150156.3\"; havana_transcript \"OTTHUMT00000349057.1\";\n",
    "chr22\tHAVANA\ttranscript\t51222059\t51224058\t.\t-\t.\tgene_id \"ENSG00000079974.13\"; transcript_id \"ENST00000464740.1\"; gene_type \"protein_coding\"; gene_status \"KNOWN\"; gene_name \"RABL2B\"; transcript_type \"retained_intron\"; transcript_status \"KNOWN\"; transcript_name \"RABL2B-015\"; level 2; havana_gene \"OTTHUMG00000150156.3\"; havana_transcript \"OTTHUMT00000349058.1\";\n",
    "chr22\tHAVANA\ttranscript\t51221474\t51223473\t.\t-\t.\tgene_id \"ENSG00000079974.13\"; transcript_id \"ENST00000413505.1\"; gene_type \"protein_coding\"; gene_status \"KNOWN\"; gene_name \"RABL2B\"; transcript_type \"protein_coding\"; transcript_status \"KNOWN\"; transcript_name \"RABL2B-011\"; level 2; tag \"alternative_5_UTR\"; tag \"mRNA_end_NF\"; tag \"cds_end_NF\"; havana_gene \"OTTHUMG00000150156.3\"; havana_transcript \"OTTHUMT00000316616.2\";'''\n",
    "\n",
    "# Remove whitespace at the beginning and end of the exercise 3 result\n",
    "exercise3 = exercise3.strip()\n",
    "assert exercise3 == answer3"
   ]
  },
  {
   "cell_type": "markdown",
   "metadata": {
    "nbgrader": {
     "grade": false,
     "grade_id": "10_ex4_bedtools_intersect_question",
     "locked": true,
     "solution": false
    }
   },
   "source": [
    "### Exercise 4: Use `bedtools intersect` to overlap TFs with promoters\n",
    "\n",
    "Take a look at the diagrams in the documentation for `bedtools intersect` and think about how it can answer these questions:\n",
    "\n",
    "* Given locations of genome methylation, which genes does it overlap?\n",
    "* Given locations of RBP binding, which exons does it overlap?\n",
    "* Given two CHIP-Seq experiments, which peaks are consistent between them?\n",
    "\n",
    "Use `bedtools intersect` to find which promoters overlap with the NFKB binding sites. Use the promoters as \"A\" and the binding sites as \"B\". Call this file `gencode.v19.annotation.chr22.transcript.promoter.nfkb.gtf`.\n",
    "\n",
    "This file should have 740 lines."
   ]
  },
  {
   "cell_type": "code",
   "execution_count": 23,
   "metadata": {
    "collapsed": false,
    "nbgrader": {
     "grade": false,
     "grade_id": "10_ex4_bedtools_intersect_answer",
     "locked": false,
     "solution": true
    },
    "scrolled": false
   },
   "outputs": [],
   "source": [
    "%%bash --out exercise4\n",
    "### BEGIN SOLUTION\n",
    "bedtools intersect -a gencode.v19.annotation.chr22.transcript.promoter.gtf -b tf.nfkb.bed \\\n",
    "    > gencode.v19.annotation.chr22.transcript.promoter.nfkb.gtf\n",
    "### END SOLUTION\n",
    "\n",
    "wc -l gencode.v19.annotation.chr22.transcript.promoter.nfkb.gtf\n",
    "echo '--- First 10 lines ---'\n",
    "head gencode.v19.annotation.chr22.transcript.promoter.nfkb.gtf\n",
    "echo '--- Random 10 lines ---'\n",
    "awk -v seed=908 'BEGIN{srand(seed);}{ if (rand() < 0.5 ) {print $0}}' gencode.v19.annotation.chr22.transcript.promoter.nfkb.gtf | head\n",
    "echo '--- Last 10 lines ---'\n",
    "tail gencode.v19.annotation.chr22.transcript.promoter.nfkb.gtf"
   ]
  },
  {
   "cell_type": "markdown",
   "metadata": {
    "nbgrader": {
     "grade": false,
     "grade_id": "10_ex4_bedtools_intersect_explain",
     "locked": true,
     "solution": false
    }
   },
   "source": [
    "The following cell is for your debugging purposes. Due to the way we have to set up the notebook to grade it, we add `--out exercise4` next to the `%%bash` magic to save the output of the previous cell to the variable `exercise4`, so here we're printing the output. This is what *would* be shown below the cell if we weren't doing this workaround. This is what is graded."
   ]
  },
  {
   "cell_type": "code",
   "execution_count": 24,
   "metadata": {
    "collapsed": false,
    "scrolled": false
   },
   "outputs": [
    {
     "name": "stdout",
     "output_type": "stream",
     "text": [
      "    1221 gencode.v19.annotation.chr22.transcript.promoter.nfkb.gtf\n",
      "--- First 10 lines ---\n",
      "chr22\tHAVANA\ttranscript\t17565763\t17565843\t.\t+\t.\tgene_id \"ENSG00000177663.9\"; transcript_id \"ENST00000477874.1\"; gene_type \"protein_coding\"; gene_status \"KNOWN\"; gene_name \"IL17RA\"; transcript_type \"processed_transcript\"; transcript_status \"PUTATIVE\"; transcript_name \"IL17RA-004\"; level 1; tag \"basic\"; tag \"exp_conf\"; havana_gene \"OTTHUMG00000150026.1\"; havana_transcript \"OTTHUMT00000315823.1\";\n",
      "chr22\tHAVANA\ttranscript\t17565763\t17565848\t.\t+\t.\tgene_id \"ENSG00000177663.9\"; transcript_id \"ENST00000319363.6\"; gene_type \"protein_coding\"; gene_status \"KNOWN\"; gene_name \"IL17RA\"; transcript_type \"protein_coding\"; transcript_status \"KNOWN\"; transcript_name \"IL17RA-001\"; level 2; tag \"basic\"; tag \"appris_principal\"; tag \"CCDS\"; ccdsid \"CCDS13739.1\"; havana_gene \"OTTHUMG00000150026.1\"; havana_transcript \"OTTHUMT00000315820.1\";\n",
      "chr22\tHAVANA\ttranscript\t17565763\t17565946\t.\t+\t.\tgene_id \"ENSG00000177663.9\"; transcript_id \"ENST00000459971.1\"; gene_type \"protein_coding\"; gene_status \"KNOWN\"; gene_name \"IL17RA\"; transcript_type \"retained_intron\"; transcript_status \"KNOWN\"; transcript_name \"IL17RA-003\"; level 2; havana_gene \"OTTHUMG00000150026.1\"; havana_transcript \"OTTHUMT00000315822.1\";\n",
      "chr22\tHAVANA\ttranscript\t17700267\t17700502\t.\t-\t.\tgene_id \"ENSG00000093072.11\"; transcript_id \"ENST00000399837.2\"; gene_type \"protein_coding\"; gene_status \"KNOWN\"; gene_name \"CECR1\"; transcript_type \"protein_coding\"; transcript_status \"KNOWN\"; transcript_name \"CECR1-201\"; level 2; tag \"basic\"; tag \"appris_principal\"; tag \"CCDS\"; ccdsid \"CCDS13742.1\"; havana_gene \"OTTHUMG00000030726.8\"; havana_transcript \"OTTHUMT00000316079.1\";\n",
      "chr22\tHAVANA\ttranscript\t17701962\t17702266\t.\t-\t.\tgene_id \"ENSG00000093072.11\"; transcript_id \"ENST00000399837.2\"; gene_type \"protein_coding\"; gene_status \"KNOWN\"; gene_name \"CECR1\"; transcript_type \"protein_coding\"; transcript_status \"KNOWN\"; transcript_name \"CECR1-201\"; level 2; tag \"basic\"; tag \"appris_principal\"; tag \"CCDS\"; ccdsid \"CCDS13742.1\"; havana_gene \"OTTHUMG00000030726.8\"; havana_transcript \"OTTHUMT00000316079.1\";\n",
      "chr22\tHAVANA\ttranscript\t17700326\t17700502\t.\t-\t.\tgene_id \"ENSG00000093072.11\"; transcript_id \"ENST00000543038.1\"; gene_type \"protein_coding\"; gene_status \"KNOWN\"; gene_name \"CECR1\"; transcript_type \"protein_coding\"; transcript_status \"KNOWN\"; transcript_name \"CECR1-001\"; level 2; tag \"alternative_5_UTR\"; tag \"mRNA_end_NF\"; tag \"cds_end_NF\"; havana_gene \"OTTHUMG00000030726.8\"; havana_transcript \"OTTHUMT00000075614.5\";\n",
      "chr22\tHAVANA\ttranscript\t17701962\t17702278\t.\t-\t.\tgene_id \"ENSG00000093072.11\"; transcript_id \"ENST00000543038.1\"; gene_type \"protein_coding\"; gene_status \"KNOWN\"; gene_name \"CECR1\"; transcript_type \"protein_coding\"; transcript_status \"KNOWN\"; transcript_name \"CECR1-001\"; level 2; tag \"alternative_5_UTR\"; tag \"mRNA_end_NF\"; tag \"cds_end_NF\"; havana_gene \"OTTHUMG00000030726.8\"; havana_transcript \"OTTHUMT00000075614.5\";\n",
      "chr22\tHAVANA\ttranscript\t18111762\t18112038\t.\t-\t.\tgene_id \"ENSG00000131100.8\"; transcript_id \"ENST00000253413.5\"; gene_type \"protein_coding\"; gene_status \"KNOWN\"; gene_name \"ATP6V1E1\"; transcript_type \"protein_coding\"; transcript_status \"KNOWN\"; transcript_name \"ATP6V1E1-001\"; level 2; tag \"basic\"; tag \"appris_principal\"; tag \"CCDS\"; ccdsid \"CCDS13745.1\"; havana_gene \"OTTHUMG00000059320.4\"; havana_transcript \"OTTHUMT00000131790.3\";\n",
      "chr22\tHAVANA\ttranscript\t18111762\t18112038\t.\t-\t.\tgene_id \"ENSG00000131100.8\"; transcript_id \"ENST00000399796.2\"; gene_type \"protein_coding\"; gene_status \"KNOWN\"; gene_name \"ATP6V1E1\"; transcript_type \"protein_coding\"; transcript_status \"KNOWN\"; transcript_name \"ATP6V1E1-006\"; level 2; tag \"basic\"; tag \"CCDS\"; ccdsid \"CCDS42978.1\"; havana_gene \"OTTHUMG00000059320.4\"; havana_transcript \"OTTHUMT00000353464.1\";\n",
      "chr22\tHAVANA\ttranscript\t18111762\t18112038\t.\t-\t.\tgene_id \"ENSG00000131100.8\"; transcript_id \"ENST00000399798.2\"; gene_type \"protein_coding\"; gene_status \"KNOWN\"; gene_name \"ATP6V1E1\"; transcript_type \"protein_coding\"; transcript_status \"KNOWN\"; transcript_name \"ATP6V1E1-005\"; level 2; tag \"basic\"; tag \"CCDS\"; ccdsid \"CCDS42977.1\"; havana_gene \"OTTHUMG00000059320.4\"; havana_transcript \"OTTHUMT00000353463.1\";\n",
      "--- Random 10 lines ---\n",
      "chr22\tHAVANA\ttranscript\t17565763\t17565848\t.\t+\t.\tgene_id \"ENSG00000177663.9\"; transcript_id \"ENST00000319363.6\"; gene_type \"protein_coding\"; gene_status \"KNOWN\"; gene_name \"IL17RA\"; transcript_type \"protein_coding\"; transcript_status \"KNOWN\"; transcript_name \"IL17RA-001\"; level 2; tag \"basic\"; tag \"appris_principal\"; tag \"CCDS\"; ccdsid \"CCDS13739.1\"; havana_gene \"OTTHUMG00000150026.1\"; havana_transcript \"OTTHUMT00000315820.1\";\n",
      "chr22\tHAVANA\ttranscript\t17565763\t17565946\t.\t+\t.\tgene_id \"ENSG00000177663.9\"; transcript_id \"ENST00000459971.1\"; gene_type \"protein_coding\"; gene_status \"KNOWN\"; gene_name \"IL17RA\"; transcript_type \"retained_intron\"; transcript_status \"KNOWN\"; transcript_name \"IL17RA-003\"; level 2; havana_gene \"OTTHUMG00000150026.1\"; havana_transcript \"OTTHUMT00000315822.1\";\n",
      "chr22\tHAVANA\ttranscript\t17700267\t17700502\t.\t-\t.\tgene_id \"ENSG00000093072.11\"; transcript_id \"ENST00000399837.2\"; gene_type \"protein_coding\"; gene_status \"KNOWN\"; gene_name \"CECR1\"; transcript_type \"protein_coding\"; transcript_status \"KNOWN\"; transcript_name \"CECR1-201\"; level 2; tag \"basic\"; tag \"appris_principal\"; tag \"CCDS\"; ccdsid \"CCDS13742.1\"; havana_gene \"OTTHUMG00000030726.8\"; havana_transcript \"OTTHUMT00000316079.1\";\n",
      "chr22\tHAVANA\ttranscript\t18111762\t18112038\t.\t-\t.\tgene_id \"ENSG00000131100.8\"; transcript_id \"ENST00000399798.2\"; gene_type \"protein_coding\"; gene_status \"KNOWN\"; gene_name \"ATP6V1E1\"; transcript_type \"protein_coding\"; transcript_status \"KNOWN\"; transcript_name \"ATP6V1E1-005\"; level 2; tag \"basic\"; tag \"CCDS\"; ccdsid \"CCDS42977.1\"; havana_gene \"OTTHUMG00000059320.4\"; havana_transcript \"OTTHUMT00000353463.1\";\n",
      "chr22\tHAVANA\ttranscript\t18121203\t18121355\t.\t+\t.\tgene_id \"ENSG00000099968.13\"; transcript_id \"ENST00000317582.5\"; gene_type \"protein_coding\"; gene_status \"KNOWN\"; gene_name \"BCL2L13\"; transcript_type \"protein_coding\"; transcript_status \"KNOWN\"; transcript_name \"BCL2L13-001\"; level 2; tag \"basic\"; tag \"appris_principal\"; tag \"CCDS\"; ccdsid \"CCDS13746.1\"; havana_gene \"OTTHUMG00000150088.3\"; havana_transcript \"OTTHUMT00000316184.1\";\n",
      "chr22\tHAVANA\ttranscript\t18121203\t18121506\t.\t+\t.\tgene_id \"ENSG00000099968.13\"; transcript_id \"ENST00000498133.1\"; gene_type \"protein_coding\"; gene_status \"KNOWN\"; gene_name \"BCL2L13\"; transcript_type \"nonsense_mediated_decay\"; transcript_status \"KNOWN\"; transcript_name \"BCL2L13-003\"; level 2; havana_gene \"OTTHUMG00000150088.3\"; havana_transcript \"OTTHUMT00000316186.2\";\n",
      "chr22\tENSEMBL\ttranscript\t18121203\t18121522\t.\t+\t.\tgene_id \"ENSG00000099968.13\"; transcript_id \"ENST00000538149.1\"; gene_type \"protein_coding\"; gene_status \"KNOWN\"; gene_name \"BCL2L13\"; transcript_type \"protein_coding\"; transcript_status \"KNOWN\"; transcript_name \"BCL2L13-203\"; level 3; tag \"basic\"; havana_gene \"OTTHUMG00000150088.3\";\n",
      "chr22\tENSEMBL\ttranscript\t18121203\t18121529\t.\t+\t.\tgene_id \"ENSG00000099968.13\"; transcript_id \"ENST00000337612.5\"; gene_type \"protein_coding\"; gene_status \"KNOWN\"; gene_name \"BCL2L13\"; transcript_type \"protein_coding\"; transcript_status \"KNOWN\"; transcript_name \"BCL2L13-201\"; level 3; tag \"basic\"; tag \"CCDS\"; ccdsid \"CCDS59448.1\"; havana_gene \"OTTHUMG00000150088.3\";\n",
      "chr22\tHAVANA\ttranscript\t18121203\t18121537\t.\t+\t.\tgene_id \"ENSG00000099968.13\"; transcript_id \"ENST00000493680.1\"; gene_type \"protein_coding\"; gene_status \"KNOWN\"; gene_name \"BCL2L13\"; transcript_type \"protein_coding\"; transcript_status \"KNOWN\"; transcript_name \"BCL2L13-004\"; level 2; tag \"alternative_5_UTR\"; tag \"basic\"; havana_gene \"OTTHUMG00000150088.3\"; havana_transcript \"OTTHUMT00000316187.2\";\n",
      "chr22\tHAVANA\ttranscript\t18225198\t18225524\t.\t-\t.\tgene_id \"ENSG00000015475.14\"; transcript_id \"ENST00000494097.1\"; gene_type \"protein_coding\"; gene_status \"KNOWN\"; gene_name \"BID\"; transcript_type \"retained_intron\"; transcript_status \"KNOWN\"; transcript_name \"BID-005\"; level 2; havana_gene \"OTTHUMG00000150087.4\"; havana_transcript \"OTTHUMT00000316182.1\";\n",
      "--- Last 10 lines ---\n",
      "chr22\tHAVANA\ttranscript\t51021250\t51021316\t.\t-\t.\tgene_id \"ENSG00000100288.15\"; transcript_id \"ENST00000479003.1\"; gene_type \"protein_coding\"; gene_status \"KNOWN\"; gene_name \"CHKB\"; transcript_type \"retained_intron\"; transcript_status \"KNOWN\"; transcript_name \"CHKB-004\"; level 2; havana_gene \"OTTHUMG00000150275.5\"; havana_transcript \"OTTHUMT00000317270.1\";\n",
      "chr22\tHAVANA\ttranscript\t51021478\t51021754\t.\t-\t.\tgene_id \"ENSG00000100288.15\"; transcript_id \"ENST00000479003.1\"; gene_type \"protein_coding\"; gene_status \"KNOWN\"; gene_name \"CHKB\"; transcript_type \"retained_intron\"; transcript_status \"KNOWN\"; transcript_name \"CHKB-004\"; level 2; havana_gene \"OTTHUMG00000150275.5\"; havana_transcript \"OTTHUMT00000317270.1\";\n",
      "chr22\tHAVANA\ttranscript\t51021040\t51021316\t.\t-\t.\tgene_id \"ENSG00000100288.15\"; transcript_id \"ENST00000468532.1\"; gene_type \"protein_coding\"; gene_status \"KNOWN\"; gene_name \"CHKB\"; transcript_type \"retained_intron\"; transcript_status \"KNOWN\"; transcript_name \"CHKB-007\"; level 2; havana_gene \"OTTHUMG00000150275.5\"; havana_transcript \"OTTHUMT00000317603.1\";\n",
      "chr22\tHAVANA\ttranscript\t51021478\t51021754\t.\t-\t.\tgene_id \"ENSG00000100288.15\"; transcript_id \"ENST00000468532.1\"; gene_type \"protein_coding\"; gene_status \"KNOWN\"; gene_name \"CHKB\"; transcript_type \"retained_intron\"; transcript_status \"KNOWN\"; transcript_name \"CHKB-007\"; level 2; havana_gene \"OTTHUMG00000150275.5\"; havana_transcript \"OTTHUMT00000317603.1\";\n",
      "chr22\tHAVANA\ttranscript\t51021040\t51021209\t.\t-\t.\tgene_id \"ENSG00000100288.15\"; transcript_id \"ENST00000489453.1\"; gene_type \"protein_coding\"; gene_status \"KNOWN\"; gene_name \"CHKB\"; transcript_type \"retained_intron\"; transcript_status \"KNOWN\"; transcript_name \"CHKB-009\"; level 2; havana_gene \"OTTHUMG00000150275.5\"; havana_transcript \"OTTHUMT00000317605.1\";\n",
      "chr22\tHAVANA\ttranscript\t51021284\t51021316\t.\t-\t.\tgene_id \"ENSG00000100288.15\"; transcript_id \"ENST00000476289.1\"; gene_type \"protein_coding\"; gene_status \"KNOWN\"; gene_name \"CHKB\"; transcript_type \"retained_intron\"; transcript_status \"KNOWN\"; transcript_name \"CHKB-006\"; level 2; havana_gene \"OTTHUMG00000150275.5\"; havana_transcript \"OTTHUMT00000317602.2\";\n",
      "chr22\tHAVANA\ttranscript\t51021478\t51021754\t.\t-\t.\tgene_id \"ENSG00000100288.15\"; transcript_id \"ENST00000476289.1\"; gene_type \"protein_coding\"; gene_status \"KNOWN\"; gene_name \"CHKB\"; transcript_type \"retained_intron\"; transcript_status \"KNOWN\"; transcript_name \"CHKB-006\"; level 2; havana_gene \"OTTHUMG00000150275.5\"; havana_transcript \"OTTHUMT00000317602.2\";\n",
      "chr22\tHAVANA\ttranscript\t51021040\t51021316\t.\t-\t.\tgene_id \"ENSG00000100288.15\"; transcript_id \"ENST00000465842.1\"; gene_type \"protein_coding\"; gene_status \"KNOWN\"; gene_name \"CHKB\"; transcript_type \"retained_intron\"; transcript_status \"KNOWN\"; transcript_name \"CHKB-008\"; level 2; havana_gene \"OTTHUMG00000150275.5\"; havana_transcript \"OTTHUMT00000317604.1\";\n",
      "chr22\tHAVANA\ttranscript\t51021478\t51021754\t.\t-\t.\tgene_id \"ENSG00000100288.15\"; transcript_id \"ENST00000465842.1\"; gene_type \"protein_coding\"; gene_status \"KNOWN\"; gene_name \"CHKB\"; transcript_type \"retained_intron\"; transcript_status \"KNOWN\"; transcript_name \"CHKB-008\"; level 2; havana_gene \"OTTHUMG00000150275.5\"; havana_transcript \"OTTHUMT00000317604.1\";\n",
      "chr22\tHAVANA\ttranscript\t51021040\t51021316\t.\t+\t.\tgene_id \"ENSG00000205559.3\"; transcript_id \"ENST00000380711.3\"; gene_type \"antisense\"; gene_status \"NOVEL\"; gene_name \"CHKB-AS1\"; transcript_type \"antisense\"; transcript_status \"KNOWN\"; transcript_name \"CHKB-AS1-001\"; level 1; tag \"basic\"; tag \"exp_conf\"; havana_gene \"OTTHUMG00000150208.1\"; havana_transcript \"OTTHUMT00000316839.1\";\n",
      "\n"
     ]
    }
   ],
   "source": [
    "print(exercise4)"
   ]
  },
  {
   "cell_type": "code",
   "execution_count": 25,
   "metadata": {
    "collapsed": false,
    "nbgrader": {
     "grade": true,
     "grade_id": "10_ex4_bedtools_intersect_test",
     "locked": true,
     "points": 5,
     "solution": false
    }
   },
   "outputs": [],
   "source": [
    "answer4 = '''1221 gencode.v19.annotation.chr22.transcript.promoter.nfkb.gtf\n",
    "--- First 10 lines ---\n",
    "chr22\tHAVANA\ttranscript\t17565763\t17565843\t.\t+\t.\tgene_id \"ENSG00000177663.9\"; transcript_id \"ENST00000477874.1\"; gene_type \"protein_coding\"; gene_status \"KNOWN\"; gene_name \"IL17RA\"; transcript_type \"processed_transcript\"; transcript_status \"PUTATIVE\"; transcript_name \"IL17RA-004\"; level 1; tag \"basic\"; tag \"exp_conf\"; havana_gene \"OTTHUMG00000150026.1\"; havana_transcript \"OTTHUMT00000315823.1\";\n",
    "chr22\tHAVANA\ttranscript\t17565763\t17565848\t.\t+\t.\tgene_id \"ENSG00000177663.9\"; transcript_id \"ENST00000319363.6\"; gene_type \"protein_coding\"; gene_status \"KNOWN\"; gene_name \"IL17RA\"; transcript_type \"protein_coding\"; transcript_status \"KNOWN\"; transcript_name \"IL17RA-001\"; level 2; tag \"basic\"; tag \"appris_principal\"; tag \"CCDS\"; ccdsid \"CCDS13739.1\"; havana_gene \"OTTHUMG00000150026.1\"; havana_transcript \"OTTHUMT00000315820.1\";\n",
    "chr22\tHAVANA\ttranscript\t17565763\t17565946\t.\t+\t.\tgene_id \"ENSG00000177663.9\"; transcript_id \"ENST00000459971.1\"; gene_type \"protein_coding\"; gene_status \"KNOWN\"; gene_name \"IL17RA\"; transcript_type \"retained_intron\"; transcript_status \"KNOWN\"; transcript_name \"IL17RA-003\"; level 2; havana_gene \"OTTHUMG00000150026.1\"; havana_transcript \"OTTHUMT00000315822.1\";\n",
    "chr22\tHAVANA\ttranscript\t17700267\t17700502\t.\t-\t.\tgene_id \"ENSG00000093072.11\"; transcript_id \"ENST00000399837.2\"; gene_type \"protein_coding\"; gene_status \"KNOWN\"; gene_name \"CECR1\"; transcript_type \"protein_coding\"; transcript_status \"KNOWN\"; transcript_name \"CECR1-201\"; level 2; tag \"basic\"; tag \"appris_principal\"; tag \"CCDS\"; ccdsid \"CCDS13742.1\"; havana_gene \"OTTHUMG00000030726.8\"; havana_transcript \"OTTHUMT00000316079.1\";\n",
    "chr22\tHAVANA\ttranscript\t17701962\t17702266\t.\t-\t.\tgene_id \"ENSG00000093072.11\"; transcript_id \"ENST00000399837.2\"; gene_type \"protein_coding\"; gene_status \"KNOWN\"; gene_name \"CECR1\"; transcript_type \"protein_coding\"; transcript_status \"KNOWN\"; transcript_name \"CECR1-201\"; level 2; tag \"basic\"; tag \"appris_principal\"; tag \"CCDS\"; ccdsid \"CCDS13742.1\"; havana_gene \"OTTHUMG00000030726.8\"; havana_transcript \"OTTHUMT00000316079.1\";\n",
    "chr22\tHAVANA\ttranscript\t17700326\t17700502\t.\t-\t.\tgene_id \"ENSG00000093072.11\"; transcript_id \"ENST00000543038.1\"; gene_type \"protein_coding\"; gene_status \"KNOWN\"; gene_name \"CECR1\"; transcript_type \"protein_coding\"; transcript_status \"KNOWN\"; transcript_name \"CECR1-001\"; level 2; tag \"alternative_5_UTR\"; tag \"mRNA_end_NF\"; tag \"cds_end_NF\"; havana_gene \"OTTHUMG00000030726.8\"; havana_transcript \"OTTHUMT00000075614.5\";\n",
    "chr22\tHAVANA\ttranscript\t17701962\t17702278\t.\t-\t.\tgene_id \"ENSG00000093072.11\"; transcript_id \"ENST00000543038.1\"; gene_type \"protein_coding\"; gene_status \"KNOWN\"; gene_name \"CECR1\"; transcript_type \"protein_coding\"; transcript_status \"KNOWN\"; transcript_name \"CECR1-001\"; level 2; tag \"alternative_5_UTR\"; tag \"mRNA_end_NF\"; tag \"cds_end_NF\"; havana_gene \"OTTHUMG00000030726.8\"; havana_transcript \"OTTHUMT00000075614.5\";\n",
    "chr22\tHAVANA\ttranscript\t18111762\t18112038\t.\t-\t.\tgene_id \"ENSG00000131100.8\"; transcript_id \"ENST00000253413.5\"; gene_type \"protein_coding\"; gene_status \"KNOWN\"; gene_name \"ATP6V1E1\"; transcript_type \"protein_coding\"; transcript_status \"KNOWN\"; transcript_name \"ATP6V1E1-001\"; level 2; tag \"basic\"; tag \"appris_principal\"; tag \"CCDS\"; ccdsid \"CCDS13745.1\"; havana_gene \"OTTHUMG00000059320.4\"; havana_transcript \"OTTHUMT00000131790.3\";\n",
    "chr22\tHAVANA\ttranscript\t18111762\t18112038\t.\t-\t.\tgene_id \"ENSG00000131100.8\"; transcript_id \"ENST00000399796.2\"; gene_type \"protein_coding\"; gene_status \"KNOWN\"; gene_name \"ATP6V1E1\"; transcript_type \"protein_coding\"; transcript_status \"KNOWN\"; transcript_name \"ATP6V1E1-006\"; level 2; tag \"basic\"; tag \"CCDS\"; ccdsid \"CCDS42978.1\"; havana_gene \"OTTHUMG00000059320.4\"; havana_transcript \"OTTHUMT00000353464.1\";\n",
    "chr22\tHAVANA\ttranscript\t18111762\t18112038\t.\t-\t.\tgene_id \"ENSG00000131100.8\"; transcript_id \"ENST00000399798.2\"; gene_type \"protein_coding\"; gene_status \"KNOWN\"; gene_name \"ATP6V1E1\"; transcript_type \"protein_coding\"; transcript_status \"KNOWN\"; transcript_name \"ATP6V1E1-005\"; level 2; tag \"basic\"; tag \"CCDS\"; ccdsid \"CCDS42977.1\"; havana_gene \"OTTHUMG00000059320.4\"; havana_transcript \"OTTHUMT00000353463.1\";\n",
    "--- Random 10 lines ---\n",
    "chr22\tHAVANA\ttranscript\t17565763\t17565848\t.\t+\t.\tgene_id \"ENSG00000177663.9\"; transcript_id \"ENST00000319363.6\"; gene_type \"protein_coding\"; gene_status \"KNOWN\"; gene_name \"IL17RA\"; transcript_type \"protein_coding\"; transcript_status \"KNOWN\"; transcript_name \"IL17RA-001\"; level 2; tag \"basic\"; tag \"appris_principal\"; tag \"CCDS\"; ccdsid \"CCDS13739.1\"; havana_gene \"OTTHUMG00000150026.1\"; havana_transcript \"OTTHUMT00000315820.1\";\n",
    "chr22\tHAVANA\ttranscript\t17565763\t17565946\t.\t+\t.\tgene_id \"ENSG00000177663.9\"; transcript_id \"ENST00000459971.1\"; gene_type \"protein_coding\"; gene_status \"KNOWN\"; gene_name \"IL17RA\"; transcript_type \"retained_intron\"; transcript_status \"KNOWN\"; transcript_name \"IL17RA-003\"; level 2; havana_gene \"OTTHUMG00000150026.1\"; havana_transcript \"OTTHUMT00000315822.1\";\n",
    "chr22\tHAVANA\ttranscript\t17700267\t17700502\t.\t-\t.\tgene_id \"ENSG00000093072.11\"; transcript_id \"ENST00000399837.2\"; gene_type \"protein_coding\"; gene_status \"KNOWN\"; gene_name \"CECR1\"; transcript_type \"protein_coding\"; transcript_status \"KNOWN\"; transcript_name \"CECR1-201\"; level 2; tag \"basic\"; tag \"appris_principal\"; tag \"CCDS\"; ccdsid \"CCDS13742.1\"; havana_gene \"OTTHUMG00000030726.8\"; havana_transcript \"OTTHUMT00000316079.1\";\n",
    "chr22\tHAVANA\ttranscript\t18111762\t18112038\t.\t-\t.\tgene_id \"ENSG00000131100.8\"; transcript_id \"ENST00000399798.2\"; gene_type \"protein_coding\"; gene_status \"KNOWN\"; gene_name \"ATP6V1E1\"; transcript_type \"protein_coding\"; transcript_status \"KNOWN\"; transcript_name \"ATP6V1E1-005\"; level 2; tag \"basic\"; tag \"CCDS\"; ccdsid \"CCDS42977.1\"; havana_gene \"OTTHUMG00000059320.4\"; havana_transcript \"OTTHUMT00000353463.1\";\n",
    "chr22\tHAVANA\ttranscript\t18121203\t18121355\t.\t+\t.\tgene_id \"ENSG00000099968.13\"; transcript_id \"ENST00000317582.5\"; gene_type \"protein_coding\"; gene_status \"KNOWN\"; gene_name \"BCL2L13\"; transcript_type \"protein_coding\"; transcript_status \"KNOWN\"; transcript_name \"BCL2L13-001\"; level 2; tag \"basic\"; tag \"appris_principal\"; tag \"CCDS\"; ccdsid \"CCDS13746.1\"; havana_gene \"OTTHUMG00000150088.3\"; havana_transcript \"OTTHUMT00000316184.1\";\n",
    "chr22\tHAVANA\ttranscript\t18121203\t18121506\t.\t+\t.\tgene_id \"ENSG00000099968.13\"; transcript_id \"ENST00000498133.1\"; gene_type \"protein_coding\"; gene_status \"KNOWN\"; gene_name \"BCL2L13\"; transcript_type \"nonsense_mediated_decay\"; transcript_status \"KNOWN\"; transcript_name \"BCL2L13-003\"; level 2; havana_gene \"OTTHUMG00000150088.3\"; havana_transcript \"OTTHUMT00000316186.2\";\n",
    "chr22\tENSEMBL\ttranscript\t18121203\t18121522\t.\t+\t.\tgene_id \"ENSG00000099968.13\"; transcript_id \"ENST00000538149.1\"; gene_type \"protein_coding\"; gene_status \"KNOWN\"; gene_name \"BCL2L13\"; transcript_type \"protein_coding\"; transcript_status \"KNOWN\"; transcript_name \"BCL2L13-203\"; level 3; tag \"basic\"; havana_gene \"OTTHUMG00000150088.3\";\n",
    "chr22\tENSEMBL\ttranscript\t18121203\t18121529\t.\t+\t.\tgene_id \"ENSG00000099968.13\"; transcript_id \"ENST00000337612.5\"; gene_type \"protein_coding\"; gene_status \"KNOWN\"; gene_name \"BCL2L13\"; transcript_type \"protein_coding\"; transcript_status \"KNOWN\"; transcript_name \"BCL2L13-201\"; level 3; tag \"basic\"; tag \"CCDS\"; ccdsid \"CCDS59448.1\"; havana_gene \"OTTHUMG00000150088.3\";\n",
    "chr22\tHAVANA\ttranscript\t18121203\t18121537\t.\t+\t.\tgene_id \"ENSG00000099968.13\"; transcript_id \"ENST00000493680.1\"; gene_type \"protein_coding\"; gene_status \"KNOWN\"; gene_name \"BCL2L13\"; transcript_type \"protein_coding\"; transcript_status \"KNOWN\"; transcript_name \"BCL2L13-004\"; level 2; tag \"alternative_5_UTR\"; tag \"basic\"; havana_gene \"OTTHUMG00000150088.3\"; havana_transcript \"OTTHUMT00000316187.2\";\n",
    "chr22\tHAVANA\ttranscript\t18225198\t18225524\t.\t-\t.\tgene_id \"ENSG00000015475.14\"; transcript_id \"ENST00000494097.1\"; gene_type \"protein_coding\"; gene_status \"KNOWN\"; gene_name \"BID\"; transcript_type \"retained_intron\"; transcript_status \"KNOWN\"; transcript_name \"BID-005\"; level 2; havana_gene \"OTTHUMG00000150087.4\"; havana_transcript \"OTTHUMT00000316182.1\";\n",
    "--- Last 10 lines ---\n",
    "chr22\tHAVANA\ttranscript\t51021250\t51021316\t.\t-\t.\tgene_id \"ENSG00000100288.15\"; transcript_id \"ENST00000479003.1\"; gene_type \"protein_coding\"; gene_status \"KNOWN\"; gene_name \"CHKB\"; transcript_type \"retained_intron\"; transcript_status \"KNOWN\"; transcript_name \"CHKB-004\"; level 2; havana_gene \"OTTHUMG00000150275.5\"; havana_transcript \"OTTHUMT00000317270.1\";\n",
    "chr22\tHAVANA\ttranscript\t51021478\t51021754\t.\t-\t.\tgene_id \"ENSG00000100288.15\"; transcript_id \"ENST00000479003.1\"; gene_type \"protein_coding\"; gene_status \"KNOWN\"; gene_name \"CHKB\"; transcript_type \"retained_intron\"; transcript_status \"KNOWN\"; transcript_name \"CHKB-004\"; level 2; havana_gene \"OTTHUMG00000150275.5\"; havana_transcript \"OTTHUMT00000317270.1\";\n",
    "chr22\tHAVANA\ttranscript\t51021040\t51021316\t.\t-\t.\tgene_id \"ENSG00000100288.15\"; transcript_id \"ENST00000468532.1\"; gene_type \"protein_coding\"; gene_status \"KNOWN\"; gene_name \"CHKB\"; transcript_type \"retained_intron\"; transcript_status \"KNOWN\"; transcript_name \"CHKB-007\"; level 2; havana_gene \"OTTHUMG00000150275.5\"; havana_transcript \"OTTHUMT00000317603.1\";\n",
    "chr22\tHAVANA\ttranscript\t51021478\t51021754\t.\t-\t.\tgene_id \"ENSG00000100288.15\"; transcript_id \"ENST00000468532.1\"; gene_type \"protein_coding\"; gene_status \"KNOWN\"; gene_name \"CHKB\"; transcript_type \"retained_intron\"; transcript_status \"KNOWN\"; transcript_name \"CHKB-007\"; level 2; havana_gene \"OTTHUMG00000150275.5\"; havana_transcript \"OTTHUMT00000317603.1\";\n",
    "chr22\tHAVANA\ttranscript\t51021040\t51021209\t.\t-\t.\tgene_id \"ENSG00000100288.15\"; transcript_id \"ENST00000489453.1\"; gene_type \"protein_coding\"; gene_status \"KNOWN\"; gene_name \"CHKB\"; transcript_type \"retained_intron\"; transcript_status \"KNOWN\"; transcript_name \"CHKB-009\"; level 2; havana_gene \"OTTHUMG00000150275.5\"; havana_transcript \"OTTHUMT00000317605.1\";\n",
    "chr22\tHAVANA\ttranscript\t51021284\t51021316\t.\t-\t.\tgene_id \"ENSG00000100288.15\"; transcript_id \"ENST00000476289.1\"; gene_type \"protein_coding\"; gene_status \"KNOWN\"; gene_name \"CHKB\"; transcript_type \"retained_intron\"; transcript_status \"KNOWN\"; transcript_name \"CHKB-006\"; level 2; havana_gene \"OTTHUMG00000150275.5\"; havana_transcript \"OTTHUMT00000317602.2\";\n",
    "chr22\tHAVANA\ttranscript\t51021478\t51021754\t.\t-\t.\tgene_id \"ENSG00000100288.15\"; transcript_id \"ENST00000476289.1\"; gene_type \"protein_coding\"; gene_status \"KNOWN\"; gene_name \"CHKB\"; transcript_type \"retained_intron\"; transcript_status \"KNOWN\"; transcript_name \"CHKB-006\"; level 2; havana_gene \"OTTHUMG00000150275.5\"; havana_transcript \"OTTHUMT00000317602.2\";\n",
    "chr22\tHAVANA\ttranscript\t51021040\t51021316\t.\t-\t.\tgene_id \"ENSG00000100288.15\"; transcript_id \"ENST00000465842.1\"; gene_type \"protein_coding\"; gene_status \"KNOWN\"; gene_name \"CHKB\"; transcript_type \"retained_intron\"; transcript_status \"KNOWN\"; transcript_name \"CHKB-008\"; level 2; havana_gene \"OTTHUMG00000150275.5\"; havana_transcript \"OTTHUMT00000317604.1\";\n",
    "chr22\tHAVANA\ttranscript\t51021478\t51021754\t.\t-\t.\tgene_id \"ENSG00000100288.15\"; transcript_id \"ENST00000465842.1\"; gene_type \"protein_coding\"; gene_status \"KNOWN\"; gene_name \"CHKB\"; transcript_type \"retained_intron\"; transcript_status \"KNOWN\"; transcript_name \"CHKB-008\"; level 2; havana_gene \"OTTHUMG00000150275.5\"; havana_transcript \"OTTHUMT00000317604.1\";\n",
    "chr22\tHAVANA\ttranscript\t51021040\t51021316\t.\t+\t.\tgene_id \"ENSG00000205559.3\"; transcript_id \"ENST00000380711.3\"; gene_type \"antisense\"; gene_status \"NOVEL\"; gene_name \"CHKB-AS1\"; transcript_type \"antisense\"; transcript_status \"KNOWN\"; transcript_name \"CHKB-AS1-001\"; level 1; tag \"basic\"; tag \"exp_conf\"; havana_gene \"OTTHUMG00000150208.1\"; havana_transcript \"OTTHUMT00000316839.1\";'''\n",
    "\n",
    "# Remove whitespace at the beginning and end of the exercise 4 result\n",
    "exercise4 = exercise4.strip()\n",
    "assert exercise4 == answer4"
   ]
  },
  {
   "cell_type": "markdown",
   "metadata": {
    "collapsed": true,
    "nbgrader": {
     "grade": false,
     "grade_id": "11_ex5_bedtools_getfasta_question",
     "locked": true,
     "solution": false
    }
   },
   "source": [
    "#### Exercise 5: Use `bedtools getfasta` to extract sequences\n",
    "\n",
    "Read the documentation for [`bedtools getfasta`](http://bedtools.readthedocs.org/en/latest/content/tools/getfasta.html) and figure out how to  request the sequences in `fasta` format for the peaks which overlap in gene promoters. Does the strand matter?\n",
    "\n",
    "This file should have 1480 lines."
   ]
  },
  {
   "cell_type": "code",
   "execution_count": 26,
   "metadata": {
    "collapsed": false,
    "nbgrader": {
     "grade": false,
     "grade_id": "11_ex5_bedtools_getfasta_answer",
     "locked": false,
     "solution": true
    }
   },
   "outputs": [],
   "source": [
    "%%bash --out exercise5\n",
    "\n",
    "### BEGIN SOLUTION\n",
    "bedtools getfasta -s -bed gencode.v19.annotation.chr22.transcript.promoter.nfkb.gtf \\\n",
    "    -fi GRCh37.p13.chr22.fa -fo gencode.v19.annotation.chr22.transcript.promoter.nfkb.fasta\n",
    "### END SOLUTION\n",
    "\n",
    "\n",
    "wc -l gencode.v19.annotation.chr22.transcript.promoter.nfkb.fasta\n",
    "echo '--- First 10 lines ---'\n",
    "head gencode.v19.annotation.chr22.transcript.promoter.nfkb.fasta\n",
    "echo '--- Random 10 lines ---'\n",
    "awk -v seed=908 'BEGIN{srand(seed);}{ if (rand() < 0.5 ) {print $0}}' gencode.v19.annotation.chr22.transcript.promoter.nfkb.fasta | head\n",
    "echo '--- Last 10 lines ---'\n",
    "tail gencode.v19.annotation.chr22.transcript.promoter.nfkb.fasta"
   ]
  },
  {
   "cell_type": "markdown",
   "metadata": {
    "nbgrader": {
     "grade": false,
     "grade_id": "11_ex5_bedtools_getfasta_explanation",
     "locked": true,
     "solution": false
    }
   },
   "source": [
    "The following cell is for your debugging purposes. Due to the way we have to set up the notebook to grade it, we add `--out exercise5` next to the `%%bash` magic to save the output of the previous cell to the variable `exercise5`, so here we're printing the output. This is what *would* be shown below the cell if we weren't doing this workaround. This is what is graded."
   ]
  },
  {
   "cell_type": "code",
   "execution_count": 27,
   "metadata": {
    "collapsed": false
   },
   "outputs": [
    {
     "name": "stdout",
     "output_type": "stream",
     "text": [
      "    2442 gencode.v19.annotation.chr22.transcript.promoter.nfkb.fasta\n",
      "--- First 10 lines ---\n",
      ">chr22:17565762-17565843(+)\n",
      "GCAAGGAGGAACGGGGGGAGGGCCCTGTCTCACCCTAAACCCCTCCCCGTCCCAGACTAAACTCCTCCCCTCGGCCCGGCC\n",
      ">chr22:17565762-17565848(+)\n",
      "GCAAGGAGGAACGGGGGGAGGGCCCTGTCTCACCCTAAACCCCTCCCCGTCCCAGACTAAACTCCTCCCCTCGGCCCGGCCCGCCC\n",
      ">chr22:17565762-17565946(+)\n",
      "GCAAGGAGGAACGGGGGGAGGGCCCTGTCTCACCCTAAACCCCTCCCCGTCCCAGACTAAACTCCTCCCCTCGGCCCGGCCCGCCCCTGGGCCCGGGCTGGAAGCCGGAAGCGAGCAAAGTGGAGCCGACTCGAACTCCACCGCGGAAAAGAAAGCCTCAGAACGTTCGTTCGCTGCGTCCCCA\n",
      ">chr22:17700266-17700502(-)\n",
      "TGAACATGCGCACAAGCCCCCCACATCAAACTCAGATGCACACAGCAAGCATGCATGTAAGCCACACACTTGCCACTCTGGCTGCCTCAGCACTGCAGAGCCCCTCTCCCCGGCCTCTAGTTGGATCCCTGGTGCACACTGGAGGGAAATAAAACCTACCCCAACAGGAAGTGAAACAGTTGGTGAGCTTTTCCGGTGCTCTGCACAGATGCTGGGGCGCTGAGCAAACAGCCCTC\n",
      ">chr22:17701961-17702266(-)\n",
      "AACCAACATGGCACAGGTATACCTATGTATCAAACCTGCACATTGTGCACATGTACCCTAGAACTTAAAGTATAAAAAAAACCCACAAAAAACCCTTCACATGATTTACTTTCAGAATTGGTGGTTTCCCTTTGTGCGGCGCTGGAATCAATCTTGTTTCTCCTTATTACTTGCGGTGCATTCTGCTTCCTCTAACTTTCAAAAAATTAGTGTTAAACTCTTTTTTTTTTTTTTGAGACAAAATCTCACTCTGTCATCCAGACTGGAGTGCAATGGTGCAATCTCAGCTCACTGCAACCTCCACC\n",
      "--- Random 10 lines ---\n",
      "GCAAGGAGGAACGGGGGGAGGGCCCTGTCTCACCCTAAACCCCTCCCCGTCCCAGACTAAACTCCTCCCCTCGGCCCGGCC\n",
      ">chr22:17565762-17565848(+)\n",
      "GCAAGGAGGAACGGGGGGAGGGCCCTGTCTCACCCTAAACCCCTCCCCGTCCCAGACTAAACTCCTCCCCTCGGCCCGGCCCGCCC\n",
      "AACCAACATGGCACAGGTATACCTATGTATCAAACCTGCACATTGTGCACATGTACCCTAGAACTTAAAGTATAAAAAAAACCCACAAAAAACCCTTCACATGATTTACTTTCAGAATTGGTGGTTTCCCTTTGTGCGGCGCTGGAATCAATCTTGTTTCTCCTTATTACTTGCGGTGCATTCTGCTTCCTCTAACTTTCAAAAAATTAGTGTTAAACTCTTTTTTTTTTTTTTGAGACAAAATCTCACTCTGTCATCCAGACTGGAGTGCAATGGTGCAATCTCAGCTCACTGCAACCTCCACC\n",
      "ATGGGTGCAGCAAACCAACATGGCACAGGTATACCTATGTATCAAACCTGCACATTGTGCACATGTACCCTAGAACTTAAAGTATAAAAAAAACCCACAAAAAACCCTTCACATGATTTACTTTCAGAATTGGTGGTTTCCCTTTGTGCGGCGCTGGAATCAATCTTGTTTCTCCTTATTACTTGCGGTGCATTCTGCTTCCTCTAACTTTCAAAAAATTAGTGTTAAACTCTTTTTTTTTTTTTTGAGACAAAATCTCACTCTGTCATCCAGACTGGAGTGCAATGGTGCAATCTCAGCTCACTGCAACCTCCACC\n",
      ">chr22:18111761-18112038(-)\n",
      "ACACTTTATTCAGGTAATCAAGGTTGACATGAATAGTCAGAAATCATGTATCCCCCTTTTTTTTTTCTTTTGGTAGAGACGGGGTTCCTCTATGTTGTCCAGCCTGGTCTCGAACTTGAGGTCAAGCGATACACCCGCCTTGGTCTCCCAAAGTCTCCGGATTGCAGGCGTGAGCCACCACGCCCGGCCAACAATCATGTACCCCTAAGCCCATAACCCTGTGTAATTATGCGAAAAATTCCAATAAAGGCACATTCTCCAATATACCTAACCAGTA\n",
      ">chr22:18111761-18112038(-)\n",
      "ACACTTTATTCAGGTAATCAAGGTTGACATGAATAGTCAGAAATCATGTATCCCCCTTTTTTTTTTCTTTTGGTAGAGACGGGGTTCCTCTATGTTGTCCAGCCTGGTCTCGAACTTGAGGTCAAGCGATACACCCGCCTTGGTCTCCCAAAGTCTCCGGATTGCAGGCGTGAGCCACCACGCCCGGCCAACAATCATGTACCCCTAAGCCCATAACCCTGTGTAATTATGCGAAAAATTCCAATAAAGGCACATTCTCCAATATACCTAACCAGTA\n",
      "ACACTTTATTCAGGTAATCAAGGTTGACATGAATAGTCAGAAATCATGTATCCCCCTTTTTTTTTTCTTTTGGTAGAGACGGGGTTCCTCTATGTTGTCCAGCCTGGTCTCGAACTTGAGGTCAAGCGATACACCCGCCTTGGTCTCCCAAAGTCTCCGGATTGCAGGCGTGAGCCACCACGCCCGGCCAACAATCATGTACCCCTAAGCCCATAACCCTGTGTAATTATGCGAAAAATTCCAATAAAGGCACATTCTCCAATATACCTAACCAGTA\n",
      "--- Last 10 lines ---\n",
      ">chr22:51021283-51021316(-)\n",
      "GAAGCCCAGGCCGGCCGGAAGAGGAGCCGAGCG\n",
      ">chr22:51021477-51021754(-)\n",
      "ACCCACGCTCAGGACGGACGCGCGCTGGACGGCTCTTCCTTGTCGGAGCGCCCCAGGGGTCGGGGAAGAGGGCCCGGCAAGGGAGCCCTCGCGCCGGAGCTGCAGCTGCAGCCGCCGCCCCGCCGCCCCGCCGGCTCCCACGGGGCAGAGACGCAGCTCCTCTCCGGTCTTCCCGTACGCTACCGCGCCCGGGCAGTTCCTCGCCCGCGCACGCGCCGCTCCGCCAACTGATTGGCCTCCGGCGCCTCGGATTGGCCCAGGCCGTCCAACAGCAGCC\n",
      ">chr22:51021039-51021316(-)\n",
      "GAAGCCCAGGCCGGCCGGAAGAGGAGCCGAGCGCGGCCGGAAGGAACCGAGCCCGTCCGAAGGGAGCGGAGCGCAGCCTGGCCTGGGGCCCGGTCGAGCCCGCGCCATGGCGGCCGAGGCGACAGCTGTGGCCGGAAGCGGGGCTGTTGGCGGCTGCCTGGCCAAAGACGGCTTGCAGCAGTCTAAGTGCCCGGACACTACCCCAAAACGGCGGCGCGCCTCGTCGCTGTCGCGTGACGCCGAGCGCCGAGCCTACCAATGGTGCCGGGAGTACTTG\n",
      ">chr22:51021477-51021754(-)\n",
      "ACCCACGCTCAGGACGGACGCGCGCTGGACGGCTCTTCCTTGTCGGAGCGCCCCAGGGGTCGGGGAAGAGGGCCCGGCAAGGGAGCCCTCGCGCCGGAGCTGCAGCTGCAGCCGCCGCCCCGCCGCCCCGCCGGCTCCCACGGGGCAGAGACGCAGCTCCTCTCCGGTCTTCCCGTACGCTACCGCGCCCGGGCAGTTCCTCGCCCGCGCACGCGCCGCTCCGCCAACTGATTGGCCTCCGGCGCCTCGGATTGGCCCAGGCCGTCCAACAGCAGCC\n",
      ">chr22:51021039-51021316(+)\n",
      "CAAGTACTCCCGGCACCATTGGTAGGCTCGGCGCTCGGCGTCACGCGACAGCGACGAGGCGCGCCGCCGTTTTGGGGTAGTGTCCGGGCACTTAGACTGCTGCAAGCCGTCTTTGGCCAGGCAGCCGCCAACAGCCCCGCTTCCGGCCACAGCTGTCGCCTCGGCCGCCATGGCGCGGGCTCGACCGGGCCCCAGGCCAGGCTGCGCTCCGCTCCCTTCGGACGGGCTCGGTTCCTTCCGGCCGCGCTCGGCTCCTCTTCCGGCCGGCCTGGGCTTC\n",
      "\n"
     ]
    }
   ],
   "source": [
    "print(exercise5)"
   ]
  },
  {
   "cell_type": "code",
   "execution_count": 28,
   "metadata": {
    "collapsed": true,
    "nbgrader": {
     "grade": true,
     "grade_id": "11_ex5_bedtools_getfasta_test",
     "locked": true,
     "points": 5,
     "solution": false
    }
   },
   "outputs": [],
   "source": [
    "answer5 = '''2442 gencode.v19.annotation.chr22.transcript.promoter.nfkb.fasta\n",
    "--- First 10 lines ---\n",
    ">chr22:17565762-17565843(+)\n",
    "GCAAGGAGGAACGGGGGGAGGGCCCTGTCTCACCCTAAACCCCTCCCCGTCCCAGACTAAACTCCTCCCCTCGGCCCGGCC\n",
    ">chr22:17565762-17565848(+)\n",
    "GCAAGGAGGAACGGGGGGAGGGCCCTGTCTCACCCTAAACCCCTCCCCGTCCCAGACTAAACTCCTCCCCTCGGCCCGGCCCGCCC\n",
    ">chr22:17565762-17565946(+)\n",
    "GCAAGGAGGAACGGGGGGAGGGCCCTGTCTCACCCTAAACCCCTCCCCGTCCCAGACTAAACTCCTCCCCTCGGCCCGGCCCGCCCCTGGGCCCGGGCTGGAAGCCGGAAGCGAGCAAAGTGGAGCCGACTCGAACTCCACCGCGGAAAAGAAAGCCTCAGAACGTTCGTTCGCTGCGTCCCCA\n",
    ">chr22:17700266-17700502(-)\n",
    "TGAACATGCGCACAAGCCCCCCACATCAAACTCAGATGCACACAGCAAGCATGCATGTAAGCCACACACTTGCCACTCTGGCTGCCTCAGCACTGCAGAGCCCCTCTCCCCGGCCTCTAGTTGGATCCCTGGTGCACACTGGAGGGAAATAAAACCTACCCCAACAGGAAGTGAAACAGTTGGTGAGCTTTTCCGGTGCTCTGCACAGATGCTGGGGCGCTGAGCAAACAGCCCTC\n",
    ">chr22:17701961-17702266(-)\n",
    "AACCAACATGGCACAGGTATACCTATGTATCAAACCTGCACATTGTGCACATGTACCCTAGAACTTAAAGTATAAAAAAAACCCACAAAAAACCCTTCACATGATTTACTTTCAGAATTGGTGGTTTCCCTTTGTGCGGCGCTGGAATCAATCTTGTTTCTCCTTATTACTTGCGGTGCATTCTGCTTCCTCTAACTTTCAAAAAATTAGTGTTAAACTCTTTTTTTTTTTTTTGAGACAAAATCTCACTCTGTCATCCAGACTGGAGTGCAATGGTGCAATCTCAGCTCACTGCAACCTCCACC\n",
    "--- Random 10 lines ---\n",
    "GCAAGGAGGAACGGGGGGAGGGCCCTGTCTCACCCTAAACCCCTCCCCGTCCCAGACTAAACTCCTCCCCTCGGCCCGGCC\n",
    ">chr22:17565762-17565848(+)\n",
    "GCAAGGAGGAACGGGGGGAGGGCCCTGTCTCACCCTAAACCCCTCCCCGTCCCAGACTAAACTCCTCCCCTCGGCCCGGCCCGCCC\n",
    "AACCAACATGGCACAGGTATACCTATGTATCAAACCTGCACATTGTGCACATGTACCCTAGAACTTAAAGTATAAAAAAAACCCACAAAAAACCCTTCACATGATTTACTTTCAGAATTGGTGGTTTCCCTTTGTGCGGCGCTGGAATCAATCTTGTTTCTCCTTATTACTTGCGGTGCATTCTGCTTCCTCTAACTTTCAAAAAATTAGTGTTAAACTCTTTTTTTTTTTTTTGAGACAAAATCTCACTCTGTCATCCAGACTGGAGTGCAATGGTGCAATCTCAGCTCACTGCAACCTCCACC\n",
    "ATGGGTGCAGCAAACCAACATGGCACAGGTATACCTATGTATCAAACCTGCACATTGTGCACATGTACCCTAGAACTTAAAGTATAAAAAAAACCCACAAAAAACCCTTCACATGATTTACTTTCAGAATTGGTGGTTTCCCTTTGTGCGGCGCTGGAATCAATCTTGTTTCTCCTTATTACTTGCGGTGCATTCTGCTTCCTCTAACTTTCAAAAAATTAGTGTTAAACTCTTTTTTTTTTTTTTGAGACAAAATCTCACTCTGTCATCCAGACTGGAGTGCAATGGTGCAATCTCAGCTCACTGCAACCTCCACC\n",
    ">chr22:18111761-18112038(-)\n",
    "ACACTTTATTCAGGTAATCAAGGTTGACATGAATAGTCAGAAATCATGTATCCCCCTTTTTTTTTTCTTTTGGTAGAGACGGGGTTCCTCTATGTTGTCCAGCCTGGTCTCGAACTTGAGGTCAAGCGATACACCCGCCTTGGTCTCCCAAAGTCTCCGGATTGCAGGCGTGAGCCACCACGCCCGGCCAACAATCATGTACCCCTAAGCCCATAACCCTGTGTAATTATGCGAAAAATTCCAATAAAGGCACATTCTCCAATATACCTAACCAGTA\n",
    ">chr22:18111761-18112038(-)\n",
    "ACACTTTATTCAGGTAATCAAGGTTGACATGAATAGTCAGAAATCATGTATCCCCCTTTTTTTTTTCTTTTGGTAGAGACGGGGTTCCTCTATGTTGTCCAGCCTGGTCTCGAACTTGAGGTCAAGCGATACACCCGCCTTGGTCTCCCAAAGTCTCCGGATTGCAGGCGTGAGCCACCACGCCCGGCCAACAATCATGTACCCCTAAGCCCATAACCCTGTGTAATTATGCGAAAAATTCCAATAAAGGCACATTCTCCAATATACCTAACCAGTA\n",
    "ACACTTTATTCAGGTAATCAAGGTTGACATGAATAGTCAGAAATCATGTATCCCCCTTTTTTTTTTCTTTTGGTAGAGACGGGGTTCCTCTATGTTGTCCAGCCTGGTCTCGAACTTGAGGTCAAGCGATACACCCGCCTTGGTCTCCCAAAGTCTCCGGATTGCAGGCGTGAGCCACCACGCCCGGCCAACAATCATGTACCCCTAAGCCCATAACCCTGTGTAATTATGCGAAAAATTCCAATAAAGGCACATTCTCCAATATACCTAACCAGTA\n",
    "--- Last 10 lines ---\n",
    ">chr22:51021283-51021316(-)\n",
    "GAAGCCCAGGCCGGCCGGAAGAGGAGCCGAGCG\n",
    ">chr22:51021477-51021754(-)\n",
    "ACCCACGCTCAGGACGGACGCGCGCTGGACGGCTCTTCCTTGTCGGAGCGCCCCAGGGGTCGGGGAAGAGGGCCCGGCAAGGGAGCCCTCGCGCCGGAGCTGCAGCTGCAGCCGCCGCCCCGCCGCCCCGCCGGCTCCCACGGGGCAGAGACGCAGCTCCTCTCCGGTCTTCCCGTACGCTACCGCGCCCGGGCAGTTCCTCGCCCGCGCACGCGCCGCTCCGCCAACTGATTGGCCTCCGGCGCCTCGGATTGGCCCAGGCCGTCCAACAGCAGCC\n",
    ">chr22:51021039-51021316(-)\n",
    "GAAGCCCAGGCCGGCCGGAAGAGGAGCCGAGCGCGGCCGGAAGGAACCGAGCCCGTCCGAAGGGAGCGGAGCGCAGCCTGGCCTGGGGCCCGGTCGAGCCCGCGCCATGGCGGCCGAGGCGACAGCTGTGGCCGGAAGCGGGGCTGTTGGCGGCTGCCTGGCCAAAGACGGCTTGCAGCAGTCTAAGTGCCCGGACACTACCCCAAAACGGCGGCGCGCCTCGTCGCTGTCGCGTGACGCCGAGCGCCGAGCCTACCAATGGTGCCGGGAGTACTTG\n",
    ">chr22:51021477-51021754(-)\n",
    "ACCCACGCTCAGGACGGACGCGCGCTGGACGGCTCTTCCTTGTCGGAGCGCCCCAGGGGTCGGGGAAGAGGGCCCGGCAAGGGAGCCCTCGCGCCGGAGCTGCAGCTGCAGCCGCCGCCCCGCCGCCCCGCCGGCTCCCACGGGGCAGAGACGCAGCTCCTCTCCGGTCTTCCCGTACGCTACCGCGCCCGGGCAGTTCCTCGCCCGCGCACGCGCCGCTCCGCCAACTGATTGGCCTCCGGCGCCTCGGATTGGCCCAGGCCGTCCAACAGCAGCC\n",
    ">chr22:51021039-51021316(+)\n",
    "CAAGTACTCCCGGCACCATTGGTAGGCTCGGCGCTCGGCGTCACGCGACAGCGACGAGGCGCGCCGCCGTTTTGGGGTAGTGTCCGGGCACTTAGACTGCTGCAAGCCGTCTTTGGCCAGGCAGCCGCCAACAGCCCCGCTTCCGGCCACAGCTGTCGCCTCGGCCGCCATGGCGCGGGCTCGACCGGGCCCCAGGCCAGGCTGCGCTCCGCTCCCTTCGGACGGGCTCGGTTCCTTCCGGCCGCGCTCGGCTCCTCTTCCGGCCGGCCTGGGCTTC'''\n",
    "\n",
    "# Remove whitespace at the beginning and end of the exercise 4 result\n",
    "exercise5 = exercise5.strip()\n",
    "assert exercise5 == answer5"
   ]
  },
  {
   "cell_type": "markdown",
   "metadata": {
    "nbgrader": {
     "grade": false,
     "grade_id": "12_ex6_computational_validation",
     "locked": true,
     "solution": false
    }
   },
   "source": [
    "#### Exercise 6: Computational \"validation\" of binding sites\n",
    "Since we're wearing our computational biologist hat and don't do wet-lab experiments, we can't validate this finding by doing another ChIP-seq experiment. Instead, we'll validate by looking at another dataset.\n",
    "\n",
    "Look at the contents of `gencode.v19.annotation.chr22.transcript.promoter.nfkb.fasta`. How do sequences compare to the known binding sites as reported by [this](http://www.genomebiology.com/2011/12/7/R70) paper?"
   ]
  },
  {
   "cell_type": "markdown",
   "metadata": {
    "nbgrader": {
     "grade": true,
     "grade_id": "5_validation",
     "locked": false,
     "points": 5,
     "solution": true
    }
   },
   "source": [
    "Your text here"
   ]
  }
 ],
 "metadata": {
  "celltoolbar": "Create Assignment",
  "kernelspec": {
   "display_name": "Python 3",
   "language": "python",
   "name": "python3"
  },
  "language_info": {
   "codemirror_mode": {
    "name": "ipython",
    "version": 3
   },
   "file_extension": ".py",
   "mimetype": "text/x-python",
   "name": "python",
   "nbconvert_exporter": "python",
   "pygments_lexer": "ipython3",
   "version": "3.5.1"
  }
 },
 "nbformat": 4,
 "nbformat_minor": 0
}
