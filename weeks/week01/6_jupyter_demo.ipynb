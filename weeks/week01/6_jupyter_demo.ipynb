{
 "cells": [
  {
   "cell_type": "markdown",
   "metadata": {},
   "source": [
    "# Jupyter Notebook\n",
    "\n",
    "[Jupyter](http://jupyter.org/) notebooks are a way that you can have code, text, images, and math all live together in harmony. This concept can be called \"[Literate Proramming](https://en.wikipedia.org/wiki/Literate_programming)\", where all code that is written also has comments or an explanation of *why* it was written (which is not always obvious). In particular, the Jupyter notebook allows you to write some code, run (evaluate) it, and see the output all in once. This is called a \"read-eval-print loop\" or [REPL](https://en.wikipedia.org/wiki/Read%E2%80%93eval%E2%80%93print_loop).\n",
    "\n",
    "\n",
    "By the end of this notebook, you will have...\n",
    "\n",
    "* Become familiar with different cell types in Jupyter notebooks\n",
    "* Executed code in Jupyter notebooks\n",
    "* Learned about \"magic\" operators in Jupyter\n",
    "\n",
    "* * *\n"
   ]
  },
  {
   "cell_type": "markdown",
   "metadata": {},
   "source": [
    "## Getting Started\n",
    "\n",
    "1. Clone the biom262 repository (click here to get the HTTPS URL for cloning: https://github.com/biom262/biom262-2016) to `~/code` or `c:\\code`.\n",
    "\n",
    "2. In your Jupyter notebook "
   ]
  },
  {
   "cell_type": "markdown",
   "metadata": {},
   "source": [
    "# Cell Types\n",
    "- Tim is awesome\n",
    "\n",
    "### Markdown and Heading:\n",
    "- Formatted text using markdown language\n",
    "    \n",
    "### Code:\n",
    "- Input/Output dynamic processing entries\n",
    "    \n",
    "### Raw NBConvert (Raw):\n",
    "- No input/outp;ut or markdown processing.  Unprocessed text.\n",
    "    \n",
    "**To edit the type of any cell**, select it, then use the dropdown menu at the top of the screen.\n",
    "![New doc image reference](images/types.png \"New doc image reference\")\n",
    "\n",
    "**To insert a new cell**, use the Insert option in the toolbar.\n",
    "![New doc image reference](images/insert.png \"New doc image reference\")\n",
    "\n",
    "**To edit any cell,** double-click on it.\n",
    "\n",
    "**To execute the contents of any cell (or visualize markdown language),** hit the \"execute\" button in the toolbar (play/pause symbol):\n",
    "![New doc image reference](images/exe.png \"New doc image reference\")\n",
    "Or, press \"Shift+Enter\" to run the cell and create a new one underneath. \"Ctrl+Enter\" runs the current cell and doesn't make a new one.\n",
    "\n",
    "Check out \"Help > Keyboard Shortcuts\" to get all the possible keyboard shortcuts. Here's an online [list of keyboard shortcuts](https://sowingseasons.com/blog/reference/2016/01/jupyter-keyboard-shortcuts/23298516) as of April 2015.\n",
    "\n",
    "\n",
    "\n",
    "## Markdown Language Basics\n",
    "\n",
    "### Full details in the jupyter notebook user guide:\n",
    "    \n",
    "- http://jupyter.cs.brynmawr.edu/hub/dblank/public/Jupyter%20Notebook%20Users%20Manual.ipynb#4.-Using-Markdown-Cells-for-Writing\n",
    "\n",
    "### Quick Guide to Markdown Syntax\n",
    "\n",
    "#### Headers:\n",
    "- Prepend text with \"#\" or \"##\" depending on size of desired header text (up to header size 6 = \"######\").  \n",
    "- See the 2 headers above for examples of 1 and 2 level header sizes.\n",
    "    \n",
    "#### Formatting:\n",
    "- Markdown does not automatically hard-wrp carriage returns.\n",
    "    - Insert your own break by ending the line with two spaces and then typing Return.\n",
    "- *Italics* = 1 \"*\" or \"_\"\n",
    "- **Bold** = 2 \"**\" or \"__\"\n",
    "- `monospace` text (for code) is initiated by a prepending '\\`' character\n",
    "- Use \"\\\" or a preceeding tab to remove formatting issues caused by markdown language syntax.\n",
    "    - The '\\`' monospace character also works.\n",
    "    \n",
    "    \\\\- This is not a list  \n",
    "    \\\\-- When I do this\n",
    "\n",
    "#### Quotes\n",
    "- Quotes require the use of a prepending \">\", at a count matching the quote depth.\n",
    "- \\>example\n",
    "- \\>\\>subexample\n",
    "    \n",
    "> example\n",
    ">> subexample\n",
    "    \n",
    "#### Lists\n",
    "- Lists use a \"-\", \"*\", or \"+\".  Use tabs to modify list depth.\n",
    "- Tabs reduce markdown to raw text so lists are important!  \n",
    "\n",
    "#### Links\n",
    "    Normal link example:\n",
    "    [Class Website](http://en.wikipedia.org \"Class Website\")\n",
    " \n",
    "[Class Website](http://en.wikipedia.org \"Class Website\")\n",
    "\n",
    "#### Tables\n",
    "    Minimal example:\n",
    "    SampleID|GeneID|ExpressionValue\n",
    "    -|-|-|-\n",
    "    A|ACTB|40\n",
    "    B|ACTB|9500\n",
    "    C|ACTB|0\n",
    "    \n",
    "SampleID|GeneID|ExpressionValue\n",
    "-|-|-|-\n",
    "A|ACTB|40\n",
    "B|ACTB|9500\n",
    "C|ACTB|0\n",
    "\n",
    "#### Math markup using LaTeX\n",
    "- Use \"\\$\" signs to indicate LaTeX formulas:  \n",
    "    `\\${a \\choose a_1,a_2} $`\n",
    "    \n",
    "${a \\choose a_1,a_2}$.\n",
    "\n",
    "Note: If you're getting an error with a red `\\mathchoice` then you need to upgrade your Jupyter notebook to 4.1. See [this](https://github.com/jupyter/notebook/pull/324) issue.\n",
    "\n",
    "##### Images\n",
    "- `![Example image](http://icons.iconarchive.com/icons/icons-land/medical/256/Body-DNA-icon.png \"Example image\")`\n",
    "\n",
    "![Example image](http://icons.iconarchive.com/icons/icons-land/medical/256/Body-DNA-icon.png \"Example image\")\n",
    "\n",
    "### Intro to Dynamic Code Execution\n",
    "\n",
    "Jupyter notebook allows for test executions for over 50 programming languages within the browser.  See the full list of supported tools here:\n",
    "https://github.com/ipython/ipython/wiki/IPython-kernels-for-other-languages\n",
    "- Python is the default language\n",
    "- Use \"%%\" (magic commands) to delineate alternative languages (see below.)\n",
    "- Output is direct from the Kernel and is launched individually for each cell (ie. asycronous execution.)\n",
    "\n",
    "##### The obligatory (python) example:\n",
    "- Click on the cell below.\n",
    "- Hit the \"execute\" button (play/pause symbol) or CTRL+Enter to launch the code\n",
    "![New doc image reference](images/exe.png \"New doc image reference\")"
   ]
  },
  {
   "cell_type": "code",
   "execution_count": 9,
   "metadata": {
    "collapsed": false
   },
   "outputs": [
    {
     "name": "stdout",
     "output_type": "stream",
     "text": [
      "hello world!\n"
     ]
    }
   ],
   "source": [
    "a = \"hello world!\"\n",
    "print (a)"
   ]
  },
  {
   "cell_type": "markdown",
   "metadata": {},
   "source": [
    "##### Now let's try again using bash:"
   ]
  },
  {
   "cell_type": "code",
   "execution_count": 8,
   "metadata": {
    "collapsed": false
   },
   "outputs": [
    {
     "name": "stdout",
     "output_type": "stream",
     "text": [
      "Hello World\n"
     ]
    }
   ],
   "source": [
    "%%bash\n",
    "echo \"Hello World\""
   ]
  },
  {
   "cell_type": "markdown",
   "metadata": {},
   "source": [
    "##### Or even perl:"
   ]
  },
  {
   "cell_type": "code",
   "execution_count": 3,
   "metadata": {
    "collapsed": false
   },
   "outputs": [
    {
     "name": "stdout",
     "output_type": "stream",
     "text": [
      "Hello World\n"
     ]
    }
   ],
   "source": [
    "%%perl\n",
    "use strict;\n",
    "use warnings;\n",
    "my $a = \"Hello World\";\n",
    "print \"$a\\n\";"
   ]
  },
  {
   "cell_type": "markdown",
   "metadata": {},
   "source": [
    "### Advanced Processing Methods\n",
    "\n",
    "##### Magic commands\n",
    "* Otherwise known as \"meta commands\", these allow for code execution independent of the kernel you are using.\n",
    "* Above, the `%%bash` and `%%perl` magics were used to enter those particular kernels.\n",
    "\n",
    "##### Common magic commands\n",
    "* `?` : help command\n",
    "    * Example : `? hat` or `?? hat`\n",
    "* `!` : run as system shell\n",
    "    * Example: `! pwd` (prints present working directory)\n",
    "    * Similar to `%%bash`\n",
    "* `%magic`\n",
    "    * Lists all available magic commands \n",
    "* Example execution of magic command `pastebin` ( [Source](http://ipython.org/ipython-doc/dev/interactive/tutorial.html#magics-explained \"Source\") )\n",
    "    * `%pastebin 3 18-20 ~1/1-5`\n",
    "\n"
   ]
  },
  {
   "cell_type": "markdown",
   "metadata": {},
   "source": [
    "## Additional resources\n",
    "\n",
    "* For a very complete description of Jupyter notebooks, check out this [awesome user's manual](http://jupyter.cs.brynmawr.edu/hub/dblank/public/Jupyter%20Notebook%20Users%20Manual.ipynb) from Bryn Mawr College"
   ]
  }
 ],
 "metadata": {
  "kernelspec": {
   "display_name": "Python 3",
   "language": "python",
   "name": "python3"
  },
  "language_info": {
   "codemirror_mode": {
    "name": "ipython",
    "version": 3
   },
   "file_extension": ".py",
   "mimetype": "text/x-python",
   "name": "python",
   "nbconvert_exporter": "python",
   "pygments_lexer": "ipython3",
   "version": "3.5.1"
  }
 },
 "nbformat": 4,
 "nbformat_minor": 0
}
