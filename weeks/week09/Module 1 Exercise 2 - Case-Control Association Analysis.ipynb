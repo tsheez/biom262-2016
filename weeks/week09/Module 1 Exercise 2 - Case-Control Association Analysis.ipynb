{
 "cells": [
  {
   "cell_type": "code",
   "execution_count": 1,
   "metadata": {
    "collapsed": true
   },
   "outputs": [],
   "source": [
    "# From Phasukijwattana et al.  (2010), Leber Hereditary Optic\n",
    "# Neuropathy (LHON) disease and genotypes for marker rs6767450\n",
    "# Exercise 1: Read in the data\n",
    "LHON=read.table(\"~/Dropbox/Teaching/2015/BMS262/Module1/Excercises/LHON/LHON.txt\",header=TRUE)"
   ]
  },
  {
   "cell_type": "code",
   "execution_count": 2,
   "metadata": {
    "collapsed": false
   },
   "outputs": [
    {
     "data": {
      "text/html": [
       "<table>\n",
       "<thead><tr><th></th><th scope=col>IID</th><th scope=col>GENO</th><th scope=col>PHENO</th></tr></thead>\n",
       "<tbody>\n",
       "\t<tr><th scope=row>1</th><td>ID1</td><td>TT</td><td>CONTROL</td></tr>\n",
       "\t<tr><th scope=row>2</th><td>ID2</td><td>CT</td><td>CONTROL</td></tr>\n",
       "\t<tr><th scope=row>3</th><td>ID3</td><td>TT</td><td>CASE</td></tr>\n",
       "\t<tr><th scope=row>4</th><td>ID4</td><td>CT</td><td>CONTROL</td></tr>\n",
       "\t<tr><th scope=row>5</th><td>ID5</td><td>TT</td><td>CONTROL</td></tr>\n",
       "\t<tr><th scope=row>6</th><td>ID6</td><td>TT</td><td>CONTROL</td></tr>\n",
       "</tbody>\n",
       "</table>\n"
      ],
      "text/latex": [
       "\\begin{tabular}{r|lll}\n",
       "  & IID & GENO & PHENO\\\\\n",
       "\\hline\n",
       "\t1 & ID1 & TT & CONTROL\\\\\n",
       "\t2 & ID2 & CT & CONTROL\\\\\n",
       "\t3 & ID3 & TT & CASE\\\\\n",
       "\t4 & ID4 & CT & CONTROL\\\\\n",
       "\t5 & ID5 & TT & CONTROL\\\\\n",
       "\t6 & ID6 & TT & CONTROL\\\\\n",
       "\\end{tabular}\n"
      ],
      "text/plain": [
       "  IID GENO   PHENO\n",
       "1 ID1   TT CONTROL\n",
       "2 ID2   CT CONTROL\n",
       "3 ID3   TT    CASE\n",
       "4 ID4   CT CONTROL\n",
       "5 ID5   TT CONTROL\n",
       "6 ID6   TT CONTROL"
      ]
     },
     "execution_count": 2,
     "metadata": {},
     "output_type": "execute_result"
    }
   ],
   "source": [
    "### View the first few lines of the LHON data\n",
    "head(LHON)"
   ]
  },
  {
   "cell_type": "code",
   "execution_count": 3,
   "metadata": {
    "collapsed": true
   },
   "outputs": [],
   "source": [
    "### Could also use the View command\n",
    "View(LHON)"
   ]
  },
  {
   "cell_type": "code",
   "execution_count": 4,
   "metadata": {
    "collapsed": false
   },
   "outputs": [
    {
     "name": "stdout",
     "output_type": "stream",
     "text": [
      "'data.frame':\t328 obs. of  3 variables:\n",
      " $ IID  : Factor w/ 328 levels \"ID1\",\"ID10\",\"ID100\",..: 1 112 223 263 274 285 296 307 318 2 ...\n",
      " $ GENO : Factor w/ 3 levels \"CC\",\"CT\",\"TT\": 3 2 3 2 3 3 1 3 3 3 ...\n",
      " $ PHENO: Factor w/ 2 levels \"CASE\",\"CONTROL\": 2 2 1 2 2 2 2 2 2 2 ...\n"
     ]
    }
   ],
   "source": [
    "### Take a closer look at the types of variables in the LHON data frame\n",
    "str(LHON)\n"
   ]
  },
  {
   "cell_type": "code",
   "execution_count": 5,
   "metadata": {
    "collapsed": true
   },
   "outputs": [],
   "source": [
    "# Exercise 2: Perform logistic regression.  Obtain odds ratios and confidence intervals\n",
    "\n",
    "# Create a 0 and 1 phenotype variable indicating Case/Control Status to perform a logistic regression analysis\n",
    "LHON$newpheno=with(LHON,ifelse(PHENO==\"CASE\",1,0))\n"
   ]
  },
  {
   "cell_type": "code",
   "execution_count": 6,
   "metadata": {
    "collapsed": false
   },
   "outputs": [
    {
     "data": {
      "text/html": [
       "<ol class=list-inline>\n",
       "\t<li>'CC'</li>\n",
       "\t<li>'CT'</li>\n",
       "\t<li>'TT'</li>\n",
       "</ol>\n"
      ],
      "text/latex": [
       "\\begin{enumerate*}\n",
       "\\item 'CC'\n",
       "\\item 'CT'\n",
       "\\item 'TT'\n",
       "\\end{enumerate*}\n"
      ],
      "text/markdown": [
       "1. 'CC'\n",
       "2. 'CT'\n",
       "3. 'TT'\n",
       "\n",
       "\n"
      ],
      "text/plain": [
       "[1] \"CC\" \"CT\" \"TT\""
      ]
     },
     "execution_count": 6,
     "metadata": {},
     "output_type": "execute_result"
    }
   ],
   "source": [
    "## What would be the reference genotype for a logistic regression analysis?  \n",
    "## The first factor will be the reference genotype.\n",
    "levels(LHON$GENO)\n"
   ]
  },
  {
   "cell_type": "code",
   "execution_count": 7,
   "metadata": {
    "collapsed": true
   },
   "outputs": [],
   "source": [
    "# Perform a logistic regression analysis\n",
    "model1=glm(newpheno~GENO,family=binomial(link=\"logit\"),data=LHON)\n"
   ]
  },
  {
   "cell_type": "code",
   "execution_count": 21,
   "metadata": {
    "collapsed": false
   },
   "outputs": [
    {
     "data": {
      "text/plain": [
       "\n",
       "Call:\n",
       "glm(formula = newpheno ~ GENO, family = binomial(link = \"logit\"), \n",
       "    data = LHON)\n",
       "\n",
       "Deviance Residuals: \n",
       "    Min       1Q   Median       3Q      Max  \n",
       "-0.9695  -0.8701  -0.8701   1.5197   2.1093  \n",
       "\n",
       "Coefficients:\n",
       "            Estimate Std. Error z value Pr(>|z|)  \n",
       "(Intercept)  -0.5108     0.5164  -0.989   0.3226  \n",
       "GENOCT       -1.5994     0.6378  -2.508   0.0122 *\n",
       "GENOTT       -0.2654     0.5349  -0.496   0.6197  \n",
       "---\n",
       "Signif. codes:  0 ‘***’ 0.001 ‘**’ 0.01 ‘*’ 0.05 ‘.’ 0.1 ‘ ’ 1\n",
       "\n",
       "(Dispersion parameter for binomial family taken to be 1)\n",
       "\n",
       "    Null deviance: 383.49  on 327  degrees of freedom\n",
       "Residual deviance: 368.48  on 325  degrees of freedom\n",
       "AIC: 374.48\n",
       "\n",
       "Number of Fisher Scoring iterations: 4\n"
      ]
     },
     "execution_count": 21,
     "metadata": {},
     "output_type": "execute_result"
    }
   ],
   "source": [
    "# View the summary results of the logistic regression model, including parameter estimates and standard errors\n",
    "summary(model1)\n",
    "\n",
    "# Note:\n",
    "# AIC: Aikake Information Criterion: \n",
    "# A relative estimate of the information lost when a given model is used to represent the process that generates \n",
    "# the data. It deals with the trade-off between the goodness of fit of the model and the complexity of the model.\n",
    "# Does not give an absolute goodness of fit of the model. Generally the model with the smallest\n",
    "# AIC is preferred."
   ]
  },
  {
   "cell_type": "code",
   "execution_count": 9,
   "metadata": {
    "collapsed": false
   },
   "outputs": [
    {
     "data": {
      "text/html": [
       "0.202017692254095"
      ],
      "text/latex": [
       "0.202017692254095"
      ],
      "text/markdown": [
       "0.202017692254095"
      ],
      "text/plain": [
       "[1] 0.2020177"
      ]
     },
     "execution_count": 9,
     "metadata": {},
     "output_type": "execute_result"
    },
    {
     "data": {
      "text/html": [
       "<ol class=list-inline>\n",
       "\t<li>0.0578739447501913</li>\n",
       "\t<li>0.705173081942634</li>\n",
       "</ol>\n"
      ],
      "text/latex": [
       "\\begin{enumerate*}\n",
       "\\item 0.0578739447501913\n",
       "\\item 0.705173081942634\n",
       "\\end{enumerate*}\n"
      ],
      "text/markdown": [
       "1. 0.0578739447501913\n",
       "2. 0.705173081942634\n",
       "\n",
       "\n"
      ],
      "text/plain": [
       "[1] 0.05787394 0.70517308"
      ]
     },
     "execution_count": 9,
     "metadata": {},
     "output_type": "execute_result"
    }
   ],
   "source": [
    "## What is the odds ratio for the CT genotype?\n",
    "exp(-1.5994)\n",
    "\n",
    "# Obtain a confidence interval for the odds ratio parameter for the CT genotype\n",
    "myse=1.96*(.6378)\n",
    "CI=c(-1.5994-myse,-1.5994+myse)\n",
    "exp(CI)"
   ]
  },
  {
   "cell_type": "code",
   "execution_count": 10,
   "metadata": {
    "collapsed": false
   },
   "outputs": [
    {
     "data": {
      "text/html": [
       "0.766899128964159"
      ],
      "text/latex": [
       "0.766899128964159"
      ],
      "text/markdown": [
       "0.766899128964159"
      ],
      "text/plain": [
       "[1] 0.7668991"
      ]
     },
     "execution_count": 10,
     "metadata": {},
     "output_type": "execute_result"
    },
    {
     "data": {
      "text/html": [
       "<ol class=list-inline>\n",
       "\t<li>0.268795610621387</li>\n",
       "\t<li>2.18803526086742</li>\n",
       "</ol>\n"
      ],
      "text/latex": [
       "\\begin{enumerate*}\n",
       "\\item 0.268795610621387\n",
       "\\item 2.18803526086742\n",
       "\\end{enumerate*}\n"
      ],
      "text/markdown": [
       "1. 0.268795610621387\n",
       "2. 2.18803526086742\n",
       "\n",
       "\n"
      ],
      "text/plain": [
       "[1] 0.2687956 2.1880353"
      ]
     },
     "execution_count": 10,
     "metadata": {},
     "output_type": "execute_result"
    }
   ],
   "source": [
    "# Similarly can obtain a confidence interval for the odds ratio for the TT genotype\n",
    "exp(-.2654)\n",
    "myse=1.96*(.5349)\n",
    "CI=c(-.2654-myse,-.2654+myse)\n",
    "exp(CI)"
   ]
  },
  {
   "cell_type": "code",
   "execution_count": 12,
   "metadata": {
    "collapsed": false
   },
   "outputs": [
    {
     "data": {
      "text/html": [
       "<ol class=list-inline>\n",
       "\t<li>'TT'</li>\n",
       "\t<li>'CC'</li>\n",
       "\t<li>'CT'</li>\n",
       "</ol>\n"
      ],
      "text/latex": [
       "\\begin{enumerate*}\n",
       "\\item 'TT'\n",
       "\\item 'CC'\n",
       "\\item 'CT'\n",
       "\\end{enumerate*}\n"
      ],
      "text/markdown": [
       "1. 'TT'\n",
       "2. 'CC'\n",
       "3. 'CT'\n",
       "\n",
       "\n"
      ],
      "text/plain": [
       "[1] \"TT\" \"CC\" \"CT\""
      ]
     },
     "execution_count": 12,
     "metadata": {},
     "output_type": "execute_result"
    }
   ],
   "source": [
    "# Exercise 3: What happens if we change the reference genotype to be TT instead of CC?\n",
    "LHON$NEWGENO=with(LHON,relevel(GENO, ref = \"TT\"))\n",
    "levels(LHON$NEWGENO)"
   ]
  },
  {
   "cell_type": "code",
   "execution_count": 17,
   "metadata": {
    "collapsed": false
   },
   "outputs": [
    {
     "data": {
      "text/plain": [
       "\n",
       "Call:\n",
       "glm(formula = newpheno ~ NEWGENO, family = binomial(link = \"logit\"), \n",
       "    data = LHON)\n",
       "\n",
       "Deviance Residuals: \n",
       "    Min       1Q   Median       3Q      Max  \n",
       "-0.9695  -0.8701  -0.8701   1.5197   2.1093  \n",
       "\n",
       "Coefficients:\n",
       "            Estimate Std. Error z value Pr(>|z|)    \n",
       "(Intercept)  -0.7763     0.1395  -5.563 2.64e-08 ***\n",
       "NEWGENOCC     0.2654     0.5349   0.496 0.619739    \n",
       "NEWGENOCT    -1.3340     0.3995  -3.339 0.000841 ***\n",
       "---\n",
       "Signif. codes:  0 ‘***’ 0.001 ‘**’ 0.01 ‘*’ 0.05 ‘.’ 0.1 ‘ ’ 1\n",
       "\n",
       "(Dispersion parameter for binomial family taken to be 1)\n",
       "\n",
       "    Null deviance: 383.49  on 327  degrees of freedom\n",
       "Residual deviance: 368.48  on 325  degrees of freedom\n",
       "AIC: 374.48\n",
       "\n",
       "Number of Fisher Scoring iterations: 4\n"
      ]
     },
     "execution_count": 17,
     "metadata": {},
     "output_type": "execute_result"
    }
   ],
   "source": [
    "### Perform logistic regression\n",
    "model2=glm(newpheno~NEWGENO,family=binomial(link=\"logit\"),data=LHON)\n",
    "summary(model2)"
   ]
  },
  {
   "cell_type": "code",
   "execution_count": null,
   "metadata": {
    "collapsed": true
   },
   "outputs": [],
   "source": [
    "# Get the odds ratio and confidence interval\n",
    "exp(-1.3340 )\n",
    "myse=1.96*(.3995)\n",
    "CI=c(-1.3340-myse,-1.3340+myse)\n",
    "exp(CI)"
   ]
  },
  {
   "cell_type": "code",
   "execution_count": 14,
   "metadata": {
    "collapsed": false
   },
   "outputs": [
    {
     "data": {
      "text/html": [
       "<table>\n",
       "<thead><tr><th></th><th scope=col>2.5 %</th><th scope=col>97.5 %</th></tr></thead>\n",
       "<tbody>\n",
       "\t<tr><th scope=row>(Intercept)</th><td>0.3500310</td><td>0.6048404</td></tr>\n",
       "\t<tr><th scope=row>NEWGENOCC</th><td>0.4570423</td><td>3.7204782</td></tr>\n",
       "\t<tr><th scope=row>NEWGENOCT</th><td>0.1203945</td><td>0.5764187</td></tr>\n",
       "</tbody>\n",
       "</table>\n"
      ],
      "text/latex": [
       "\\begin{tabular}{r|ll}\n",
       "  & 2.5 % & 97.5 %\\\\\n",
       "\\hline\n",
       "\t(Intercept) & 0.3500310 & 0.6048404\\\\\n",
       "\tNEWGENOCC & 0.4570423 & 3.7204782\\\\\n",
       "\tNEWGENOCT & 0.1203945 & 0.5764187\\\\\n",
       "\\end{tabular}\n"
      ],
      "text/markdown": [
       "1. 0.350031007053781\n",
       "2. 0.457042318516175\n",
       "3. 0.120394526831157\n",
       "4. 0.604840411919402\n",
       "5. 3.72047823824839\n",
       "6. 0.576418675668876\n",
       "\n",
       "\n"
      ],
      "text/plain": [
       "                2.5 %    97.5 %\n",
       "(Intercept) 0.3500310 0.6048404\n",
       "NEWGENOCC   0.4570423 3.7204782\n",
       "NEWGENOCT   0.1203945 0.5764187"
      ]
     },
     "execution_count": 14,
     "metadata": {},
     "output_type": "execute_result"
    }
   ],
   "source": [
    "# Could also do the following to get 95% confidence interval of parameters from your model\n",
    "MYCI=confint.default(model2)\n",
    "exp(MYCI)"
   ]
  },
  {
   "cell_type": "code",
   "execution_count": 15,
   "metadata": {
    "collapsed": false
   },
   "outputs": [
    {
     "data": {
      "image/png": "[encoded data removed]",
      "image/svg+xml": [
       "<?xml version=\"1.0\" encoding=\"UTF-8\"?>\n",
       "<svg xmlns=\"http://www.w3.org/2000/svg\" xmlns:xlink=\"http://www.w3.org/1999/xlink\" width=\"504pt\" height=\"504pt\" viewBox=\"0 0 504 504\" version=\"1.1\">\n",
       "<defs>\n",
       "<g>\n",
       "<symbol overflow=\"visible\" id=\"glyph0-0\">\n",
       "<path style=\"stroke:none;\" d=\"M 0.390625 0 L 0.390625 -8.609375 L 7.21875 -8.609375 L 7.21875 0 Z M 6.140625 -1.078125 L 6.140625 -7.53125 L 1.46875 -7.53125 L 1.46875 -1.078125 Z \"/>\n",
       "</symbol>\n",
       "<symbol overflow=\"visible\" id=\"glyph0-1\">\n",
       "<path style=\"stroke:none;\" d=\"M 1.03125 -7.234375 C 1.050781 -7.671875 1.128906 -7.988281 1.265625 -8.1875 C 1.515625 -8.550781 1.988281 -8.734375 2.6875 -8.734375 C 2.757812 -8.734375 2.828125 -8.726562 2.890625 -8.71875 C 2.960938 -8.71875 3.046875 -8.710938 3.140625 -8.703125 L 3.140625 -7.75 C 3.023438 -7.757812 2.941406 -7.765625 2.890625 -7.765625 C 2.847656 -7.765625 2.804688 -7.765625 2.765625 -7.765625 C 2.441406 -7.765625 2.25 -7.679688 2.1875 -7.515625 C 2.125 -7.347656 2.09375 -6.925781 2.09375 -6.25 L 3.140625 -6.25 L 3.140625 -5.421875 L 2.078125 -5.421875 L 2.078125 0 L 1.03125 0 L 1.03125 -5.421875 L 0.171875 -5.421875 L 0.171875 -6.25 L 1.03125 -6.25 Z \"/>\n",
       "</symbol>\n",
       "<symbol overflow=\"visible\" id=\"glyph0-2\">\n",
       "<path style=\"stroke:none;\" d=\"M 1.578125 -1.671875 C 1.578125 -1.367188 1.6875 -1.128906 1.90625 -0.953125 C 2.132812 -0.773438 2.398438 -0.6875 2.703125 -0.6875 C 3.078125 -0.6875 3.4375 -0.769531 3.78125 -0.9375 C 4.375 -1.226562 4.671875 -1.695312 4.671875 -2.34375 L 4.671875 -3.1875 C 4.535156 -3.113281 4.363281 -3.046875 4.15625 -2.984375 C 3.957031 -2.929688 3.757812 -2.894531 3.5625 -2.875 L 2.9375 -2.796875 C 2.550781 -2.742188 2.257812 -2.660156 2.0625 -2.546875 C 1.738281 -2.367188 1.578125 -2.078125 1.578125 -1.671875 Z M 4.140625 -3.796875 C 4.378906 -3.828125 4.539062 -3.929688 4.625 -4.109375 C 4.664062 -4.203125 4.6875 -4.335938 4.6875 -4.515625 C 4.6875 -4.867188 4.554688 -5.125 4.296875 -5.28125 C 4.046875 -5.445312 3.6875 -5.53125 3.21875 -5.53125 C 2.664062 -5.53125 2.273438 -5.382812 2.046875 -5.09375 C 1.910156 -4.925781 1.820312 -4.679688 1.78125 -4.359375 L 0.796875 -4.359375 C 0.816406 -5.128906 1.066406 -5.664062 1.546875 -5.96875 C 2.035156 -6.269531 2.597656 -6.421875 3.234375 -6.421875 C 3.972656 -6.421875 4.570312 -6.28125 5.03125 -6 C 5.488281 -5.71875 5.71875 -5.28125 5.71875 -4.6875 L 5.71875 -1.078125 C 5.71875 -0.972656 5.738281 -0.882812 5.78125 -0.8125 C 5.832031 -0.75 5.929688 -0.71875 6.078125 -0.71875 C 6.117188 -0.71875 6.164062 -0.71875 6.21875 -0.71875 C 6.28125 -0.726562 6.347656 -0.738281 6.421875 -0.75 L 6.421875 0.03125 C 6.253906 0.0703125 6.125 0.0976562 6.03125 0.109375 C 5.945312 0.128906 5.832031 0.140625 5.6875 0.140625 C 5.320312 0.140625 5.0625 0.0078125 4.90625 -0.25 C 4.8125 -0.382812 4.75 -0.578125 4.71875 -0.828125 C 4.5 -0.546875 4.1875 -0.300781 3.78125 -0.09375 C 3.382812 0.113281 2.945312 0.21875 2.46875 0.21875 C 1.882812 0.21875 1.40625 0.0390625 1.03125 -0.3125 C 0.664062 -0.664062 0.484375 -1.109375 0.484375 -1.640625 C 0.484375 -2.222656 0.664062 -2.675781 1.03125 -3 C 1.394531 -3.320312 1.867188 -3.519531 2.453125 -3.59375 Z M 3.265625 -6.421875 Z \"/>\n",
       "</symbol>\n",
       "<symbol overflow=\"visible\" id=\"glyph0-3\">\n",
       "<path style=\"stroke:none;\" d=\"M 3.1875 -6.453125 C 3.894531 -6.453125 4.46875 -6.28125 4.90625 -5.9375 C 5.351562 -5.59375 5.625 -5.003906 5.71875 -4.171875 L 4.6875 -4.171875 C 4.625 -4.554688 4.484375 -4.875 4.265625 -5.125 C 4.046875 -5.382812 3.6875 -5.515625 3.1875 -5.515625 C 2.519531 -5.515625 2.039062 -5.1875 1.75 -4.53125 C 1.5625 -4.101562 1.46875 -3.578125 1.46875 -2.953125 C 1.46875 -2.328125 1.597656 -1.796875 1.859375 -1.359375 C 2.128906 -0.929688 2.550781 -0.71875 3.125 -0.71875 C 3.5625 -0.71875 3.90625 -0.851562 4.15625 -1.125 C 4.414062 -1.394531 4.59375 -1.757812 4.6875 -2.21875 L 5.71875 -2.21875 C 5.601562 -1.382812 5.3125 -0.773438 4.84375 -0.390625 C 4.375 -0.00390625 3.773438 0.1875 3.046875 0.1875 C 2.222656 0.1875 1.566406 -0.113281 1.078125 -0.71875 C 0.585938 -1.320312 0.34375 -2.070312 0.34375 -2.96875 C 0.34375 -4.070312 0.609375 -4.925781 1.140625 -5.53125 C 1.679688 -6.144531 2.363281 -6.453125 3.1875 -6.453125 Z M 3.03125 -6.421875 Z \"/>\n",
       "</symbol>\n",
       "<symbol overflow=\"visible\" id=\"glyph0-4\">\n",
       "<path style=\"stroke:none;\" d=\"M 0.984375 -8.03125 L 2.046875 -8.03125 L 2.046875 -6.28125 L 3.046875 -6.28125 L 3.046875 -5.421875 L 2.046875 -5.421875 L 2.046875 -1.3125 C 2.046875 -1.09375 2.125 -0.945312 2.28125 -0.875 C 2.351562 -0.832031 2.488281 -0.8125 2.6875 -0.8125 C 2.738281 -0.8125 2.789062 -0.8125 2.84375 -0.8125 C 2.90625 -0.820312 2.972656 -0.828125 3.046875 -0.828125 L 3.046875 0 C 2.929688 0.03125 2.804688 0.0507812 2.671875 0.0625 C 2.546875 0.0820312 2.40625 0.09375 2.25 0.09375 C 1.757812 0.09375 1.425781 -0.03125 1.25 -0.28125 C 1.070312 -0.53125 0.984375 -0.859375 0.984375 -1.265625 L 0.984375 -5.421875 L 0.140625 -5.421875 L 0.140625 -6.28125 L 0.984375 -6.28125 Z \"/>\n",
       "</symbol>\n",
       "<symbol overflow=\"visible\" id=\"glyph0-5\">\n",
       "<path style=\"stroke:none;\" d=\"M 3.265625 -0.6875 C 3.960938 -0.6875 4.441406 -0.945312 4.703125 -1.46875 C 4.960938 -2 5.09375 -2.585938 5.09375 -3.234375 C 5.09375 -3.828125 5 -4.304688 4.8125 -4.671875 C 4.507812 -5.242188 4 -5.53125 3.28125 -5.53125 C 2.632812 -5.53125 2.164062 -5.285156 1.875 -4.796875 C 1.582031 -4.304688 1.4375 -3.710938 1.4375 -3.015625 C 1.4375 -2.347656 1.582031 -1.789062 1.875 -1.34375 C 2.164062 -0.90625 2.628906 -0.6875 3.265625 -0.6875 Z M 3.3125 -6.453125 C 4.113281 -6.453125 4.789062 -6.179688 5.34375 -5.640625 C 5.90625 -5.109375 6.1875 -4.316406 6.1875 -3.265625 C 6.1875 -2.253906 5.941406 -1.414062 5.453125 -0.75 C 4.960938 -0.09375 4.203125 0.234375 3.171875 0.234375 C 2.304688 0.234375 1.617188 -0.0546875 1.109375 -0.640625 C 0.597656 -1.234375 0.34375 -2.019531 0.34375 -3 C 0.34375 -4.050781 0.609375 -4.890625 1.140625 -5.515625 C 1.679688 -6.140625 2.40625 -6.453125 3.3125 -6.453125 Z M 3.265625 -6.421875 Z \"/>\n",
       "</symbol>\n",
       "<symbol overflow=\"visible\" id=\"glyph0-6\">\n",
       "<path style=\"stroke:none;\" d=\"M 0.796875 -6.28125 L 1.8125 -6.28125 L 1.8125 -5.1875 C 1.882812 -5.40625 2.082031 -5.664062 2.40625 -5.96875 C 2.726562 -6.269531 3.097656 -6.421875 3.515625 -6.421875 C 3.535156 -6.421875 3.566406 -6.414062 3.609375 -6.40625 C 3.660156 -6.40625 3.742188 -6.398438 3.859375 -6.390625 L 3.859375 -5.28125 C 3.796875 -5.289062 3.738281 -5.296875 3.6875 -5.296875 C 3.632812 -5.296875 3.578125 -5.296875 3.515625 -5.296875 C 2.984375 -5.296875 2.570312 -5.125 2.28125 -4.78125 C 2 -4.445312 1.859375 -4.054688 1.859375 -3.609375 L 1.859375 0 L 0.796875 0 Z \"/>\n",
       "</symbol>\n",
       "<symbol overflow=\"visible\" id=\"glyph0-7\">\n",
       "<path style=\"stroke:none;\" d=\"M 3.546875 -8.75 C 2.929688 -7.5625 2.535156 -6.6875 2.359375 -6.125 C 2.078125 -5.257812 1.9375 -4.269531 1.9375 -3.15625 C 1.9375 -2.019531 2.097656 -0.984375 2.421875 -0.046875 C 2.609375 0.535156 2.988281 1.367188 3.5625 2.453125 L 2.859375 2.453125 C 2.285156 1.554688 1.929688 0.984375 1.796875 0.734375 C 1.660156 0.492188 1.515625 0.160156 1.359375 -0.265625 C 1.140625 -0.835938 0.984375 -1.453125 0.890625 -2.109375 C 0.847656 -2.453125 0.828125 -2.773438 0.828125 -3.078125 C 0.828125 -4.234375 1.007812 -5.265625 1.375 -6.171875 C 1.601562 -6.742188 2.082031 -7.601562 2.8125 -8.75 Z \"/>\n",
       "</symbol>\n",
       "<symbol overflow=\"visible\" id=\"glyph0-8\">\n",
       "<path style=\"stroke:none;\" d=\"M 4.640625 -8.828125 C 5.441406 -8.828125 6.140625 -8.671875 6.734375 -8.359375 C 7.585938 -7.910156 8.109375 -7.125 8.296875 -6 L 7.15625 -6 C 7.007812 -6.625 6.710938 -7.082031 6.265625 -7.375 C 5.828125 -7.664062 5.273438 -7.8125 4.609375 -7.8125 C 3.804688 -7.8125 3.132812 -7.507812 2.59375 -6.90625 C 2.050781 -6.3125 1.78125 -5.421875 1.78125 -4.234375 C 1.78125 -3.210938 2.003906 -2.378906 2.453125 -1.734375 C 2.898438 -1.097656 3.628906 -0.78125 4.640625 -0.78125 C 5.421875 -0.78125 6.066406 -1.003906 6.578125 -1.453125 C 7.085938 -1.898438 7.347656 -2.628906 7.359375 -3.640625 L 4.671875 -3.640625 L 4.671875 -4.609375 L 8.4375 -4.609375 L 8.4375 0 L 7.6875 0 L 7.40625 -1.109375 C 7.019531 -0.671875 6.671875 -0.367188 6.359375 -0.203125 C 5.847656 0.0859375 5.195312 0.234375 4.40625 0.234375 C 3.394531 0.234375 2.519531 -0.0976562 1.78125 -0.765625 C 0.976562 -1.585938 0.578125 -2.722656 0.578125 -4.171875 C 0.578125 -5.609375 0.96875 -6.753906 1.75 -7.609375 C 2.488281 -8.421875 3.453125 -8.828125 4.640625 -8.828125 Z M 4.4375 -8.84375 Z \"/>\n",
       "</symbol>\n",
       "<symbol overflow=\"visible\" id=\"glyph0-9\">\n",
       "<path style=\"stroke:none;\" d=\"M 1.03125 -8.609375 L 7.296875 -8.609375 L 7.296875 -7.546875 L 2.15625 -7.546875 L 2.15625 -4.9375 L 6.921875 -4.9375 L 6.921875 -3.9375 L 2.15625 -3.9375 L 2.15625 -1.03125 L 7.390625 -1.03125 L 7.390625 0 L 1.03125 0 Z M 4.203125 -8.609375 Z \"/>\n",
       "</symbol>\n",
       "<symbol overflow=\"visible\" id=\"glyph0-10\">\n",
       "<path style=\"stroke:none;\" d=\"M 0.921875 -8.609375 L 2.296875 -8.609375 L 6.640625 -1.640625 L 6.640625 -8.609375 L 7.75 -8.609375 L 7.75 0 L 6.4375 0 L 2.03125 -6.96875 L 2.03125 0 L 0.921875 0 Z M 4.25 -8.609375 Z \"/>\n",
       "</symbol>\n",
       "<symbol overflow=\"visible\" id=\"glyph0-11\">\n",
       "<path style=\"stroke:none;\" d=\"M 4.625 -8.84375 C 6.144531 -8.84375 7.269531 -8.351562 8 -7.375 C 8.570312 -6.613281 8.859375 -5.640625 8.859375 -4.453125 C 8.859375 -3.171875 8.53125 -2.101562 7.875 -1.25 C 7.113281 -0.25 6.023438 0.25 4.609375 0.25 C 3.285156 0.25 2.242188 -0.1875 1.484375 -1.0625 C 0.804688 -1.90625 0.46875 -2.972656 0.46875 -4.265625 C 0.46875 -5.421875 0.757812 -6.414062 1.34375 -7.25 C 2.082031 -8.3125 3.175781 -8.84375 4.625 -8.84375 Z M 4.75 -0.796875 C 5.769531 -0.796875 6.507812 -1.160156 6.96875 -1.890625 C 7.4375 -2.628906 7.671875 -3.476562 7.671875 -4.4375 C 7.671875 -5.445312 7.40625 -6.257812 6.875 -6.875 C 6.34375 -7.5 5.617188 -7.8125 4.703125 -7.8125 C 3.804688 -7.8125 3.078125 -7.503906 2.515625 -6.890625 C 1.953125 -6.273438 1.671875 -5.375 1.671875 -4.1875 C 1.671875 -3.226562 1.910156 -2.421875 2.390625 -1.765625 C 2.878906 -1.117188 3.664062 -0.796875 4.75 -0.796875 Z M 4.671875 -8.84375 Z \"/>\n",
       "</symbol>\n",
       "<symbol overflow=\"visible\" id=\"glyph0-12\">\n",
       "<path style=\"stroke:none;\" d=\"M 0.421875 2.453125 C 1.035156 1.242188 1.4375 0.359375 1.625 -0.203125 C 1.894531 -1.035156 2.03125 -2.019531 2.03125 -3.15625 C 2.03125 -4.28125 1.867188 -5.3125 1.546875 -6.25 C 1.359375 -6.832031 0.976562 -7.664062 0.40625 -8.75 L 1.109375 -8.75 C 1.710938 -7.789062 2.078125 -7.195312 2.203125 -6.96875 C 2.328125 -6.75 2.460938 -6.441406 2.609375 -6.046875 C 2.796875 -5.554688 2.929688 -5.070312 3.015625 -4.59375 C 3.097656 -4.113281 3.140625 -3.65625 3.140625 -3.21875 C 3.140625 -2.0625 2.953125 -1.03125 2.578125 -0.125 C 2.347656 0.457031 1.875 1.316406 1.15625 2.453125 Z \"/>\n",
       "</symbol>\n",
       "<symbol overflow=\"visible\" id=\"glyph0-13\">\n",
       "<path style=\"stroke:none;\" d=\"M 4.546875 -8.84375 C 5.628906 -8.84375 6.472656 -8.554688 7.078125 -7.984375 C 7.679688 -7.410156 8.015625 -6.757812 8.078125 -6.03125 L 6.9375 -6.03125 C 6.8125 -6.582031 6.554688 -7.019531 6.171875 -7.34375 C 5.785156 -7.664062 5.242188 -7.828125 4.546875 -7.828125 C 3.703125 -7.828125 3.019531 -7.53125 2.5 -6.9375 C 1.976562 -6.34375 1.71875 -5.429688 1.71875 -4.203125 C 1.71875 -3.191406 1.953125 -2.367188 2.421875 -1.734375 C 2.890625 -1.109375 3.59375 -0.796875 4.53125 -0.796875 C 5.382812 -0.796875 6.039062 -1.128906 6.5 -1.796875 C 6.726562 -2.140625 6.90625 -2.597656 7.03125 -3.171875 L 8.15625 -3.171875 C 8.0625 -2.265625 7.726562 -1.503906 7.15625 -0.890625 C 6.46875 -0.148438 5.546875 0.21875 4.390625 0.21875 C 3.390625 0.21875 2.550781 -0.0820312 1.875 -0.6875 C 0.976562 -1.488281 0.53125 -2.722656 0.53125 -4.390625 C 0.53125 -5.660156 0.863281 -6.703125 1.53125 -7.515625 C 2.257812 -8.398438 3.265625 -8.84375 4.546875 -8.84375 Z M 4.3125 -8.84375 Z \"/>\n",
       "</symbol>\n",
       "<symbol overflow=\"visible\" id=\"glyph0-14\">\n",
       "<path style=\"stroke:none;\" d=\"M 7.171875 -8.609375 L 7.171875 -7.578125 L 4.28125 -7.578125 L 4.28125 0 L 3.09375 0 L 3.09375 -7.578125 L 0.1875 -7.578125 L 0.1875 -8.609375 Z \"/>\n",
       "</symbol>\n",
       "<symbol overflow=\"visible\" id=\"glyph1-0\">\n",
       "<path style=\"stroke:none;\" d=\"M 0 -0.390625 L -8.609375 -0.390625 L -8.609375 -7.21875 L 0 -7.21875 Z M -1.078125 -6.140625 L -7.53125 -6.140625 L -7.53125 -1.46875 L -1.078125 -1.46875 Z \"/>\n",
       "</symbol>\n",
       "<symbol overflow=\"visible\" id=\"glyph1-1\">\n",
       "<path style=\"stroke:none;\" d=\"M -7.234375 -1.03125 C -7.671875 -1.050781 -7.988281 -1.128906 -8.1875 -1.265625 C -8.550781 -1.515625 -8.734375 -1.988281 -8.734375 -2.6875 C -8.734375 -2.757812 -8.726562 -2.828125 -8.71875 -2.890625 C -8.71875 -2.960938 -8.710938 -3.046875 -8.703125 -3.140625 L -7.75 -3.140625 C -7.757812 -3.023438 -7.765625 -2.941406 -7.765625 -2.890625 C -7.765625 -2.847656 -7.765625 -2.804688 -7.765625 -2.765625 C -7.765625 -2.441406 -7.679688 -2.25 -7.515625 -2.1875 C -7.347656 -2.125 -6.925781 -2.09375 -6.25 -2.09375 L -6.25 -3.140625 L -5.421875 -3.140625 L -5.421875 -2.078125 L 0 -2.078125 L 0 -1.03125 L -5.421875 -1.03125 L -5.421875 -0.171875 L -6.25 -0.171875 L -6.25 -1.03125 Z \"/>\n",
       "</symbol>\n",
       "<symbol overflow=\"visible\" id=\"glyph1-2\">\n",
       "<path style=\"stroke:none;\" d=\"M -1.671875 -1.578125 C -1.367188 -1.578125 -1.128906 -1.6875 -0.953125 -1.90625 C -0.773438 -2.132812 -0.6875 -2.398438 -0.6875 -2.703125 C -0.6875 -3.078125 -0.769531 -3.4375 -0.9375 -3.78125 C -1.226562 -4.375 -1.695312 -4.671875 -2.34375 -4.671875 L -3.1875 -4.671875 C -3.113281 -4.535156 -3.046875 -4.363281 -2.984375 -4.15625 C -2.929688 -3.957031 -2.894531 -3.757812 -2.875 -3.5625 L -2.796875 -2.9375 C -2.742188 -2.550781 -2.660156 -2.257812 -2.546875 -2.0625 C -2.367188 -1.738281 -2.078125 -1.578125 -1.671875 -1.578125 Z M -3.796875 -4.140625 C -3.828125 -4.378906 -3.929688 -4.539062 -4.109375 -4.625 C -4.203125 -4.664062 -4.335938 -4.6875 -4.515625 -4.6875 C -4.867188 -4.6875 -5.125 -4.554688 -5.28125 -4.296875 C -5.445312 -4.046875 -5.53125 -3.6875 -5.53125 -3.21875 C -5.53125 -2.664062 -5.382812 -2.273438 -5.09375 -2.046875 C -4.925781 -1.910156 -4.679688 -1.820312 -4.359375 -1.78125 L -4.359375 -0.796875 C -5.128906 -0.816406 -5.664062 -1.066406 -5.96875 -1.546875 C -6.269531 -2.035156 -6.421875 -2.597656 -6.421875 -3.234375 C -6.421875 -3.972656 -6.28125 -4.570312 -6 -5.03125 C -5.71875 -5.488281 -5.28125 -5.71875 -4.6875 -5.71875 L -1.078125 -5.71875 C -0.972656 -5.71875 -0.882812 -5.738281 -0.8125 -5.78125 C -0.75 -5.832031 -0.71875 -5.929688 -0.71875 -6.078125 C -0.71875 -6.117188 -0.71875 -6.164062 -0.71875 -6.21875 C -0.726562 -6.28125 -0.738281 -6.347656 -0.75 -6.421875 L 0.03125 -6.421875 C 0.0703125 -6.253906 0.0976562 -6.125 0.109375 -6.03125 C 0.128906 -5.945312 0.140625 -5.832031 0.140625 -5.6875 C 0.140625 -5.320312 0.0078125 -5.0625 -0.25 -4.90625 C -0.382812 -4.8125 -0.578125 -4.75 -0.828125 -4.71875 C -0.546875 -4.5 -0.300781 -4.1875 -0.09375 -3.78125 C 0.113281 -3.382812 0.21875 -2.945312 0.21875 -2.46875 C 0.21875 -1.882812 0.0390625 -1.40625 -0.3125 -1.03125 C -0.664062 -0.664062 -1.109375 -0.484375 -1.640625 -0.484375 C -2.222656 -0.484375 -2.675781 -0.664062 -3 -1.03125 C -3.320312 -1.394531 -3.519531 -1.867188 -3.59375 -2.453125 Z M -6.421875 -3.265625 Z \"/>\n",
       "</symbol>\n",
       "<symbol overflow=\"visible\" id=\"glyph1-3\">\n",
       "<path style=\"stroke:none;\" d=\"M -6.453125 -3.1875 C -6.453125 -3.894531 -6.28125 -4.46875 -5.9375 -4.90625 C -5.59375 -5.351562 -5.003906 -5.625 -4.171875 -5.71875 L -4.171875 -4.6875 C -4.554688 -4.625 -4.875 -4.484375 -5.125 -4.265625 C -5.382812 -4.046875 -5.515625 -3.6875 -5.515625 -3.1875 C -5.515625 -2.519531 -5.1875 -2.039062 -4.53125 -1.75 C -4.101562 -1.5625 -3.578125 -1.46875 -2.953125 -1.46875 C -2.328125 -1.46875 -1.796875 -1.597656 -1.359375 -1.859375 C -0.929688 -2.128906 -0.71875 -2.550781 -0.71875 -3.125 C -0.71875 -3.5625 -0.851562 -3.90625 -1.125 -4.15625 C -1.394531 -4.414062 -1.757812 -4.59375 -2.21875 -4.6875 L -2.21875 -5.71875 C -1.382812 -5.601562 -0.773438 -5.3125 -0.390625 -4.84375 C -0.00390625 -4.375 0.1875 -3.773438 0.1875 -3.046875 C 0.1875 -2.222656 -0.113281 -1.566406 -0.71875 -1.078125 C -1.320312 -0.585938 -2.070312 -0.34375 -2.96875 -0.34375 C -4.070312 -0.34375 -4.925781 -0.609375 -5.53125 -1.140625 C -6.144531 -1.679688 -6.453125 -2.363281 -6.453125 -3.1875 Z M -6.421875 -3.03125 Z \"/>\n",
       "</symbol>\n",
       "<symbol overflow=\"visible\" id=\"glyph1-4\">\n",
       "<path style=\"stroke:none;\" d=\"M -8.03125 -0.984375 L -8.03125 -2.046875 L -6.28125 -2.046875 L -6.28125 -3.046875 L -5.421875 -3.046875 L -5.421875 -2.046875 L -1.3125 -2.046875 C -1.09375 -2.046875 -0.945312 -2.125 -0.875 -2.28125 C -0.832031 -2.351562 -0.8125 -2.488281 -0.8125 -2.6875 C -0.8125 -2.738281 -0.8125 -2.789062 -0.8125 -2.84375 C -0.820312 -2.90625 -0.828125 -2.972656 -0.828125 -3.046875 L 0 -3.046875 C 0.03125 -2.929688 0.0507812 -2.804688 0.0625 -2.671875 C 0.0820312 -2.546875 0.09375 -2.40625 0.09375 -2.25 C 0.09375 -1.757812 -0.03125 -1.425781 -0.28125 -1.25 C -0.53125 -1.070312 -0.859375 -0.984375 -1.265625 -0.984375 L -5.421875 -0.984375 L -5.421875 -0.140625 L -6.28125 -0.140625 L -6.28125 -0.984375 Z \"/>\n",
       "</symbol>\n",
       "<symbol overflow=\"visible\" id=\"glyph1-5\">\n",
       "<path style=\"stroke:none;\" d=\"M -0.6875 -3.265625 C -0.6875 -3.960938 -0.945312 -4.441406 -1.46875 -4.703125 C -2 -4.960938 -2.585938 -5.09375 -3.234375 -5.09375 C -3.828125 -5.09375 -4.304688 -5 -4.671875 -4.8125 C -5.242188 -4.507812 -5.53125 -4 -5.53125 -3.28125 C -5.53125 -2.632812 -5.285156 -2.164062 -4.796875 -1.875 C -4.304688 -1.582031 -3.710938 -1.4375 -3.015625 -1.4375 C -2.347656 -1.4375 -1.789062 -1.582031 -1.34375 -1.875 C -0.90625 -2.164062 -0.6875 -2.628906 -0.6875 -3.265625 Z M -6.453125 -3.3125 C -6.453125 -4.113281 -6.179688 -4.789062 -5.640625 -5.34375 C -5.109375 -5.90625 -4.316406 -6.1875 -3.265625 -6.1875 C -2.253906 -6.1875 -1.414062 -5.941406 -0.75 -5.453125 C -0.09375 -4.960938 0.234375 -4.203125 0.234375 -3.171875 C 0.234375 -2.304688 -0.0546875 -1.617188 -0.640625 -1.109375 C -1.234375 -0.597656 -2.019531 -0.34375 -3 -0.34375 C -4.050781 -0.34375 -4.890625 -0.609375 -5.515625 -1.140625 C -6.140625 -1.679688 -6.453125 -2.40625 -6.453125 -3.3125 Z M -6.421875 -3.265625 Z \"/>\n",
       "</symbol>\n",
       "<symbol overflow=\"visible\" id=\"glyph1-6\">\n",
       "<path style=\"stroke:none;\" d=\"M -6.28125 -0.796875 L -6.28125 -1.8125 L -5.1875 -1.8125 C -5.40625 -1.882812 -5.664062 -2.082031 -5.96875 -2.40625 C -6.269531 -2.726562 -6.421875 -3.097656 -6.421875 -3.515625 C -6.421875 -3.535156 -6.414062 -3.566406 -6.40625 -3.609375 C -6.40625 -3.660156 -6.398438 -3.742188 -6.390625 -3.859375 L -5.28125 -3.859375 C -5.289062 -3.796875 -5.296875 -3.738281 -5.296875 -3.6875 C -5.296875 -3.632812 -5.296875 -3.578125 -5.296875 -3.515625 C -5.296875 -2.984375 -5.125 -2.570312 -4.78125 -2.28125 C -4.445312 -2 -4.054688 -1.859375 -3.609375 -1.859375 L 0 -1.859375 L 0 -0.796875 Z \"/>\n",
       "</symbol>\n",
       "<symbol overflow=\"visible\" id=\"glyph1-7\">\n",
       "<path style=\"stroke:none;\" d=\"M -8.75 -3.546875 C -7.5625 -2.929688 -6.6875 -2.535156 -6.125 -2.359375 C -5.257812 -2.078125 -4.269531 -1.9375 -3.15625 -1.9375 C -2.019531 -1.9375 -0.984375 -2.097656 -0.046875 -2.421875 C 0.535156 -2.609375 1.367188 -2.988281 2.453125 -3.5625 L 2.453125 -2.859375 C 1.554688 -2.285156 0.984375 -1.929688 0.734375 -1.796875 C 0.492188 -1.660156 0.160156 -1.515625 -0.265625 -1.359375 C -0.835938 -1.140625 -1.453125 -0.984375 -2.109375 -0.890625 C -2.453125 -0.847656 -2.773438 -0.828125 -3.078125 -0.828125 C -4.234375 -0.828125 -5.265625 -1.007812 -6.171875 -1.375 C -6.742188 -1.601562 -7.601562 -2.082031 -8.75 -2.8125 Z \"/>\n",
       "</symbol>\n",
       "<symbol overflow=\"visible\" id=\"glyph1-8\">\n",
       "<path style=\"stroke:none;\" d=\"M -8.609375 -1.03125 L -8.609375 -4.90625 C -8.609375 -5.664062 -8.390625 -6.28125 -7.953125 -6.75 C -7.523438 -7.21875 -6.921875 -7.453125 -6.140625 -7.453125 C -5.472656 -7.453125 -4.890625 -7.242188 -4.390625 -6.828125 C -3.890625 -6.410156 -3.640625 -5.769531 -3.640625 -4.90625 L -3.640625 -2.1875 L 0 -2.1875 L 0 -1.03125 Z M -6.140625 -6.28125 C -6.765625 -6.28125 -7.191406 -6.046875 -7.421875 -5.578125 C -7.546875 -5.316406 -7.609375 -4.960938 -7.609375 -4.515625 L -7.609375 -2.1875 L -4.625 -2.1875 L -4.625 -4.515625 C -4.625 -5.035156 -4.734375 -5.457031 -4.953125 -5.78125 C -5.179688 -6.113281 -5.578125 -6.28125 -6.140625 -6.28125 Z \"/>\n",
       "</symbol>\n",
       "<symbol overflow=\"visible\" id=\"glyph1-9\">\n",
       "<path style=\"stroke:none;\" d=\"M -8.609375 -0.9375 L -8.609375 -2.125 L -5.046875 -2.125 L -5.046875 -6.59375 L -8.609375 -6.59375 L -8.609375 -7.78125 L 0 -7.78125 L 0 -6.59375 L -4.03125 -6.59375 L -4.03125 -2.125 L 0 -2.125 L 0 -0.9375 Z \"/>\n",
       "</symbol>\n",
       "<symbol overflow=\"visible\" id=\"glyph1-10\">\n",
       "<path style=\"stroke:none;\" d=\"M -8.609375 -1.03125 L -8.609375 -7.296875 L -7.546875 -7.296875 L -7.546875 -2.15625 L -4.9375 -2.15625 L -4.9375 -6.921875 L -3.9375 -6.921875 L -3.9375 -2.15625 L -1.03125 -2.15625 L -1.03125 -7.390625 L 0 -7.390625 L 0 -1.03125 Z M -8.609375 -4.203125 Z \"/>\n",
       "</symbol>\n",
       "<symbol overflow=\"visible\" id=\"glyph1-11\">\n",
       "<path style=\"stroke:none;\" d=\"M -8.609375 -0.921875 L -8.609375 -2.296875 L -1.640625 -6.640625 L -8.609375 -6.640625 L -8.609375 -7.75 L 0 -7.75 L 0 -6.4375 L -6.96875 -2.03125 L 0 -2.03125 L 0 -0.921875 Z M -8.609375 -4.25 Z \"/>\n",
       "</symbol>\n",
       "<symbol overflow=\"visible\" id=\"glyph1-12\">\n",
       "<path style=\"stroke:none;\" d=\"M -8.84375 -4.625 C -8.84375 -6.144531 -8.351562 -7.269531 -7.375 -8 C -6.613281 -8.570312 -5.640625 -8.859375 -4.453125 -8.859375 C -3.171875 -8.859375 -2.101562 -8.53125 -1.25 -7.875 C -0.25 -7.113281 0.25 -6.023438 0.25 -4.609375 C 0.25 -3.285156 -0.1875 -2.242188 -1.0625 -1.484375 C -1.90625 -0.804688 -2.972656 -0.46875 -4.265625 -0.46875 C -5.421875 -0.46875 -6.414062 -0.757812 -7.25 -1.34375 C -8.3125 -2.082031 -8.84375 -3.175781 -8.84375 -4.625 Z M -0.796875 -4.75 C -0.796875 -5.769531 -1.160156 -6.507812 -1.890625 -6.96875 C -2.628906 -7.4375 -3.476562 -7.671875 -4.4375 -7.671875 C -5.445312 -7.671875 -6.257812 -7.40625 -6.875 -6.875 C -7.5 -6.34375 -7.8125 -5.617188 -7.8125 -4.703125 C -7.8125 -3.804688 -7.503906 -3.078125 -6.890625 -2.515625 C -6.273438 -1.953125 -5.375 -1.671875 -4.1875 -1.671875 C -3.226562 -1.671875 -2.421875 -1.910156 -1.765625 -2.390625 C -1.117188 -2.878906 -0.796875 -3.664062 -0.796875 -4.75 Z M -8.84375 -4.671875 Z \"/>\n",
       "</symbol>\n",
       "<symbol overflow=\"visible\" id=\"glyph1-13\">\n",
       "<path style=\"stroke:none;\" d=\"M 2.453125 -0.421875 C 1.242188 -1.035156 0.359375 -1.4375 -0.203125 -1.625 C -1.035156 -1.894531 -2.019531 -2.03125 -3.15625 -2.03125 C -4.28125 -2.03125 -5.3125 -1.867188 -6.25 -1.546875 C -6.832031 -1.359375 -7.664062 -0.976562 -8.75 -0.40625 L -8.75 -1.109375 C -7.789062 -1.710938 -7.195312 -2.078125 -6.96875 -2.203125 C -6.75 -2.328125 -6.441406 -2.460938 -6.046875 -2.609375 C -5.554688 -2.796875 -5.070312 -2.929688 -4.59375 -3.015625 C -4.113281 -3.097656 -3.65625 -3.140625 -3.21875 -3.140625 C -2.0625 -3.140625 -1.03125 -2.953125 -0.125 -2.578125 C 0.457031 -2.347656 1.316406 -1.875 2.453125 -1.15625 Z \"/>\n",
       "</symbol>\n",
       "<symbol overflow=\"visible\" id=\"glyph1-14\">\n",
       "<path style=\"stroke:none;\" d=\"M -8.84375 -4.546875 C -8.84375 -5.628906 -8.554688 -6.472656 -7.984375 -7.078125 C -7.410156 -7.679688 -6.757812 -8.015625 -6.03125 -8.078125 L -6.03125 -6.9375 C -6.582031 -6.8125 -7.019531 -6.554688 -7.34375 -6.171875 C -7.664062 -5.785156 -7.828125 -5.242188 -7.828125 -4.546875 C -7.828125 -3.703125 -7.53125 -3.019531 -6.9375 -2.5 C -6.34375 -1.976562 -5.429688 -1.71875 -4.203125 -1.71875 C -3.191406 -1.71875 -2.367188 -1.953125 -1.734375 -2.421875 C -1.109375 -2.890625 -0.796875 -3.59375 -0.796875 -4.53125 C -0.796875 -5.382812 -1.128906 -6.039062 -1.796875 -6.5 C -2.140625 -6.726562 -2.597656 -6.90625 -3.171875 -7.03125 L -3.171875 -8.15625 C -2.265625 -8.0625 -1.503906 -7.726562 -0.890625 -7.15625 C -0.148438 -6.46875 0.21875 -5.546875 0.21875 -4.390625 C 0.21875 -3.390625 -0.0820312 -2.550781 -0.6875 -1.875 C -1.488281 -0.976562 -2.722656 -0.53125 -4.390625 -0.53125 C -5.660156 -0.53125 -6.703125 -0.863281 -7.515625 -1.53125 C -8.398438 -2.257812 -8.84375 -3.265625 -8.84375 -4.546875 Z M -8.84375 -4.3125 Z \"/>\n",
       "</symbol>\n",
       "<symbol overflow=\"visible\" id=\"glyph1-15\">\n",
       "<path style=\"stroke:none;\" d=\"M -3.53125 -5.328125 L -7.328125 -4.03125 L -3.53125 -2.640625 Z M -8.609375 -3.421875 L -8.609375 -4.734375 L 0 -7.859375 L 0 -6.578125 L -2.578125 -5.703125 L -2.578125 -2.296875 L 0 -1.375 L 0 -0.171875 Z M -8.609375 -4.015625 Z \"/>\n",
       "</symbol>\n",
       "<symbol overflow=\"visible\" id=\"glyph1-16\">\n",
       "<path style=\"stroke:none;\" d=\"M -2.78125 -1.671875 C -2.289062 -1.703125 -1.894531 -1.816406 -1.59375 -2.015625 C -1.019531 -2.410156 -0.734375 -3.09375 -0.734375 -4.0625 C -0.734375 -4.5 -0.796875 -4.898438 -0.921875 -5.265625 C -1.160156 -5.960938 -1.59375 -6.3125 -2.21875 -6.3125 C -2.6875 -6.3125 -3.019531 -6.160156 -3.21875 -5.859375 C -3.414062 -5.566406 -3.585938 -5.101562 -3.734375 -4.46875 L -4 -3.3125 C -4.164062 -2.539062 -4.351562 -2 -4.5625 -1.6875 C -4.925781 -1.144531 -5.460938 -0.875 -6.171875 -0.875 C -6.953125 -0.875 -7.585938 -1.140625 -8.078125 -1.671875 C -8.578125 -2.203125 -8.828125 -2.957031 -8.828125 -3.9375 C -8.828125 -4.84375 -8.609375 -5.609375 -8.171875 -6.234375 C -7.734375 -6.867188 -7.035156 -7.1875 -6.078125 -7.1875 L -6.078125 -6.09375 C -6.546875 -6.03125 -6.898438 -5.90625 -7.140625 -5.71875 C -7.585938 -5.363281 -7.8125 -4.757812 -7.8125 -3.90625 C -7.8125 -3.21875 -7.664062 -2.722656 -7.375 -2.421875 C -7.09375 -2.117188 -6.757812 -1.96875 -6.375 -1.96875 C -5.957031 -1.96875 -5.648438 -2.144531 -5.453125 -2.5 C -5.328125 -2.726562 -5.171875 -3.25 -4.984375 -4.0625 L -4.703125 -5.28125 C -4.566406 -5.851562 -4.382812 -6.300781 -4.15625 -6.625 C -3.757812 -7.164062 -3.175781 -7.4375 -2.40625 -7.4375 C -1.457031 -7.4375 -0.773438 -7.085938 -0.359375 -6.390625 C 0.046875 -5.703125 0.25 -4.898438 0.25 -3.984375 C 0.25 -2.910156 -0.0195312 -2.070312 -0.5625 -1.46875 C -1.113281 -0.863281 -1.851562 -0.566406 -2.78125 -0.578125 Z M -8.84375 -4.03125 Z \"/>\n",
       "</symbol>\n",
       "<symbol overflow=\"visible\" id=\"glyph1-17\">\n",
       "<path style=\"stroke:none;\" d=\"M -8.609375 -7.171875 L -7.578125 -7.171875 L -7.578125 -4.28125 L 0 -4.28125 L 0 -3.09375 L -7.578125 -3.09375 L -7.578125 -0.1875 L -8.609375 -0.1875 Z \"/>\n",
       "</symbol>\n",
       "<symbol overflow=\"visible\" id=\"glyph1-18\">\n",
       "<path style=\"stroke:none;\" d=\"M -4.671875 -4.921875 C -4.671875 -5.460938 -4.78125 -5.890625 -5 -6.203125 C -5.21875 -6.523438 -5.609375 -6.6875 -6.171875 -6.6875 C -6.785156 -6.6875 -7.207031 -6.46875 -7.4375 -6.03125 C -7.550781 -5.789062 -7.609375 -5.46875 -7.609375 -5.0625 L -7.609375 -2.21875 L -4.671875 -2.21875 Z M -8.609375 -1.0625 L -8.609375 -5.046875 C -8.609375 -5.703125 -8.515625 -6.238281 -8.328125 -6.65625 C -7.953125 -7.46875 -7.269531 -7.875 -6.28125 -7.875 C -5.769531 -7.875 -5.347656 -7.765625 -5.015625 -7.546875 C -4.691406 -7.335938 -4.429688 -7.039062 -4.234375 -6.65625 C -4.097656 -7 -3.914062 -7.253906 -3.6875 -7.421875 C -3.46875 -7.585938 -3.109375 -7.679688 -2.609375 -7.703125 L -1.453125 -7.75 C -1.128906 -7.757812 -0.882812 -7.785156 -0.71875 -7.828125 C -0.445312 -7.898438 -0.269531 -8.023438 -0.1875 -8.203125 L 0 -8.203125 L 0 -6.78125 C -0.0703125 -6.738281 -0.164062 -6.703125 -0.28125 -6.671875 C -0.40625 -6.648438 -0.632812 -6.632812 -0.96875 -6.625 L -2.40625 -6.546875 C -2.96875 -6.523438 -3.34375 -6.316406 -3.53125 -5.921875 C -3.632812 -5.703125 -3.6875 -5.351562 -3.6875 -4.875 L -3.6875 -2.21875 L 0 -2.21875 L 0 -1.0625 Z \"/>\n",
       "</symbol>\n",
       "<symbol overflow=\"visible\" id=\"glyph1-19\">\n",
       "<path style=\"stroke:none;\" d=\"M -8.609375 -0.921875 L -8.609375 -2.078125 L -1.03125 -2.078125 L -1.03125 -6.4375 L 0 -6.4375 L 0 -0.921875 Z \"/>\n",
       "</symbol>\n",
       "<symbol overflow=\"visible\" id=\"glyph1-20\">\n",
       "<path style=\"stroke:none;\" d=\"M -8.390625 -3.25 C -8.390625 -4.332031 -7.941406 -5.117188 -7.046875 -5.609375 C -6.359375 -5.984375 -5.410156 -6.171875 -4.203125 -6.171875 C -3.066406 -6.171875 -2.125 -6 -1.375 -5.65625 C -0.300781 -5.164062 0.234375 -4.359375 0.234375 -3.234375 C 0.234375 -2.234375 -0.203125 -1.484375 -1.078125 -0.984375 C -1.816406 -0.578125 -2.800781 -0.375 -4.03125 -0.375 C -4.976562 -0.375 -5.796875 -0.5 -6.484375 -0.75 C -7.753906 -1.207031 -8.390625 -2.039062 -8.390625 -3.25 Z M -0.734375 -3.234375 C -0.734375 -3.785156 -0.972656 -4.222656 -1.453125 -4.546875 C -1.941406 -4.867188 -2.847656 -5.03125 -4.171875 -5.03125 C -5.117188 -5.03125 -5.898438 -4.910156 -6.515625 -4.671875 C -7.128906 -4.441406 -7.4375 -3.988281 -7.4375 -3.3125 C -7.4375 -2.6875 -7.144531 -2.226562 -6.5625 -1.9375 C -5.976562 -1.65625 -5.117188 -1.515625 -3.984375 -1.515625 C -3.128906 -1.515625 -2.441406 -1.609375 -1.921875 -1.796875 C -1.128906 -2.078125 -0.734375 -2.554688 -0.734375 -3.234375 Z \"/>\n",
       "</symbol>\n",
       "<symbol overflow=\"visible\" id=\"glyph1-21\">\n",
       "<path style=\"stroke:none;\" d=\"M -1.28125 -1.03125 L -1.28125 -2.25 L 0 -2.25 L 0 -1.03125 Z \"/>\n",
       "</symbol>\n",
       "<symbol overflow=\"visible\" id=\"glyph1-22\">\n",
       "<path style=\"stroke:none;\" d=\"M 0 -0.375 C -0.71875 -0.414062 -1.34375 -0.566406 -1.875 -0.828125 C -2.414062 -1.085938 -2.90625 -1.59375 -3.34375 -2.34375 L -4 -3.46875 C -4.289062 -3.96875 -4.539062 -4.320312 -4.75 -4.53125 C -5.070312 -4.851562 -5.441406 -5.015625 -5.859375 -5.015625 C -6.347656 -5.015625 -6.734375 -4.863281 -7.015625 -4.5625 C -7.304688 -4.269531 -7.453125 -3.882812 -7.453125 -3.40625 C -7.453125 -2.675781 -7.179688 -2.175781 -6.640625 -1.90625 C -6.335938 -1.75 -5.929688 -1.664062 -5.421875 -1.65625 L -5.421875 -0.578125 C -6.148438 -0.585938 -6.742188 -0.722656 -7.203125 -0.984375 C -8.015625 -1.441406 -8.421875 -2.25 -8.421875 -3.40625 C -8.421875 -4.363281 -8.160156 -5.0625 -7.640625 -5.5 C -7.117188 -5.945312 -6.539062 -6.171875 -5.90625 -6.171875 C -5.238281 -6.171875 -4.664062 -5.9375 -4.1875 -5.46875 C -3.90625 -5.195312 -3.566406 -4.707031 -3.171875 -4 L -2.734375 -3.1875 C -2.523438 -2.8125 -2.320312 -2.515625 -2.125 -2.296875 C -1.789062 -1.898438 -1.414062 -1.648438 -1 -1.546875 L -1 -6.140625 L 0 -6.140625 Z \"/>\n",
       "</symbol>\n",
       "<symbol overflow=\"visible\" id=\"glyph1-23\">\n",
       "<path style=\"stroke:none;\" d=\"M -2.96875 -3.96875 L -6.78125 -3.96875 L -2.96875 -1.28125 Z M 0 -3.984375 L -2.046875 -3.984375 L -2.046875 -0.3125 L -3.078125 -0.3125 L -8.421875 -4.15625 L -8.421875 -5.046875 L -2.96875 -5.046875 L -2.96875 -6.28125 L -2.046875 -6.28125 L -2.046875 -5.046875 L 0 -5.046875 Z \"/>\n",
       "</symbol>\n",
       "<symbol overflow=\"visible\" id=\"glyph1-24\">\n",
       "<path style=\"stroke:none;\" d=\"M -8.421875 -3.515625 C -8.421875 -4.453125 -8.175781 -5.101562 -7.6875 -5.46875 C -7.207031 -5.84375 -6.707031 -6.03125 -6.1875 -6.03125 L -6.1875 -4.984375 C -6.519531 -4.921875 -6.78125 -4.820312 -6.96875 -4.6875 C -7.320312 -4.425781 -7.5 -4.039062 -7.5 -3.53125 C -7.5 -2.9375 -7.222656 -2.460938 -6.671875 -2.109375 C -6.128906 -1.765625 -5.351562 -1.578125 -4.34375 -1.546875 C -4.695312 -1.785156 -4.960938 -2.085938 -5.140625 -2.453125 C -5.296875 -2.785156 -5.375 -3.160156 -5.375 -3.578125 C -5.375 -4.285156 -5.148438 -4.898438 -4.703125 -5.421875 C -4.253906 -5.941406 -3.582031 -6.203125 -2.6875 -6.203125 C -1.925781 -6.203125 -1.25 -5.953125 -0.65625 -5.453125 C -0.0703125 -4.960938 0.21875 -4.257812 0.21875 -3.34375 C 0.21875 -2.550781 -0.078125 -1.867188 -0.671875 -1.296875 C -1.273438 -0.734375 -2.28125 -0.453125 -3.6875 -0.453125 C -4.726562 -0.453125 -5.613281 -0.578125 -6.34375 -0.828125 C -7.726562 -1.316406 -8.421875 -2.210938 -8.421875 -3.515625 Z M -0.71875 -3.4375 C -0.71875 -3.988281 -0.90625 -4.398438 -1.28125 -4.671875 C -1.65625 -4.953125 -2.097656 -5.09375 -2.609375 -5.09375 C -3.035156 -5.09375 -3.441406 -4.96875 -3.828125 -4.71875 C -4.210938 -4.476562 -4.40625 -4.03125 -4.40625 -3.375 C -4.40625 -2.925781 -4.253906 -2.53125 -3.953125 -2.1875 C -3.660156 -1.84375 -3.210938 -1.671875 -2.609375 -1.671875 C -2.078125 -1.671875 -1.628906 -1.828125 -1.265625 -2.140625 C -0.898438 -2.453125 -0.71875 -2.882812 -0.71875 -3.4375 Z \"/>\n",
       "</symbol>\n",
       "<symbol overflow=\"visible\" id=\"glyph1-25\">\n",
       "<path style=\"stroke:none;\" d=\"M -4.875 -3.265625 C -4.875 -3.734375 -5.003906 -4.097656 -5.265625 -4.359375 C -5.523438 -4.617188 -5.832031 -4.75 -6.1875 -4.75 C -6.5 -4.75 -6.785156 -4.625 -7.046875 -4.375 C -7.316406 -4.125 -7.453125 -3.742188 -7.453125 -3.234375 C -7.453125 -2.722656 -7.316406 -2.351562 -7.046875 -2.125 C -6.785156 -1.894531 -6.484375 -1.78125 -6.140625 -1.78125 C -5.742188 -1.78125 -5.429688 -1.925781 -5.203125 -2.21875 C -4.984375 -2.519531 -4.875 -2.867188 -4.875 -3.265625 Z M -0.71875 -3.328125 C -0.71875 -3.816406 -0.847656 -4.222656 -1.109375 -4.546875 C -1.378906 -4.867188 -1.773438 -5.03125 -2.296875 -5.03125 C -2.835938 -5.03125 -3.25 -4.863281 -3.53125 -4.53125 C -3.8125 -4.195312 -3.953125 -3.769531 -3.953125 -3.25 C -3.953125 -2.75 -3.804688 -2.335938 -3.515625 -2.015625 C -3.234375 -1.703125 -2.835938 -1.546875 -2.328125 -1.546875 C -1.890625 -1.546875 -1.507812 -1.691406 -1.1875 -1.984375 C -0.875 -2.273438 -0.71875 -2.722656 -0.71875 -3.328125 Z M -4.46875 -1.828125 C -4.59375 -1.535156 -4.738281 -1.304688 -4.90625 -1.140625 C -5.21875 -0.835938 -5.625 -0.6875 -6.125 -0.6875 C -6.75 -0.6875 -7.285156 -0.910156 -7.734375 -1.359375 C -8.191406 -1.816406 -8.421875 -2.457031 -8.421875 -3.28125 C -8.421875 -4.09375 -8.207031 -4.722656 -7.78125 -5.171875 C -7.351562 -5.628906 -6.859375 -5.859375 -6.296875 -5.859375 C -5.773438 -5.859375 -5.347656 -5.726562 -5.015625 -5.46875 C -4.835938 -5.320312 -4.660156 -5.09375 -4.484375 -4.78125 C -4.328125 -5.125 -4.144531 -5.394531 -3.9375 -5.59375 C -3.539062 -5.96875 -3.03125 -6.15625 -2.40625 -6.15625 C -1.664062 -6.15625 -1.039062 -5.90625 -0.53125 -5.40625 C -0.0195312 -4.914062 0.234375 -4.21875 0.234375 -3.3125 C 0.234375 -2.488281 0.015625 -1.796875 -0.421875 -1.234375 C -0.867188 -0.671875 -1.515625 -0.390625 -2.359375 -0.390625 C -2.847656 -0.390625 -3.273438 -0.507812 -3.640625 -0.75 C -4.003906 -0.988281 -4.28125 -1.347656 -4.46875 -1.828125 Z \"/>\n",
       "</symbol>\n",
       "<symbol overflow=\"visible\" id=\"glyph1-26\">\n",
       "<path style=\"stroke:none;\" d=\"M -5.9375 -1.15625 L -6.75 -1.15625 C -6.820312 -1.914062 -6.945312 -2.441406 -7.125 -2.734375 C -7.300781 -3.035156 -7.710938 -3.265625 -8.359375 -3.421875 L -8.359375 -4.25 L 0 -4.25 L 0 -3.125 L -5.9375 -3.125 Z \"/>\n",
       "</symbol>\n",
       "</g>\n",
       "<clipPath id=\"clip1\">\n",
       "  <path d=\"M 59.039062 291 L 79 291 L 79 431 L 59.039062 431 Z \"/>\n",
       "</clipPath>\n",
       "<clipPath id=\"clip2\">\n",
       "  <path d=\"M 59.039062 290 L 79 290 L 79 431 L 59.039062 431 Z \"/>\n",
       "</clipPath>\n",
       "<clipPath id=\"clip3\">\n",
       "  <path d=\"M 59.039062 59.039062 L 79 59.039062 L 79 292 L 59.039062 292 Z \"/>\n",
       "</clipPath>\n",
       "<clipPath id=\"clip4\">\n",
       "  <path d=\"M 86 59.039062 L 177 59.039062 L 177 391 L 86 391 Z \"/>\n",
       "</clipPath>\n",
       "<clipPath id=\"clip5\">\n",
       "  <path d=\"M 184 313 L 474.757812 313 L 474.757812 431 L 184 431 Z \"/>\n",
       "</clipPath>\n",
       "<clipPath id=\"clip6\">\n",
       "  <path d=\"M 184 59.039062 L 474 59.039062 L 474 314 L 184 314 Z \"/>\n",
       "</clipPath>\n",
       "<clipPath id=\"clip7\">\n",
       "  <path d=\"M 184 59.039062 L 474.757812 59.039062 L 474.757812 314 L 184 314 Z \"/>\n",
       "</clipPath>\n",
       "</defs>\n",
       "<g id=\"surface1\">\n",
       "<rect x=\"0\" y=\"0\" width=\"504\" height=\"504\" style=\"fill:rgb(100%,100%,100%);fill-opacity:1;stroke:none;\"/>\n",
       "<g style=\"fill:rgb(0%,0%,0%);fill-opacity:1;\">\n",
       "  <use xlink:href=\"#glyph0-1\" x=\"229.726562\" y=\"485.28125\"/>\n",
       "  <use xlink:href=\"#glyph0-2\" x=\"233.060547\" y=\"485.28125\"/>\n",
       "  <use xlink:href=\"#glyph0-3\" x=\"239.734375\" y=\"485.28125\"/>\n",
       "  <use xlink:href=\"#glyph0-4\" x=\"245.734375\" y=\"485.28125\"/>\n",
       "  <use xlink:href=\"#glyph0-5\" x=\"249.068359\" y=\"485.28125\"/>\n",
       "  <use xlink:href=\"#glyph0-6\" x=\"255.742188\" y=\"485.28125\"/>\n",
       "  <use xlink:href=\"#glyph0-7\" x=\"259.738281\" y=\"485.28125\"/>\n",
       "  <use xlink:href=\"#glyph0-8\" x=\"263.734375\" y=\"485.28125\"/>\n",
       "  <use xlink:href=\"#glyph0-9\" x=\"273.068359\" y=\"485.28125\"/>\n",
       "  <use xlink:href=\"#glyph0-10\" x=\"281.072266\" y=\"485.28125\"/>\n",
       "  <use xlink:href=\"#glyph0-11\" x=\"289.738281\" y=\"485.28125\"/>\n",
       "  <use xlink:href=\"#glyph0-12\" x=\"299.072266\" y=\"485.28125\"/>\n",
       "</g>\n",
       "<g style=\"fill:rgb(0%,0%,0%);fill-opacity:1;\">\n",
       "  <use xlink:href=\"#glyph1-1\" x=\"12.960938\" y=\"285.140625\"/>\n",
       "  <use xlink:href=\"#glyph1-2\" x=\"12.960938\" y=\"281.806641\"/>\n",
       "  <use xlink:href=\"#glyph1-3\" x=\"12.960938\" y=\"275.132812\"/>\n",
       "  <use xlink:href=\"#glyph1-4\" x=\"12.960938\" y=\"269.132812\"/>\n",
       "  <use xlink:href=\"#glyph1-5\" x=\"12.960938\" y=\"265.798828\"/>\n",
       "  <use xlink:href=\"#glyph1-6\" x=\"12.960938\" y=\"259.125\"/>\n",
       "  <use xlink:href=\"#glyph1-7\" x=\"12.960938\" y=\"255.128906\"/>\n",
       "  <use xlink:href=\"#glyph1-8\" x=\"12.960938\" y=\"251.132812\"/>\n",
       "  <use xlink:href=\"#glyph1-9\" x=\"12.960938\" y=\"243.128906\"/>\n",
       "  <use xlink:href=\"#glyph1-10\" x=\"12.960938\" y=\"234.462891\"/>\n",
       "  <use xlink:href=\"#glyph1-11\" x=\"12.960938\" y=\"226.458984\"/>\n",
       "  <use xlink:href=\"#glyph1-12\" x=\"12.960938\" y=\"217.792969\"/>\n",
       "  <use xlink:href=\"#glyph1-13\" x=\"12.960938\" y=\"208.458984\"/>\n",
       "</g>\n",
       "<g clip-path=\"url(#clip1)\" clip-rule=\"nonzero\">\n",
       "<path style=\" stroke:none;fill-rule:nonzero;fill:rgb(30.196078%,30.196078%,30.196078%);fill-opacity:1;\" d=\"M 59.039062 430.558594 L 78.492188 430.558594 L 78.492188 291.238281 L 59.039062 291.238281 Z \"/>\n",
       "</g>\n",
       "<g clip-path=\"url(#clip2)\" clip-rule=\"nonzero\">\n",
       "<path style=\"fill:none;stroke-width:0.75;stroke-linecap:round;stroke-linejoin:round;stroke:rgb(0%,0%,0%);stroke-opacity:1;stroke-miterlimit:10;\" d=\"M 59.039062 430.558594 L 78.492188 430.558594 L 78.492188 291.238281 L 59.039062 291.238281 Z \"/>\n",
       "</g>\n",
       "<g clip-path=\"url(#clip3)\" clip-rule=\"nonzero\">\n",
       "<path style=\"fill-rule:nonzero;fill:rgb(90.196078%,90.196078%,90.196078%);fill-opacity:1;stroke-width:0.75;stroke-linecap:round;stroke-linejoin:round;stroke:rgb(0%,0%,0%);stroke-opacity:1;stroke-miterlimit:10;\" d=\"M 59.039062 291.238281 L 78.492188 291.238281 L 78.492188 59.039062 L 59.039062 59.039062 Z \"/>\n",
       "</g>\n",
       "<path style=\"fill-rule:nonzero;fill:rgb(30.196078%,30.196078%,30.196078%);fill-opacity:1;stroke-width:0.75;stroke-linecap:round;stroke-linejoin:round;stroke:rgb(0%,0%,0%);stroke-opacity:1;stroke-miterlimit:10;\" d=\"M 86.46875 430.558594 L 176.433594 430.558594 L 176.433594 390.394531 L 86.46875 390.394531 Z \"/>\n",
       "<g clip-path=\"url(#clip4)\" clip-rule=\"nonzero\">\n",
       "<path style=\"fill-rule:nonzero;fill:rgb(90.196078%,90.196078%,90.196078%);fill-opacity:1;stroke-width:0.75;stroke-linecap:round;stroke-linejoin:round;stroke:rgb(0%,0%,0%);stroke-opacity:1;stroke-miterlimit:10;\" d=\"M 86.46875 390.394531 L 176.433594 390.394531 L 176.433594 59.039062 L 86.46875 59.039062 Z \"/>\n",
       "</g>\n",
       "<path style=\" stroke:none;fill-rule:nonzero;fill:rgb(30.196078%,30.196078%,30.196078%);fill-opacity:1;\" d=\"M 184.410156 430.558594 L 473.761719 430.558594 L 473.761719 313.484375 L 184.410156 313.484375 Z \"/>\n",
       "<g clip-path=\"url(#clip5)\" clip-rule=\"nonzero\">\n",
       "<path style=\"fill:none;stroke-width:0.75;stroke-linecap:round;stroke-linejoin:round;stroke:rgb(0%,0%,0%);stroke-opacity:1;stroke-miterlimit:10;\" d=\"M 184.410156 430.558594 L 473.761719 430.558594 L 473.761719 313.484375 L 184.410156 313.484375 Z \"/>\n",
       "</g>\n",
       "<g clip-path=\"url(#clip6)\" clip-rule=\"nonzero\">\n",
       "<path style=\" stroke:none;fill-rule:nonzero;fill:rgb(90.196078%,90.196078%,90.196078%);fill-opacity:1;\" d=\"M 184.410156 313.484375 L 473.761719 313.484375 L 473.761719 59.039062 L 184.410156 59.039062 Z \"/>\n",
       "</g>\n",
       "<g clip-path=\"url(#clip7)\" clip-rule=\"nonzero\">\n",
       "<path style=\"fill:none;stroke-width:0.75;stroke-linecap:round;stroke-linejoin:round;stroke:rgb(0%,0%,0%);stroke-opacity:1;stroke-miterlimit:10;\" d=\"M 184.410156 313.484375 L 473.761719 313.484375 L 473.761719 59.039062 L 184.410156 59.039062 Z \"/>\n",
       "</g>\n",
       "<g style=\"fill:rgb(0%,0%,0%);fill-opacity:1;\">\n",
       "  <use xlink:href=\"#glyph0-13\" x=\"60.101562\" y=\"456.480469\"/>\n",
       "  <use xlink:href=\"#glyph0-13\" x=\"68.767578\" y=\"456.480469\"/>\n",
       "</g>\n",
       "<g style=\"fill:rgb(0%,0%,0%);fill-opacity:1;\">\n",
       "  <use xlink:href=\"#glyph0-13\" x=\"123.449219\" y=\"456.480469\"/>\n",
       "  <use xlink:href=\"#glyph0-14\" x=\"132.115234\" y=\"456.480469\"/>\n",
       "</g>\n",
       "<g style=\"fill:rgb(0%,0%,0%);fill-opacity:1;\">\n",
       "  <use xlink:href=\"#glyph0-14\" x=\"321.757812\" y=\"456.480469\"/>\n",
       "  <use xlink:href=\"#glyph0-14\" x=\"329.087891\" y=\"456.480469\"/>\n",
       "</g>\n",
       "<g style=\"fill:rgb(0%,0%,0%);fill-opacity:1;\">\n",
       "  <use xlink:href=\"#glyph1-14\" x=\"41.761719\" y=\"377.238281\"/>\n",
       "  <use xlink:href=\"#glyph1-15\" x=\"41.761719\" y=\"368.572266\"/>\n",
       "  <use xlink:href=\"#glyph1-16\" x=\"41.761719\" y=\"360.568359\"/>\n",
       "  <use xlink:href=\"#glyph1-10\" x=\"41.761719\" y=\"352.564453\"/>\n",
       "</g>\n",
       "<g style=\"fill:rgb(0%,0%,0%);fill-opacity:1;\">\n",
       "  <use xlink:href=\"#glyph1-14\" x=\"41.761719\" y=\"204.476562\"/>\n",
       "  <use xlink:href=\"#glyph1-12\" x=\"41.761719\" y=\"195.810547\"/>\n",
       "  <use xlink:href=\"#glyph1-11\" x=\"41.761719\" y=\"186.476562\"/>\n",
       "  <use xlink:href=\"#glyph1-17\" x=\"41.761719\" y=\"177.810547\"/>\n",
       "  <use xlink:href=\"#glyph1-18\" x=\"41.761719\" y=\"170.480469\"/>\n",
       "  <use xlink:href=\"#glyph1-12\" x=\"41.761719\" y=\"161.814453\"/>\n",
       "  <use xlink:href=\"#glyph1-19\" x=\"41.761719\" y=\"152.480469\"/>\n",
       "</g>\n",
       "<path style=\"fill:none;stroke-width:0.75;stroke-linecap:round;stroke-linejoin:round;stroke:rgb(0%,0%,0%);stroke-opacity:1;stroke-miterlimit:10;\" d=\"M 473.761719 430.558594 L 473.761719 59.039062 \"/>\n",
       "<path style=\"fill:none;stroke-width:0.75;stroke-linecap:round;stroke-linejoin:round;stroke:rgb(0%,0%,0%);stroke-opacity:1;stroke-miterlimit:10;\" d=\"M 473.761719 430.558594 L 480.960938 430.558594 \"/>\n",
       "<path style=\"fill:none;stroke-width:0.75;stroke-linecap:round;stroke-linejoin:round;stroke:rgb(0%,0%,0%);stroke-opacity:1;stroke-miterlimit:10;\" d=\"M 473.761719 356.257812 L 480.960938 356.257812 \"/>\n",
       "<path style=\"fill:none;stroke-width:0.75;stroke-linecap:round;stroke-linejoin:round;stroke:rgb(0%,0%,0%);stroke-opacity:1;stroke-miterlimit:10;\" d=\"M 473.761719 281.953125 L 480.960938 281.953125 \"/>\n",
       "<path style=\"fill:none;stroke-width:0.75;stroke-linecap:round;stroke-linejoin:round;stroke:rgb(0%,0%,0%);stroke-opacity:1;stroke-miterlimit:10;\" d=\"M 473.761719 207.648438 L 480.960938 207.648438 \"/>\n",
       "<path style=\"fill:none;stroke-width:0.75;stroke-linecap:round;stroke-linejoin:round;stroke:rgb(0%,0%,0%);stroke-opacity:1;stroke-miterlimit:10;\" d=\"M 473.761719 133.34375 L 480.960938 133.34375 \"/>\n",
       "<path style=\"fill:none;stroke-width:0.75;stroke-linecap:round;stroke-linejoin:round;stroke:rgb(0%,0%,0%);stroke-opacity:1;stroke-miterlimit:10;\" d=\"M 473.761719 59.039062 L 480.960938 59.039062 \"/>\n",
       "<g style=\"fill:rgb(0%,0%,0%);fill-opacity:1;\">\n",
       "  <use xlink:href=\"#glyph1-20\" x=\"499.679688\" y=\"438.898438\"/>\n",
       "  <use xlink:href=\"#glyph1-21\" x=\"499.679688\" y=\"432.224609\"/>\n",
       "  <use xlink:href=\"#glyph1-20\" x=\"499.679688\" y=\"428.890625\"/>\n",
       "</g>\n",
       "<g style=\"fill:rgb(0%,0%,0%);fill-opacity:1;\">\n",
       "  <use xlink:href=\"#glyph1-20\" x=\"499.679688\" y=\"364.597656\"/>\n",
       "  <use xlink:href=\"#glyph1-21\" x=\"499.679688\" y=\"357.923828\"/>\n",
       "  <use xlink:href=\"#glyph1-22\" x=\"499.679688\" y=\"354.589844\"/>\n",
       "</g>\n",
       "<g style=\"fill:rgb(0%,0%,0%);fill-opacity:1;\">\n",
       "  <use xlink:href=\"#glyph1-20\" x=\"499.679688\" y=\"290.292969\"/>\n",
       "  <use xlink:href=\"#glyph1-21\" x=\"499.679688\" y=\"283.619141\"/>\n",
       "  <use xlink:href=\"#glyph1-23\" x=\"499.679688\" y=\"280.285156\"/>\n",
       "</g>\n",
       "<g style=\"fill:rgb(0%,0%,0%);fill-opacity:1;\">\n",
       "  <use xlink:href=\"#glyph1-20\" x=\"499.679688\" y=\"215.988281\"/>\n",
       "  <use xlink:href=\"#glyph1-21\" x=\"499.679688\" y=\"209.314453\"/>\n",
       "  <use xlink:href=\"#glyph1-24\" x=\"499.679688\" y=\"205.980469\"/>\n",
       "</g>\n",
       "<g style=\"fill:rgb(0%,0%,0%);fill-opacity:1;\">\n",
       "  <use xlink:href=\"#glyph1-20\" x=\"499.679688\" y=\"141.683594\"/>\n",
       "  <use xlink:href=\"#glyph1-21\" x=\"499.679688\" y=\"135.009766\"/>\n",
       "  <use xlink:href=\"#glyph1-25\" x=\"499.679688\" y=\"131.675781\"/>\n",
       "</g>\n",
       "<g style=\"fill:rgb(0%,0%,0%);fill-opacity:1;\">\n",
       "  <use xlink:href=\"#glyph1-26\" x=\"499.679688\" y=\"67.378906\"/>\n",
       "  <use xlink:href=\"#glyph1-21\" x=\"499.679688\" y=\"60.705078\"/>\n",
       "  <use xlink:href=\"#glyph1-20\" x=\"499.679688\" y=\"57.371094\"/>\n",
       "</g>\n",
       "</g>\n",
       "</svg>\n"
      ],
      "text/plain": [
       "Plot with title “”"
      ]
     },
     "metadata": {
      "image/svg+xml": {
       "isolated": true
      }
     },
     "output_type": "display_data"
    }
   ],
   "source": [
    "### Plot the data for a better understanding\n",
    "plot(factor(PHENO)~factor(GENO), data=LHON)"
   ]
  },
  {
   "cell_type": "code",
   "execution_count": 16,
   "metadata": {
    "collapsed": false
   },
   "outputs": [
    {
     "data": {
      "text/plain": [
       "\n",
       "Call:\n",
       "glm(formula = newpheno ~ genoadd, family = binomial(link = \"logit\"), \n",
       "    data = LHON)\n",
       "\n",
       "Deviance Residuals: \n",
       "    Min       1Q   Median       3Q      Max  \n",
       "-0.8436  -0.8436  -0.6854   1.5531   1.9797  \n",
       "\n",
       "Coefficients:\n",
       "            Estimate Std. Error z value Pr(>|z|)    \n",
       "(Intercept)  -1.8077     0.4554  -3.970  7.2e-05 ***\n",
       "genoadd       0.4787     0.2505   1.911   0.0559 .  \n",
       "---\n",
       "Signif. codes:  0 ‘***’ 0.001 ‘**’ 0.01 ‘*’ 0.05 ‘.’ 0.1 ‘ ’ 1\n",
       "\n",
       "(Dispersion parameter for binomial family taken to be 1)\n",
       "\n",
       "    Null deviance: 383.49  on 327  degrees of freedom\n",
       "Residual deviance: 379.47  on 326  degrees of freedom\n",
       "AIC: 383.47\n",
       "\n",
       "Number of Fisher Scoring iterations: 4\n"
      ]
     },
     "execution_count": 16,
     "metadata": {},
     "output_type": "execute_result"
    }
   ],
   "source": [
    "# Excercise 4: Additive logistic regression model\n",
    "LHON$genoadd <- with(LHON, 0 + 1*(GENO==\"CT\") + 2*(GENO==\"TT\"))\n",
    "\n",
    "model3 <- glm(newpheno~genoadd,family=binomial(link=\"logit\"),data=LHON)\n",
    "summary(model3)"
   ]
  },
  {
   "cell_type": "code",
   "execution_count": 19,
   "metadata": {
    "collapsed": false
   },
   "outputs": [
    {
     "data": {
      "text/html": [
       "1.61397487046135"
      ],
      "text/latex": [
       "1.61397487046135"
      ],
      "text/markdown": [
       "1.61397487046135"
      ],
      "text/plain": [
       "[1] 1.613975"
      ]
     },
     "execution_count": 19,
     "metadata": {},
     "output_type": "execute_result"
    },
    {
     "data": {
      "text/html": [
       "<table>\n",
       "<thead><tr><th></th><th scope=col>2.5 %</th><th scope=col>97.5 %</th></tr></thead>\n",
       "<tbody>\n",
       "\t<tr><th scope=row>(Intercept)</th><td>0.06718883</td><td>0.40046163</td></tr>\n",
       "\t<tr><th scope=row>genoadd</th><td>0.9879249</td><td>2.6369796</td></tr>\n",
       "</tbody>\n",
       "</table>\n"
      ],
      "text/latex": [
       "\\begin{tabular}{r|ll}\n",
       "  & 2.5 % & 97.5 %\\\\\n",
       "\\hline\n",
       "\t(Intercept) & 0.06718883 & 0.40046163\\\\\n",
       "\tgenoadd & 0.9879249 & 2.6369796\\\\\n",
       "\\end{tabular}\n"
      ],
      "text/markdown": [
       "1. 0.0671888309063362\n",
       "2. 0.987924898823388\n",
       "3. 0.400461630584294\n",
       "4. 2.63697960188888\n",
       "\n",
       "\n"
      ],
      "text/plain": [
       "                 2.5 %    97.5 %\n",
       "(Intercept) 0.06718883 0.4004616\n",
       "genoadd     0.98792490 2.6369796"
      ]
     },
     "execution_count": 19,
     "metadata": {},
     "output_type": "execute_result"
    }
   ],
   "source": [
    "exp(0.4787)\n",
    "MYCI2=confint.default(model3)\n",
    "exp(MYCI2)"
   ]
  },
  {
   "cell_type": "code",
   "execution_count": null,
   "metadata": {
    "collapsed": true
   },
   "outputs": [],
   "source": []
  }
 ],
 "metadata": {
  "kernelspec": {
   "display_name": "R",
   "language": "R",
   "name": "ir"
  },
  "language_info": {
   "codemirror_mode": "r",
   "file_extension": ".r",
   "mimetype": "text/x-r-source",
   "name": "R",
   "pygments_lexer": "r",
   "version": "3.2.3"
  }
 },
 "nbformat": 4,
 "nbformat_minor": 0
}
