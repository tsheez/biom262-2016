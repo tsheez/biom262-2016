{
 "cells": [
  {
   "cell_type": "code",
   "execution_count": 1,
   "metadata": {
    "collapsed": true
   },
   "outputs": [],
   "source": [
    "# From Phasukijwattana et al.  (2010), Leber Hereditary Optic\n",
    "# Neuropathy (LHON) disease and genotypes for marker rs6767450\n",
    "# Exercise 1: Read in the data\n",
    "LHON=read.table(\"/home/ucsd-train26/code/biom262-2016/weeks/week09/LHON.txt\",header=TRUE)"
   ]
  },
  {
   "cell_type": "code",
   "execution_count": 2,
   "metadata": {
    "collapsed": false
   },
   "outputs": [
    {
     "data": {
      "text/html": [
       "<table>\n",
       "<thead><tr><th></th><th scope=col>IID</th><th scope=col>GENO</th><th scope=col>PHENO</th></tr></thead>\n",
       "<tbody>\n",
       "\t<tr><th scope=row>1</th><td>ID1</td><td>TT</td><td>CONTROL</td></tr>\n",
       "\t<tr><th scope=row>2</th><td>ID2</td><td>CT</td><td>CONTROL</td></tr>\n",
       "\t<tr><th scope=row>3</th><td>ID3</td><td>TT</td><td>CASE</td></tr>\n",
       "\t<tr><th scope=row>4</th><td>ID4</td><td>CT</td><td>CONTROL</td></tr>\n",
       "\t<tr><th scope=row>5</th><td>ID5</td><td>TT</td><td>CONTROL</td></tr>\n",
       "\t<tr><th scope=row>6</th><td>ID6</td><td>TT</td><td>CONTROL</td></tr>\n",
       "</tbody>\n",
       "</table>\n"
      ],
      "text/latex": [
       "\\begin{tabular}{r|lll}\n",
       "  & IID & GENO & PHENO\\\\\n",
       "\\hline\n",
       "\t1 & ID1 & TT & CONTROL\\\\\n",
       "\t2 & ID2 & CT & CONTROL\\\\\n",
       "\t3 & ID3 & TT & CASE\\\\\n",
       "\t4 & ID4 & CT & CONTROL\\\\\n",
       "\t5 & ID5 & TT & CONTROL\\\\\n",
       "\t6 & ID6 & TT & CONTROL\\\\\n",
       "\\end{tabular}\n"
      ],
      "text/plain": [
       "  IID GENO   PHENO\n",
       "1 ID1   TT CONTROL\n",
       "2 ID2   CT CONTROL\n",
       "3 ID3   TT    CASE\n",
       "4 ID4   CT CONTROL\n",
       "5 ID5   TT CONTROL\n",
       "6 ID6   TT CONTROL"
      ]
     },
     "execution_count": 2,
     "metadata": {},
     "output_type": "execute_result"
    }
   ],
   "source": [
    "### View the first few lines of the LHON data\n",
    "head(LHON)"
   ]
  },
  {
   "cell_type": "code",
   "execution_count": 3,
   "metadata": {
    "collapsed": false
   },
   "outputs": [
    {
     "name": "stderr",
     "output_type": "stream",
     "text": [
      "Warning message:\n",
      "In View(LHON): unable to open display"
     ]
    },
    {
     "ename": "ERROR",
     "evalue": "Error in .External2(C_dataviewer, x, title): unable to start data viewer\n",
     "output_type": "error",
     "traceback": [
      "Error in .External2(C_dataviewer, x, title): unable to start data viewer\n"
     ]
    }
   ],
   "source": [
    "### Could also use the View command\n",
    "View(LHON)"
   ]
  },
  {
   "cell_type": "code",
   "execution_count": 4,
   "metadata": {
    "collapsed": false
   },
   "outputs": [
    {
     "name": "stdout",
     "output_type": "stream",
     "text": [
      "'data.frame':\t328 obs. of  3 variables:\n",
      " $ IID  : Factor w/ 328 levels \"ID1\",\"ID10\",\"ID100\",..: 1 112 223 263 274 285 296 307 318 2 ...\n",
      " $ GENO : Factor w/ 3 levels \"CC\",\"CT\",\"TT\": 3 2 3 2 3 3 1 3 3 3 ...\n",
      " $ PHENO: Factor w/ 2 levels \"CASE\",\"CONTROL\": 2 2 1 2 2 2 2 2 2 2 ...\n"
     ]
    }
   ],
   "source": [
    "### Take a closer look at the types of variables in the LHON data frame\n",
    "str(LHON)\n"
   ]
  },
  {
   "cell_type": "code",
   "execution_count": 6,
   "metadata": {
    "collapsed": false
   },
   "outputs": [
    {
     "data": {
      "text/html": [
       "<table>\n",
       "<thead><tr><th></th><th scope=col>IID</th><th scope=col>GENO</th><th scope=col>PHENO</th><th scope=col>newpheno</th></tr></thead>\n",
       "<tbody>\n",
       "\t<tr><th scope=row>1</th><td>ID1</td><td>TT</td><td>CONTROL</td><td>0</td></tr>\n",
       "\t<tr><th scope=row>2</th><td>ID2</td><td>CT</td><td>CONTROL</td><td>0</td></tr>\n",
       "\t<tr><th scope=row>3</th><td>ID3</td><td>TT</td><td>CASE</td><td>1</td></tr>\n",
       "\t<tr><th scope=row>4</th><td>ID4</td><td>CT</td><td>CONTROL</td><td>0</td></tr>\n",
       "\t<tr><th scope=row>5</th><td>ID5</td><td>TT</td><td>CONTROL</td><td>0</td></tr>\n",
       "\t<tr><th scope=row>6</th><td>ID6</td><td>TT</td><td>CONTROL</td><td>0</td></tr>\n",
       "</tbody>\n",
       "</table>\n"
      ],
      "text/latex": [
       "\\begin{tabular}{r|llll}\n",
       "  & IID & GENO & PHENO & newpheno\\\\\n",
       "\\hline\n",
       "\t1 & ID1 & TT & CONTROL & 0\\\\\n",
       "\t2 & ID2 & CT & CONTROL & 0\\\\\n",
       "\t3 & ID3 & TT & CASE & 1\\\\\n",
       "\t4 & ID4 & CT & CONTROL & 0\\\\\n",
       "\t5 & ID5 & TT & CONTROL & 0\\\\\n",
       "\t6 & ID6 & TT & CONTROL & 0\\\\\n",
       "\\end{tabular}\n"
      ],
      "text/plain": [
       "  IID GENO   PHENO newpheno\n",
       "1 ID1   TT CONTROL        0\n",
       "2 ID2   CT CONTROL        0\n",
       "3 ID3   TT    CASE        1\n",
       "4 ID4   CT CONTROL        0\n",
       "5 ID5   TT CONTROL        0\n",
       "6 ID6   TT CONTROL        0"
      ]
     },
     "execution_count": 6,
     "metadata": {},
     "output_type": "execute_result"
    }
   ],
   "source": [
    "# Exercise 2: Perform logistic regression.  Obtain odds ratios and confidence intervals\n",
    "\n",
    "# Create a 0 and 1 phenotype variable indicating Case/Control Status to perform a logistic regression analysis\n",
    "LHON$newpheno=with(LHON,ifelse(PHENO==\"CASE\",1,0))\n",
    "head(LHON)\n"
   ]
  },
  {
   "cell_type": "code",
   "execution_count": 7,
   "metadata": {
    "collapsed": false
   },
   "outputs": [
    {
     "data": {
      "text/html": [
       "<ol class=list-inline>\n",
       "\t<li>'CC'</li>\n",
       "\t<li>'CT'</li>\n",
       "\t<li>'TT'</li>\n",
       "</ol>\n"
      ],
      "text/latex": [
       "\\begin{enumerate*}\n",
       "\\item 'CC'\n",
       "\\item 'CT'\n",
       "\\item 'TT'\n",
       "\\end{enumerate*}\n"
      ],
      "text/markdown": [
       "1. 'CC'\n",
       "2. 'CT'\n",
       "3. 'TT'\n",
       "\n",
       "\n"
      ],
      "text/plain": [
       "[1] \"CC\" \"CT\" \"TT\""
      ]
     },
     "execution_count": 7,
     "metadata": {},
     "output_type": "execute_result"
    }
   ],
   "source": [
    "## What would be the reference genotype for a logistic regression analysis?  \n",
    "## The first factor will be the reference genotype.\n",
    "levels(LHON$GENO)\n"
   ]
  },
  {
   "cell_type": "code",
   "execution_count": 9,
   "metadata": {
    "collapsed": true
   },
   "outputs": [],
   "source": [
    "# Perform a logistic regression analysis\n",
    "model1=glm(newpheno~GENO,family=binomial(link=\"logit\"),data=LHON)\n"
   ]
  },
  {
   "cell_type": "code",
   "execution_count": 10,
   "metadata": {
    "collapsed": false
   },
   "outputs": [
    {
     "data": {
      "text/plain": [
       "\n",
       "Call:\n",
       "glm(formula = newpheno ~ GENO, family = binomial(link = \"logit\"), \n",
       "    data = LHON)\n",
       "\n",
       "Deviance Residuals: \n",
       "    Min       1Q   Median       3Q      Max  \n",
       "-0.9695  -0.8701  -0.8701   1.5197   2.1093  \n",
       "\n",
       "Coefficients:\n",
       "            Estimate Std. Error z value Pr(>|z|)  \n",
       "(Intercept)  -0.5108     0.5164  -0.989   0.3226  \n",
       "GENOCT       -1.5994     0.6378  -2.508   0.0122 *\n",
       "GENOTT       -0.2654     0.5349  -0.496   0.6197  \n",
       "---\n",
       "Signif. codes:  0 '***' 0.001 '**' 0.01 '*' 0.05 '.' 0.1 ' ' 1\n",
       "\n",
       "(Dispersion parameter for binomial family taken to be 1)\n",
       "\n",
       "    Null deviance: 383.49  on 327  degrees of freedom\n",
       "Residual deviance: 368.48  on 325  degrees of freedom\n",
       "AIC: 374.48\n",
       "\n",
       "Number of Fisher Scoring iterations: 4\n"
      ]
     },
     "execution_count": 10,
     "metadata": {},
     "output_type": "execute_result"
    }
   ],
   "source": [
    "# View the summary results of the logistic regression model, including parameter estimates and standard errors\n",
    "summary(model1)\n",
    "\n",
    "# Note:\n",
    "# AIC: Aikake Information Criterion: \n",
    "# A relative estimate of the information lost when a given model is used to represent the process that generates \n",
    "# the data. It deals with the trade-off between the goodness of fit of the model and the complexity of the model.\n",
    "# Does not give an absolute goodness of fit of the model. Generally the model with the smallest\n",
    "# AIC is preferred."
   ]
  },
  {
   "cell_type": "code",
   "execution_count": 17,
   "metadata": {
    "collapsed": false
   },
   "outputs": [
    {
     "data": {
      "text/html": [
       "0.202017692254095"
      ],
      "text/latex": [
       "0.202017692254095"
      ],
      "text/markdown": [
       "0.202017692254095"
      ],
      "text/plain": [
       "[1] 0.2020177"
      ]
     },
     "execution_count": 17,
     "metadata": {},
     "output_type": "execute_result"
    },
    {
     "data": {
      "text/html": [
       "<ol class=list-inline>\n",
       "\t<li>0.0578739447501913</li>\n",
       "\t<li>0.705173081942634</li>\n",
       "</ol>\n"
      ],
      "text/latex": [
       "\\begin{enumerate*}\n",
       "\\item 0.0578739447501913\n",
       "\\item 0.705173081942634\n",
       "\\end{enumerate*}\n"
      ],
      "text/markdown": [
       "1. 0.0578739447501913\n",
       "2. 0.705173081942634\n",
       "\n",
       "\n"
      ],
      "text/plain": [
       "[1] 0.05787394 0.70517308"
      ]
     },
     "execution_count": 17,
     "metadata": {},
     "output_type": "execute_result"
    }
   ],
   "source": [
    "## What is the odds ratio for the CT genotype?\n",
    "exp(-1.5994)\n",
    "\n",
    "# Obtain a confidence interval for the odds ratio parameter for the CT genotype\n",
    "myse=1.96*(.6378)\n",
    "CI=c(-1.5994-myse,-1.5994+myse)\n",
    "exp(CI)"
   ]
  },
  {
   "cell_type": "code",
   "execution_count": 18,
   "metadata": {
    "collapsed": false
   },
   "outputs": [
    {
     "data": {
      "text/html": [
       "0.766899128964159"
      ],
      "text/latex": [
       "0.766899128964159"
      ],
      "text/markdown": [
       "0.766899128964159"
      ],
      "text/plain": [
       "[1] 0.7668991"
      ]
     },
     "execution_count": 18,
     "metadata": {},
     "output_type": "execute_result"
    },
    {
     "data": {
      "text/html": [
       "<ol class=list-inline>\n",
       "\t<li>0.268795610621387</li>\n",
       "\t<li>2.18803526086742</li>\n",
       "</ol>\n"
      ],
      "text/latex": [
       "\\begin{enumerate*}\n",
       "\\item 0.268795610621387\n",
       "\\item 2.18803526086742\n",
       "\\end{enumerate*}\n"
      ],
      "text/markdown": [
       "1. 0.268795610621387\n",
       "2. 2.18803526086742\n",
       "\n",
       "\n"
      ],
      "text/plain": [
       "[1] 0.2687956 2.1880353"
      ]
     },
     "execution_count": 18,
     "metadata": {},
     "output_type": "execute_result"
    }
   ],
   "source": [
    "# Similarly can obtain a confidence interval for the odds ratio for the TT genotype\n",
    "exp(-.2654)\n",
    "myse=1.96*(.5349)\n",
    "CI=c(-.2654-myse,-.2654+myse)\n",
    "exp(CI)"
   ]
  },
  {
   "cell_type": "code",
   "execution_count": 19,
   "metadata": {
    "collapsed": false
   },
   "outputs": [
    {
     "data": {
      "text/html": [
       "<ol class=list-inline>\n",
       "\t<li>'TT'</li>\n",
       "\t<li>'CC'</li>\n",
       "\t<li>'CT'</li>\n",
       "</ol>\n"
      ],
      "text/latex": [
       "\\begin{enumerate*}\n",
       "\\item 'TT'\n",
       "\\item 'CC'\n",
       "\\item 'CT'\n",
       "\\end{enumerate*}\n"
      ],
      "text/markdown": [
       "1. 'TT'\n",
       "2. 'CC'\n",
       "3. 'CT'\n",
       "\n",
       "\n"
      ],
      "text/plain": [
       "[1] \"TT\" \"CC\" \"CT\""
      ]
     },
     "execution_count": 19,
     "metadata": {},
     "output_type": "execute_result"
    }
   ],
   "source": [
    "# Exercise 3: What happens if we change the reference genotype to be TT instead of CC?\n",
    "LHON$NEWGENO=with(LHON,relevel(GENO, ref = \"TT\"))\n",
    "levels(LHON$NEWGENO)"
   ]
  },
  {
   "cell_type": "code",
   "execution_count": 20,
   "metadata": {
    "collapsed": false
   },
   "outputs": [
    {
     "data": {
      "text/plain": [
       "\n",
       "Call:\n",
       "glm(formula = newpheno ~ NEWGENO, family = binomial(link = \"logit\"), \n",
       "    data = LHON)\n",
       "\n",
       "Deviance Residuals: \n",
       "    Min       1Q   Median       3Q      Max  \n",
       "-0.9695  -0.8701  -0.8701   1.5197   2.1093  \n",
       "\n",
       "Coefficients:\n",
       "            Estimate Std. Error z value Pr(>|z|)    \n",
       "(Intercept)  -0.7763     0.1395  -5.563 2.64e-08 ***\n",
       "NEWGENOCC     0.2654     0.5349   0.496 0.619739    \n",
       "NEWGENOCT    -1.3340     0.3995  -3.339 0.000841 ***\n",
       "---\n",
       "Signif. codes:  0 '***' 0.001 '**' 0.01 '*' 0.05 '.' 0.1 ' ' 1\n",
       "\n",
       "(Dispersion parameter for binomial family taken to be 1)\n",
       "\n",
       "    Null deviance: 383.49  on 327  degrees of freedom\n",
       "Residual deviance: 368.48  on 325  degrees of freedom\n",
       "AIC: 374.48\n",
       "\n",
       "Number of Fisher Scoring iterations: 4\n"
      ]
     },
     "execution_count": 20,
     "metadata": {},
     "output_type": "execute_result"
    }
   ],
   "source": [
    "### Perform logistic regression\n",
    "model2=glm(newpheno~NEWGENO,family=binomial(link=\"logit\"),data=LHON)\n",
    "summary(model2)"
   ]
  },
  {
   "cell_type": "code",
   "execution_count": 15,
   "metadata": {
    "collapsed": false
   },
   "outputs": [
    {
     "data": {
      "text/html": [
       "0.263421465254443"
      ],
      "text/latex": [
       "0.263421465254443"
      ],
      "text/markdown": [
       "0.263421465254443"
      ],
      "text/plain": [
       "[1] 0.2634215"
      ]
     },
     "execution_count": 15,
     "metadata": {},
     "output_type": "execute_result"
    },
    {
     "data": {
      "text/html": [
       "<ol class=list-inline>\n",
       "\t<li>0.120389856258664</li>\n",
       "\t<li>0.576384676527132</li>\n",
       "</ol>\n"
      ],
      "text/latex": [
       "\\begin{enumerate*}\n",
       "\\item 0.120389856258664\n",
       "\\item 0.576384676527132\n",
       "\\end{enumerate*}\n"
      ],
      "text/markdown": [
       "1. 0.120389856258664\n",
       "2. 0.576384676527132\n",
       "\n",
       "\n"
      ],
      "text/plain": [
       "[1] 0.1203899 0.5763847"
      ]
     },
     "execution_count": 15,
     "metadata": {},
     "output_type": "execute_result"
    }
   ],
   "source": [
    "# Get the odds ratio and confidence interval\n",
    "exp(-1.3340 )\n",
    "myse=1.96*(.3995)\n",
    "CI=c(-1.3340-myse,-1.3340+myse)\n",
    "exp(CI)"
   ]
  },
  {
   "cell_type": "code",
   "execution_count": 21,
   "metadata": {
    "collapsed": false
   },
   "outputs": [
    {
     "data": {
      "text/html": [
       "<table>\n",
       "<thead><tr><th></th><th scope=col>2.5 %</th><th scope=col>97.5 %</th></tr></thead>\n",
       "<tbody>\n",
       "\t<tr><th scope=row>(Intercept)</th><td>0.3500310</td><td>0.6048404</td></tr>\n",
       "\t<tr><th scope=row>NEWGENOCC</th><td>0.4570423</td><td>3.7204782</td></tr>\n",
       "\t<tr><th scope=row>NEWGENOCT</th><td>0.1203945</td><td>0.5764187</td></tr>\n",
       "</tbody>\n",
       "</table>\n"
      ],
      "text/latex": [
       "\\begin{tabular}{r|ll}\n",
       "  & 2.5 % & 97.5 %\\\\\n",
       "\\hline\n",
       "\t(Intercept) & 0.3500310 & 0.6048404\\\\\n",
       "\tNEWGENOCC & 0.4570423 & 3.7204782\\\\\n",
       "\tNEWGENOCT & 0.1203945 & 0.5764187\\\\\n",
       "\\end{tabular}\n"
      ],
      "text/markdown": [
       "1. 0.350031007053781\n",
       "2. 0.457042318516175\n",
       "3. 0.120394526831157\n",
       "4. 0.604840411919402\n",
       "5. 3.72047823824839\n",
       "6. 0.576418675668876\n",
       "\n",
       "\n"
      ],
      "text/plain": [
       "                2.5 %    97.5 %\n",
       "(Intercept) 0.3500310 0.6048404\n",
       "NEWGENOCC   0.4570423 3.7204782\n",
       "NEWGENOCT   0.1203945 0.5764187"
      ]
     },
     "execution_count": 21,
     "metadata": {},
     "output_type": "execute_result"
    }
   ],
   "source": [
    "# Could also do the following to get 95% confidence interval of parameters from your model\n",
    "MYCI=confint.default(model2)\n",
    "exp(MYCI)"
   ]
  },
  {
   "cell_type": "code",
   "execution_count": 22,
   "metadata": {
    "collapsed": false
   },
   "outputs": [
    {
     "data": {
      "image/png": "[encoded data removed]",
      "image/svg+xml": [
       "<?xml version=\"1.0\" encoding=\"UTF-8\"?>\n",
       "<svg xmlns=\"http://www.w3.org/2000/svg\" xmlns:xlink=\"http://www.w3.org/1999/xlink\" width=\"504pt\" height=\"504pt\" viewBox=\"0 0 504 504\" version=\"1.1\">\n",
       "<defs>\n",
       "<g>\n",
       "<symbol overflow=\"visible\" id=\"glyph0-0\">\n",
       "<path style=\"stroke:none;\" d=\"\"/>\n",
       "</symbol>\n",
       "<symbol overflow=\"visible\" id=\"glyph0-1\">\n",
       "<path style=\"stroke:none;\" d=\"M 3.09375 -6.28125 L 2.046875 -6.28125 L 2.046875 -7.265625 C 2.046875 -7.6875 2.296875 -7.90625 2.75 -7.90625 C 2.828125 -7.90625 2.875 -7.90625 3.09375 -7.890625 L 3.09375 -8.71875 C 2.875 -8.765625 2.734375 -8.78125 2.53125 -8.78125 C 1.609375 -8.78125 1.0625 -8.25 1.0625 -7.359375 L 1.0625 -6.28125 L 0.21875 -6.28125 L 0.21875 -5.46875 L 1.0625 -5.46875 L 1.0625 0 L 2.046875 0 L 2.046875 -5.46875 L 3.09375 -5.46875 Z \"/>\n",
       "</symbol>\n",
       "<symbol overflow=\"visible\" id=\"glyph0-2\">\n",
       "<path style=\"stroke:none;\" d=\"M 6.421875 -0.59375 C 6.3125 -0.5625 6.265625 -0.5625 6.203125 -0.5625 C 5.859375 -0.5625 5.65625 -0.75 5.65625 -1.0625 L 5.65625 -4.75 C 5.65625 -5.875 4.84375 -6.46875 3.296875 -6.46875 C 2.390625 -6.46875 1.625 -6.203125 1.21875 -5.734375 C 0.921875 -5.40625 0.796875 -5.046875 0.78125 -4.421875 L 1.78125 -4.421875 C 1.875 -5.203125 2.328125 -5.546875 3.265625 -5.546875 C 4.15625 -5.546875 4.671875 -5.203125 4.671875 -4.609375 L 4.671875 -4.34375 C 4.671875 -3.921875 4.421875 -3.75 3.625 -3.640625 C 2.203125 -3.46875 1.984375 -3.421875 1.609375 -3.265625 C 0.875 -2.96875 0.5 -2.40625 0.5 -1.578125 C 0.5 -0.4375 1.296875 0.28125 2.5625 0.28125 C 3.359375 0.28125 4 0 4.703125 -0.640625 C 4.78125 -0.015625 5.09375 0.28125 5.734375 0.28125 C 5.9375 0.28125 6.09375 0.25 6.421875 0.171875 Z M 4.671875 -1.984375 C 4.671875 -1.640625 4.578125 -1.4375 4.265625 -1.15625 C 3.859375 -0.796875 3.375 -0.59375 2.78125 -0.59375 C 2 -0.59375 1.546875 -0.96875 1.546875 -1.609375 C 1.546875 -2.265625 1.984375 -2.609375 3.0625 -2.765625 C 4.109375 -2.90625 4.328125 -2.953125 4.671875 -3.109375 Z \"/>\n",
       "</symbol>\n",
       "<symbol overflow=\"visible\" id=\"glyph0-3\">\n",
       "<path style=\"stroke:none;\" d=\"M 5.65625 -4.171875 C 5.609375 -4.78125 5.46875 -5.1875 5.234375 -5.53125 C 4.796875 -6.125 4.046875 -6.46875 3.171875 -6.46875 C 1.46875 -6.46875 0.375 -5.125 0.375 -3.03125 C 0.375 -1.015625 1.453125 0.28125 3.15625 0.28125 C 4.65625 0.28125 5.609375 -0.625 5.71875 -2.15625 L 4.71875 -2.15625 C 4.546875 -1.15625 4.03125 -0.640625 3.1875 -0.640625 C 2.078125 -0.640625 1.421875 -1.546875 1.421875 -3.03125 C 1.421875 -4.609375 2.0625 -5.546875 3.15625 -5.546875 C 4 -5.546875 4.53125 -5.046875 4.640625 -4.171875 Z \"/>\n",
       "</symbol>\n",
       "<symbol overflow=\"visible\" id=\"glyph0-4\">\n",
       "<path style=\"stroke:none;\" d=\"M 3.046875 -6.28125 L 2.015625 -6.28125 L 2.015625 -8.015625 L 1.015625 -8.015625 L 1.015625 -6.28125 L 0.171875 -6.28125 L 0.171875 -5.46875 L 1.015625 -5.46875 L 1.015625 -0.71875 C 1.015625 -0.078125 1.453125 0.28125 2.234375 0.28125 C 2.46875 0.28125 2.71875 0.25 3.046875 0.1875 L 3.046875 -0.640625 C 2.921875 -0.609375 2.765625 -0.59375 2.5625 -0.59375 C 2.140625 -0.59375 2.015625 -0.71875 2.015625 -1.15625 L 2.015625 -5.46875 L 3.046875 -5.46875 Z \"/>\n",
       "</symbol>\n",
       "<symbol overflow=\"visible\" id=\"glyph0-5\">\n",
       "<path style=\"stroke:none;\" d=\"M 3.265625 -6.46875 C 1.5 -6.46875 0.4375 -5.203125 0.4375 -3.09375 C 0.4375 -0.984375 1.484375 0.28125 3.28125 0.28125 C 5.046875 0.28125 6.125 -0.984375 6.125 -3.046875 C 6.125 -5.21875 5.078125 -6.46875 3.265625 -6.46875 Z M 3.28125 -5.546875 C 4.40625 -5.546875 5.078125 -4.625 5.078125 -3.0625 C 5.078125 -1.578125 4.375 -0.640625 3.28125 -0.640625 C 2.15625 -0.640625 1.46875 -1.578125 1.46875 -3.09375 C 1.46875 -4.609375 2.15625 -5.546875 3.28125 -5.546875 Z \"/>\n",
       "</symbol>\n",
       "<symbol overflow=\"visible\" id=\"glyph0-6\">\n",
       "<path style=\"stroke:none;\" d=\"M 0.828125 -6.28125 L 0.828125 0 L 1.84375 0 L 1.84375 -3.265625 C 1.84375 -4.15625 2.0625 -4.75 2.546875 -5.09375 C 2.859375 -5.328125 3.15625 -5.40625 3.859375 -5.40625 L 3.859375 -6.4375 C 3.6875 -6.453125 3.59375 -6.46875 3.46875 -6.46875 C 2.8125 -6.46875 2.328125 -6.078125 1.75 -5.140625 L 1.75 -6.28125 Z \"/>\n",
       "</symbol>\n",
       "<symbol overflow=\"visible\" id=\"glyph0-7\">\n",
       "<path style=\"stroke:none;\" d=\"M 2.828125 -8.75 C 1.625 -7.171875 0.875 -4.984375 0.875 -3.109375 C 0.875 -1.21875 1.625 0.96875 2.828125 2.546875 L 3.484375 2.546875 C 2.4375 0.828125 1.84375 -1.1875 1.84375 -3.109375 C 1.84375 -5.015625 2.4375 -7.046875 3.484375 -8.75 Z \"/>\n",
       "</symbol>\n",
       "<symbol overflow=\"visible\" id=\"glyph0-8\">\n",
       "<path style=\"stroke:none;\" d=\"M 8.515625 -4.625 L 4.859375 -4.625 L 4.859375 -3.640625 L 7.53125 -3.640625 L 7.53125 -3.390625 C 7.53125 -1.84375 6.375 -0.703125 4.78125 -0.703125 C 3.890625 -0.703125 3.078125 -1.03125 2.5625 -1.59375 C 1.984375 -2.21875 1.640625 -3.265625 1.640625 -4.34375 C 1.640625 -6.484375 2.875 -7.90625 4.71875 -7.90625 C 6.046875 -7.90625 7.015625 -7.21875 7.25 -6.09375 L 8.390625 -6.09375 C 8.078125 -7.875 6.734375 -8.890625 4.734375 -8.890625 C 3.65625 -8.890625 2.796875 -8.609375 2.109375 -8.046875 C 1.109375 -7.21875 0.53125 -5.859375 0.53125 -4.28125 C 0.53125 -1.59375 2.171875 0.28125 4.53125 0.28125 C 5.71875 0.28125 6.671875 -0.171875 7.53125 -1.109375 L 7.796875 0.046875 L 8.515625 0.046875 Z \"/>\n",
       "</symbol>\n",
       "<symbol overflow=\"visible\" id=\"glyph0-9\">\n",
       "<path style=\"stroke:none;\" d=\"M 2.203125 -3.984375 L 6.953125 -3.984375 L 6.953125 -4.96875 L 2.203125 -4.96875 L 2.203125 -7.765625 L 7.140625 -7.765625 L 7.140625 -8.75 L 1.078125 -8.75 L 1.078125 0 L 7.359375 0 L 7.359375 -0.984375 L 2.203125 -0.984375 Z \"/>\n",
       "</symbol>\n",
       "<symbol overflow=\"visible\" id=\"glyph0-10\">\n",
       "<path style=\"stroke:none;\" d=\"M 7.75 -8.75 L 6.703125 -8.75 L 6.703125 -1.59375 L 2.125 -8.75 L 0.90625 -8.75 L 0.90625 0 L 1.96875 0 L 1.96875 -7.09375 L 6.484375 0 L 7.75 0 Z \"/>\n",
       "</symbol>\n",
       "<symbol overflow=\"visible\" id=\"glyph0-11\">\n",
       "<path style=\"stroke:none;\" d=\"M 4.671875 -8.890625 C 2.15625 -8.890625 0.453125 -7.046875 0.453125 -4.3125 C 0.453125 -1.578125 2.15625 0.28125 4.6875 0.28125 C 5.734375 0.28125 6.6875 -0.046875 7.390625 -0.640625 C 8.34375 -1.453125 8.90625 -2.8125 8.90625 -4.234375 C 8.90625 -7.0625 7.234375 -8.890625 4.671875 -8.890625 Z M 4.671875 -7.90625 C 6.5625 -7.90625 7.78125 -6.46875 7.78125 -4.265625 C 7.78125 -2.140625 6.53125 -0.703125 4.6875 -0.703125 C 2.8125 -0.703125 1.578125 -2.140625 1.578125 -4.3125 C 1.578125 -6.46875 2.8125 -7.90625 4.671875 -7.90625 Z \"/>\n",
       "</symbol>\n",
       "<symbol overflow=\"visible\" id=\"glyph0-12\">\n",
       "<path style=\"stroke:none;\" d=\"M 1.109375 2.546875 C 2.3125 0.96875 3.078125 -1.21875 3.078125 -3.09375 C 3.078125 -4.984375 2.3125 -7.171875 1.109375 -8.75 L 0.453125 -8.75 C 1.515625 -7.03125 2.09375 -5.015625 2.09375 -3.09375 C 2.09375 -1.1875 1.515625 0.84375 0.453125 2.546875 Z \"/>\n",
       "</symbol>\n",
       "<symbol overflow=\"visible\" id=\"glyph0-13\">\n",
       "<path style=\"stroke:none;\" d=\"M 7.9375 -6.03125 C 7.59375 -7.953125 6.484375 -8.890625 4.578125 -8.890625 C 3.390625 -8.890625 2.453125 -8.515625 1.796875 -7.796875 C 1.015625 -6.9375 0.578125 -5.6875 0.578125 -4.265625 C 0.578125 -2.828125 1.015625 -1.59375 1.84375 -0.75 C 2.515625 -0.046875 3.390625 0.28125 4.53125 0.28125 C 6.65625 0.28125 7.859375 -0.875 8.125 -3.1875 L 6.96875 -3.1875 C 6.875 -2.59375 6.75 -2.1875 6.578125 -1.84375 C 6.21875 -1.109375 5.46875 -0.703125 4.53125 -0.703125 C 2.796875 -0.703125 1.6875 -2.09375 1.6875 -4.28125 C 1.6875 -6.53125 2.75 -7.90625 4.4375 -7.90625 C 5.140625 -7.90625 5.8125 -7.6875 6.171875 -7.359375 C 6.484375 -7.0625 6.671875 -6.6875 6.796875 -6.03125 Z \"/>\n",
       "</symbol>\n",
       "<symbol overflow=\"visible\" id=\"glyph0-14\">\n",
       "<path style=\"stroke:none;\" d=\"M 4.25 -7.765625 L 7.109375 -7.765625 L 7.109375 -8.75 L 0.25 -8.75 L 0.25 -7.765625 L 3.125 -7.765625 L 3.125 0 L 4.25 0 Z \"/>\n",
       "</symbol>\n",
       "<symbol overflow=\"visible\" id=\"glyph1-0\">\n",
       "<path style=\"stroke:none;\" d=\"\"/>\n",
       "</symbol>\n",
       "<symbol overflow=\"visible\" id=\"glyph1-1\">\n",
       "<path style=\"stroke:none;\" d=\"M -6.28125 -3.09375 L -6.28125 -2.046875 L -7.265625 -2.046875 C -7.6875 -2.046875 -7.90625 -2.296875 -7.90625 -2.75 C -7.90625 -2.828125 -7.90625 -2.875 -7.890625 -3.09375 L -8.71875 -3.09375 C -8.765625 -2.875 -8.78125 -2.734375 -8.78125 -2.53125 C -8.78125 -1.609375 -8.25 -1.0625 -7.359375 -1.0625 L -6.28125 -1.0625 L -6.28125 -0.21875 L -5.46875 -0.21875 L -5.46875 -1.0625 L 0 -1.0625 L 0 -2.046875 L -5.46875 -2.046875 L -5.46875 -3.09375 Z \"/>\n",
       "</symbol>\n",
       "<symbol overflow=\"visible\" id=\"glyph1-2\">\n",
       "<path style=\"stroke:none;\" d=\"M -0.59375 -6.421875 C -0.5625 -6.3125 -0.5625 -6.265625 -0.5625 -6.203125 C -0.5625 -5.859375 -0.75 -5.65625 -1.0625 -5.65625 L -4.75 -5.65625 C -5.875 -5.65625 -6.46875 -4.84375 -6.46875 -3.296875 C -6.46875 -2.390625 -6.203125 -1.625 -5.734375 -1.21875 C -5.40625 -0.921875 -5.046875 -0.796875 -4.421875 -0.78125 L -4.421875 -1.78125 C -5.203125 -1.875 -5.546875 -2.328125 -5.546875 -3.265625 C -5.546875 -4.15625 -5.203125 -4.671875 -4.609375 -4.671875 L -4.34375 -4.671875 C -3.921875 -4.671875 -3.75 -4.421875 -3.640625 -3.625 C -3.46875 -2.203125 -3.421875 -1.984375 -3.265625 -1.609375 C -2.96875 -0.875 -2.40625 -0.5 -1.578125 -0.5 C -0.4375 -0.5 0.28125 -1.296875 0.28125 -2.5625 C 0.28125 -3.359375 0 -4 -0.640625 -4.703125 C -0.015625 -4.78125 0.28125 -5.09375 0.28125 -5.734375 C 0.28125 -5.9375 0.25 -6.09375 0.171875 -6.421875 Z M -1.984375 -4.671875 C -1.640625 -4.671875 -1.4375 -4.578125 -1.15625 -4.265625 C -0.796875 -3.859375 -0.59375 -3.375 -0.59375 -2.78125 C -0.59375 -2 -0.96875 -1.546875 -1.609375 -1.546875 C -2.265625 -1.546875 -2.609375 -1.984375 -2.765625 -3.0625 C -2.90625 -4.109375 -2.953125 -4.328125 -3.109375 -4.671875 Z \"/>\n",
       "</symbol>\n",
       "<symbol overflow=\"visible\" id=\"glyph1-3\">\n",
       "<path style=\"stroke:none;\" d=\"M -4.171875 -5.65625 C -4.78125 -5.609375 -5.1875 -5.46875 -5.53125 -5.234375 C -6.125 -4.796875 -6.46875 -4.046875 -6.46875 -3.171875 C -6.46875 -1.46875 -5.125 -0.375 -3.03125 -0.375 C -1.015625 -0.375 0.28125 -1.453125 0.28125 -3.15625 C 0.28125 -4.65625 -0.625 -5.609375 -2.15625 -5.71875 L -2.15625 -4.71875 C -1.15625 -4.546875 -0.640625 -4.03125 -0.640625 -3.1875 C -0.640625 -2.078125 -1.546875 -1.421875 -3.03125 -1.421875 C -4.609375 -1.421875 -5.546875 -2.0625 -5.546875 -3.15625 C -5.546875 -4 -5.046875 -4.53125 -4.171875 -4.640625 Z \"/>\n",
       "</symbol>\n",
       "<symbol overflow=\"visible\" id=\"glyph1-4\">\n",
       "<path style=\"stroke:none;\" d=\"M -6.28125 -3.046875 L -6.28125 -2.015625 L -8.015625 -2.015625 L -8.015625 -1.015625 L -6.28125 -1.015625 L -6.28125 -0.171875 L -5.46875 -0.171875 L -5.46875 -1.015625 L -0.71875 -1.015625 C -0.078125 -1.015625 0.28125 -1.453125 0.28125 -2.234375 C 0.28125 -2.46875 0.25 -2.71875 0.1875 -3.046875 L -0.640625 -3.046875 C -0.609375 -2.921875 -0.59375 -2.765625 -0.59375 -2.5625 C -0.59375 -2.140625 -0.71875 -2.015625 -1.15625 -2.015625 L -5.46875 -2.015625 L -5.46875 -3.046875 Z \"/>\n",
       "</symbol>\n",
       "<symbol overflow=\"visible\" id=\"glyph1-5\">\n",
       "<path style=\"stroke:none;\" d=\"M -6.46875 -3.265625 C -6.46875 -1.5 -5.203125 -0.4375 -3.09375 -0.4375 C -0.984375 -0.4375 0.28125 -1.484375 0.28125 -3.28125 C 0.28125 -5.046875 -0.984375 -6.125 -3.046875 -6.125 C -5.21875 -6.125 -6.46875 -5.078125 -6.46875 -3.265625 Z M -5.546875 -3.28125 C -5.546875 -4.40625 -4.625 -5.078125 -3.0625 -5.078125 C -1.578125 -5.078125 -0.640625 -4.375 -0.640625 -3.28125 C -0.640625 -2.15625 -1.578125 -1.46875 -3.09375 -1.46875 C -4.609375 -1.46875 -5.546875 -2.15625 -5.546875 -3.28125 Z \"/>\n",
       "</symbol>\n",
       "<symbol overflow=\"visible\" id=\"glyph1-6\">\n",
       "<path style=\"stroke:none;\" d=\"M -6.28125 -0.828125 L 0 -0.828125 L 0 -1.84375 L -3.265625 -1.84375 C -4.15625 -1.84375 -4.75 -2.0625 -5.09375 -2.546875 C -5.328125 -2.859375 -5.40625 -3.15625 -5.40625 -3.859375 L -6.4375 -3.859375 C -6.453125 -3.6875 -6.46875 -3.59375 -6.46875 -3.46875 C -6.46875 -2.8125 -6.078125 -2.328125 -5.140625 -1.75 L -6.28125 -1.75 Z \"/>\n",
       "</symbol>\n",
       "<symbol overflow=\"visible\" id=\"glyph1-7\">\n",
       "<path style=\"stroke:none;\" d=\"M -8.75 -2.828125 C -7.171875 -1.625 -4.984375 -0.875 -3.109375 -0.875 C -1.21875 -0.875 0.96875 -1.625 2.546875 -2.828125 L 2.546875 -3.484375 C 0.828125 -2.4375 -1.1875 -1.84375 -3.109375 -1.84375 C -5.015625 -1.84375 -7.046875 -2.4375 -8.75 -3.484375 Z \"/>\n",
       "</symbol>\n",
       "<symbol overflow=\"visible\" id=\"glyph1-8\">\n",
       "<path style=\"stroke:none;\" d=\"M -3.703125 -2.203125 L -3.703125 -4.953125 C -3.703125 -5.640625 -3.90625 -6.1875 -4.328125 -6.640625 C -4.8125 -7.171875 -5.375 -7.40625 -6.1875 -7.40625 C -7.828125 -7.40625 -8.75 -6.4375 -8.75 -4.703125 L -8.75 -1.09375 L 0 -1.09375 L 0 -2.203125 Z M -4.6875 -2.203125 L -7.765625 -2.203125 L -7.765625 -4.53125 C -7.765625 -5.609375 -7.1875 -6.234375 -6.234375 -6.234375 C -5.265625 -6.234375 -4.6875 -5.609375 -4.6875 -4.53125 Z \"/>\n",
       "</symbol>\n",
       "<symbol overflow=\"visible\" id=\"glyph1-9\">\n",
       "<path style=\"stroke:none;\" d=\"M -3.984375 -6.609375 L 0 -6.609375 L 0 -7.734375 L -8.75 -7.734375 L -8.75 -6.609375 L -4.96875 -6.609375 L -4.96875 -2.109375 L -8.75 -2.109375 L -8.75 -1 L 0 -1 L 0 -2.125 L -3.984375 -2.125 Z \"/>\n",
       "</symbol>\n",
       "<symbol overflow=\"visible\" id=\"glyph1-10\">\n",
       "<path style=\"stroke:none;\" d=\"M -3.984375 -2.203125 L -3.984375 -6.953125 L -4.96875 -6.953125 L -4.96875 -2.203125 L -7.765625 -2.203125 L -7.765625 -7.140625 L -8.75 -7.140625 L -8.75 -1.078125 L 0 -1.078125 L 0 -7.359375 L -0.984375 -7.359375 L -0.984375 -2.203125 Z \"/>\n",
       "</symbol>\n",
       "<symbol overflow=\"visible\" id=\"glyph1-11\">\n",
       "<path style=\"stroke:none;\" d=\"M -8.75 -7.75 L -8.75 -6.703125 L -1.59375 -6.703125 L -8.75 -2.125 L -8.75 -0.90625 L 0 -0.90625 L 0 -1.96875 L -7.09375 -1.96875 L 0 -6.484375 L 0 -7.75 Z \"/>\n",
       "</symbol>\n",
       "<symbol overflow=\"visible\" id=\"glyph1-12\">\n",
       "<path style=\"stroke:none;\" d=\"M -8.890625 -4.671875 C -8.890625 -2.15625 -7.046875 -0.453125 -4.3125 -0.453125 C -1.578125 -0.453125 0.28125 -2.15625 0.28125 -4.6875 C 0.28125 -5.734375 -0.046875 -6.6875 -0.640625 -7.390625 C -1.453125 -8.34375 -2.8125 -8.90625 -4.234375 -8.90625 C -7.0625 -8.90625 -8.890625 -7.234375 -8.890625 -4.671875 Z M -7.90625 -4.671875 C -7.90625 -6.5625 -6.46875 -7.78125 -4.265625 -7.78125 C -2.140625 -7.78125 -0.703125 -6.53125 -0.703125 -4.6875 C -0.703125 -2.8125 -2.140625 -1.578125 -4.3125 -1.578125 C -6.46875 -1.578125 -7.90625 -2.8125 -7.90625 -4.671875 Z \"/>\n",
       "</symbol>\n",
       "<symbol overflow=\"visible\" id=\"glyph1-13\">\n",
       "<path style=\"stroke:none;\" d=\"M 2.546875 -1.109375 C 0.96875 -2.3125 -1.21875 -3.078125 -3.09375 -3.078125 C -4.984375 -3.078125 -7.171875 -2.3125 -8.75 -1.109375 L -8.75 -0.453125 C -7.03125 -1.515625 -5.015625 -2.09375 -3.09375 -2.09375 C -1.1875 -2.09375 0.84375 -1.515625 2.546875 -0.453125 Z \"/>\n",
       "</symbol>\n",
       "<symbol overflow=\"visible\" id=\"glyph1-14\">\n",
       "<path style=\"stroke:none;\" d=\"M -6.03125 -7.9375 C -7.953125 -7.59375 -8.890625 -6.484375 -8.890625 -4.578125 C -8.890625 -3.390625 -8.515625 -2.453125 -7.796875 -1.796875 C -6.9375 -1.015625 -5.6875 -0.578125 -4.265625 -0.578125 C -2.828125 -0.578125 -1.59375 -1.015625 -0.75 -1.84375 C -0.046875 -2.515625 0.28125 -3.390625 0.28125 -4.53125 C 0.28125 -6.65625 -0.875 -7.859375 -3.1875 -8.125 L -3.1875 -6.96875 C -2.59375 -6.875 -2.1875 -6.75 -1.84375 -6.578125 C -1.109375 -6.21875 -0.703125 -5.46875 -0.703125 -4.53125 C -0.703125 -2.796875 -2.09375 -1.6875 -4.28125 -1.6875 C -6.53125 -1.6875 -7.90625 -2.75 -7.90625 -4.4375 C -7.90625 -5.140625 -7.6875 -5.8125 -7.359375 -6.171875 C -7.0625 -6.484375 -6.6875 -6.671875 -6.03125 -6.796875 Z \"/>\n",
       "</symbol>\n",
       "<symbol overflow=\"visible\" id=\"glyph1-15\">\n",
       "<path style=\"stroke:none;\" d=\"M -2.625 -5.6875 L 0 -6.59375 L 0 -7.84375 L -8.75 -4.765625 L -8.75 -3.328125 L 0 -0.203125 L 0 -1.390625 L -2.625 -2.3125 Z M -3.5625 -5.375 L -3.5625 -2.59375 L -7.546875 -4.03125 Z \"/>\n",
       "</symbol>\n",
       "<symbol overflow=\"visible\" id=\"glyph1-16\">\n",
       "<path style=\"stroke:none;\" d=\"M -6.1875 -7.15625 C -7.890625 -7.140625 -8.890625 -5.96875 -8.890625 -3.953125 C -8.890625 -2.03125 -7.90625 -0.84375 -6.328125 -0.84375 C -5.25 -0.84375 -4.578125 -1.40625 -4.28125 -2.5625 L -3.703125 -4.734375 C -3.421875 -5.828125 -2.96875 -6.34375 -2.296875 -6.34375 C -1.828125 -6.34375 -1.34375 -6.078125 -1.078125 -5.71875 C -0.84375 -5.359375 -0.703125 -4.8125 -0.703125 -4.109375 C -0.703125 -3.15625 -0.9375 -2.515625 -1.4375 -2.09375 C -1.828125 -1.765625 -2.25 -1.625 -2.78125 -1.625 L -2.78125 -0.578125 C -1.984375 -0.59375 -1.453125 -0.75 -0.96875 -1.09375 C -0.15625 -1.6875 0.28125 -2.703125 0.28125 -4.03125 C 0.28125 -5.078125 0.03125 -5.921875 -0.390625 -6.484375 C -0.859375 -7.078125 -1.640625 -7.453125 -2.40625 -7.453125 C -3.484375 -7.453125 -4.265625 -6.78125 -4.59375 -5.59375 L -5.1875 -3.390625 C -5.46875 -2.34375 -5.8125 -1.953125 -6.484375 -1.953125 C -7.375 -1.953125 -7.953125 -2.734375 -7.953125 -3.90625 C -7.953125 -5.296875 -7.3125 -6.078125 -6.1875 -6.09375 Z \"/>\n",
       "</symbol>\n",
       "<symbol overflow=\"visible\" id=\"glyph1-17\">\n",
       "<path style=\"stroke:none;\" d=\"M -7.765625 -4.25 L -7.765625 -7.109375 L -8.75 -7.109375 L -8.75 -0.25 L -7.765625 -0.25 L -7.765625 -3.125 L 0 -3.125 L 0 -4.25 Z \"/>\n",
       "</symbol>\n",
       "<symbol overflow=\"visible\" id=\"glyph1-18\">\n",
       "<path style=\"stroke:none;\" d=\"M -3.765625 -2.234375 L -3.765625 -5.109375 C -3.765625 -6.109375 -3.28125 -6.546875 -2.203125 -6.546875 L -1.421875 -6.546875 C -0.890625 -6.546875 -0.359375 -6.640625 0 -6.796875 L 0 -8.140625 L -0.28125 -8.140625 C -0.5625 -7.734375 -0.875 -7.640625 -2.046875 -7.625 C -3.484375 -7.609375 -3.90625 -7.375 -4.3125 -6.4375 C -4.796875 -7.421875 -5.40625 -7.8125 -6.40625 -7.8125 C -7.921875 -7.8125 -8.75 -6.859375 -8.75 -5.140625 L -8.75 -1.109375 L 0 -1.109375 L 0 -2.234375 Z M -4.75 -2.234375 L -7.765625 -2.234375 L -7.765625 -4.9375 C -7.765625 -5.5625 -7.671875 -5.921875 -7.421875 -6.1875 C -7.171875 -6.484375 -6.78125 -6.640625 -6.25 -6.640625 C -5.21875 -6.640625 -4.75 -6.125 -4.75 -4.9375 Z \"/>\n",
       "</symbol>\n",
       "<symbol overflow=\"visible\" id=\"glyph1-19\">\n",
       "<path style=\"stroke:none;\" d=\"M -8.75 -2.078125 L -8.75 -0.953125 L 0 -0.953125 L 0 -6.390625 L -0.984375 -6.390625 L -0.984375 -2.078125 Z \"/>\n",
       "</symbol>\n",
       "<symbol overflow=\"visible\" id=\"glyph1-20\">\n",
       "<path style=\"stroke:none;\" d=\"M -8.515625 -3.296875 C -8.515625 -2.515625 -8.15625 -1.78125 -7.578125 -1.34375 C -6.828125 -0.796875 -5.6875 -0.515625 -4.109375 -0.515625 C -1.25 -0.515625 0.28125 -1.46875 0.28125 -3.296875 C 0.28125 -5.09375 -1.25 -6.078125 -4.046875 -6.078125 C -5.703125 -6.078125 -6.796875 -5.8125 -7.578125 -5.25 C -8.171875 -4.8125 -8.515625 -4.109375 -8.515625 -3.296875 Z M -7.578125 -3.296875 C -7.578125 -4.4375 -6.421875 -5 -4.140625 -5 C -1.734375 -5 -0.59375 -4.453125 -0.59375 -3.28125 C -0.59375 -2.15625 -1.78125 -1.59375 -4.109375 -1.59375 C -6.4375 -1.59375 -7.578125 -2.15625 -7.578125 -3.296875 Z \"/>\n",
       "</symbol>\n",
       "<symbol overflow=\"visible\" id=\"glyph1-21\">\n",
       "<path style=\"stroke:none;\" d=\"M -1.25 -2.296875 L -1.25 -1.046875 L 0 -1.046875 L 0 -2.296875 Z \"/>\n",
       "</symbol>\n",
       "<symbol overflow=\"visible\" id=\"glyph1-22\">\n",
       "<path style=\"stroke:none;\" d=\"M -1.046875 -6.078125 L -1.046875 -1.59375 C -1.734375 -1.703125 -2.1875 -2.09375 -2.796875 -3.125 L -3.4375 -4.328125 C -4.09375 -5.515625 -4.96875 -6.125 -6.015625 -6.125 C -6.71875 -6.125 -7.375 -5.84375 -7.84375 -5.34375 C -8.296875 -4.84375 -8.515625 -4.21875 -8.515625 -3.40625 C -8.515625 -2.328125 -8.125 -1.53125 -7.40625 -1.0625 C -6.953125 -0.75 -6.421875 -0.625 -5.5625 -0.59375 L -5.5625 -1.65625 C -6.125 -1.6875 -6.484375 -1.765625 -6.75 -1.90625 C -7.265625 -2.1875 -7.578125 -2.734375 -7.578125 -3.375 C -7.578125 -4.328125 -6.90625 -5.046875 -5.984375 -5.046875 C -5.3125 -5.046875 -4.734375 -4.65625 -4.3125 -3.90625 L -3.6875 -2.796875 C -2.671875 -1.015625 -1.875 -0.5 0 -0.40625 L 0 -6.078125 Z \"/>\n",
       "</symbol>\n",
       "<symbol overflow=\"visible\" id=\"glyph1-23\">\n",
       "<path style=\"stroke:none;\" d=\"M -2.046875 -3.921875 L 0 -3.921875 L 0 -4.984375 L -2.046875 -4.984375 L -2.046875 -6.234375 L -2.984375 -6.234375 L -2.984375 -4.984375 L -8.515625 -4.984375 L -8.515625 -4.203125 L -3.15625 -0.34375 L -2.046875 -0.34375 Z M -2.984375 -3.921875 L -2.984375 -1.265625 L -6.703125 -3.921875 Z \"/>\n",
       "</symbol>\n",
       "<symbol overflow=\"visible\" id=\"glyph1-24\">\n",
       "<path style=\"stroke:none;\" d=\"M -6.28125 -5.96875 C -7.6875 -5.765625 -8.515625 -4.859375 -8.515625 -3.5625 C -8.515625 -2.625 -8.046875 -1.78125 -7.296875 -1.28125 C -6.46875 -0.75 -5.421875 -0.515625 -3.875 -0.515625 C -2.453125 -0.515625 -1.53125 -0.734375 -0.78125 -1.234375 C -0.09375 -1.6875 0.28125 -2.4375 0.28125 -3.375 C 0.28125 -4.984375 -0.921875 -6.15625 -2.59375 -6.15625 C -4.171875 -6.15625 -5.296875 -5.078125 -5.296875 -3.546875 C -5.296875 -2.71875 -4.96875 -2.046875 -4.34375 -1.59375 C -6.421875 -1.609375 -7.578125 -2.28125 -7.578125 -3.484375 C -7.578125 -4.234375 -7.109375 -4.75 -6.28125 -4.921875 Z M -4.359375 -3.421875 C -4.359375 -4.4375 -3.640625 -5.078125 -2.515625 -5.078125 C -1.4375 -5.078125 -0.65625 -4.359375 -0.65625 -3.390625 C -0.65625 -2.40625 -1.46875 -1.65625 -2.5625 -1.65625 C -3.625 -1.65625 -4.359375 -2.375 -4.359375 -3.421875 Z \"/>\n",
       "</symbol>\n",
       "<symbol overflow=\"visible\" id=\"glyph1-25\">\n",
       "<path style=\"stroke:none;\" d=\"M -4.46875 -4.6875 C -5 -5.5625 -5.4375 -5.859375 -6.234375 -5.859375 C -7.578125 -5.859375 -8.515625 -4.8125 -8.515625 -3.296875 C -8.515625 -1.796875 -7.578125 -0.75 -6.234375 -0.75 C -5.453125 -0.75 -5.015625 -1.03125 -4.46875 -1.890625 C -4.015625 -0.921875 -3.296875 -0.4375 -2.359375 -0.4375 C -0.796875 -0.4375 0.28125 -1.625 0.28125 -3.296875 C 0.28125 -4.984375 -0.796875 -6.15625 -2.359375 -6.15625 C -3.296875 -6.15625 -4.015625 -5.671875 -4.46875 -4.6875 Z M -7.578125 -3.296875 C -7.578125 -4.203125 -7.046875 -4.78125 -6.21875 -4.78125 C -5.421875 -4.78125 -4.890625 -4.1875 -4.890625 -3.296875 C -4.890625 -2.40625 -5.421875 -1.828125 -6.234375 -1.828125 C -7.046875 -1.828125 -7.578125 -2.40625 -7.578125 -3.296875 Z M -4.015625 -3.296875 C -4.015625 -4.359375 -3.34375 -5.078125 -2.34375 -5.078125 C -1.328125 -5.078125 -0.65625 -4.359375 -0.65625 -3.28125 C -0.65625 -2.25 -1.34375 -1.53125 -2.34375 -1.53125 C -3.34375 -1.53125 -4.015625 -2.25 -4.015625 -3.296875 Z \"/>\n",
       "</symbol>\n",
       "<symbol overflow=\"visible\" id=\"glyph1-26\">\n",
       "<path style=\"stroke:none;\" d=\"M -6.0625 -3.109375 L 0 -3.109375 L 0 -4.15625 L -8.515625 -4.15625 L -8.515625 -3.46875 C -7.203125 -3.09375 -7.015625 -2.859375 -6.8125 -1.21875 L -6.0625 -1.21875 Z \"/>\n",
       "</symbol>\n",
       "</g>\n",
       "<clipPath id=\"clip1\">\n",
       "  <path d=\"M 59.039062 291 L 79 291 L 79 431 L 59.039062 431 Z \"/>\n",
       "</clipPath>\n",
       "<clipPath id=\"clip2\">\n",
       "  <path d=\"M 59.039062 290 L 79 290 L 79 431 L 59.039062 431 Z \"/>\n",
       "</clipPath>\n",
       "<clipPath id=\"clip3\">\n",
       "  <path d=\"M 59.039062 59.039062 L 79 59.039062 L 79 292 L 59.039062 292 Z \"/>\n",
       "</clipPath>\n",
       "<clipPath id=\"clip4\">\n",
       "  <path d=\"M 86 59.039062 L 177 59.039062 L 177 391 L 86 391 Z \"/>\n",
       "</clipPath>\n",
       "<clipPath id=\"clip5\">\n",
       "  <path d=\"M 184 313 L 474.757812 313 L 474.757812 431 L 184 431 Z \"/>\n",
       "</clipPath>\n",
       "<clipPath id=\"clip6\">\n",
       "  <path d=\"M 184 59.039062 L 474 59.039062 L 474 314 L 184 314 Z \"/>\n",
       "</clipPath>\n",
       "<clipPath id=\"clip7\">\n",
       "  <path d=\"M 184 59.039062 L 474.757812 59.039062 L 474.757812 314 L 184 314 Z \"/>\n",
       "</clipPath>\n",
       "</defs>\n",
       "<g id=\"surface55\">\n",
       "<rect x=\"0\" y=\"0\" width=\"504\" height=\"504\" style=\"fill:rgb(100%,100%,100%);fill-opacity:1;stroke:none;\"/>\n",
       "<g style=\"fill:rgb(0%,0%,0%);fill-opacity:1;\">\n",
       "  <use xlink:href=\"#glyph0-1\" x=\"229.398438\" y=\"484.716797\"/>\n",
       "  <use xlink:href=\"#glyph0-2\" x=\"232.734375\" y=\"484.716797\"/>\n",
       "  <use xlink:href=\"#glyph0-3\" x=\"239.40625\" y=\"484.716797\"/>\n",
       "  <use xlink:href=\"#glyph0-4\" x=\"245.40625\" y=\"484.716797\"/>\n",
       "  <use xlink:href=\"#glyph0-5\" x=\"248.742188\" y=\"484.716797\"/>\n",
       "  <use xlink:href=\"#glyph0-6\" x=\"255.414062\" y=\"484.716797\"/>\n",
       "  <use xlink:href=\"#glyph0-7\" x=\"259.410156\" y=\"484.716797\"/>\n",
       "  <use xlink:href=\"#glyph0-8\" x=\"263.40625\" y=\"484.716797\"/>\n",
       "  <use xlink:href=\"#glyph0-9\" x=\"272.742188\" y=\"484.716797\"/>\n",
       "  <use xlink:href=\"#glyph0-10\" x=\"280.746094\" y=\"484.716797\"/>\n",
       "  <use xlink:href=\"#glyph0-11\" x=\"289.410156\" y=\"484.716797\"/>\n",
       "  <use xlink:href=\"#glyph0-12\" x=\"298.746094\" y=\"484.716797\"/>\n",
       "</g>\n",
       "<g style=\"fill:rgb(0%,0%,0%);fill-opacity:1;\">\n",
       "  <use xlink:href=\"#glyph1-1\" x=\"12.396484\" y=\"285.300781\"/>\n",
       "  <use xlink:href=\"#glyph1-2\" x=\"12.396484\" y=\"281.964844\"/>\n",
       "  <use xlink:href=\"#glyph1-3\" x=\"12.396484\" y=\"275.292969\"/>\n",
       "  <use xlink:href=\"#glyph1-4\" x=\"12.396484\" y=\"269.292969\"/>\n",
       "  <use xlink:href=\"#glyph1-5\" x=\"12.396484\" y=\"265.957031\"/>\n",
       "  <use xlink:href=\"#glyph1-6\" x=\"12.396484\" y=\"259.285156\"/>\n",
       "  <use xlink:href=\"#glyph1-7\" x=\"12.396484\" y=\"255.289062\"/>\n",
       "  <use xlink:href=\"#glyph1-8\" x=\"12.396484\" y=\"251.292969\"/>\n",
       "  <use xlink:href=\"#glyph1-9\" x=\"12.396484\" y=\"243.289062\"/>\n",
       "  <use xlink:href=\"#glyph1-10\" x=\"12.396484\" y=\"234.625\"/>\n",
       "  <use xlink:href=\"#glyph1-11\" x=\"12.396484\" y=\"226.621094\"/>\n",
       "  <use xlink:href=\"#glyph1-12\" x=\"12.396484\" y=\"217.957031\"/>\n",
       "  <use xlink:href=\"#glyph1-13\" x=\"12.396484\" y=\"208.621094\"/>\n",
       "</g>\n",
       "<g clip-path=\"url(#clip1)\" clip-rule=\"nonzero\">\n",
       "<path style=\" stroke:none;fill-rule:nonzero;fill:rgb(30.196078%,30.196078%,30.196078%);fill-opacity:1;\" d=\"M 59.039062 430.558594 L 78.492188 430.558594 L 78.492188 291.238281 L 59.039062 291.238281 Z \"/>\n",
       "</g>\n",
       "<g clip-path=\"url(#clip2)\" clip-rule=\"nonzero\">\n",
       "<path style=\"fill:none;stroke-width:0.75;stroke-linecap:round;stroke-linejoin:round;stroke:rgb(0%,0%,0%);stroke-opacity:1;stroke-miterlimit:10;\" d=\"M 59.039062 430.558594 L 78.492188 430.558594 L 78.492188 291.238281 L 59.039062 291.238281 Z \"/>\n",
       "</g>\n",
       "<g clip-path=\"url(#clip3)\" clip-rule=\"nonzero\">\n",
       "<path style=\"fill-rule:nonzero;fill:rgb(90.196078%,90.196078%,90.196078%);fill-opacity:1;stroke-width:0.75;stroke-linecap:round;stroke-linejoin:round;stroke:rgb(0%,0%,0%);stroke-opacity:1;stroke-miterlimit:10;\" d=\"M 59.039062 291.238281 L 78.492188 291.238281 L 78.492188 59.039062 L 59.039062 59.039062 Z \"/>\n",
       "</g>\n",
       "<path style=\"fill-rule:nonzero;fill:rgb(30.196078%,30.196078%,30.196078%);fill-opacity:1;stroke-width:0.75;stroke-linecap:round;stroke-linejoin:round;stroke:rgb(0%,0%,0%);stroke-opacity:1;stroke-miterlimit:10;\" d=\"M 86.46875 430.558594 L 176.433594 430.558594 L 176.433594 390.394531 L 86.46875 390.394531 Z \"/>\n",
       "<g clip-path=\"url(#clip4)\" clip-rule=\"nonzero\">\n",
       "<path style=\"fill-rule:nonzero;fill:rgb(90.196078%,90.196078%,90.196078%);fill-opacity:1;stroke-width:0.75;stroke-linecap:round;stroke-linejoin:round;stroke:rgb(0%,0%,0%);stroke-opacity:1;stroke-miterlimit:10;\" d=\"M 86.46875 390.394531 L 176.433594 390.394531 L 176.433594 59.039062 L 86.46875 59.039062 Z \"/>\n",
       "</g>\n",
       "<path style=\" stroke:none;fill-rule:nonzero;fill:rgb(30.196078%,30.196078%,30.196078%);fill-opacity:1;\" d=\"M 184.410156 430.558594 L 473.761719 430.558594 L 473.761719 313.484375 L 184.410156 313.484375 Z \"/>\n",
       "<g clip-path=\"url(#clip5)\" clip-rule=\"nonzero\">\n",
       "<path style=\"fill:none;stroke-width:0.75;stroke-linecap:round;stroke-linejoin:round;stroke:rgb(0%,0%,0%);stroke-opacity:1;stroke-miterlimit:10;\" d=\"M 184.410156 430.558594 L 473.761719 430.558594 L 473.761719 313.484375 L 184.410156 313.484375 Z \"/>\n",
       "</g>\n",
       "<g clip-path=\"url(#clip6)\" clip-rule=\"nonzero\">\n",
       "<path style=\" stroke:none;fill-rule:nonzero;fill:rgb(90.196078%,90.196078%,90.196078%);fill-opacity:1;\" d=\"M 184.410156 313.484375 L 473.761719 313.484375 L 473.761719 59.039062 L 184.410156 59.039062 Z \"/>\n",
       "</g>\n",
       "<g clip-path=\"url(#clip7)\" clip-rule=\"nonzero\">\n",
       "<path style=\"fill:none;stroke-width:0.75;stroke-linecap:round;stroke-linejoin:round;stroke:rgb(0%,0%,0%);stroke-opacity:1;stroke-miterlimit:10;\" d=\"M 184.410156 313.484375 L 473.761719 313.484375 L 473.761719 59.039062 L 184.410156 59.039062 Z \"/>\n",
       "</g>\n",
       "<g style=\"fill:rgb(0%,0%,0%);fill-opacity:1;\">\n",
       "  <use xlink:href=\"#glyph0-13\" x=\"59.765625\" y=\"455.916016\"/>\n",
       "  <use xlink:href=\"#glyph0-13\" x=\"68.429688\" y=\"455.916016\"/>\n",
       "</g>\n",
       "<g style=\"fill:rgb(0%,0%,0%);fill-opacity:1;\">\n",
       "  <use xlink:href=\"#glyph0-13\" x=\"123.449219\" y=\"455.916016\"/>\n",
       "  <use xlink:href=\"#glyph0-14\" x=\"132.113281\" y=\"455.916016\"/>\n",
       "</g>\n",
       "<g style=\"fill:rgb(0%,0%,0%);fill-opacity:1;\">\n",
       "  <use xlink:href=\"#glyph0-14\" x=\"321.585938\" y=\"455.916016\"/>\n",
       "  <use xlink:href=\"#glyph0-14\" x=\"328.917969\" y=\"455.916016\"/>\n",
       "</g>\n",
       "<g style=\"fill:rgb(0%,0%,0%);fill-opacity:1;\">\n",
       "  <use xlink:href=\"#glyph1-14\" x=\"41.197266\" y=\"377.398438\"/>\n",
       "  <use xlink:href=\"#glyph1-15\" x=\"41.197266\" y=\"368.734375\"/>\n",
       "  <use xlink:href=\"#glyph1-16\" x=\"41.197266\" y=\"360.730469\"/>\n",
       "  <use xlink:href=\"#glyph1-10\" x=\"41.197266\" y=\"352.726562\"/>\n",
       "</g>\n",
       "<g style=\"fill:rgb(0%,0%,0%);fill-opacity:1;\">\n",
       "  <use xlink:href=\"#glyph1-14\" x=\"41.197266\" y=\"204.640625\"/>\n",
       "  <use xlink:href=\"#glyph1-12\" x=\"41.197266\" y=\"195.976562\"/>\n",
       "  <use xlink:href=\"#glyph1-11\" x=\"41.197266\" y=\"186.640625\"/>\n",
       "  <use xlink:href=\"#glyph1-17\" x=\"41.197266\" y=\"177.976562\"/>\n",
       "  <use xlink:href=\"#glyph1-18\" x=\"41.197266\" y=\"170.644531\"/>\n",
       "  <use xlink:href=\"#glyph1-12\" x=\"41.197266\" y=\"161.980469\"/>\n",
       "  <use xlink:href=\"#glyph1-19\" x=\"41.197266\" y=\"152.644531\"/>\n",
       "</g>\n",
       "<path style=\"fill:none;stroke-width:0.75;stroke-linecap:round;stroke-linejoin:round;stroke:rgb(0%,0%,0%);stroke-opacity:1;stroke-miterlimit:10;\" d=\"M 473.761719 430.558594 L 473.761719 59.039062 \"/>\n",
       "<path style=\"fill:none;stroke-width:0.75;stroke-linecap:round;stroke-linejoin:round;stroke:rgb(0%,0%,0%);stroke-opacity:1;stroke-miterlimit:10;\" d=\"M 473.761719 430.558594 L 480.960938 430.558594 \"/>\n",
       "<path style=\"fill:none;stroke-width:0.75;stroke-linecap:round;stroke-linejoin:round;stroke:rgb(0%,0%,0%);stroke-opacity:1;stroke-miterlimit:10;\" d=\"M 473.761719 356.257812 L 480.960938 356.257812 \"/>\n",
       "<path style=\"fill:none;stroke-width:0.75;stroke-linecap:round;stroke-linejoin:round;stroke:rgb(0%,0%,0%);stroke-opacity:1;stroke-miterlimit:10;\" d=\"M 473.761719 281.953125 L 480.960938 281.953125 \"/>\n",
       "<path style=\"fill:none;stroke-width:0.75;stroke-linecap:round;stroke-linejoin:round;stroke:rgb(0%,0%,0%);stroke-opacity:1;stroke-miterlimit:10;\" d=\"M 473.761719 207.648438 L 480.960938 207.648438 \"/>\n",
       "<path style=\"fill:none;stroke-width:0.75;stroke-linecap:round;stroke-linejoin:round;stroke:rgb(0%,0%,0%);stroke-opacity:1;stroke-miterlimit:10;\" d=\"M 473.761719 133.34375 L 480.960938 133.34375 \"/>\n",
       "<path style=\"fill:none;stroke-width:0.75;stroke-linecap:round;stroke-linejoin:round;stroke:rgb(0%,0%,0%);stroke-opacity:1;stroke-miterlimit:10;\" d=\"M 473.761719 59.039062 L 480.960938 59.039062 \"/>\n",
       "<g style=\"fill:rgb(0%,0%,0%);fill-opacity:1;\">\n",
       "  <use xlink:href=\"#glyph1-20\" x=\"499.115234\" y=\"439.058594\"/>\n",
       "  <use xlink:href=\"#glyph1-21\" x=\"499.115234\" y=\"432.386719\"/>\n",
       "  <use xlink:href=\"#glyph1-20\" x=\"499.115234\" y=\"429.050781\"/>\n",
       "</g>\n",
       "<g style=\"fill:rgb(0%,0%,0%);fill-opacity:1;\">\n",
       "  <use xlink:href=\"#glyph1-20\" x=\"499.115234\" y=\"364.757812\"/>\n",
       "  <use xlink:href=\"#glyph1-21\" x=\"499.115234\" y=\"358.085938\"/>\n",
       "  <use xlink:href=\"#glyph1-22\" x=\"499.115234\" y=\"354.75\"/>\n",
       "</g>\n",
       "<g style=\"fill:rgb(0%,0%,0%);fill-opacity:1;\">\n",
       "  <use xlink:href=\"#glyph1-20\" x=\"499.115234\" y=\"290.453125\"/>\n",
       "  <use xlink:href=\"#glyph1-21\" x=\"499.115234\" y=\"283.78125\"/>\n",
       "  <use xlink:href=\"#glyph1-23\" x=\"499.115234\" y=\"280.445312\"/>\n",
       "</g>\n",
       "<g style=\"fill:rgb(0%,0%,0%);fill-opacity:1;\">\n",
       "  <use xlink:href=\"#glyph1-20\" x=\"499.115234\" y=\"216.148438\"/>\n",
       "  <use xlink:href=\"#glyph1-21\" x=\"499.115234\" y=\"209.476562\"/>\n",
       "  <use xlink:href=\"#glyph1-24\" x=\"499.115234\" y=\"206.140625\"/>\n",
       "</g>\n",
       "<g style=\"fill:rgb(0%,0%,0%);fill-opacity:1;\">\n",
       "  <use xlink:href=\"#glyph1-20\" x=\"499.115234\" y=\"141.84375\"/>\n",
       "  <use xlink:href=\"#glyph1-21\" x=\"499.115234\" y=\"135.171875\"/>\n",
       "  <use xlink:href=\"#glyph1-25\" x=\"499.115234\" y=\"131.835938\"/>\n",
       "</g>\n",
       "<g style=\"fill:rgb(0%,0%,0%);fill-opacity:1;\">\n",
       "  <use xlink:href=\"#glyph1-26\" x=\"499.115234\" y=\"67.539062\"/>\n",
       "  <use xlink:href=\"#glyph1-21\" x=\"499.115234\" y=\"60.867188\"/>\n",
       "  <use xlink:href=\"#glyph1-20\" x=\"499.115234\" y=\"57.53125\"/>\n",
       "</g>\n",
       "</g>\n",
       "</svg>\n"
      ],
      "text/plain": [
       "Plot with title \"\""
      ]
     },
     "metadata": {
      "image/svg+xml": {
       "isolated": true
      }
     },
     "output_type": "display_data"
    }
   ],
   "source": [
    "### Plot the data for a better understanding\n",
    "plot(factor(PHENO)~factor(GENO), data=LHON)"
   ]
  },
  {
   "cell_type": "code",
   "execution_count": 24,
   "metadata": {
    "collapsed": false
   },
   "outputs": [
    {
     "data": {
      "text/plain": [
       "      IID      GENO         PHENO        newpheno      NEWGENO     genoadd     \n",
       " ID1    :  1   CC: 16   CASE   : 89   Min.   :0.0000   TT:238   Min.   :0.000  \n",
       " ID10   :  1   CT: 74   CONTROL:239   1st Qu.:0.0000   CC: 16   1st Qu.:1.000  \n",
       " ID100  :  1   TT:238                 Median :0.0000   CT: 74   Median :2.000  \n",
       " ID101  :  1                          Mean   :0.2713            Mean   :1.677  \n",
       " ID102  :  1                          3rd Qu.:1.0000            3rd Qu.:2.000  \n",
       " ID103  :  1                          Max.   :1.0000            Max.   :2.000  \n",
       " (Other):322                                                                   "
      ]
     },
     "execution_count": 24,
     "metadata": {},
     "output_type": "execute_result"
    },
    {
     "data": {
      "text/plain": [
       "\n",
       "Call:\n",
       "glm(formula = newpheno ~ genoadd, family = binomial(link = \"logit\"), \n",
       "    data = LHON)\n",
       "\n",
       "Deviance Residuals: \n",
       "    Min       1Q   Median       3Q      Max  \n",
       "-0.8436  -0.8436  -0.6854   1.5531   1.9797  \n",
       "\n",
       "Coefficients:\n",
       "            Estimate Std. Error z value Pr(>|z|)    \n",
       "(Intercept)  -1.8077     0.4554  -3.970  7.2e-05 ***\n",
       "genoadd       0.4787     0.2505   1.911   0.0559 .  \n",
       "---\n",
       "Signif. codes:  0 '***' 0.001 '**' 0.01 '*' 0.05 '.' 0.1 ' ' 1\n",
       "\n",
       "(Dispersion parameter for binomial family taken to be 1)\n",
       "\n",
       "    Null deviance: 383.49  on 327  degrees of freedom\n",
       "Residual deviance: 379.47  on 326  degrees of freedom\n",
       "AIC: 383.47\n",
       "\n",
       "Number of Fisher Scoring iterations: 4\n"
      ]
     },
     "execution_count": 24,
     "metadata": {},
     "output_type": "execute_result"
    }
   ],
   "source": [
    "# Excercise 4: Additive logistic regression model\n",
    "LHON$genoadd <- with(LHON, 0 + 1*(GENO==\"CT\") + 2*(GENO==\"TT\"))\n",
    "summary(LHON)\n",
    "model3 <- glm(newpheno~genoadd,family=binomial(link=\"logit\"),data=LHON)\n",
    "summary(model3)"
   ]
  },
  {
   "cell_type": "code",
   "execution_count": 19,
   "metadata": {
    "collapsed": false
   },
   "outputs": [
    {
     "data": {
      "text/html": [
       "1.61397487046135"
      ],
      "text/latex": [
       "1.61397487046135"
      ],
      "text/markdown": [
       "1.61397487046135"
      ],
      "text/plain": [
       "[1] 1.613975"
      ]
     },
     "execution_count": 19,
     "metadata": {},
     "output_type": "execute_result"
    },
    {
     "data": {
      "text/html": [
       "<table>\n",
       "<thead><tr><th></th><th scope=col>2.5 %</th><th scope=col>97.5 %</th></tr></thead>\n",
       "<tbody>\n",
       "\t<tr><th scope=row>(Intercept)</th><td>0.06718883</td><td>0.40046163</td></tr>\n",
       "\t<tr><th scope=row>genoadd</th><td>0.9879249</td><td>2.6369796</td></tr>\n",
       "</tbody>\n",
       "</table>\n"
      ],
      "text/latex": [
       "\\begin{tabular}{r|ll}\n",
       "  & 2.5 % & 97.5 %\\\\\n",
       "\\hline\n",
       "\t(Intercept) & 0.06718883 & 0.40046163\\\\\n",
       "\tgenoadd & 0.9879249 & 2.6369796\\\\\n",
       "\\end{tabular}\n"
      ],
      "text/markdown": [
       "1. 0.0671888309063362\n",
       "2. 0.987924898823388\n",
       "3. 0.400461630584294\n",
       "4. 2.63697960188888\n",
       "\n",
       "\n"
      ],
      "text/plain": [
       "                 2.5 %    97.5 %\n",
       "(Intercept) 0.06718883 0.4004616\n",
       "genoadd     0.98792490 2.6369796"
      ]
     },
     "execution_count": 19,
     "metadata": {},
     "output_type": "execute_result"
    }
   ],
   "source": [
    "exp(0.4787)\n",
    "MYCI2=confint.default(model3)\n",
    "exp(MYCI2)"
   ]
  },
  {
   "cell_type": "code",
   "execution_count": null,
   "metadata": {
    "collapsed": true
   },
   "outputs": [],
   "source": []
  }
 ],
 "metadata": {
  "kernelspec": {
   "display_name": "R",
   "language": "R",
   "name": "ir"
  },
  "language_info": {
   "codemirror_mode": "r",
   "file_extension": ".r",
   "mimetype": "text/x-r-source",
   "name": "R",
   "pygments_lexer": "r",
   "version": "3.2.2"
  }
 },
 "nbformat": 4,
 "nbformat_minor": 0
}
